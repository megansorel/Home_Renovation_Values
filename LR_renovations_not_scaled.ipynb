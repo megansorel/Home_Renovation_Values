{
 "cells": [
  {
   "cell_type": "markdown",
   "metadata": {},
   "source": [
    "# Modeling for Target House Features\n",
    "\n",
    "This workbook ames to predict the value each target feature adds to the house when all other factors are held constant. \n",
    "\n",
    "We will use Linear Regression to create our model."
   ]
  },
  {
   "cell_type": "code",
   "execution_count": 2,
   "metadata": {},
   "outputs": [],
   "source": [
    "import pandas as pd\n",
    "import numpy as np\n",
    "import seaborn as sns\n",
    "import matplotlib.pyplot as plt\n",
    "from sklearn.linear_model import LinearRegression, LassoCV, RidgeCV\n",
    "from sklearn.preprocessing import PolynomialFeatures, StandardScaler\n",
    "from sklearn.model_selection import train_test_split, cross_val_score, cross_val_predict\n",
    "from sklearn.metrics import r2_score, mean_absolute_error\n",
    "from sklearn.metrics import mean_squared_error, median_absolute_error\n",
    "import os\n",
    "from sklearn.linear_model import Lasso\n",
    "from sklearn.preprocessing import PolynomialFeatures, PowerTransformer"
   ]
  },
  {
   "cell_type": "code",
   "execution_count": 3,
   "metadata": {},
   "outputs": [],
   "source": [
    "# use absolute path to retrieve datasets\n",
    "\n",
    "train = pd.read_csv(os.path.abspath('./datasets/cleaned_train.csv'))\n",
    "test = pd.read_csv(os.path.abspath('./datasets/cleaned_test.csv'))\n",
    "\n",
    "# sample = pd.read_csv(os.path.abspath('./datasets/sample_sub_reg.csv'))"
   ]
  },
  {
   "cell_type": "markdown",
   "metadata": {},
   "source": [
    "[source for absolute path](https://stackoverflow.com/questions/51520/how-to-get-an-absolute-file-path-in-python)"
   ]
  },
  {
   "cell_type": "code",
   "execution_count": 4,
   "metadata": {},
   "outputs": [
    {
     "data": {
      "text/html": [
       "<div>\n",
       "<style scoped>\n",
       "    .dataframe tbody tr th:only-of-type {\n",
       "        vertical-align: middle;\n",
       "    }\n",
       "\n",
       "    .dataframe tbody tr th {\n",
       "        vertical-align: top;\n",
       "    }\n",
       "\n",
       "    .dataframe thead th {\n",
       "        text-align: right;\n",
       "    }\n",
       "</style>\n",
       "<table border=\"1\" class=\"dataframe\">\n",
       "  <thead>\n",
       "    <tr style=\"text-align: right;\">\n",
       "      <th></th>\n",
       "      <th>id</th>\n",
       "      <th>ms_subclass</th>\n",
       "      <th>ms_zoning</th>\n",
       "      <th>lot_frontage</th>\n",
       "      <th>lot_area</th>\n",
       "      <th>street</th>\n",
       "      <th>lot_shape</th>\n",
       "      <th>land_contour</th>\n",
       "      <th>utilities</th>\n",
       "      <th>lot_config</th>\n",
       "      <th>...</th>\n",
       "      <th>total_baths</th>\n",
       "      <th>bsmt_finished</th>\n",
       "      <th>size_n_qual</th>\n",
       "      <th>bed_n_bath</th>\n",
       "      <th>fin_bsmt_fin_qual</th>\n",
       "      <th>bsmt_fin_n_ceiling</th>\n",
       "      <th>bsmt_finished_with_bath</th>\n",
       "      <th>bsmt_finished_with_halfbath</th>\n",
       "      <th>bsmt_size_fin_sf</th>\n",
       "      <th>overall_qual_cond</th>\n",
       "    </tr>\n",
       "  </thead>\n",
       "  <tbody>\n",
       "    <tr>\n",
       "      <th>0</th>\n",
       "      <td>109</td>\n",
       "      <td>60</td>\n",
       "      <td>RL</td>\n",
       "      <td>77.504886</td>\n",
       "      <td>13517</td>\n",
       "      <td>2</td>\n",
       "      <td>3</td>\n",
       "      <td>4</td>\n",
       "      <td>4</td>\n",
       "      <td>CulDSac</td>\n",
       "      <td>...</td>\n",
       "      <td>3.0</td>\n",
       "      <td>533.0</td>\n",
       "      <td>8874</td>\n",
       "      <td>9.0</td>\n",
       "      <td>2665.0</td>\n",
       "      <td>533.0</td>\n",
       "      <td>0.0</td>\n",
       "      <td>0.0</td>\n",
       "      <td>386425.0</td>\n",
       "      <td>48</td>\n",
       "    </tr>\n",
       "    <tr>\n",
       "      <th>1</th>\n",
       "      <td>544</td>\n",
       "      <td>60</td>\n",
       "      <td>RL</td>\n",
       "      <td>43.000000</td>\n",
       "      <td>11492</td>\n",
       "      <td>2</td>\n",
       "      <td>3</td>\n",
       "      <td>4</td>\n",
       "      <td>4</td>\n",
       "      <td>CulDSac</td>\n",
       "      <td>...</td>\n",
       "      <td>4.0</td>\n",
       "      <td>637.0</td>\n",
       "      <td>14854</td>\n",
       "      <td>16.0</td>\n",
       "      <td>3185.0</td>\n",
       "      <td>1274.0</td>\n",
       "      <td>637.0</td>\n",
       "      <td>0.0</td>\n",
       "      <td>581581.0</td>\n",
       "      <td>35</td>\n",
       "    </tr>\n",
       "    <tr>\n",
       "      <th>2</th>\n",
       "      <td>153</td>\n",
       "      <td>20</td>\n",
       "      <td>RL</td>\n",
       "      <td>68.000000</td>\n",
       "      <td>7922</td>\n",
       "      <td>2</td>\n",
       "      <td>4</td>\n",
       "      <td>4</td>\n",
       "      <td>4</td>\n",
       "      <td>Inside</td>\n",
       "      <td>...</td>\n",
       "      <td>2.0</td>\n",
       "      <td>731.0</td>\n",
       "      <td>5285</td>\n",
       "      <td>6.0</td>\n",
       "      <td>3655.0</td>\n",
       "      <td>731.0</td>\n",
       "      <td>731.0</td>\n",
       "      <td>0.0</td>\n",
       "      <td>772667.0</td>\n",
       "      <td>35</td>\n",
       "    </tr>\n",
       "    <tr>\n",
       "      <th>3</th>\n",
       "      <td>318</td>\n",
       "      <td>60</td>\n",
       "      <td>RL</td>\n",
       "      <td>73.000000</td>\n",
       "      <td>9802</td>\n",
       "      <td>2</td>\n",
       "      <td>4</td>\n",
       "      <td>4</td>\n",
       "      <td>4</td>\n",
       "      <td>Inside</td>\n",
       "      <td>...</td>\n",
       "      <td>3.0</td>\n",
       "      <td>0.0</td>\n",
       "      <td>7220</td>\n",
       "      <td>9.0</td>\n",
       "      <td>0.0</td>\n",
       "      <td>0.0</td>\n",
       "      <td>0.0</td>\n",
       "      <td>0.0</td>\n",
       "      <td>0.0</td>\n",
       "      <td>25</td>\n",
       "    </tr>\n",
       "    <tr>\n",
       "      <th>4</th>\n",
       "      <td>255</td>\n",
       "      <td>50</td>\n",
       "      <td>RL</td>\n",
       "      <td>82.000000</td>\n",
       "      <td>14235</td>\n",
       "      <td>2</td>\n",
       "      <td>3</td>\n",
       "      <td>4</td>\n",
       "      <td>4</td>\n",
       "      <td>Inside</td>\n",
       "      <td>...</td>\n",
       "      <td>2.0</td>\n",
       "      <td>0.0</td>\n",
       "      <td>8670</td>\n",
       "      <td>6.0</td>\n",
       "      <td>0.0</td>\n",
       "      <td>0.0</td>\n",
       "      <td>0.0</td>\n",
       "      <td>0.0</td>\n",
       "      <td>0.0</td>\n",
       "      <td>48</td>\n",
       "    </tr>\n",
       "  </tbody>\n",
       "</table>\n",
       "<p>5 rows × 81 columns</p>\n",
       "</div>"
      ],
      "text/plain": [
       "    id  ms_subclass ms_zoning  lot_frontage  lot_area  street  lot_shape  \\\n",
       "0  109           60        RL     77.504886     13517       2          3   \n",
       "1  544           60        RL     43.000000     11492       2          3   \n",
       "2  153           20        RL     68.000000      7922       2          4   \n",
       "3  318           60        RL     73.000000      9802       2          4   \n",
       "4  255           50        RL     82.000000     14235       2          3   \n",
       "\n",
       "   land_contour  utilities lot_config  ...  total_baths bsmt_finished  \\\n",
       "0             4          4    CulDSac  ...          3.0         533.0   \n",
       "1             4          4    CulDSac  ...          4.0         637.0   \n",
       "2             4          4     Inside  ...          2.0         731.0   \n",
       "3             4          4     Inside  ...          3.0           0.0   \n",
       "4             4          4     Inside  ...          2.0           0.0   \n",
       "\n",
       "  size_n_qual bed_n_bath fin_bsmt_fin_qual bsmt_fin_n_ceiling  \\\n",
       "0        8874        9.0            2665.0              533.0   \n",
       "1       14854       16.0            3185.0             1274.0   \n",
       "2        5285        6.0            3655.0              731.0   \n",
       "3        7220        9.0               0.0                0.0   \n",
       "4        8670        6.0               0.0                0.0   \n",
       "\n",
       "   bsmt_finished_with_bath  bsmt_finished_with_halfbath  bsmt_size_fin_sf  \\\n",
       "0                      0.0                          0.0          386425.0   \n",
       "1                    637.0                          0.0          581581.0   \n",
       "2                    731.0                          0.0          772667.0   \n",
       "3                      0.0                          0.0               0.0   \n",
       "4                      0.0                          0.0               0.0   \n",
       "\n",
       "   overall_qual_cond  \n",
       "0                 48  \n",
       "1                 35  \n",
       "2                 35  \n",
       "3                 25  \n",
       "4                 48  \n",
       "\n",
       "[5 rows x 81 columns]"
      ]
     },
     "execution_count": 4,
     "metadata": {},
     "output_type": "execute_result"
    }
   ],
   "source": [
    "train.head()"
   ]
  },
  {
   "cell_type": "code",
   "execution_count": 5,
   "metadata": {},
   "outputs": [
    {
     "data": {
      "text/plain": [
       "Index(['id', 'ms_subclass', 'ms_zoning', 'lot_frontage', 'lot_area', 'street',\n",
       "       'lot_shape', 'land_contour', 'utilities', 'lot_config', 'land_slope',\n",
       "       'neighborhood', 'condition_1', 'condition_2', 'bldg_type',\n",
       "       'house_style', 'overall_qual', 'overall_cond', 'year_built',\n",
       "       'year_remod/add', 'roof_style', 'roof_matl', 'exterior_1st',\n",
       "       'exterior_2nd', 'mas_vnr_type', 'mas_vnr_area', 'exter_qual',\n",
       "       'foundation', 'bsmt_qual', 'bsmt_cond', 'bsmt_exposure',\n",
       "       'bsmtfin_type_1', 'bsmtfin_sf_1', 'bsmtfin_type_2', 'bsmtfin_sf_2',\n",
       "       'bsmt_unf_sf', 'total_bsmt_sf', 'heating', 'heating_qc', 'central_air',\n",
       "       'electrical', '1st_flr_sf', '2nd_flr_sf', 'low_qual_fin_sf',\n",
       "       'gr_liv_area', 'bsmt_full_bath', 'bsmt_half_bath', 'full_bath',\n",
       "       'half_bath', 'bedroom_abvgr', 'kitchen_abvgr', 'kitchen_qual',\n",
       "       'totrms_abvgrd', 'functional', 'fireplaces', 'fireplace_qu',\n",
       "       'garage_type', 'garage_yr_blt', 'garage_finish', 'garage_cars',\n",
       "       'garage_qual', 'paved_drive', 'wood_deck_sf', 'open_porch_sf',\n",
       "       'enclosed_porch', '3ssn_porch', 'screen_porch', 'mo_sold', 'yr_sold',\n",
       "       'sale_type', 'saleprice', 'total_baths', 'bsmt_finished', 'size_n_qual',\n",
       "       'bed_n_bath', 'fin_bsmt_fin_qual', 'bsmt_fin_n_ceiling',\n",
       "       'bsmt_finished_with_bath', 'bsmt_finished_with_halfbath',\n",
       "       'bsmt_size_fin_sf', 'overall_qual_cond'],\n",
       "      dtype='object')"
      ]
     },
     "execution_count": 5,
     "metadata": {},
     "output_type": "execute_result"
    }
   ],
   "source": [
    "train.columns"
   ]
  },
  {
   "cell_type": "code",
   "execution_count": 6,
   "metadata": {},
   "outputs": [],
   "source": [
    "drop_lst = []\n",
    "drop_lst.extend(['pool_area',  #not applicable to most homes\n",
    "                'enclosed_porch',\n",
    "                '3ssn_porch',\n",
    "                'screen_porch',\n",
    "                'garage_yr_blt',\n",
    "                'functional',\n",
    "               'low_qual_fin_sf',\n",
    "                'garage_qual',\n",
    "                'paved_drive', \n",
    "                'central_air',\n",
    "                'bsmtfin_sf_2',\n",
    "                'kitchen_abvgr',\n",
    "               'utilities',\n",
    "               'land_slope', \n",
    "               'lot_area',\n",
    "               'street',\n",
    "               'land_slope', \n",
    "                'yr_sold',\n",
    "                'bsmtfin_type_2',\n",
    "                 'bsmtfin_sf_2',\n",
    "                'exterior_2nd',\n",
    "                'heating',\n",
    "                'electrical','condition_1', \n",
    "                 'condition_2']) "
   ]
  },
  {
   "cell_type": "code",
   "execution_count": 7,
   "metadata": {},
   "outputs": [],
   "source": [
    "focus_features = ['kitchen_qual',\n",
    "                 'garage_type', 'bsmt_full_bath',\n",
    "                  'bsmt_half_bath',\n",
    "                 'bsmt_finished',\n",
    "                  'wood_deck_sf',\n",
    "                 'bsmt_qual',\n",
    "                  'garage_cars',\n",
    "                 'bsmt_half_bath',\n",
    "                 'total_bsmt_sf']"
   ]
  },
  {
   "cell_type": "markdown",
   "metadata": {},
   "source": [
    "# Baseline"
   ]
  },
  {
   "cell_type": "code",
   "execution_count": 8,
   "metadata": {},
   "outputs": [
    {
     "data": {
      "text/plain": [
       "0.0"
      ]
     },
     "execution_count": 8,
     "metadata": {},
     "output_type": "execute_result"
    }
   ],
   "source": [
    "# perserving baseline from first model attempt\n",
    "baseline = train['saleprice'].mean()\n",
    "baseline_list = [baseline for i in range(2049)]\n",
    "baseline_score = r2_score(train['saleprice'], baseline_list)\n",
    "baseline_score"
   ]
  },
  {
   "cell_type": "markdown",
   "metadata": {},
   "source": [
    "# Prepping for the model"
   ]
  },
  {
   "cell_type": "code",
   "execution_count": 9,
   "metadata": {},
   "outputs": [
    {
     "data": {
      "text/plain": [
       "Index(['id', 'ms_subclass', 'ms_zoning', 'lot_frontage', 'lot_area', 'street',\n",
       "       'lot_shape', 'land_contour', 'utilities', 'lot_config', 'land_slope',\n",
       "       'neighborhood', 'condition_1', 'condition_2', 'bldg_type',\n",
       "       'house_style', 'overall_qual', 'overall_cond', 'year_built',\n",
       "       'year_remod/add', 'roof_style', 'roof_matl', 'exterior_1st',\n",
       "       'exterior_2nd', 'mas_vnr_type', 'mas_vnr_area', 'exter_qual',\n",
       "       'foundation', 'bsmt_qual', 'bsmt_cond', 'bsmt_exposure',\n",
       "       'bsmtfin_type_1', 'bsmtfin_sf_1', 'bsmtfin_type_2', 'bsmtfin_sf_2',\n",
       "       'bsmt_unf_sf', 'total_bsmt_sf', 'heating', 'heating_qc', 'central_air',\n",
       "       'electrical', '1st_flr_sf', '2nd_flr_sf', 'low_qual_fin_sf',\n",
       "       'gr_liv_area', 'bsmt_full_bath', 'bsmt_half_bath', 'full_bath',\n",
       "       'half_bath', 'bedroom_abvgr', 'kitchen_abvgr', 'kitchen_qual',\n",
       "       'totrms_abvgrd', 'functional', 'fireplaces', 'fireplace_qu',\n",
       "       'garage_type', 'garage_yr_blt', 'garage_finish', 'garage_cars',\n",
       "       'garage_qual', 'paved_drive', 'wood_deck_sf', 'open_porch_sf',\n",
       "       'enclosed_porch', '3ssn_porch', 'screen_porch', 'mo_sold', 'yr_sold',\n",
       "       'sale_type', 'saleprice', 'total_baths', 'bsmt_finished', 'size_n_qual',\n",
       "       'bed_n_bath', 'fin_bsmt_fin_qual', 'bsmt_fin_n_ceiling',\n",
       "       'bsmt_finished_with_bath', 'bsmt_finished_with_halfbath',\n",
       "       'bsmt_size_fin_sf', 'overall_qual_cond'],\n",
       "      dtype='object')"
      ]
     },
     "execution_count": 9,
     "metadata": {},
     "output_type": "execute_result"
    }
   ],
   "source": [
    "train.columns"
   ]
  },
  {
   "cell_type": "code",
   "execution_count": 10,
   "metadata": {},
   "outputs": [],
   "source": [
    "# making list of training feature names\n",
    "\n",
    "features = [c for c in focus_features if \n",
    "            (c != 'saleprice') & (c != 'id') & (c not in drop_lst)]\n",
    "\n",
    "y = train['saleprice']"
   ]
  },
  {
   "cell_type": "code",
   "execution_count": 11,
   "metadata": {},
   "outputs": [],
   "source": [
    "X = train[set(features)]\n",
    "\n",
    "y = train['saleprice']"
   ]
  },
  {
   "cell_type": "code",
   "execution_count": 12,
   "metadata": {},
   "outputs": [],
   "source": [
    "X = pd.get_dummies(X, columns = ['garage_type'], drop_first=True)\n",
    "X = pd.get_dummies(X, columns = ['garage_cars'], drop_first=True)"
   ]
  },
  {
   "cell_type": "code",
   "execution_count": 13,
   "metadata": {},
   "outputs": [
    {
     "data": {
      "text/html": [
       "<div>\n",
       "<style scoped>\n",
       "    .dataframe tbody tr th:only-of-type {\n",
       "        vertical-align: middle;\n",
       "    }\n",
       "\n",
       "    .dataframe tbody tr th {\n",
       "        vertical-align: top;\n",
       "    }\n",
       "\n",
       "    .dataframe thead th {\n",
       "        text-align: right;\n",
       "    }\n",
       "</style>\n",
       "<table border=\"1\" class=\"dataframe\">\n",
       "  <thead>\n",
       "    <tr style=\"text-align: right;\">\n",
       "      <th></th>\n",
       "      <th>bsmt_half_bath</th>\n",
       "      <th>bsmt_finished</th>\n",
       "      <th>kitchen_qual</th>\n",
       "      <th>bsmt_qual</th>\n",
       "      <th>total_bsmt_sf</th>\n",
       "      <th>wood_deck_sf</th>\n",
       "      <th>bsmt_full_bath</th>\n",
       "      <th>garage_type_2Types</th>\n",
       "      <th>garage_type_Attchd</th>\n",
       "      <th>garage_type_Basment</th>\n",
       "      <th>garage_type_BuiltIn</th>\n",
       "      <th>garage_type_CarPort</th>\n",
       "      <th>garage_type_Detchd</th>\n",
       "      <th>garage_cars_1.0</th>\n",
       "      <th>garage_cars_2.0</th>\n",
       "      <th>garage_cars_3.0</th>\n",
       "      <th>garage_cars_4.0</th>\n",
       "      <th>garage_cars_5.0</th>\n",
       "    </tr>\n",
       "  </thead>\n",
       "  <tbody>\n",
       "    <tr>\n",
       "      <th>0</th>\n",
       "      <td>0.0</td>\n",
       "      <td>533.0</td>\n",
       "      <td>2</td>\n",
       "      <td>1</td>\n",
       "      <td>725.0</td>\n",
       "      <td>0</td>\n",
       "      <td>0.0</td>\n",
       "      <td>0</td>\n",
       "      <td>1</td>\n",
       "      <td>0</td>\n",
       "      <td>0</td>\n",
       "      <td>0</td>\n",
       "      <td>0</td>\n",
       "      <td>0</td>\n",
       "      <td>1</td>\n",
       "      <td>0</td>\n",
       "      <td>0</td>\n",
       "      <td>0</td>\n",
       "    </tr>\n",
       "    <tr>\n",
       "      <th>1</th>\n",
       "      <td>0.0</td>\n",
       "      <td>637.0</td>\n",
       "      <td>2</td>\n",
       "      <td>2</td>\n",
       "      <td>913.0</td>\n",
       "      <td>0</td>\n",
       "      <td>1.0</td>\n",
       "      <td>0</td>\n",
       "      <td>1</td>\n",
       "      <td>0</td>\n",
       "      <td>0</td>\n",
       "      <td>0</td>\n",
       "      <td>0</td>\n",
       "      <td>0</td>\n",
       "      <td>1</td>\n",
       "      <td>0</td>\n",
       "      <td>0</td>\n",
       "      <td>0</td>\n",
       "    </tr>\n",
       "    <tr>\n",
       "      <th>2</th>\n",
       "      <td>0.0</td>\n",
       "      <td>731.0</td>\n",
       "      <td>2</td>\n",
       "      <td>1</td>\n",
       "      <td>1057.0</td>\n",
       "      <td>0</td>\n",
       "      <td>1.0</td>\n",
       "      <td>0</td>\n",
       "      <td>0</td>\n",
       "      <td>0</td>\n",
       "      <td>0</td>\n",
       "      <td>0</td>\n",
       "      <td>1</td>\n",
       "      <td>1</td>\n",
       "      <td>0</td>\n",
       "      <td>0</td>\n",
       "      <td>0</td>\n",
       "      <td>0</td>\n",
       "    </tr>\n",
       "    <tr>\n",
       "      <th>3</th>\n",
       "      <td>0.0</td>\n",
       "      <td>0.0</td>\n",
       "      <td>1</td>\n",
       "      <td>2</td>\n",
       "      <td>384.0</td>\n",
       "      <td>100</td>\n",
       "      <td>0.0</td>\n",
       "      <td>0</td>\n",
       "      <td>0</td>\n",
       "      <td>0</td>\n",
       "      <td>1</td>\n",
       "      <td>0</td>\n",
       "      <td>0</td>\n",
       "      <td>0</td>\n",
       "      <td>1</td>\n",
       "      <td>0</td>\n",
       "      <td>0</td>\n",
       "      <td>0</td>\n",
       "    </tr>\n",
       "    <tr>\n",
       "      <th>4</th>\n",
       "      <td>0.0</td>\n",
       "      <td>0.0</td>\n",
       "      <td>1</td>\n",
       "      <td>0</td>\n",
       "      <td>676.0</td>\n",
       "      <td>0</td>\n",
       "      <td>0.0</td>\n",
       "      <td>0</td>\n",
       "      <td>0</td>\n",
       "      <td>0</td>\n",
       "      <td>0</td>\n",
       "      <td>0</td>\n",
       "      <td>1</td>\n",
       "      <td>0</td>\n",
       "      <td>1</td>\n",
       "      <td>0</td>\n",
       "      <td>0</td>\n",
       "      <td>0</td>\n",
       "    </tr>\n",
       "  </tbody>\n",
       "</table>\n",
       "</div>"
      ],
      "text/plain": [
       "   bsmt_half_bath  bsmt_finished  kitchen_qual  bsmt_qual  total_bsmt_sf  \\\n",
       "0             0.0          533.0             2          1          725.0   \n",
       "1             0.0          637.0             2          2          913.0   \n",
       "2             0.0          731.0             2          1         1057.0   \n",
       "3             0.0            0.0             1          2          384.0   \n",
       "4             0.0            0.0             1          0          676.0   \n",
       "\n",
       "   wood_deck_sf  bsmt_full_bath  garage_type_2Types  garage_type_Attchd  \\\n",
       "0             0             0.0                   0                   1   \n",
       "1             0             1.0                   0                   1   \n",
       "2             0             1.0                   0                   0   \n",
       "3           100             0.0                   0                   0   \n",
       "4             0             0.0                   0                   0   \n",
       "\n",
       "   garage_type_Basment  garage_type_BuiltIn  garage_type_CarPort  \\\n",
       "0                    0                    0                    0   \n",
       "1                    0                    0                    0   \n",
       "2                    0                    0                    0   \n",
       "3                    0                    1                    0   \n",
       "4                    0                    0                    0   \n",
       "\n",
       "   garage_type_Detchd  garage_cars_1.0  garage_cars_2.0  garage_cars_3.0  \\\n",
       "0                   0                0                1                0   \n",
       "1                   0                0                1                0   \n",
       "2                   1                1                0                0   \n",
       "3                   0                0                1                0   \n",
       "4                   1                0                1                0   \n",
       "\n",
       "   garage_cars_4.0  garage_cars_5.0  \n",
       "0                0                0  \n",
       "1                0                0  \n",
       "2                0                0  \n",
       "3                0                0  \n",
       "4                0                0  "
      ]
     },
     "execution_count": 13,
     "metadata": {},
     "output_type": "execute_result"
    }
   ],
   "source": [
    "X.head()"
   ]
  },
  {
   "cell_type": "code",
   "execution_count": 14,
   "metadata": {},
   "outputs": [
    {
     "data": {
      "text/plain": [
       "Index(['bsmt_half_bath', 'bsmt_finished', 'kitchen_qual', 'bsmt_qual',\n",
       "       'total_bsmt_sf', 'wood_deck_sf', 'bsmt_full_bath', 'garage_type_2Types',\n",
       "       'garage_type_Attchd', 'garage_type_Basment', 'garage_type_BuiltIn',\n",
       "       'garage_type_CarPort', 'garage_type_Detchd', 'garage_cars_1.0',\n",
       "       'garage_cars_2.0', 'garage_cars_3.0', 'garage_cars_4.0',\n",
       "       'garage_cars_5.0'],\n",
       "      dtype='object')"
      ]
     },
     "execution_count": 14,
     "metadata": {},
     "output_type": "execute_result"
    }
   ],
   "source": [
    "X.columns"
   ]
  },
  {
   "cell_type": "markdown",
   "metadata": {},
   "source": [
    "## Train Test Split"
   ]
  },
  {
   "cell_type": "code",
   "execution_count": 15,
   "metadata": {},
   "outputs": [],
   "source": [
    "# finding missing columns in test vs train data\n",
    "def find_missing_test_columns(train, test):\n",
    "    return [col for col in train.columns if col not in test.columns]"
   ]
  },
  {
   "cell_type": "code",
   "execution_count": 16,
   "metadata": {},
   "outputs": [],
   "source": [
    "# train test split\n",
    "\n",
    "X_train, X_test, y_train, y_test = train_test_split(X, y, random_state=42)"
   ]
  },
  {
   "cell_type": "code",
   "execution_count": 17,
   "metadata": {},
   "outputs": [
    {
     "data": {
      "text/plain": [
       "[]"
      ]
     },
     "execution_count": 17,
     "metadata": {},
     "output_type": "execute_result"
    }
   ],
   "source": [
    "find_missing_test_columns(X_train, X_test)"
   ]
  },
  {
   "cell_type": "markdown",
   "metadata": {},
   "source": [
    "# Instantiate Models"
   ]
  },
  {
   "cell_type": "code",
   "execution_count": 18,
   "metadata": {},
   "outputs": [],
   "source": [
    "lr = LinearRegression(n_jobs = -1)"
   ]
  },
  {
   "cell_type": "markdown",
   "metadata": {},
   "source": [
    "## Cross Validation"
   ]
  },
  {
   "cell_type": "code",
   "execution_count": 19,
   "metadata": {},
   "outputs": [
    {
     "data": {
      "text/plain": [
       "array([0.78326366, 0.76505039, 0.7471459 , 0.7630745 , 0.76667519])"
      ]
     },
     "execution_count": 19,
     "metadata": {},
     "output_type": "execute_result"
    }
   ],
   "source": [
    "# over/underfitting?\n",
    "\n",
    "cross_val_score(lr, X_train, y_train, cv = 5)"
   ]
  },
  {
   "cell_type": "code",
   "execution_count": 20,
   "metadata": {},
   "outputs": [],
   "source": [
    "baseline_previous = (0.89426015, 0.89282737, 0.85105365, 0.89859521, 0.86169427)"
   ]
  },
  {
   "cell_type": "code",
   "execution_count": 21,
   "metadata": {},
   "outputs": [
    {
     "data": {
      "text/plain": [
       "0.7637520133785252"
      ]
     },
     "execution_count": 21,
     "metadata": {},
     "output_type": "execute_result"
    }
   ],
   "source": [
    "lr_scores = cross_val_score(lr, X_train, y_train, cv=3)\n",
    "lr_scores.mean()"
   ]
  },
  {
   "cell_type": "markdown",
   "metadata": {},
   "source": [
    "# Model Fitting and Evaluation"
   ]
  },
  {
   "cell_type": "code",
   "execution_count": 22,
   "metadata": {},
   "outputs": [],
   "source": [
    "lr_model = lr.fit(X_train, y_train)"
   ]
  },
  {
   "cell_type": "code",
   "execution_count": 23,
   "metadata": {},
   "outputs": [
    {
     "name": "stdout",
     "output_type": "stream",
     "text": [
      "lr Train: 0.7705133150058872\n"
     ]
    }
   ],
   "source": [
    "lr_score = lr_model.score(X_train, y_train)\n",
    "print(f'lr Train: {lr_score}')"
   ]
  },
  {
   "cell_type": "code",
   "execution_count": 24,
   "metadata": {},
   "outputs": [
    {
     "name": "stdout",
     "output_type": "stream",
     "text": [
      "lr Test: 0.7771637819161329\n"
     ]
    }
   ],
   "source": [
    "lr_test_score = lr_model.score(X_test, y_test)\n",
    "print(f'lr Test: {lr_test_score}')"
   ]
  },
  {
   "cell_type": "code",
   "execution_count": 25,
   "metadata": {},
   "outputs": [],
   "source": [
    "lr_pred = lr_model.predict(X_test)"
   ]
  },
  {
   "cell_type": "code",
   "execution_count": 26,
   "metadata": {},
   "outputs": [
    {
     "data": {
      "text/plain": [
       "0.7771637819161329"
      ]
     },
     "execution_count": 26,
     "metadata": {},
     "output_type": "execute_result"
    }
   ],
   "source": [
    "r2_score(y_test, lr_pred)"
   ]
  },
  {
   "cell_type": "markdown",
   "metadata": {},
   "source": [
    "# Metrics"
   ]
  },
  {
   "cell_type": "code",
   "execution_count": 27,
   "metadata": {},
   "outputs": [],
   "source": [
    "def many_metrics(y_true, y_pred): # where p is # features used\n",
    "    mse = mean_squared_error(y_true, y_pred)\n",
    "    rmse = np.sqrt(mse)\n",
    "    mae = mean_absolute_error(y_true, y_pred)\n",
    "    medae = median_absolute_error(y_true, y_pred)\n",
    "    r2 = r2_score(y_true, y_pred)\n",
    "    \n",
    "    print('Mean squared error:          =', mse)\n",
    "    print('Root mean squared error:     =', rmse)\n",
    "    print('Mean absolute error:         =', mae)\n",
    "    print('Median absolute error:       =', medae)\n",
    "    print('R^2:                         =', r2)"
   ]
  },
  {
   "cell_type": "markdown",
   "metadata": {},
   "source": [
    "[source](https://git.generalassemb.ly/DSIR-412/breakfast-hour/blob/master/lab-reviews/03-linear-regression-labs/Lab_Review_Week_3_FILLED.ipynb)"
   ]
  },
  {
   "cell_type": "code",
   "execution_count": 28,
   "metadata": {},
   "outputs": [
    {
     "name": "stdout",
     "output_type": "stream",
     "text": [
      "Mean squared error:          = 1408796099.2395961\n",
      "Root mean squared error:     = 37533.93263754274\n",
      "Mean absolute error:         = 27148.78125140767\n",
      "Median absolute error:       = 20618.085444178592\n",
      "R^2:                         = 0.7771637819161329\n"
     ]
    }
   ],
   "source": [
    "many_metrics(y_test, lr_pred)"
   ]
  },
  {
   "cell_type": "markdown",
   "metadata": {},
   "source": [
    "## Interpretating the Metrics"
   ]
  },
  {
   "cell_type": "markdown",
   "metadata": {},
   "source": [
    "Although we can see that the scores for both test and train are only 78\\%, the purpose of this model was to determine the added value of each of our target variables for the sake of recommending renovation investments.\n",
    "\n",
    "Therefore, because the model does not seem to be overfit, it will suffice for our project.\n",
    "\n",
    "The mean squared error are root mean squared error are high, meaning we have a lot of outliers in our dataset that are affecting our score. These weren't accounted for using the features we selected and so the scores are most likely due to the selection of features and the model not looking at the best predictors which we saw in our Lasso model. "
   ]
  },
  {
   "cell_type": "markdown",
   "metadata": {},
   "source": [
    "# Plotting Model and Residuals"
   ]
  },
  {
   "cell_type": "code",
   "execution_count": 29,
   "metadata": {},
   "outputs": [],
   "source": [
    "lr_residuals = y_test - lr_pred"
   ]
  },
  {
   "cell_type": "code",
   "execution_count": 30,
   "metadata": {},
   "outputs": [
    {
     "data": {
      "image/png": "[encoded data removed]",
      "text/plain": [
       "<Figure size 432x288 with 1 Axes>"
      ]
     },
     "metadata": {
      "needs_background": "light"
     },
     "output_type": "display_data"
    }
   ],
   "source": [
    "plt.scatter(lr_pred, lr_residuals, \n",
    "           c = 'purple', alpha = .3);"
   ]
  },
  {
   "cell_type": "markdown",
   "metadata": {},
   "source": [
    "We can see that as the residuals are fairly standard except for the few outliers where the model predicted above the actual score for a mjaority of the homes, evened out by a few outliers with very high actual prices. \n",
    "\n",
    "This could be explained by outleirs we explored in the EDA, with some larger basements or deck sizes."
   ]
  },
  {
   "cell_type": "code",
   "execution_count": 31,
   "metadata": {},
   "outputs": [
    {
     "data": {
      "image/png": "[encoded data removed]",
      "text/plain": [
       "<Figure size 432x288 with 1 Axes>"
      ]
     },
     "metadata": {
      "needs_background": "light"
     },
     "output_type": "display_data"
    }
   ],
   "source": [
    "plt.hist(lr_residuals);"
   ]
  },
  {
   "cell_type": "markdown",
   "metadata": {},
   "source": [
    "Here we can see the distribution to confirm our understanding of our model over predicting most houses at or below the actual price, with some outliers who's high prices were not accounted for by the features we used in this model."
   ]
  },
  {
   "cell_type": "markdown",
   "metadata": {},
   "source": [
    "# Coefficients and Intercept"
   ]
  },
  {
   "cell_type": "code",
   "execution_count": 32,
   "metadata": {},
   "outputs": [
    {
     "data": {
      "text/plain": [
       "array([-8.49009134e+03,  2.39376709e+01,  3.42875986e+04,  1.42696473e+04,\n",
       "        4.32100077e+01,  4.34505102e+01, -5.58534037e+03, -2.83671152e+04,\n",
       "        2.49705035e+04,  2.47739914e+04,  5.42607618e+04,  1.34765618e+04,\n",
       "        1.65012514e+04, -1.06048350e+04,  7.06550660e+03,  6.36366948e+04,\n",
       "        4.55185883e+04,  0.00000000e+00])"
      ]
     },
     "execution_count": 32,
     "metadata": {},
     "output_type": "execute_result"
    }
   ],
   "source": [
    "lr_coef = lr_model.coef_\n",
    "lr_coef"
   ]
  },
  {
   "cell_type": "code",
   "execution_count": 33,
   "metadata": {},
   "outputs": [
    {
     "data": {
      "text/plain": [
       "Index(['bsmt_half_bath', 'bsmt_finished', 'kitchen_qual', 'bsmt_qual',\n",
       "       'total_bsmt_sf', 'wood_deck_sf', 'bsmt_full_bath', 'garage_type_2Types',\n",
       "       'garage_type_Attchd', 'garage_type_Basment', 'garage_type_BuiltIn',\n",
       "       'garage_type_CarPort', 'garage_type_Detchd', 'garage_cars_1.0',\n",
       "       'garage_cars_2.0', 'garage_cars_3.0', 'garage_cars_4.0',\n",
       "       'garage_cars_5.0'],\n",
       "      dtype='object')"
      ]
     },
     "execution_count": 33,
     "metadata": {},
     "output_type": "execute_result"
    }
   ],
   "source": [
    "X.columns"
   ]
  },
  {
   "cell_type": "code",
   "execution_count": 34,
   "metadata": {},
   "outputs": [
    {
     "data": {
      "text/html": [
       "<div>\n",
       "<style scoped>\n",
       "    .dataframe tbody tr th:only-of-type {\n",
       "        vertical-align: middle;\n",
       "    }\n",
       "\n",
       "    .dataframe tbody tr th {\n",
       "        vertical-align: top;\n",
       "    }\n",
       "\n",
       "    .dataframe thead th {\n",
       "        text-align: right;\n",
       "    }\n",
       "</style>\n",
       "<table border=\"1\" class=\"dataframe\">\n",
       "  <thead>\n",
       "    <tr style=\"text-align: right;\">\n",
       "      <th></th>\n",
       "      <th>feature</th>\n",
       "      <th>coef</th>\n",
       "    </tr>\n",
       "  </thead>\n",
       "  <tbody>\n",
       "    <tr>\n",
       "      <th>17</th>\n",
       "      <td>garage_cars_5.0</td>\n",
       "      <td>0.0</td>\n",
       "    </tr>\n",
       "  </tbody>\n",
       "</table>\n",
       "</div>"
      ],
      "text/plain": [
       "            feature  coef\n",
       "17  garage_cars_5.0   0.0"
      ]
     },
     "execution_count": 34,
     "metadata": {},
     "output_type": "execute_result"
    }
   ],
   "source": [
    "coef_df = pd.DataFrame({'feature': X.columns,\n",
    "              'coef': lr_coef})\n",
    "\n",
    "coef_df[(coef_df['coef'] == 0)].sort_values('coef')\n"
   ]
  },
  {
   "cell_type": "markdown",
   "metadata": {},
   "source": [
    "The \\$0 increase in value of a home with all else held constant for 5 car garages could be potentially due to lack of data, as most houses do not have this number of garages. It would warrant more investigation on whether, with enough data, larger garages have a linear relationship, or if there is one size that is the most lucrative."
   ]
  },
  {
   "cell_type": "code",
   "execution_count": 35,
   "metadata": {},
   "outputs": [
    {
     "data": {
      "text/html": [
       "<div>\n",
       "<style scoped>\n",
       "    .dataframe tbody tr th:only-of-type {\n",
       "        vertical-align: middle;\n",
       "    }\n",
       "\n",
       "    .dataframe tbody tr th {\n",
       "        vertical-align: top;\n",
       "    }\n",
       "\n",
       "    .dataframe thead th {\n",
       "        text-align: right;\n",
       "    }\n",
       "</style>\n",
       "<table border=\"1\" class=\"dataframe\">\n",
       "  <thead>\n",
       "    <tr style=\"text-align: right;\">\n",
       "      <th></th>\n",
       "      <th>feature</th>\n",
       "      <th>coef</th>\n",
       "    </tr>\n",
       "  </thead>\n",
       "  <tbody>\n",
       "    <tr>\n",
       "      <th>7</th>\n",
       "      <td>garage_type_2Types</td>\n",
       "      <td>-28367.115164</td>\n",
       "    </tr>\n",
       "    <tr>\n",
       "      <th>13</th>\n",
       "      <td>garage_cars_1.0</td>\n",
       "      <td>-10604.835039</td>\n",
       "    </tr>\n",
       "    <tr>\n",
       "      <th>0</th>\n",
       "      <td>bsmt_half_bath</td>\n",
       "      <td>-8490.091335</td>\n",
       "    </tr>\n",
       "    <tr>\n",
       "      <th>6</th>\n",
       "      <td>bsmt_full_bath</td>\n",
       "      <td>-5585.340369</td>\n",
       "    </tr>\n",
       "    <tr>\n",
       "      <th>17</th>\n",
       "      <td>garage_cars_5.0</td>\n",
       "      <td>0.000000</td>\n",
       "    </tr>\n",
       "    <tr>\n",
       "      <th>1</th>\n",
       "      <td>bsmt_finished</td>\n",
       "      <td>23.937671</td>\n",
       "    </tr>\n",
       "    <tr>\n",
       "      <th>4</th>\n",
       "      <td>total_bsmt_sf</td>\n",
       "      <td>43.210008</td>\n",
       "    </tr>\n",
       "    <tr>\n",
       "      <th>5</th>\n",
       "      <td>wood_deck_sf</td>\n",
       "      <td>43.450510</td>\n",
       "    </tr>\n",
       "    <tr>\n",
       "      <th>14</th>\n",
       "      <td>garage_cars_2.0</td>\n",
       "      <td>7065.506604</td>\n",
       "    </tr>\n",
       "    <tr>\n",
       "      <th>11</th>\n",
       "      <td>garage_type_CarPort</td>\n",
       "      <td>13476.561765</td>\n",
       "    </tr>\n",
       "    <tr>\n",
       "      <th>3</th>\n",
       "      <td>bsmt_qual</td>\n",
       "      <td>14269.647276</td>\n",
       "    </tr>\n",
       "    <tr>\n",
       "      <th>12</th>\n",
       "      <td>garage_type_Detchd</td>\n",
       "      <td>16501.251405</td>\n",
       "    </tr>\n",
       "    <tr>\n",
       "      <th>9</th>\n",
       "      <td>garage_type_Basment</td>\n",
       "      <td>24773.991429</td>\n",
       "    </tr>\n",
       "    <tr>\n",
       "      <th>8</th>\n",
       "      <td>garage_type_Attchd</td>\n",
       "      <td>24970.503454</td>\n",
       "    </tr>\n",
       "    <tr>\n",
       "      <th>2</th>\n",
       "      <td>kitchen_qual</td>\n",
       "      <td>34287.598584</td>\n",
       "    </tr>\n",
       "    <tr>\n",
       "      <th>16</th>\n",
       "      <td>garage_cars_4.0</td>\n",
       "      <td>45518.588342</td>\n",
       "    </tr>\n",
       "    <tr>\n",
       "      <th>10</th>\n",
       "      <td>garage_type_BuiltIn</td>\n",
       "      <td>54260.761833</td>\n",
       "    </tr>\n",
       "    <tr>\n",
       "      <th>15</th>\n",
       "      <td>garage_cars_3.0</td>\n",
       "      <td>63636.694815</td>\n",
       "    </tr>\n",
       "  </tbody>\n",
       "</table>\n",
       "</div>"
      ],
      "text/plain": [
       "                feature          coef\n",
       "7    garage_type_2Types -28367.115164\n",
       "13      garage_cars_1.0 -10604.835039\n",
       "0        bsmt_half_bath  -8490.091335\n",
       "6        bsmt_full_bath  -5585.340369\n",
       "17      garage_cars_5.0      0.000000\n",
       "1         bsmt_finished     23.937671\n",
       "4         total_bsmt_sf     43.210008\n",
       "5          wood_deck_sf     43.450510\n",
       "14      garage_cars_2.0   7065.506604\n",
       "11  garage_type_CarPort  13476.561765\n",
       "3             bsmt_qual  14269.647276\n",
       "12   garage_type_Detchd  16501.251405\n",
       "9   garage_type_Basment  24773.991429\n",
       "8    garage_type_Attchd  24970.503454\n",
       "2          kitchen_qual  34287.598584\n",
       "16      garage_cars_4.0  45518.588342\n",
       "10  garage_type_BuiltIn  54260.761833\n",
       "15      garage_cars_3.0  63636.694815"
      ]
     },
     "execution_count": 35,
     "metadata": {},
     "output_type": "execute_result"
    }
   ],
   "source": [
    "coef_df.sort_values('coef')"
   ]
  },
  {
   "cell_type": "markdown",
   "metadata": {},
   "source": [
    "# Interpretation\n",
    "\n",
    "With all other values held constant, the best garage size is that of a 3 car garage, adding a value of \\$63,636 to a home. \n",
    "\n",
    "A builtin garage is the best type, adding \\$54,260 to a home's price holding all other features in this model constant. \n",
    "\n",
    "Looking at basement quality (height), which is on 5 point scale: <70 inches to >=100 inches, with 0 being no basement. \n",
    "For every 10 inches you add to a basement, the home value increases by \\$14,270. \n",
    "\n",
    "Every 1 foot of square feet that is finished adds \\$24 to the home value.\n",
    "\n",
    "We can see that bathrooms in the basement actually decrease the value of the home, with every 1 half bath detracting \\$8,490 dollars from the home value and each full bath added detracting \\\\$5,885 dollars.  \n",
    "\n",
    "Is this because the only bathrooms in the house are in the basement? "
   ]
  },
  {
   "cell_type": "markdown",
   "metadata": {},
   "source": [
    "# Test Data Modeling"
   ]
  },
  {
   "cell_type": "code",
   "execution_count": 36,
   "metadata": {},
   "outputs": [
    {
     "data": {
      "text/plain": [
       "2    467\n",
       "1    254\n",
       "3    110\n",
       "0     44\n",
       "4      3\n",
       "Name: garage_cars, dtype: int64"
      ]
     },
     "execution_count": 36,
     "metadata": {},
     "output_type": "execute_result"
    }
   ],
   "source": [
    "test['garage_cars'].value_counts()"
   ]
  },
  {
   "cell_type": "code",
   "execution_count": 37,
   "metadata": {},
   "outputs": [],
   "source": [
    "features = [c for c in focus_features if \n",
    "            (c != 'saleprice') & (c != 'id') & (c not in drop_lst)]\n",
    "\n",
    "y = train['saleprice']"
   ]
  },
  {
   "cell_type": "code",
   "execution_count": 38,
   "metadata": {},
   "outputs": [],
   "source": [
    "X = train[set(features)]\n",
    "X_test = test[set(features)]"
   ]
  },
  {
   "cell_type": "code",
   "execution_count": 39,
   "metadata": {},
   "outputs": [],
   "source": [
    "X = pd.get_dummies(X, columns = ['garage_type'], drop_first=True)\n",
    "X = pd.get_dummies(X, columns = ['garage_cars'], drop_first=True)\n",
    "\n",
    "X_test = pd.get_dummies(X_test, columns = ['garage_type'], drop_first=True)\n",
    "X_test = pd.get_dummies(X_test, columns = ['garage_cars'], drop_first=True)"
   ]
  },
  {
   "cell_type": "code",
   "execution_count": 40,
   "metadata": {},
   "outputs": [
    {
     "data": {
      "text/plain": [
       "Index(['bsmt_half_bath', 'bsmt_finished', 'kitchen_qual', 'bsmt_qual',\n",
       "       'total_bsmt_sf', 'wood_deck_sf', 'bsmt_full_bath', 'garage_type_2Types',\n",
       "       'garage_type_Attchd', 'garage_type_Basment', 'garage_type_BuiltIn',\n",
       "       'garage_type_CarPort', 'garage_type_Detchd', 'garage_cars_1',\n",
       "       'garage_cars_2', 'garage_cars_3', 'garage_cars_4'],\n",
       "      dtype='object')"
      ]
     },
     "execution_count": 40,
     "metadata": {},
     "output_type": "execute_result"
    }
   ],
   "source": [
    "X_test.columns"
   ]
  },
  {
   "cell_type": "code",
   "execution_count": 41,
   "metadata": {},
   "outputs": [
    {
     "data": {
      "text/plain": [
       "Index(['bsmt_half_bath', 'bsmt_finished', 'kitchen_qual', 'bsmt_qual',\n",
       "       'total_bsmt_sf', 'wood_deck_sf', 'bsmt_full_bath', 'garage_type_2Types',\n",
       "       'garage_type_Attchd', 'garage_type_Basment', 'garage_type_BuiltIn',\n",
       "       'garage_type_CarPort', 'garage_type_Detchd', 'garage_cars_1.0',\n",
       "       'garage_cars_2.0', 'garage_cars_3.0', 'garage_cars_4.0',\n",
       "       'garage_cars_5.0'],\n",
       "      dtype='object')"
      ]
     },
     "execution_count": 41,
     "metadata": {},
     "output_type": "execute_result"
    }
   ],
   "source": [
    "X.columns"
   ]
  },
  {
   "cell_type": "code",
   "execution_count": 42,
   "metadata": {},
   "outputs": [],
   "source": [
    "X = X.rename(columns = {'garage_cars_3.0': 'garage_cars_3',\n",
    "                             'garage_cars_4.0': 'garage_cars_4', \n",
    "                             'garage_cars_5.0': 'garage_cars_5',\n",
    "                             'garage_cars_1.0': 'garage_cars_1',\n",
    "                             'garage_cars_2.0': 'garage_cars_2'})"
   ]
  },
  {
   "cell_type": "code",
   "execution_count": 43,
   "metadata": {},
   "outputs": [
    {
     "data": {
      "text/plain": [
       "Index(['bsmt_half_bath', 'bsmt_finished', 'kitchen_qual', 'bsmt_qual',\n",
       "       'total_bsmt_sf', 'wood_deck_sf', 'bsmt_full_bath', 'garage_type_2Types',\n",
       "       'garage_type_Attchd', 'garage_type_Basment', 'garage_type_BuiltIn',\n",
       "       'garage_type_CarPort', 'garage_type_Detchd', 'garage_cars_1',\n",
       "       'garage_cars_2', 'garage_cars_3', 'garage_cars_4', 'garage_cars_5'],\n",
       "      dtype='object')"
      ]
     },
     "execution_count": 43,
     "metadata": {},
     "output_type": "execute_result"
    }
   ],
   "source": [
    "X.columns"
   ]
  },
  {
   "cell_type": "code",
   "execution_count": 44,
   "metadata": {},
   "outputs": [
    {
     "data": {
      "text/plain": [
       "['garage_cars_5']"
      ]
     },
     "execution_count": 44,
     "metadata": {},
     "output_type": "execute_result"
    }
   ],
   "source": [
    "find_missing_test_columns(X,X_test)"
   ]
  },
  {
   "cell_type": "code",
   "execution_count": 45,
   "metadata": {},
   "outputs": [],
   "source": [
    "X_test['garage_cars_5'] = 0"
   ]
  },
  {
   "cell_type": "code",
   "execution_count": 46,
   "metadata": {},
   "outputs": [
    {
     "data": {
      "text/plain": [
       "[]"
      ]
     },
     "execution_count": 46,
     "metadata": {},
     "output_type": "execute_result"
    }
   ],
   "source": [
    "find_missing_test_columns(X,X_test)"
   ]
  },
  {
   "cell_type": "code",
   "execution_count": 47,
   "metadata": {},
   "outputs": [],
   "source": [
    "lr = LinearRegression(n_jobs = -1)\n",
    "lr = lr.fit(X, y)"
   ]
  },
  {
   "cell_type": "code",
   "execution_count": 48,
   "metadata": {},
   "outputs": [],
   "source": [
    "pred = lr.predict(X_test)"
   ]
  },
  {
   "cell_type": "code",
   "execution_count": 49,
   "metadata": {},
   "outputs": [],
   "source": [
    "test['pred_price'] = pred"
   ]
  },
  {
   "cell_type": "code",
   "execution_count": 50,
   "metadata": {},
   "outputs": [
    {
     "data": {
      "text/plain": [
       "array([-9.62135061e+03,  2.40166783e+01,  3.33118468e+04,  1.41641277e+04,\n",
       "        4.32780134e+01,  3.83905311e+01, -5.86439837e+03, -2.41728675e+04,\n",
       "        2.72945650e+04,  2.50671845e+04,  5.43346631e+04,  7.41743894e+03,\n",
       "        1.68448538e+04, -1.25170848e+04,  5.05415636e+03,  6.53288769e+04,\n",
       "        4.94614863e+04, -5.41596926e+02])"
      ]
     },
     "execution_count": 50,
     "metadata": {},
     "output_type": "execute_result"
    }
   ],
   "source": [
    "lr.coef_"
   ]
  },
  {
   "cell_type": "code",
   "execution_count": 51,
   "metadata": {},
   "outputs": [],
   "source": [
    "coef_df = pd.DataFrame({'feature': X.columns,\n",
    "              'coef': lr_coef})"
   ]
  },
  {
   "cell_type": "code",
   "execution_count": 52,
   "metadata": {},
   "outputs": [
    {
     "data": {
      "text/html": [
       "<div>\n",
       "<style scoped>\n",
       "    .dataframe tbody tr th:only-of-type {\n",
       "        vertical-align: middle;\n",
       "    }\n",
       "\n",
       "    .dataframe tbody tr th {\n",
       "        vertical-align: top;\n",
       "    }\n",
       "\n",
       "    .dataframe thead th {\n",
       "        text-align: right;\n",
       "    }\n",
       "</style>\n",
       "<table border=\"1\" class=\"dataframe\">\n",
       "  <thead>\n",
       "    <tr style=\"text-align: right;\">\n",
       "      <th></th>\n",
       "      <th>feature</th>\n",
       "      <th>coef</th>\n",
       "    </tr>\n",
       "  </thead>\n",
       "  <tbody>\n",
       "    <tr>\n",
       "      <th>7</th>\n",
       "      <td>garage_type_2Types</td>\n",
       "      <td>-28367.115164</td>\n",
       "    </tr>\n",
       "    <tr>\n",
       "      <th>13</th>\n",
       "      <td>garage_cars_1</td>\n",
       "      <td>-10604.835039</td>\n",
       "    </tr>\n",
       "    <tr>\n",
       "      <th>0</th>\n",
       "      <td>bsmt_half_bath</td>\n",
       "      <td>-8490.091335</td>\n",
       "    </tr>\n",
       "    <tr>\n",
       "      <th>6</th>\n",
       "      <td>bsmt_full_bath</td>\n",
       "      <td>-5585.340369</td>\n",
       "    </tr>\n",
       "    <tr>\n",
       "      <th>17</th>\n",
       "      <td>garage_cars_5</td>\n",
       "      <td>0.000000</td>\n",
       "    </tr>\n",
       "    <tr>\n",
       "      <th>1</th>\n",
       "      <td>bsmt_finished</td>\n",
       "      <td>23.937671</td>\n",
       "    </tr>\n",
       "    <tr>\n",
       "      <th>4</th>\n",
       "      <td>total_bsmt_sf</td>\n",
       "      <td>43.210008</td>\n",
       "    </tr>\n",
       "    <tr>\n",
       "      <th>5</th>\n",
       "      <td>wood_deck_sf</td>\n",
       "      <td>43.450510</td>\n",
       "    </tr>\n",
       "    <tr>\n",
       "      <th>14</th>\n",
       "      <td>garage_cars_2</td>\n",
       "      <td>7065.506604</td>\n",
       "    </tr>\n",
       "    <tr>\n",
       "      <th>11</th>\n",
       "      <td>garage_type_CarPort</td>\n",
       "      <td>13476.561765</td>\n",
       "    </tr>\n",
       "    <tr>\n",
       "      <th>3</th>\n",
       "      <td>bsmt_qual</td>\n",
       "      <td>14269.647276</td>\n",
       "    </tr>\n",
       "    <tr>\n",
       "      <th>12</th>\n",
       "      <td>garage_type_Detchd</td>\n",
       "      <td>16501.251405</td>\n",
       "    </tr>\n",
       "    <tr>\n",
       "      <th>9</th>\n",
       "      <td>garage_type_Basment</td>\n",
       "      <td>24773.991429</td>\n",
       "    </tr>\n",
       "    <tr>\n",
       "      <th>8</th>\n",
       "      <td>garage_type_Attchd</td>\n",
       "      <td>24970.503454</td>\n",
       "    </tr>\n",
       "    <tr>\n",
       "      <th>2</th>\n",
       "      <td>kitchen_qual</td>\n",
       "      <td>34287.598584</td>\n",
       "    </tr>\n",
       "    <tr>\n",
       "      <th>16</th>\n",
       "      <td>garage_cars_4</td>\n",
       "      <td>45518.588342</td>\n",
       "    </tr>\n",
       "    <tr>\n",
       "      <th>10</th>\n",
       "      <td>garage_type_BuiltIn</td>\n",
       "      <td>54260.761833</td>\n",
       "    </tr>\n",
       "    <tr>\n",
       "      <th>15</th>\n",
       "      <td>garage_cars_3</td>\n",
       "      <td>63636.694815</td>\n",
       "    </tr>\n",
       "  </tbody>\n",
       "</table>\n",
       "</div>"
      ],
      "text/plain": [
       "                feature          coef\n",
       "7    garage_type_2Types -28367.115164\n",
       "13        garage_cars_1 -10604.835039\n",
       "0        bsmt_half_bath  -8490.091335\n",
       "6        bsmt_full_bath  -5585.340369\n",
       "17        garage_cars_5      0.000000\n",
       "1         bsmt_finished     23.937671\n",
       "4         total_bsmt_sf     43.210008\n",
       "5          wood_deck_sf     43.450510\n",
       "14        garage_cars_2   7065.506604\n",
       "11  garage_type_CarPort  13476.561765\n",
       "3             bsmt_qual  14269.647276\n",
       "12   garage_type_Detchd  16501.251405\n",
       "9   garage_type_Basment  24773.991429\n",
       "8    garage_type_Attchd  24970.503454\n",
       "2          kitchen_qual  34287.598584\n",
       "16        garage_cars_4  45518.588342\n",
       "10  garage_type_BuiltIn  54260.761833\n",
       "15        garage_cars_3  63636.694815"
      ]
     },
     "execution_count": 52,
     "metadata": {},
     "output_type": "execute_result"
    }
   ],
   "source": [
    "coef_df.sort_values('coef')"
   ]
  },
  {
   "cell_type": "markdown",
   "metadata": {},
   "source": [
    "# Further EDA For Presentation"
   ]
  },
  {
   "cell_type": "code",
   "execution_count": 53,
   "metadata": {},
   "outputs": [
    {
     "name": "stderr",
     "output_type": "stream",
     "text": [
      "<ipython-input-53-3339b4062529>:12: UserWarning: FixedFormatter should only be used together with FixedLocator\n",
      "  ax.set_xticklabels(['CarPort', 'Basement', 'Detached', 'Attached', 'BuiltIn'],fontsize=20)\n"
     ]
    },
    {
     "data": {
      "image/png": "[encoded data removed]",
      "text/plain": [
       "<Figure size 720x720 with 1 Axes>"
      ]
     },
     "metadata": {
      "needs_background": "light"
     },
     "output_type": "display_data"
    }
   ],
   "source": [
    "# plotting the garage sizes \n",
    "\n",
    "x_gar = ['Carport', 'Basement', 'Detached', 'Attached', 'BuiltIn']\n",
    "y_gar = [13476, 16501, 24773, 24970, 54260]\n",
    "\n",
    "plt.figure(figsize=(10, 10))\n",
    "\n",
    "\n",
    "# plot a bar chart\n",
    "plt.bar(width = .5, x = x_gar, height = y_gar, color = 'orange' )\n",
    "ax = plt.gca()\n",
    "ax.set_xticklabels(['CarPort', 'Basement', 'Detached', 'Attached', 'BuiltIn'],fontsize=20)\n",
    "ax.set_ylabel('Value of Garage ($)',\n",
    "              labelpad = 20, \n",
    "              fontsize = 15 )\n",
    "\n",
    "ax.set_title('Value Per Garage Type', size = 20)\n",
    "ax.spines[\"bottom\"].set_position((\"data\", 0))\n",
    "ax.spines[\"top\"].set_visible(False)\n",
    "ax.spines[\"right\"].set_visible(False)\n",
    "\n",
    "major_ticks = np.arange(0, 50_000+1, 10_000)\n",
    "\n",
    "ax.set_yticks(major_ticks)\n",
    "ax.set_yticks(major_ticks, minor=True)\n",
    "\n",
    "ax.tick_params(axis = 'both', which = 'major', labelsize = 15);\n"
   ]
  },
  {
   "cell_type": "markdown",
   "metadata": {},
   "source": [
    "**Interpretation**\n",
    "With all else held constant, the value different garage types to a house all add to the house's predicted price.  \n",
    "However, when choosing betwene a Carport and a basement garage, as well as between Detached and Attached garges, there is not a large difference in the added value, so production factors as well as lot size would be useful to take into account. "
   ]
  },
  {
   "cell_type": "code",
   "execution_count": 54,
   "metadata": {
    "scrolled": false
   },
   "outputs": [
    {
     "name": "stderr",
     "output_type": "stream",
     "text": [
      "<ipython-input-54-a0632d155043>:12: UserWarning: FixedFormatter should only be used together with FixedLocator\n",
      "  ax.set_xticklabels(['1 Car', '2 Cars', '4 Cars', '3 Cars'],fontsize=16)\n"
     ]
    },
    {
     "data": {
      "image/png": "[encoded data removed]",
      "text/plain": [
       "<Figure size 720x720 with 1 Axes>"
      ]
     },
     "metadata": {
      "needs_background": "light"
     },
     "output_type": "display_data"
    }
   ],
   "source": [
    "# plotting the garage sizes \n",
    "\n",
    "x_gar = ['garage_cars_3.0', 'garage_cars_4.0', 'garage_cars_2.0', 'garage_cars_1.0']\n",
    "y_gar = [63637, 45518, 7065, -10604]\n",
    "\n",
    "plt.figure(figsize=(10, 10))\n",
    "\n",
    "\n",
    "# plot a bar chart\n",
    "plt.bar(width = .5, x = x_gar[::-1], height = y_gar[::-1], color = 'crimson' )\n",
    "ax = plt.gca()\n",
    "ax.set_xticklabels(['1 Car', '2 Cars', '4 Cars', '3 Cars'],fontsize=16)\n",
    "ax.set_ylabel('Value of Garage ($)',\n",
    "              labelpad = 20, \n",
    "              fontsize = 15 )\n",
    "ax.set_title('Added Value from Garage Size', size = 20)\n",
    "ax.spines[\"bottom\"].set_position((\"data\", 0))\n",
    "ax.spines[\"top\"].set_visible(False)\n",
    "ax.spines[\"right\"].set_visible(False)\n",
    "\n",
    "major_ticks = np.arange(0, 100_000, 10_000)\n",
    "\n",
    "ax.set_yticks(major_ticks)\n",
    "ax.set_yticks(major_ticks, minor=True);\n"
   ]
  },
  {
   "cell_type": "markdown",
   "metadata": {},
   "source": [
    "**Interpretation**\n",
    "With all else held constant, the added value of a 1 car garage to a house is in the negative while 2 car and larger garages seem to increase in value. \n",
    "\n",
    "Therefore, the best investment is to add a garage that fits at least 2 cars. "
   ]
  },
  {
   "cell_type": "markdown",
   "metadata": {},
   "source": [
    "[source for spines](https://stackoverflow.com/questions/60519582/matplotlib-bar-chart-negative-values-below-x-axis)\n",
    "[source for y spacing](https://stackoverflow.com/questions/24943991/change-grid-interval-and-specify-tick-labels-in-matplotlib)"
   ]
  },
  {
   "cell_type": "code",
   "execution_count": 119,
   "metadata": {},
   "outputs": [
    {
     "data": {
      "text/plain": [
       "(         feature       coef\n",
       " 5  bsmt_finished  23.937671,\n",
       "          feature       coef\n",
       " 2  total_bsmt_sf  43.210008)"
      ]
     },
     "execution_count": 119,
     "metadata": {},
     "output_type": "execute_result"
    }
   ],
   "source": [
    "coef_df[coef_df['feature'] == 'bsmt_finished'], coef_df[coef_df['feature'] == 'total_bsmt_sf']"
   ]
  },
  {
   "cell_type": "code",
   "execution_count": 120,
   "metadata": {},
   "outputs": [
    {
     "data": {
      "text/plain": [
       "1340"
      ]
     },
     "execution_count": 120,
     "metadata": {},
     "output_type": "execute_result"
    }
   ],
   "source": [
    "# the minimum size for a 2 car garage in the basement. \n",
    "(24*20) + 43*20"
   ]
  },
  {
   "cell_type": "code",
   "execution_count": 121,
   "metadata": {},
   "outputs": [
    {
     "data": {
      "text/html": [
       "<div>\n",
       "<style scoped>\n",
       "    .dataframe tbody tr th:only-of-type {\n",
       "        vertical-align: middle;\n",
       "    }\n",
       "\n",
       "    .dataframe tbody tr th {\n",
       "        vertical-align: top;\n",
       "    }\n",
       "\n",
       "    .dataframe thead th {\n",
       "        text-align: right;\n",
       "    }\n",
       "</style>\n",
       "<table border=\"1\" class=\"dataframe\">\n",
       "  <thead>\n",
       "    <tr style=\"text-align: right;\">\n",
       "      <th></th>\n",
       "      <th>feature</th>\n",
       "      <th>coef</th>\n",
       "    </tr>\n",
       "  </thead>\n",
       "  <tbody>\n",
       "  </tbody>\n",
       "</table>\n",
       "</div>"
      ],
      "text/plain": [
       "Empty DataFrame\n",
       "Columns: [feature, coef]\n",
       "Index: []"
      ]
     },
     "execution_count": 121,
     "metadata": {},
     "output_type": "execute_result"
    }
   ],
   "source": [
    "coef_df[coef_df['feature'] == 'garage_cars_2.0']"
   ]
  },
  {
   "cell_type": "code",
   "execution_count": 122,
   "metadata": {},
   "outputs": [
    {
     "data": {
      "text/plain": [
       "9    24773.991429\n",
       "Name: coef, dtype: float64"
      ]
     },
     "execution_count": 122,
     "metadata": {},
     "output_type": "execute_result"
    }
   ],
   "source": [
    "coef_df[coef_df['feature'] == 'garage_type_Basment']['coef']"
   ]
  },
  {
   "cell_type": "markdown",
   "metadata": {},
   "source": [
    "[2 car garage sqfr](https://shedsunlimited.net/blog/2-car-garage-dimensions#:~:text=In%20short%2C%20the%20minimum%20dimensions,will%20go%20a%20long%20way.)"
   ]
  },
  {
   "cell_type": "code",
   "execution_count": 123,
   "metadata": {},
   "outputs": [
    {
     "data": {
      "text/plain": [
       "31838"
      ]
     },
     "execution_count": 123,
     "metadata": {},
     "output_type": "execute_result"
    }
   ],
   "source": [
    "7065+24773"
   ]
  },
  {
   "cell_type": "code",
   "execution_count": 124,
   "metadata": {},
   "outputs": [
    {
     "data": {
      "image/png": "[encoded data removed]",
      "text/plain": [
       "<Figure size 504x360 with 1 Axes>"
      ]
     },
     "metadata": {
      "needs_background": "light"
     },
     "output_type": "display_data"
    }
   ],
   "source": [
    "# plotting bar plot of scores when tests are and are not required\n",
    "\n",
    "labels = ['Garage', 'Finished Basement']\n",
    "\n",
    "lst_one = [7065+24773, 0]\n",
    "lst_two =  [7065, 0]\n",
    "lst_three = [0, 1340]\n",
    "\n",
    "x = np.arange(len(labels))  # the label locations\n",
    "width = 0.35  # the width of the bars\n",
    "\n",
    "fig, ax = plt.subplots(figsize = (7,5))\n",
    "rects1 = ax.bar(x, lst_one, width, label='Value of a 2 Car Garage', color = 'indigo')\n",
    "rects2 = ax.bar(x, lst_two, width, label='Value of a Basement Garage', color = 'mediumpurple')\n",
    "rects3 = ax.bar(x, lst_three, width, label='Value of 20sf Finished Basement', color = 'blue')\n",
    "\n",
    "\n",
    "# Add some text for labels, title and custom x-axis tick labels, etc.\n",
    "ax.set_ylabel('FeatureValue ($)', fontsize = 12, labelpad = 10)\n",
    "ax.set_xlabel('Price Total (20x20 Feature)', fontsize = 12, labelpad = 15)\n",
    "ax.set_title('',\n",
    "             fontsize = 20,\n",
    "             pad= 30, \n",
    "             fontweight='bold')\n",
    "\n",
    "# setting up the graph\n",
    "ax.set_xticks(x)\n",
    "ax.set_xticklabels(labels, fontsize = 12)\n",
    "ax.legend(loc = 'upper right', fontsize = 11, facecolor = 'white')\n",
    "\n",
    "fig.tight_layout()\n",
    "\n",
    "plt.show();\n"
   ]
  },
  {
   "cell_type": "markdown",
   "metadata": {},
   "source": [
    "**Interpretation**\n",
    "The added value of finishing a 20x20 basement is much lower than making that part of the basement into a 2 car garage. Therefore, if choosing between the two, it is worth making the space into a garage when possible."
   ]
  },
  {
   "cell_type": "code",
   "execution_count": 125,
   "metadata": {},
   "outputs": [
    {
     "data": {
      "text/plain": [
       "id                               1498.400000\n",
       "ms_subclass                       100.000000\n",
       "lot_frontage                       80.000000\n",
       "lot_area                         9830.400000\n",
       "street                              2.000000\n",
       "                                   ...      \n",
       "bsmt_finished_with_halfbath         0.000000\n",
       "overall_qual_cond                  38.800000\n",
       "finished_n_total               559777.000000\n",
       "bsmt_size_fin_sf               559777.000000\n",
       "pred_price                     155671.746034\n",
       "Length: 64, dtype: float64"
      ]
     },
     "execution_count": 125,
     "metadata": {},
     "output_type": "execute_result"
    }
   ],
   "source": [
    "test[(test['garage_type']=='Basment') & (test['garage_cars']==2)].mean()"
   ]
  },
  {
   "cell_type": "code",
   "execution_count": 139,
   "metadata": {},
   "outputs": [
    {
     "data": {
      "text/plain": [
       "<matplotlib.legend.Legend at 0x7fdf6833d4f0>"
      ]
     },
     "execution_count": 139,
     "metadata": {},
     "output_type": "execute_result"
    },
    {
     "data": {
      "image/png": "[encoded data removed]",
      "text/plain": [
       "<Figure size 720x576 with 1 Axes>"
      ]
     },
     "metadata": {
      "needs_background": "light"
     },
     "output_type": "display_data"
    }
   ],
   "source": [
    "plt.figure(figsize = (10,8))\n",
    "plt.scatter(test['bsmt_finished'],\n",
    "            test['pred_price'], \n",
    "            color = 'darkcyan',\n",
    "            alpha = .6, marker=6,\n",
    "            s = 110,\n",
    "           label = 'Prices of Houses with Finished Basements');\n",
    "\n",
    "plt.axhline(155672, c = 'red',\n",
    "           linestyle = '--',\n",
    "            linewidth = 2, \n",
    "            alpha = .85, \n",
    "            label = 'Mean House Value with 2 Car Basement Garage')\n",
    "\n",
    "plt.axvline(1000, c = 'black', \n",
    "            label = '1000 SF: Finished SqFt worth $155,672', \n",
    "           linestyle = '--',\n",
    "            lw = 1.5, \n",
    "           alpha = .5, ymax = 16000)\n",
    "\n",
    "plt.xlabel('Finished Basement in SF', fontsize = 20)\n",
    "plt.ylabel('Value of House ($)', fontsize = 20)\n",
    "plt.title('Finished Square Feet Worth more than 2 Car Garage', fontsize = 20)\n",
    "\n",
    "\n",
    "plt.legend()"
   ]
  },
  {
   "cell_type": "markdown",
   "metadata": {},
   "source": [
    "**Interpretation** \n",
    "\n",
    "The mean predicted price of houses with basement-2-car garages is at \\$155,672. Looking at the scatterplot, we can see that the intersection of the value and the predicted price of a majority of houses with finished basements occurs at 1000 square feet. \n",
    "\n",
    "In order to get more value out of a finished basement than a 20x20 garage, you would need a basement of at least 1000 square feet to renovate."
   ]
  },
  {
   "cell_type": "code",
   "execution_count": 127,
   "metadata": {
    "scrolled": false
   },
   "outputs": [
    {
     "data": {
      "image/png": "[encoded data removed]",
      "text/plain": [
       "<Figure size 864x576 with 1 Axes>"
      ]
     },
     "metadata": {
      "needs_background": "light"
     },
     "output_type": "display_data"
    }
   ],
   "source": [
    "# Data\n",
    "df=pd.DataFrame({'x_values': range(1,11),\n",
    "                 'Condition of the House': [5607*i for i in range(1,11)], \n",
    "                 'Condition of the Kitchen':[(34287/2)*i for i in range(1,11)]})\n",
    " \n",
    "    \n",
    "# bigger plt\n",
    "plt.figure(figsize = (12, 8))\n",
    "\n",
    "# multiple line plots\n",
    "plt.plot( 'x_values', 'Condition of the House', data=df, marker='', \n",
    "         markerfacecolor='purple', markersize=12,\n",
    "         color='skyblue', linewidth=7)\n",
    "plt.plot( 'x_values', 'Condition of the Kitchen',\n",
    "         data=df, marker='', color='purple', linewidth=7)\n",
    "# show legend\n",
    "plt.legend(fontsize = 15)\n",
    "plt.xlabel('Condition: Scale 0-10', fontsize = 15)\n",
    "plt.ylabel('Added Value per \\nCondition Increase ($)', fontsize = 15)\n",
    "\n",
    "\n",
    "# show graph\n",
    "plt.show()"
   ]
  },
  {
   "cell_type": "markdown",
   "metadata": {},
   "source": [
    "**Interpretation**\n",
    "The coefficient for Kitchen qual is much higher than House quality so it is recommended to focus on making a kitchen of excellent quality rather than the entire house, as the best investment."
   ]
  },
  {
   "cell_type": "code",
   "execution_count": 128,
   "metadata": {},
   "outputs": [
    {
     "data": {
      "text/plain": [
       "14269.647276"
      ]
     },
     "execution_count": 128,
     "metadata": {},
     "output_type": "execute_result"
    }
   ],
   "source": [
    "14269.647276"
   ]
  },
  {
   "cell_type": "code",
   "execution_count": 137,
   "metadata": {},
   "outputs": [
    {
     "data": {
      "image/png": "[encoded data removed]",
      "text/plain": [
       "<Figure size 720x720 with 1 Axes>"
      ]
     },
     "metadata": {
      "needs_background": "light"
     },
     "output_type": "display_data"
    }
   ],
   "source": [
    "# plotting the basment heights \n",
    "\n",
    "\n",
    "\n",
    "plt.figure(figsize=(10, 10))\n",
    "\n",
    "\n",
    "# plot a bar chart\n",
    "plt.scatter(x = test['bsmt_qual'], y =test['pred_price'], \n",
    "            color = 'slateblue' ,\n",
    "            s =100, \n",
    "           alpha = .7)\n",
    "\n",
    "\n",
    "\n",
    "plt.ylabel('Value of Basement Ceiling Height ($)',\n",
    "              labelpad = 20, \n",
    "              fontsize = 20 )\n",
    "plt.xticks(np.arange(5), ['100+ inches',\n",
    "                           '90-99 inches', \n",
    "                           '80-89 inches', \n",
    "                           '70-79 inches',\n",
    "                           '<70 inches'][::-1])\n",
    "\n",
    "plt.xlabel('Height of Ceiling (10 inches)', fontsize = 20, labelpad = 20)\n",
    "plt.title('Value Basement Height Adds to Home', size = 25, pad = 20)\n",
    "\n",
    "ax.tick_params(axis = 'both', which = 'major', labelsize = 15);"
   ]
  },
  {
   "cell_type": "markdown",
   "metadata": {},
   "source": [
    "**Interpretation**\n",
    "\n",
    "For every 10 inches added to a basement, we can see there is an impact on the value of the home. Despite the wide dispersion of house values at each height interval, both the minimum and maximum home values increase, albeit with some overlap in prices. \n",
    "\n",
    "Recommendations would be to combine basement ceiling raising with finished basements to add the most value to the homes. "
   ]
  },
  {
   "cell_type": "markdown",
   "metadata": {},
   "source": [
    "# Final Recommendations"
   ]
  },
  {
   "cell_type": "markdown",
   "metadata": {},
   "source": [
    "The final recommendations for garage rennovations would be to add a two or three car gargae. If space is a concern, in terms of total home square feet or lot size, then converting a basement to a garage is a lucrative option. A 20x20 garage (2 car garage) in the basement can add \\$31,000 dollars to the home value. \n",
    "\n",
    "When building a garage, it is worth considering the size that it is taking away from the basement. Finished basements do add to the home value, but at what point is it worth it to finish the basement at the expense of the square feet taken up by a garage? \n",
    "\n",
    "The mean of homes with a basement garage is about \\$155,600. To beat that price with a finished basement, you would need at least 1,000 square feet. \n",
    "\n",
    "The best way to add value to the house with a basement is to both raise the ceilings and finish the basement, without adding bathrooms. \n"
   ]
  }
 ],
 "metadata": {
  "kernelspec": {
   "display_name": "Python 3",
   "language": "python",
   "name": "python3"
  },
  "language_info": {
   "codemirror_mode": {
    "name": "ipython",
    "version": 3
   },
   "file_extension": ".py",
   "mimetype": "text/x-python",
   "name": "python",
   "nbconvert_exporter": "python",
   "pygments_lexer": "ipython3",
   "version": "3.8.5"
  }
 },
 "nbformat": 4,
 "nbformat_minor": 4
}
