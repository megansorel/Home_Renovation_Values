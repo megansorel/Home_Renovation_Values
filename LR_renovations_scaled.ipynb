{
 "cells": [
  {
   "cell_type": "markdown",
   "metadata": {},
   "source": [
    "# Modeling with Scaling\n",
    "\n",
    "This notebook was used to see how well houses prices accounted for renovation features we were looking at. \n",
    "The features were scaled for the sake of model performance."
   ]
  },
  {
   "cell_type": "code",
   "execution_count": 1,
   "metadata": {},
   "outputs": [],
   "source": [
    "import pandas as pd\n",
    "import numpy as np\n",
    "import seaborn as sns\n",
    "import matplotlib.pyplot as plt\n",
    "from sklearn.linear_model import LinearRegression, LassoCV, RidgeCV\n",
    "from sklearn.preprocessing import PolynomialFeatures, StandardScaler\n",
    "from sklearn.model_selection import train_test_split, cross_val_score, cross_val_predict\n",
    "from sklearn.metrics import r2_score, mean_absolute_error\n",
    "from sklearn.metrics import mean_squared_error, median_absolute_error\n",
    "import os\n",
    "from sklearn.linear_model import Lasso\n",
    "from sklearn.preprocessing import PolynomialFeatures, PowerTransformer"
   ]
  },
  {
   "cell_type": "code",
   "execution_count": 2,
   "metadata": {},
   "outputs": [],
   "source": [
    "# use absolute path to retrieve datasets\n",
    "\n",
    "train = pd.read_csv(os.path.abspath('./datasets/cleaned_train.csv'))"
   ]
  },
  {
   "cell_type": "markdown",
   "metadata": {},
   "source": [
    "[source for absolute path](https://stackoverflow.com/questions/51520/how-to-get-an-absolute-file-path-in-python)"
   ]
  },
  {
   "cell_type": "code",
   "execution_count": 3,
   "metadata": {},
   "outputs": [
    {
     "data": {
      "text/html": [
       "<div>\n",
       "<style scoped>\n",
       "    .dataframe tbody tr th:only-of-type {\n",
       "        vertical-align: middle;\n",
       "    }\n",
       "\n",
       "    .dataframe tbody tr th {\n",
       "        vertical-align: top;\n",
       "    }\n",
       "\n",
       "    .dataframe thead th {\n",
       "        text-align: right;\n",
       "    }\n",
       "</style>\n",
       "<table border=\"1\" class=\"dataframe\">\n",
       "  <thead>\n",
       "    <tr style=\"text-align: right;\">\n",
       "      <th></th>\n",
       "      <th>id</th>\n",
       "      <th>ms_subclass</th>\n",
       "      <th>ms_zoning</th>\n",
       "      <th>lot_frontage</th>\n",
       "      <th>lot_area</th>\n",
       "      <th>street</th>\n",
       "      <th>lot_shape</th>\n",
       "      <th>land_contour</th>\n",
       "      <th>utilities</th>\n",
       "      <th>lot_config</th>\n",
       "      <th>...</th>\n",
       "      <th>total_baths</th>\n",
       "      <th>bsmt_finished</th>\n",
       "      <th>size_n_qual</th>\n",
       "      <th>bed_n_bath</th>\n",
       "      <th>fin_bsmt_fin_qual</th>\n",
       "      <th>bsmt_fin_n_ceiling</th>\n",
       "      <th>bsmt_finished_with_bath</th>\n",
       "      <th>bsmt_finished_with_halfbath</th>\n",
       "      <th>bsmt_size_fin_sf</th>\n",
       "      <th>overall_qual_cond</th>\n",
       "    </tr>\n",
       "  </thead>\n",
       "  <tbody>\n",
       "    <tr>\n",
       "      <th>0</th>\n",
       "      <td>109</td>\n",
       "      <td>60</td>\n",
       "      <td>RL</td>\n",
       "      <td>77.504886</td>\n",
       "      <td>13517</td>\n",
       "      <td>2</td>\n",
       "      <td>3</td>\n",
       "      <td>4</td>\n",
       "      <td>4</td>\n",
       "      <td>CulDSac</td>\n",
       "      <td>...</td>\n",
       "      <td>3.0</td>\n",
       "      <td>533.0</td>\n",
       "      <td>8874</td>\n",
       "      <td>9.0</td>\n",
       "      <td>2665.0</td>\n",
       "      <td>533.0</td>\n",
       "      <td>0.0</td>\n",
       "      <td>0.0</td>\n",
       "      <td>386425.0</td>\n",
       "      <td>48</td>\n",
       "    </tr>\n",
       "    <tr>\n",
       "      <th>1</th>\n",
       "      <td>544</td>\n",
       "      <td>60</td>\n",
       "      <td>RL</td>\n",
       "      <td>43.000000</td>\n",
       "      <td>11492</td>\n",
       "      <td>2</td>\n",
       "      <td>3</td>\n",
       "      <td>4</td>\n",
       "      <td>4</td>\n",
       "      <td>CulDSac</td>\n",
       "      <td>...</td>\n",
       "      <td>4.0</td>\n",
       "      <td>637.0</td>\n",
       "      <td>14854</td>\n",
       "      <td>16.0</td>\n",
       "      <td>3185.0</td>\n",
       "      <td>1274.0</td>\n",
       "      <td>637.0</td>\n",
       "      <td>0.0</td>\n",
       "      <td>581581.0</td>\n",
       "      <td>35</td>\n",
       "    </tr>\n",
       "    <tr>\n",
       "      <th>2</th>\n",
       "      <td>153</td>\n",
       "      <td>20</td>\n",
       "      <td>RL</td>\n",
       "      <td>68.000000</td>\n",
       "      <td>7922</td>\n",
       "      <td>2</td>\n",
       "      <td>4</td>\n",
       "      <td>4</td>\n",
       "      <td>4</td>\n",
       "      <td>Inside</td>\n",
       "      <td>...</td>\n",
       "      <td>2.0</td>\n",
       "      <td>731.0</td>\n",
       "      <td>5285</td>\n",
       "      <td>6.0</td>\n",
       "      <td>3655.0</td>\n",
       "      <td>731.0</td>\n",
       "      <td>731.0</td>\n",
       "      <td>0.0</td>\n",
       "      <td>772667.0</td>\n",
       "      <td>35</td>\n",
       "    </tr>\n",
       "    <tr>\n",
       "      <th>3</th>\n",
       "      <td>318</td>\n",
       "      <td>60</td>\n",
       "      <td>RL</td>\n",
       "      <td>73.000000</td>\n",
       "      <td>9802</td>\n",
       "      <td>2</td>\n",
       "      <td>4</td>\n",
       "      <td>4</td>\n",
       "      <td>4</td>\n",
       "      <td>Inside</td>\n",
       "      <td>...</td>\n",
       "      <td>3.0</td>\n",
       "      <td>0.0</td>\n",
       "      <td>7220</td>\n",
       "      <td>9.0</td>\n",
       "      <td>0.0</td>\n",
       "      <td>0.0</td>\n",
       "      <td>0.0</td>\n",
       "      <td>0.0</td>\n",
       "      <td>0.0</td>\n",
       "      <td>25</td>\n",
       "    </tr>\n",
       "    <tr>\n",
       "      <th>4</th>\n",
       "      <td>255</td>\n",
       "      <td>50</td>\n",
       "      <td>RL</td>\n",
       "      <td>82.000000</td>\n",
       "      <td>14235</td>\n",
       "      <td>2</td>\n",
       "      <td>3</td>\n",
       "      <td>4</td>\n",
       "      <td>4</td>\n",
       "      <td>Inside</td>\n",
       "      <td>...</td>\n",
       "      <td>2.0</td>\n",
       "      <td>0.0</td>\n",
       "      <td>8670</td>\n",
       "      <td>6.0</td>\n",
       "      <td>0.0</td>\n",
       "      <td>0.0</td>\n",
       "      <td>0.0</td>\n",
       "      <td>0.0</td>\n",
       "      <td>0.0</td>\n",
       "      <td>48</td>\n",
       "    </tr>\n",
       "  </tbody>\n",
       "</table>\n",
       "<p>5 rows × 81 columns</p>\n",
       "</div>"
      ],
      "text/plain": [
       "    id  ms_subclass ms_zoning  lot_frontage  lot_area  street  lot_shape  \\\n",
       "0  109           60        RL     77.504886     13517       2          3   \n",
       "1  544           60        RL     43.000000     11492       2          3   \n",
       "2  153           20        RL     68.000000      7922       2          4   \n",
       "3  318           60        RL     73.000000      9802       2          4   \n",
       "4  255           50        RL     82.000000     14235       2          3   \n",
       "\n",
       "   land_contour  utilities lot_config  ...  total_baths bsmt_finished  \\\n",
       "0             4          4    CulDSac  ...          3.0         533.0   \n",
       "1             4          4    CulDSac  ...          4.0         637.0   \n",
       "2             4          4     Inside  ...          2.0         731.0   \n",
       "3             4          4     Inside  ...          3.0           0.0   \n",
       "4             4          4     Inside  ...          2.0           0.0   \n",
       "\n",
       "  size_n_qual bed_n_bath fin_bsmt_fin_qual bsmt_fin_n_ceiling  \\\n",
       "0        8874        9.0            2665.0              533.0   \n",
       "1       14854       16.0            3185.0             1274.0   \n",
       "2        5285        6.0            3655.0              731.0   \n",
       "3        7220        9.0               0.0                0.0   \n",
       "4        8670        6.0               0.0                0.0   \n",
       "\n",
       "   bsmt_finished_with_bath  bsmt_finished_with_halfbath  bsmt_size_fin_sf  \\\n",
       "0                      0.0                          0.0          386425.0   \n",
       "1                    637.0                          0.0          581581.0   \n",
       "2                    731.0                          0.0          772667.0   \n",
       "3                      0.0                          0.0               0.0   \n",
       "4                      0.0                          0.0               0.0   \n",
       "\n",
       "   overall_qual_cond  \n",
       "0                 48  \n",
       "1                 35  \n",
       "2                 35  \n",
       "3                 25  \n",
       "4                 48  \n",
       "\n",
       "[5 rows x 81 columns]"
      ]
     },
     "execution_count": 3,
     "metadata": {},
     "output_type": "execute_result"
    }
   ],
   "source": [
    "train.head()"
   ]
  },
  {
   "cell_type": "code",
   "execution_count": 4,
   "metadata": {},
   "outputs": [
    {
     "data": {
      "text/plain": [
       "Index(['id', 'ms_subclass', 'ms_zoning', 'lot_frontage', 'lot_area', 'street',\n",
       "       'lot_shape', 'land_contour', 'utilities', 'lot_config', 'land_slope',\n",
       "       'neighborhood', 'condition_1', 'condition_2', 'bldg_type',\n",
       "       'house_style', 'overall_qual', 'overall_cond', 'year_built',\n",
       "       'year_remod/add', 'roof_style', 'roof_matl', 'exterior_1st',\n",
       "       'exterior_2nd', 'mas_vnr_type', 'mas_vnr_area', 'exter_qual',\n",
       "       'foundation', 'bsmt_qual', 'bsmt_cond', 'bsmt_exposure',\n",
       "       'bsmtfin_type_1', 'bsmtfin_sf_1', 'bsmtfin_type_2', 'bsmtfin_sf_2',\n",
       "       'bsmt_unf_sf', 'total_bsmt_sf', 'heating', 'heating_qc', 'central_air',\n",
       "       'electrical', '1st_flr_sf', '2nd_flr_sf', 'low_qual_fin_sf',\n",
       "       'gr_liv_area', 'bsmt_full_bath', 'bsmt_half_bath', 'full_bath',\n",
       "       'half_bath', 'bedroom_abvgr', 'kitchen_abvgr', 'kitchen_qual',\n",
       "       'totrms_abvgrd', 'functional', 'fireplaces', 'fireplace_qu',\n",
       "       'garage_type', 'garage_yr_blt', 'garage_finish', 'garage_cars',\n",
       "       'garage_qual', 'paved_drive', 'wood_deck_sf', 'open_porch_sf',\n",
       "       'enclosed_porch', '3ssn_porch', 'screen_porch', 'mo_sold', 'yr_sold',\n",
       "       'sale_type', 'saleprice', 'total_baths', 'bsmt_finished', 'size_n_qual',\n",
       "       'bed_n_bath', 'fin_bsmt_fin_qual', 'bsmt_fin_n_ceiling',\n",
       "       'bsmt_finished_with_bath', 'bsmt_finished_with_halfbath',\n",
       "       'bsmt_size_fin_sf', 'overall_qual_cond'],\n",
       "      dtype='object')"
      ]
     },
     "execution_count": 4,
     "metadata": {},
     "output_type": "execute_result"
    }
   ],
   "source": [
    "train.columns"
   ]
  },
  {
   "cell_type": "code",
   "execution_count": 5,
   "metadata": {},
   "outputs": [],
   "source": [
    "drop_lst = []\n",
    "drop_lst.extend(['pool_area',  #not applicable to most homes\n",
    "                'enclosed_porch',\n",
    "                '3ssn_porch',\n",
    "                'screen_porch',\n",
    "                'garage_yr_blt',\n",
    "                'functional',\n",
    "               'low_qual_fin_sf',\n",
    "                'garage_qual',\n",
    "                'paved_drive', \n",
    "                'central_air',\n",
    "                'bsmtfin_sf_2',\n",
    "                'kitchen_abvgr',\n",
    "               'utilities',\n",
    "               'land_slope', \n",
    "               'lot_area',\n",
    "               'street',\n",
    "               'land_slope', \n",
    "                'yr_sold',\n",
    "                'bsmtfin_type_2',\n",
    "                 'bsmtfin_sf_2',\n",
    "                'exterior_2nd',\n",
    "                'heating',\n",
    "                'electrical','condition_1', \n",
    "                 'condition_2']) "
   ]
  },
  {
   "cell_type": "code",
   "execution_count": 6,
   "metadata": {},
   "outputs": [],
   "source": [
    "best_lasso_features = ['lot_area',\n",
    " 'bsmt_fin_n_ceiling',\n",
    " 'functional',\n",
    " 'total_bsmt_sf',\n",
    " 'overall_cond',\n",
    " 'year_built',\n",
    " 'overall_qual',\n",
    " 'gr_liv_area']"
   ]
  },
  {
   "cell_type": "code",
   "execution_count": 7,
   "metadata": {},
   "outputs": [
    {
     "data": {
      "text/plain": [
       "Index(['id', 'ms_subclass', 'ms_zoning', 'lot_frontage', 'lot_area', 'street',\n",
       "       'lot_shape', 'land_contour', 'utilities', 'lot_config', 'land_slope',\n",
       "       'neighborhood', 'condition_1', 'condition_2', 'bldg_type',\n",
       "       'house_style', 'overall_qual', 'overall_cond', 'year_built',\n",
       "       'year_remod/add', 'roof_style', 'roof_matl', 'exterior_1st',\n",
       "       'exterior_2nd', 'mas_vnr_type', 'mas_vnr_area', 'exter_qual',\n",
       "       'foundation', 'bsmt_qual', 'bsmt_cond', 'bsmt_exposure',\n",
       "       'bsmtfin_type_1', 'bsmtfin_sf_1', 'bsmtfin_type_2', 'bsmtfin_sf_2',\n",
       "       'bsmt_unf_sf', 'total_bsmt_sf', 'heating', 'heating_qc', 'central_air',\n",
       "       'electrical', '1st_flr_sf', '2nd_flr_sf', 'low_qual_fin_sf',\n",
       "       'gr_liv_area', 'bsmt_full_bath', 'bsmt_half_bath', 'full_bath',\n",
       "       'half_bath', 'bedroom_abvgr', 'kitchen_abvgr', 'kitchen_qual',\n",
       "       'totrms_abvgrd', 'functional', 'fireplaces', 'fireplace_qu',\n",
       "       'garage_type', 'garage_yr_blt', 'garage_finish', 'garage_cars',\n",
       "       'garage_qual', 'paved_drive', 'wood_deck_sf', 'open_porch_sf',\n",
       "       'enclosed_porch', '3ssn_porch', 'screen_porch', 'mo_sold', 'yr_sold',\n",
       "       'sale_type', 'saleprice', 'total_baths', 'bsmt_finished', 'size_n_qual',\n",
       "       'bed_n_bath', 'fin_bsmt_fin_qual', 'bsmt_fin_n_ceiling',\n",
       "       'bsmt_finished_with_bath', 'bsmt_finished_with_halfbath',\n",
       "       'bsmt_size_fin_sf', 'overall_qual_cond'],\n",
       "      dtype='object')"
      ]
     },
     "execution_count": 7,
     "metadata": {},
     "output_type": "execute_result"
    }
   ],
   "source": [
    "train.columns"
   ]
  },
  {
   "cell_type": "code",
   "execution_count": 8,
   "metadata": {},
   "outputs": [],
   "source": [
    "# add roof material, make garage type a dummy variable \n",
    "\n",
    "focus_features = ['kitchen_qual',\n",
    "                 'garage_type', 'bsmt_full_bath',\n",
    "                  'bsmt_half_bath',\n",
    "                 'bsmt_finished',\n",
    "                 'bsmt_qual',\n",
    "                 'bsmt_half_bath']"
   ]
  },
  {
   "cell_type": "markdown",
   "metadata": {},
   "source": [
    "# Baseline"
   ]
  },
  {
   "cell_type": "code",
   "execution_count": 9,
   "metadata": {},
   "outputs": [
    {
     "data": {
      "text/plain": [
       "0.0"
      ]
     },
     "execution_count": 9,
     "metadata": {},
     "output_type": "execute_result"
    }
   ],
   "source": [
    "# perserving baseline from first model attempt\n",
    "baseline = train['saleprice'].mean()\n",
    "baseline_list = [baseline for i in range(2049)]\n",
    "baseline_score = r2_score(train['saleprice'], baseline_list)\n",
    "baseline_score"
   ]
  },
  {
   "cell_type": "markdown",
   "metadata": {},
   "source": [
    "# Prepping for the model"
   ]
  },
  {
   "cell_type": "code",
   "execution_count": 10,
   "metadata": {},
   "outputs": [
    {
     "data": {
      "text/plain": [
       "Index(['id', 'ms_subclass', 'ms_zoning', 'lot_frontage', 'lot_area', 'street',\n",
       "       'lot_shape', 'land_contour', 'utilities', 'lot_config', 'land_slope',\n",
       "       'neighborhood', 'condition_1', 'condition_2', 'bldg_type',\n",
       "       'house_style', 'overall_qual', 'overall_cond', 'year_built',\n",
       "       'year_remod/add', 'roof_style', 'roof_matl', 'exterior_1st',\n",
       "       'exterior_2nd', 'mas_vnr_type', 'mas_vnr_area', 'exter_qual',\n",
       "       'foundation', 'bsmt_qual', 'bsmt_cond', 'bsmt_exposure',\n",
       "       'bsmtfin_type_1', 'bsmtfin_sf_1', 'bsmtfin_type_2', 'bsmtfin_sf_2',\n",
       "       'bsmt_unf_sf', 'total_bsmt_sf', 'heating', 'heating_qc', 'central_air',\n",
       "       'electrical', '1st_flr_sf', '2nd_flr_sf', 'low_qual_fin_sf',\n",
       "       'gr_liv_area', 'bsmt_full_bath', 'bsmt_half_bath', 'full_bath',\n",
       "       'half_bath', 'bedroom_abvgr', 'kitchen_abvgr', 'kitchen_qual',\n",
       "       'totrms_abvgrd', 'functional', 'fireplaces', 'fireplace_qu',\n",
       "       'garage_type', 'garage_yr_blt', 'garage_finish', 'garage_cars',\n",
       "       'garage_qual', 'paved_drive', 'wood_deck_sf', 'open_porch_sf',\n",
       "       'enclosed_porch', '3ssn_porch', 'screen_porch', 'mo_sold', 'yr_sold',\n",
       "       'sale_type', 'saleprice', 'total_baths', 'bsmt_finished', 'size_n_qual',\n",
       "       'bed_n_bath', 'fin_bsmt_fin_qual', 'bsmt_fin_n_ceiling',\n",
       "       'bsmt_finished_with_bath', 'bsmt_finished_with_halfbath',\n",
       "       'bsmt_size_fin_sf', 'overall_qual_cond'],\n",
       "      dtype='object')"
      ]
     },
     "execution_count": 10,
     "metadata": {},
     "output_type": "execute_result"
    }
   ],
   "source": [
    "train.columns"
   ]
  },
  {
   "cell_type": "code",
   "execution_count": 11,
   "metadata": {},
   "outputs": [],
   "source": [
    "# making list of training feature names\n",
    "\n",
    "features = [c for c in focus_features if \n",
    "            (c != 'saleprice') & (c != 'id') & (c not in drop_lst)]\n",
    "\n",
    "y = train['saleprice']"
   ]
  },
  {
   "cell_type": "code",
   "execution_count": 12,
   "metadata": {},
   "outputs": [],
   "source": [
    "X = train[set(features)]\n",
    "X = pd.get_dummies(X, columns = ['garage_type'], drop_first=True)\n",
    "\n",
    "y = train['saleprice']"
   ]
  },
  {
   "cell_type": "code",
   "execution_count": 13,
   "metadata": {},
   "outputs": [
    {
     "data": {
      "text/html": [
       "<div>\n",
       "<style scoped>\n",
       "    .dataframe tbody tr th:only-of-type {\n",
       "        vertical-align: middle;\n",
       "    }\n",
       "\n",
       "    .dataframe tbody tr th {\n",
       "        vertical-align: top;\n",
       "    }\n",
       "\n",
       "    .dataframe thead th {\n",
       "        text-align: right;\n",
       "    }\n",
       "</style>\n",
       "<table border=\"1\" class=\"dataframe\">\n",
       "  <thead>\n",
       "    <tr style=\"text-align: right;\">\n",
       "      <th></th>\n",
       "      <th>kitchen_qual</th>\n",
       "      <th>bsmt_full_bath</th>\n",
       "      <th>bsmt_finished</th>\n",
       "      <th>bsmt_half_bath</th>\n",
       "      <th>bsmt_qual</th>\n",
       "      <th>garage_type_2Types</th>\n",
       "      <th>garage_type_Attchd</th>\n",
       "      <th>garage_type_Basment</th>\n",
       "      <th>garage_type_BuiltIn</th>\n",
       "      <th>garage_type_CarPort</th>\n",
       "      <th>garage_type_Detchd</th>\n",
       "    </tr>\n",
       "  </thead>\n",
       "  <tbody>\n",
       "    <tr>\n",
       "      <th>0</th>\n",
       "      <td>2</td>\n",
       "      <td>0.0</td>\n",
       "      <td>533.0</td>\n",
       "      <td>0.0</td>\n",
       "      <td>1</td>\n",
       "      <td>0</td>\n",
       "      <td>1</td>\n",
       "      <td>0</td>\n",
       "      <td>0</td>\n",
       "      <td>0</td>\n",
       "      <td>0</td>\n",
       "    </tr>\n",
       "    <tr>\n",
       "      <th>1</th>\n",
       "      <td>2</td>\n",
       "      <td>1.0</td>\n",
       "      <td>637.0</td>\n",
       "      <td>0.0</td>\n",
       "      <td>2</td>\n",
       "      <td>0</td>\n",
       "      <td>1</td>\n",
       "      <td>0</td>\n",
       "      <td>0</td>\n",
       "      <td>0</td>\n",
       "      <td>0</td>\n",
       "    </tr>\n",
       "    <tr>\n",
       "      <th>2</th>\n",
       "      <td>2</td>\n",
       "      <td>1.0</td>\n",
       "      <td>731.0</td>\n",
       "      <td>0.0</td>\n",
       "      <td>1</td>\n",
       "      <td>0</td>\n",
       "      <td>0</td>\n",
       "      <td>0</td>\n",
       "      <td>0</td>\n",
       "      <td>0</td>\n",
       "      <td>1</td>\n",
       "    </tr>\n",
       "    <tr>\n",
       "      <th>3</th>\n",
       "      <td>1</td>\n",
       "      <td>0.0</td>\n",
       "      <td>0.0</td>\n",
       "      <td>0.0</td>\n",
       "      <td>2</td>\n",
       "      <td>0</td>\n",
       "      <td>0</td>\n",
       "      <td>0</td>\n",
       "      <td>1</td>\n",
       "      <td>0</td>\n",
       "      <td>0</td>\n",
       "    </tr>\n",
       "    <tr>\n",
       "      <th>4</th>\n",
       "      <td>1</td>\n",
       "      <td>0.0</td>\n",
       "      <td>0.0</td>\n",
       "      <td>0.0</td>\n",
       "      <td>0</td>\n",
       "      <td>0</td>\n",
       "      <td>0</td>\n",
       "      <td>0</td>\n",
       "      <td>0</td>\n",
       "      <td>0</td>\n",
       "      <td>1</td>\n",
       "    </tr>\n",
       "  </tbody>\n",
       "</table>\n",
       "</div>"
      ],
      "text/plain": [
       "   kitchen_qual  bsmt_full_bath  bsmt_finished  bsmt_half_bath  bsmt_qual  \\\n",
       "0             2             0.0          533.0             0.0          1   \n",
       "1             2             1.0          637.0             0.0          2   \n",
       "2             2             1.0          731.0             0.0          1   \n",
       "3             1             0.0            0.0             0.0          2   \n",
       "4             1             0.0            0.0             0.0          0   \n",
       "\n",
       "   garage_type_2Types  garage_type_Attchd  garage_type_Basment  \\\n",
       "0                   0                   1                    0   \n",
       "1                   0                   1                    0   \n",
       "2                   0                   0                    0   \n",
       "3                   0                   0                    0   \n",
       "4                   0                   0                    0   \n",
       "\n",
       "   garage_type_BuiltIn  garage_type_CarPort  garage_type_Detchd  \n",
       "0                    0                    0                   0  \n",
       "1                    0                    0                   0  \n",
       "2                    0                    0                   1  \n",
       "3                    1                    0                   0  \n",
       "4                    0                    0                   1  "
      ]
     },
     "execution_count": 13,
     "metadata": {},
     "output_type": "execute_result"
    }
   ],
   "source": [
    "X.head()"
   ]
  },
  {
   "cell_type": "code",
   "execution_count": 14,
   "metadata": {},
   "outputs": [
    {
     "data": {
      "text/plain": [
       "Index(['kitchen_qual', 'bsmt_full_bath', 'bsmt_finished', 'bsmt_half_bath',\n",
       "       'bsmt_qual', 'garage_type_2Types', 'garage_type_Attchd',\n",
       "       'garage_type_Basment', 'garage_type_BuiltIn', 'garage_type_CarPort',\n",
       "       'garage_type_Detchd'],\n",
       "      dtype='object')"
      ]
     },
     "execution_count": 14,
     "metadata": {},
     "output_type": "execute_result"
    }
   ],
   "source": [
    "X.columns"
   ]
  },
  {
   "cell_type": "markdown",
   "metadata": {},
   "source": [
    "## Train Test Split"
   ]
  },
  {
   "cell_type": "code",
   "execution_count": 15,
   "metadata": {},
   "outputs": [],
   "source": [
    "# finding missing columns in test vs train data\n",
    "def find_missing_test_columns(train, test):\n",
    "    return [col for col in train.columns if col not in test.columns]"
   ]
  },
  {
   "cell_type": "code",
   "execution_count": 16,
   "metadata": {},
   "outputs": [],
   "source": [
    "# train test split\n",
    "\n",
    "X_train, X_test, y_train, y_test = train_test_split(X, y, random_state=42)"
   ]
  },
  {
   "cell_type": "code",
   "execution_count": 17,
   "metadata": {},
   "outputs": [
    {
     "data": {
      "text/plain": [
       "[]"
      ]
     },
     "execution_count": 17,
     "metadata": {},
     "output_type": "execute_result"
    }
   ],
   "source": [
    "find_missing_test_columns(X_train, X_test)"
   ]
  },
  {
   "cell_type": "markdown",
   "metadata": {},
   "source": [
    "## Scaling"
   ]
  },
  {
   "cell_type": "code",
   "execution_count": 18,
   "metadata": {},
   "outputs": [],
   "source": [
    "# scaling data before fitting\n",
    "\n",
    "ss = StandardScaler()\n",
    "ss.fit(X_train)\n",
    "X_train_sc = ss.transform(X_train)  #or in same line - fit_transform\n",
    "X_test_sc = ss.transform(X_test)"
   ]
  },
  {
   "cell_type": "code",
   "execution_count": 19,
   "metadata": {},
   "outputs": [],
   "source": [
    "# power trainsformer for test and train\n",
    "# pt = PowerTransformer()\n",
    "# pt.fit(X_train)\n",
    "# X_train = pt.transform(X_train)\n",
    "# X_test = pt.transform(X_test)"
   ]
  },
  {
   "cell_type": "code",
   "execution_count": 20,
   "metadata": {},
   "outputs": [],
   "source": [
    "pt_y = PowerTransformer()\n",
    "# PowerTransformer requires a matrix/DataFrame, which is why we're using the .to_frame() method on y_train\n",
    "pt_y.fit(y_train.to_frame()) \n",
    "y_train_pt = pt_y.transform(y_train.to_frame())\n",
    "y_test_pt = pt_y.transform(y_test.to_frame())"
   ]
  },
  {
   "cell_type": "markdown",
   "metadata": {},
   "source": [
    "# Instantiate Models"
   ]
  },
  {
   "cell_type": "code",
   "execution_count": 21,
   "metadata": {},
   "outputs": [],
   "source": [
    "lr = LinearRegression(n_jobs = -1)"
   ]
  },
  {
   "cell_type": "markdown",
   "metadata": {},
   "source": [
    "## Cross Validation"
   ]
  },
  {
   "cell_type": "code",
   "execution_count": 22,
   "metadata": {},
   "outputs": [
    {
     "data": {
      "text/plain": [
       "array([0.70127853, 0.6774772 , 0.66188933, 0.70782809, 0.66798313])"
      ]
     },
     "execution_count": 22,
     "metadata": {},
     "output_type": "execute_result"
    }
   ],
   "source": [
    "# over/underfitting?\n",
    "\n",
    "cross_val_score(lr, X_train_sc, y_train_pt, cv = 5)"
   ]
  },
  {
   "cell_type": "code",
   "execution_count": 23,
   "metadata": {},
   "outputs": [],
   "source": [
    "baseline_previous = (0.89426015, 0.89282737, 0.85105365, 0.89859521, 0.86169427)"
   ]
  },
  {
   "cell_type": "code",
   "execution_count": 24,
   "metadata": {},
   "outputs": [
    {
     "data": {
      "text/plain": [
       "0.684245411419253"
      ]
     },
     "execution_count": 24,
     "metadata": {},
     "output_type": "execute_result"
    }
   ],
   "source": [
    "lr_scores = cross_val_score(lr, X_train_sc, y_train_pt, cv=3)\n",
    "lr_scores.mean()"
   ]
  },
  {
   "cell_type": "markdown",
   "metadata": {},
   "source": [
    "# Model Fitting and Evaluation"
   ]
  },
  {
   "cell_type": "code",
   "execution_count": 25,
   "metadata": {},
   "outputs": [],
   "source": [
    "lr_model = lr.fit(X_train_sc, y_train_pt)"
   ]
  },
  {
   "cell_type": "code",
   "execution_count": 26,
   "metadata": {},
   "outputs": [
    {
     "name": "stdout",
     "output_type": "stream",
     "text": [
      "lr Train: 0.6899318249929023\n"
     ]
    }
   ],
   "source": [
    "lr_score = lr_model.score(X_train_sc, y_train_pt)\n",
    "print(f'lr Train: {lr_score}')"
   ]
  },
  {
   "cell_type": "code",
   "execution_count": 27,
   "metadata": {},
   "outputs": [
    {
     "name": "stdout",
     "output_type": "stream",
     "text": [
      "lr Test: 0.659197353621543\n"
     ]
    }
   ],
   "source": [
    "lr_test_score = lr_model.score(X_test_sc, y_test_pt)\n",
    "print(f'lr Test: {lr_test_score}')"
   ]
  },
  {
   "cell_type": "code",
   "execution_count": 28,
   "metadata": {},
   "outputs": [],
   "source": [
    "lr_pred = lr_model.predict(X_test_sc)"
   ]
  },
  {
   "cell_type": "code",
   "execution_count": 29,
   "metadata": {},
   "outputs": [],
   "source": [
    "# reversing power transformer on y\n",
    "pred_unpower = pt_y.inverse_transform(lr_pred.reshape(-1,1))"
   ]
  },
  {
   "cell_type": "code",
   "execution_count": 30,
   "metadata": {},
   "outputs": [
    {
     "data": {
      "text/plain": [
       "(513, 1)"
      ]
     },
     "execution_count": 30,
     "metadata": {},
     "output_type": "execute_result"
    }
   ],
   "source": [
    "pred_unpower.shape"
   ]
  },
  {
   "cell_type": "code",
   "execution_count": 31,
   "metadata": {},
   "outputs": [
    {
     "data": {
      "text/plain": [
       "array([[150638.9912957 ],\n",
       "       [241259.71509949],\n",
       "       [120689.7135013 ],\n",
       "       [114463.00560026],\n",
       "       [114463.00560026],\n",
       "       [230613.16831634],\n",
       "       [143164.66123382],\n",
       "       [131237.96967532],\n",
       "       [210163.68051093],\n",
       "       [185739.03192207],\n",
       "       [218558.22738505],\n",
       "       [294282.50440055],\n",
       "       [112257.77272413],\n",
       "       [120741.32844805],\n",
       "       [246985.40366173],\n",
       "       [ 86196.61987769],\n",
       "       [179663.35289178],\n",
       "       [197914.06381662],\n",
       "       [109517.65916729],\n",
       "       [231815.24383049],\n",
       "       [186844.07852887],\n",
       "       [ 95367.22793266],\n",
       "       [114463.00560026],\n",
       "       [211000.59245809],\n",
       "       [166192.88057706],\n",
       "       [181784.83247148],\n",
       "       [ 75558.87807099],\n",
       "       [170130.35263504],\n",
       "       [199179.39383706],\n",
       "       [128690.57993693],\n",
       "       [148536.03379284],\n",
       "       [226410.77932807],\n",
       "       [131237.96967532],\n",
       "       [244545.13476682],\n",
       "       [111608.3199191 ],\n",
       "       [216051.50691614],\n",
       "       [234549.99596173],\n",
       "       [ 93412.84151931],\n",
       "       [ 93412.84151931],\n",
       "       [145946.52306197],\n",
       "       [144236.26350982],\n",
       "       [172816.10547564],\n",
       "       [121583.61094018],\n",
       "       [162039.06986723],\n",
       "       [221956.64806918],\n",
       "       [114463.00560026],\n",
       "       [156942.55574642],\n",
       "       [159610.39078817],\n",
       "       [ 93412.84151931],\n",
       "       [145213.73554039],\n",
       "       [122667.8683634 ],\n",
       "       [114463.00560026],\n",
       "       [144974.78092383],\n",
       "       [ 95367.22793266],\n",
       "       [114463.00560026],\n",
       "       [131237.96967532],\n",
       "       [114463.00560026],\n",
       "       [131237.96967532],\n",
       "       [370535.37860908],\n",
       "       [142564.0651085 ],\n",
       "       [197617.92614301],\n",
       "       [364386.1470085 ],\n",
       "       [151906.25561319],\n",
       "       [427060.38675599],\n",
       "       [191292.78546299],\n",
       "       [134503.79817582],\n",
       "       [197026.8951338 ],\n",
       "       [116712.00151439],\n",
       "       [213978.39767949],\n",
       "       [166695.41254162],\n",
       "       [151825.71136863],\n",
       "       [197026.8951338 ],\n",
       "       [184325.28001323],\n",
       "       [146364.84816947],\n",
       "       [211520.91421453],\n",
       "       [ 89536.52951054],\n",
       "       [216413.70770754],\n",
       "       [167574.02581692],\n",
       "       [149273.89395353],\n",
       "       [165183.45663558],\n",
       "       [357687.29054148],\n",
       "       [177507.58435062],\n",
       "       [146828.28442894],\n",
       "       [203187.26396028],\n",
       "       [124114.54156332],\n",
       "       [214217.63213623],\n",
       "       [142994.78828985],\n",
       "       [197026.8951338 ],\n",
       "       [264707.48800084],\n",
       "       [197914.06381662],\n",
       "       [ 86196.61987769],\n",
       "       [218535.84706895],\n",
       "       [221776.36600323],\n",
       "       [121250.40126217],\n",
       "       [154037.06679222],\n",
       "       [140733.68215499],\n",
       "       [103577.33851322],\n",
       "       [280450.26245955],\n",
       "       [173502.52204931],\n",
       "       [197765.94307591],\n",
       "       [197617.92614301],\n",
       "       [197026.8951338 ],\n",
       "       [186473.39468669],\n",
       "       [152247.35675646],\n",
       "       [215554.48536628],\n",
       "       [148501.67308875],\n",
       "       [126705.16797937],\n",
       "       [222534.72968672],\n",
       "       [218535.84706895],\n",
       "       [197026.8951338 ],\n",
       "       [217391.00200154],\n",
       "       [197026.8951338 ],\n",
       "       [206955.23702505],\n",
       "       [114463.00560026],\n",
       "       [147317.21209075],\n",
       "       [118712.77653951],\n",
       "       [155206.71148397],\n",
       "       [156942.55574642],\n",
       "       [114463.00560026],\n",
       "       [156942.55574642],\n",
       "       [187039.59866387],\n",
       "       [197026.8951338 ],\n",
       "       [160237.91603178],\n",
       "       [120598.25424771],\n",
       "       [294530.03403011],\n",
       "       [350470.80051394],\n",
       "       [223529.00797292],\n",
       "       [ 90444.36993947],\n",
       "       [114547.0266443 ],\n",
       "       [114186.86316027],\n",
       "       [352225.94688221],\n",
       "       [123284.70775122],\n",
       "       [149719.6513957 ],\n",
       "       [197026.8951338 ],\n",
       "       [101657.89145528],\n",
       "       [251561.36701544],\n",
       "       [259859.11750562],\n",
       "       [197026.8951338 ],\n",
       "       [156942.55574642],\n",
       "       [ 95367.22793266],\n",
       "       [174337.795838  ],\n",
       "       [114463.00560026],\n",
       "       [118562.82219523],\n",
       "       [182352.42237753],\n",
       "       [120655.62950126],\n",
       "       [151877.34362453],\n",
       "       [137353.64867191],\n",
       "       [272147.79693608],\n",
       "       [123641.89657898],\n",
       "       [364320.54857017],\n",
       "       [182416.33753829],\n",
       "       [144357.31676853],\n",
       "       [152282.5807557 ],\n",
       "       [207210.58375326],\n",
       "       [226242.77472149],\n",
       "       [179626.97629665],\n",
       "       [139516.18845133],\n",
       "       [156942.55574642],\n",
       "       [197026.8951338 ],\n",
       "       [144587.78313305],\n",
       "       [172359.90802918],\n",
       "       [ 77643.12522205],\n",
       "       [109517.65916729],\n",
       "       [117240.04860615],\n",
       "       [156942.55574642],\n",
       "       [153861.39556121],\n",
       "       [147992.95919863],\n",
       "       [177272.5435469 ],\n",
       "       [209186.16779592],\n",
       "       [118782.36613433],\n",
       "       [187007.11035254],\n",
       "       [197026.8951338 ],\n",
       "       [185236.01708691],\n",
       "       [148564.3497642 ],\n",
       "       [186233.15150939],\n",
       "       [220271.77332002],\n",
       "       [152462.76408705],\n",
       "       [114463.00560026],\n",
       "       [194343.47561918],\n",
       "       [197026.8951338 ],\n",
       "       [147295.12227854],\n",
       "       [217391.00200154],\n",
       "       [ 96386.63816248],\n",
       "       [197026.8951338 ],\n",
       "       [102806.10665778],\n",
       "       [177883.1052286 ],\n",
       "       [188268.18181579],\n",
       "       [159347.96396664],\n",
       "       [147953.37352198],\n",
       "       [119960.43703098],\n",
       "       [218535.84706895],\n",
       "       [218535.84706895],\n",
       "       [127531.9879721 ],\n",
       "       [323911.17262618],\n",
       "       [197026.8951338 ],\n",
       "       [131237.96967532],\n",
       "       [184209.13949911],\n",
       "       [130911.5596068 ],\n",
       "       [218535.84706895],\n",
       "       [156942.55574642],\n",
       "       [ 93412.84151931],\n",
       "       [120881.32837065],\n",
       "       [130785.83994684],\n",
       "       [323911.17262618],\n",
       "       [114463.00560026],\n",
       "       [188458.24871744],\n",
       "       [232666.60768217],\n",
       "       [114463.00560026],\n",
       "       [177816.07547952],\n",
       "       [218535.84706895],\n",
       "       [197026.8951338 ],\n",
       "       [100198.82421352],\n",
       "       [ 94996.52758416],\n",
       "       [233746.49397935],\n",
       "       [215324.24914201],\n",
       "       [193464.80432805],\n",
       "       [112740.22925488],\n",
       "       [ 77643.12522205],\n",
       "       [199976.74285705],\n",
       "       [197026.8951338 ],\n",
       "       [141624.62030765],\n",
       "       [234549.99596173],\n",
       "       [220722.63346864],\n",
       "       [304854.47511802],\n",
       "       [287664.9168149 ],\n",
       "       [138372.48799401],\n",
       "       [311690.02081898],\n",
       "       [230613.16831634],\n",
       "       [222328.11031716],\n",
       "       [216177.74943693],\n",
       "       [169903.02047007],\n",
       "       [231505.57859878],\n",
       "       [139222.77432303],\n",
       "       [176273.80014559],\n",
       "       [218535.84706895],\n",
       "       [218535.84706895],\n",
       "       [147064.55263911],\n",
       "       [201208.70742743],\n",
       "       [147289.11875964],\n",
       "       [101991.62555046],\n",
       "       [218535.84706895],\n",
       "       [165657.54349539],\n",
       "       [ 92840.05005927],\n",
       "       [177677.44963199],\n",
       "       [311463.39012692],\n",
       "       [259859.11750562],\n",
       "       [131237.96967532],\n",
       "       [147873.85128867],\n",
       "       [221997.89293488],\n",
       "       [150215.35177314],\n",
       "       [127458.36791507],\n",
       "       [197026.8951338 ],\n",
       "       [182730.18504767],\n",
       "       [123851.5705984 ],\n",
       "       [147451.69346093],\n",
       "       [194137.02963783],\n",
       "       [114463.00560026],\n",
       "       [162563.7490054 ],\n",
       "       [169981.13913785],\n",
       "       [355757.96093515],\n",
       "       [ 77643.12522205],\n",
       "       [131237.96967532],\n",
       "       [ 73583.72798435],\n",
       "       [131227.30412538],\n",
       "       [ 93412.84151931],\n",
       "       [ 64944.77901394],\n",
       "       [144357.31676853],\n",
       "       [127286.74251054],\n",
       "       [221997.89293488],\n",
       "       [185577.63308899],\n",
       "       [ 93412.84151931],\n",
       "       [222741.52885081],\n",
       "       [114463.00560026],\n",
       "       [124364.35035614],\n",
       "       [173439.50176832],\n",
       "       [259859.11750562],\n",
       "       [144207.63844816],\n",
       "       [125630.74827574],\n",
       "       [197617.92614301],\n",
       "       [142231.65217762],\n",
       "       [164422.22210671],\n",
       "       [111608.3199191 ],\n",
       "       [124695.24880847],\n",
       "       [145702.00835532],\n",
       "       [316485.08465485],\n",
       "       [114463.00560026],\n",
       "       [201500.28097176],\n",
       "       [186018.46926123],\n",
       "       [131237.96967532],\n",
       "       [237244.09907275],\n",
       "       [122809.95886873],\n",
       "       [228738.59586266],\n",
       "       [197026.8951338 ],\n",
       "       [218535.84706895],\n",
       "       [218535.84706895],\n",
       "       [361184.79604243],\n",
       "       [141475.24080478],\n",
       "       [156942.55574642],\n",
       "       [150352.36062192],\n",
       "       [183870.47550157],\n",
       "       [114463.00560026],\n",
       "       [156153.48232742],\n",
       "       [155679.42296554],\n",
       "       [182867.73488174],\n",
       "       [142313.23397293],\n",
       "       [210773.12107911],\n",
       "       [116995.58086883],\n",
       "       [114258.78612998],\n",
       "       [161107.38883398],\n",
       "       [218535.84706895],\n",
       "       [310689.35185316],\n",
       "       [172446.04246654],\n",
       "       [ 93412.84151931],\n",
       "       [ 93412.84151931],\n",
       "       [150501.73787822],\n",
       "       [126998.25618796],\n",
       "       [ 95367.22793266],\n",
       "       [172446.04246654],\n",
       "       [153160.11833289],\n",
       "       [119211.31692487],\n",
       "       [ 97925.67842996],\n",
       "       [255763.48812954],\n",
       "       [273063.23659769],\n",
       "       [128201.6342827 ],\n",
       "       [ 90444.36993947],\n",
       "       [234874.55316059],\n",
       "       [175015.03213505],\n",
       "       [217018.63949287],\n",
       "       [312825.49233759],\n",
       "       [242466.48256111],\n",
       "       [198115.61886432],\n",
       "       [153229.27920388],\n",
       "       [236182.49373589],\n",
       "       [197026.8951338 ],\n",
       "       [247405.70795859],\n",
       "       [221051.07435946],\n",
       "       [137737.96702652],\n",
       "       [345194.91906523],\n",
       "       [ 95367.22793266],\n",
       "       [244896.99332462],\n",
       "       [152137.73712421],\n",
       "       [197026.8951338 ],\n",
       "       [114463.00560026],\n",
       "       [359394.05714154],\n",
       "       [172446.04246654],\n",
       "       [132938.52791458],\n",
       "       [277562.95990167],\n",
       "       [113313.24958672],\n",
       "       [160166.19151812],\n",
       "       [115541.69962148],\n",
       "       [123528.63121852],\n",
       "       [222452.06037171],\n",
       "       [144152.56800753],\n",
       "       [ 93412.84151931],\n",
       "       [197026.8951338 ],\n",
       "       [147795.56707328],\n",
       "       [220476.60273999],\n",
       "       [172446.04246654],\n",
       "       [139057.94457618],\n",
       "       [131017.59680541],\n",
       "       [144826.14044061],\n",
       "       [125906.3234848 ],\n",
       "       [173996.85169368],\n",
       "       [219617.51595326],\n",
       "       [ 93412.84151931],\n",
       "       [197026.8951338 ],\n",
       "       [197026.8951338 ],\n",
       "       [222865.6947113 ],\n",
       "       [238669.92270909],\n",
       "       [133449.84196061],\n",
       "       [241750.68059996],\n",
       "       [143926.60802184],\n",
       "       [137094.89658758],\n",
       "       [138209.93633048],\n",
       "       [210812.41681549],\n",
       "       [224244.70230957],\n",
       "       [197026.8951338 ],\n",
       "       [123284.70775122],\n",
       "       [197026.8951338 ],\n",
       "       [114463.00560026],\n",
       "       [191180.13807487],\n",
       "       [197026.8951338 ],\n",
       "       [151703.9798704 ],\n",
       "       [114463.00560026],\n",
       "       [229795.50373852],\n",
       "       [141634.72240325],\n",
       "       [148653.18288995],\n",
       "       [144907.56080854],\n",
       "       [197026.8951338 ],\n",
       "       [217989.82477978],\n",
       "       [174337.795838  ],\n",
       "       [114463.00560026],\n",
       "       [117931.93292515],\n",
       "       [139863.26858755],\n",
       "       [197026.8951338 ],\n",
       "       [114463.00560026],\n",
       "       [197026.8951338 ],\n",
       "       [366755.07024365],\n",
       "       [148416.77388802],\n",
       "       [218535.84706895],\n",
       "       [108860.52736819],\n",
       "       [126928.4638383 ],\n",
       "       [172446.04246654],\n",
       "       [217665.64507404],\n",
       "       [398949.17055432],\n",
       "       [142885.53460308],\n",
       "       [ 93412.84151931],\n",
       "       [157716.47305831],\n",
       "       [158941.36476008],\n",
       "       [137737.96702652],\n",
       "       [149986.15288175],\n",
       "       [256744.19916667],\n",
       "       [128522.6853108 ],\n",
       "       [226278.94930192],\n",
       "       [259859.11750562],\n",
       "       [141775.9745292 ],\n",
       "       [174337.795838  ],\n",
       "       [113706.38537504],\n",
       "       [ 95744.48055576],\n",
       "       [172823.07821602],\n",
       "       [343825.48191517],\n",
       "       [165183.45663558],\n",
       "       [323911.17262618],\n",
       "       [174337.795838  ],\n",
       "       [217018.63949287],\n",
       "       [197026.8951338 ],\n",
       "       [160812.24545875],\n",
       "       [157949.67997875],\n",
       "       [197026.8951338 ],\n",
       "       [114463.00560026],\n",
       "       [197100.68338563],\n",
       "       [153562.78435367],\n",
       "       [109517.65916729],\n",
       "       [144357.31676853],\n",
       "       [141040.13912374],\n",
       "       [233193.5995945 ],\n",
       "       [123737.31046113],\n",
       "       [120507.18982283],\n",
       "       [144357.31676853],\n",
       "       [126242.40664478],\n",
       "       [156942.55574642],\n",
       "       [240325.00891115],\n",
       "       [132409.05637438],\n",
       "       [218639.54095559],\n",
       "       [ 95367.22793266],\n",
       "       [218517.58121959],\n",
       "       [260555.53748   ],\n",
       "       [197026.8951338 ],\n",
       "       [121302.24070519],\n",
       "       [158527.03757882],\n",
       "       [197026.8951338 ],\n",
       "       [216494.27395014],\n",
       "       [141949.90520336],\n",
       "       [384589.20588614],\n",
       "       [145612.66933474],\n",
       "       [114463.00560026],\n",
       "       [161318.34769781],\n",
       "       [278141.78851285],\n",
       "       [126928.4638383 ],\n",
       "       [287567.06180503],\n",
       "       [156942.55574642],\n",
       "       [197026.8951338 ],\n",
       "       [119534.33971459],\n",
       "       [ 93412.84151931],\n",
       "       [236269.93181755],\n",
       "       [197026.8951338 ],\n",
       "       [330049.11861063],\n",
       "       [352500.44757008],\n",
       "       [114463.00560026],\n",
       "       [384779.99846604],\n",
       "       [114463.00560026],\n",
       "       [234549.99596173],\n",
       "       [292782.28371948],\n",
       "       [314250.27878767],\n",
       "       [114463.00560026],\n",
       "       [148614.94276411],\n",
       "       [216320.3765261 ],\n",
       "       [124863.60030621],\n",
       "       [140695.64519738],\n",
       "       [165183.45663558],\n",
       "       [154252.72679428],\n",
       "       [195009.26143083],\n",
       "       [197026.8951338 ],\n",
       "       [186535.92243411],\n",
       "       [145702.00835532],\n",
       "       [180244.1077219 ],\n",
       "       [120598.25424771],\n",
       "       [161839.14454925],\n",
       "       [118832.52670319],\n",
       "       [ 95367.22793266],\n",
       "       [147982.97055825],\n",
       "       [218535.84706895],\n",
       "       [197026.8951338 ],\n",
       "       [218720.88285329],\n",
       "       [114463.00560026],\n",
       "       [246547.86980041],\n",
       "       [208380.70103308],\n",
       "       [156212.83469877],\n",
       "       [109517.65916729],\n",
       "       [207604.56708634],\n",
       "       [123866.54443214],\n",
       "       [223114.22089392],\n",
       "       [213094.85930692],\n",
       "       [194992.3719738 ],\n",
       "       [112122.49684938],\n",
       "       [185596.83683193],\n",
       "       [223653.58482984],\n",
       "       [402639.25479752],\n",
       "       [109698.7366429 ],\n",
       "       [359264.55499603],\n",
       "       [220230.82882439],\n",
       "       [138061.57551778],\n",
       "       [197026.8951338 ]])"
      ]
     },
     "execution_count": 31,
     "metadata": {},
     "output_type": "execute_result"
    }
   ],
   "source": [
    "pred_unpower"
   ]
  },
  {
   "cell_type": "code",
   "execution_count": 32,
   "metadata": {},
   "outputs": [
    {
     "data": {
      "text/plain": [
       "0.6891710164439632"
      ]
     },
     "execution_count": 32,
     "metadata": {},
     "output_type": "execute_result"
    }
   ],
   "source": [
    "r2_score(y_test, pred_unpower)"
   ]
  },
  {
   "cell_type": "markdown",
   "metadata": {},
   "source": [
    "# Metrics"
   ]
  },
  {
   "cell_type": "code",
   "execution_count": 33,
   "metadata": {},
   "outputs": [],
   "source": [
    "def many_metrics(y_true, y_pred): # where p is # features used\n",
    "    mse = mean_squared_error(y_true, y_pred)\n",
    "    rmse = np.sqrt(mse)\n",
    "    mae = mean_absolute_error(y_true, y_pred)\n",
    "    medae = median_absolute_error(y_true, y_pred)\n",
    "    r2 = r2_score(y_true, y_pred)\n",
    "    \n",
    "    print('Mean squared error:          =', mse)\n",
    "    print('Root mean squared error:     =', rmse)\n",
    "    print('Mean absolute error:         =', mae)\n",
    "    print('Median absolute error:       =', medae)\n",
    "    print('R^2:                         =', r2)"
   ]
  },
  {
   "cell_type": "markdown",
   "metadata": {},
   "source": [
    "[source](https://git.generalassemb.ly/DSIR-412/breakfast-hour/blob/master/lab-reviews/03-linear-regression-labs/Lab_Review_Week_3_FILLED.ipynb)"
   ]
  },
  {
   "cell_type": "code",
   "execution_count": 34,
   "metadata": {},
   "outputs": [
    {
     "name": "stdout",
     "output_type": "stream",
     "text": [
      "Mean squared error:          = 1965096443.1623335\n",
      "Root mean squared error:     = 44329.408333095686\n",
      "Mean absolute error:         = 31656.75908942292\n",
      "Median absolute error:       = 23669.92270908819\n",
      "R^2:                         = 0.6891710164439632\n"
     ]
    }
   ],
   "source": [
    "many_metrics(y_test, pred_unpower)"
   ]
  },
  {
   "cell_type": "markdown",
   "metadata": {},
   "source": [
    "## Interpretating the Metrics"
   ]
  },
  {
   "cell_type": "code",
   "execution_count": null,
   "metadata": {},
   "outputs": [],
   "source": []
  },
  {
   "cell_type": "markdown",
   "metadata": {},
   "source": [
    "# Plotting Model and Residuals"
   ]
  },
  {
   "cell_type": "code",
   "execution_count": 35,
   "metadata": {},
   "outputs": [],
   "source": [
    "lr_residuals = y_test - pred_unpower[0]"
   ]
  },
  {
   "cell_type": "code",
   "execution_count": 36,
   "metadata": {},
   "outputs": [
    {
     "data": {
      "image/png": "[encoded data removed]",
      "text/plain": [
       "<Figure size 432x288 with 1 Axes>"
      ]
     },
     "metadata": {
      "needs_background": "light"
     },
     "output_type": "display_data"
    }
   ],
   "source": [
    "plt.scatter(lr_pred, lr_residuals, \n",
    "           c = 'purple', alpha = .3);"
   ]
  },
  {
   "cell_type": "code",
   "execution_count": 37,
   "metadata": {},
   "outputs": [
    {
     "data": {
      "image/png": "[encoded data removed]",
      "text/plain": [
       "<Figure size 432x288 with 1 Axes>"
      ]
     },
     "metadata": {
      "needs_background": "light"
     },
     "output_type": "display_data"
    }
   ],
   "source": [
    "plt.hist(lr_residuals);"
   ]
  },
  {
   "cell_type": "markdown",
   "metadata": {},
   "source": [
    "# Coefficients and Intercept"
   ]
  },
  {
   "cell_type": "code",
   "execution_count": 38,
   "metadata": {},
   "outputs": [
    {
     "data": {
      "text/plain": [
       "array([[ 0.36781186, -0.03127948,  0.21418276, -0.02529873,  0.31913571,\n",
       "         0.06901341,  0.39541018,  0.04307817,  0.25324084,  0.01384562,\n",
       "         0.21139598]])"
      ]
     },
     "execution_count": 38,
     "metadata": {},
     "output_type": "execute_result"
    }
   ],
   "source": [
    "lr_coef = lr_model.coef_\n",
    "lr_coef"
   ]
  },
  {
   "cell_type": "code",
   "execution_count": 39,
   "metadata": {},
   "outputs": [
    {
     "data": {
      "text/html": [
       "<div>\n",
       "<style scoped>\n",
       "    .dataframe tbody tr th:only-of-type {\n",
       "        vertical-align: middle;\n",
       "    }\n",
       "\n",
       "    .dataframe tbody tr th {\n",
       "        vertical-align: top;\n",
       "    }\n",
       "\n",
       "    .dataframe thead th {\n",
       "        text-align: right;\n",
       "    }\n",
       "</style>\n",
       "<table border=\"1\" class=\"dataframe\">\n",
       "  <thead>\n",
       "    <tr style=\"text-align: right;\">\n",
       "      <th></th>\n",
       "      <th>feature</th>\n",
       "      <th>coef</th>\n",
       "    </tr>\n",
       "  </thead>\n",
       "  <tbody>\n",
       "  </tbody>\n",
       "</table>\n",
       "</div>"
      ],
      "text/plain": [
       "Empty DataFrame\n",
       "Columns: [feature, coef]\n",
       "Index: []"
      ]
     },
     "execution_count": 39,
     "metadata": {},
     "output_type": "execute_result"
    }
   ],
   "source": [
    "coef_df = pd.DataFrame({'feature': X.columns,\n",
    "              'coef': lr_coef[0]})\n",
    "\n",
    "coef_df[(coef_df['coef'] == 0)].sort_values('coef')\n",
    "# coef_df['unitized'] = coef_df['coef'] * "
   ]
  },
  {
   "cell_type": "code",
   "execution_count": 40,
   "metadata": {},
   "outputs": [
    {
     "data": {
      "text/html": [
       "<div>\n",
       "<style scoped>\n",
       "    .dataframe tbody tr th:only-of-type {\n",
       "        vertical-align: middle;\n",
       "    }\n",
       "\n",
       "    .dataframe tbody tr th {\n",
       "        vertical-align: top;\n",
       "    }\n",
       "\n",
       "    .dataframe thead th {\n",
       "        text-align: right;\n",
       "    }\n",
       "</style>\n",
       "<table border=\"1\" class=\"dataframe\">\n",
       "  <thead>\n",
       "    <tr style=\"text-align: right;\">\n",
       "      <th></th>\n",
       "      <th>feature</th>\n",
       "      <th>coef</th>\n",
       "    </tr>\n",
       "  </thead>\n",
       "  <tbody>\n",
       "    <tr>\n",
       "      <th>1</th>\n",
       "      <td>bsmt_full_bath</td>\n",
       "      <td>-0.031279</td>\n",
       "    </tr>\n",
       "    <tr>\n",
       "      <th>3</th>\n",
       "      <td>bsmt_half_bath</td>\n",
       "      <td>-0.025299</td>\n",
       "    </tr>\n",
       "    <tr>\n",
       "      <th>9</th>\n",
       "      <td>garage_type_CarPort</td>\n",
       "      <td>0.013846</td>\n",
       "    </tr>\n",
       "    <tr>\n",
       "      <th>7</th>\n",
       "      <td>garage_type_Basment</td>\n",
       "      <td>0.043078</td>\n",
       "    </tr>\n",
       "    <tr>\n",
       "      <th>5</th>\n",
       "      <td>garage_type_2Types</td>\n",
       "      <td>0.069013</td>\n",
       "    </tr>\n",
       "    <tr>\n",
       "      <th>10</th>\n",
       "      <td>garage_type_Detchd</td>\n",
       "      <td>0.211396</td>\n",
       "    </tr>\n",
       "    <tr>\n",
       "      <th>2</th>\n",
       "      <td>bsmt_finished</td>\n",
       "      <td>0.214183</td>\n",
       "    </tr>\n",
       "    <tr>\n",
       "      <th>8</th>\n",
       "      <td>garage_type_BuiltIn</td>\n",
       "      <td>0.253241</td>\n",
       "    </tr>\n",
       "    <tr>\n",
       "      <th>4</th>\n",
       "      <td>bsmt_qual</td>\n",
       "      <td>0.319136</td>\n",
       "    </tr>\n",
       "    <tr>\n",
       "      <th>0</th>\n",
       "      <td>kitchen_qual</td>\n",
       "      <td>0.367812</td>\n",
       "    </tr>\n",
       "    <tr>\n",
       "      <th>6</th>\n",
       "      <td>garage_type_Attchd</td>\n",
       "      <td>0.395410</td>\n",
       "    </tr>\n",
       "  </tbody>\n",
       "</table>\n",
       "</div>"
      ],
      "text/plain": [
       "                feature      coef\n",
       "1        bsmt_full_bath -0.031279\n",
       "3        bsmt_half_bath -0.025299\n",
       "9   garage_type_CarPort  0.013846\n",
       "7   garage_type_Basment  0.043078\n",
       "5    garage_type_2Types  0.069013\n",
       "10   garage_type_Detchd  0.211396\n",
       "2         bsmt_finished  0.214183\n",
       "8   garage_type_BuiltIn  0.253241\n",
       "4             bsmt_qual  0.319136\n",
       "0          kitchen_qual  0.367812\n",
       "6    garage_type_Attchd  0.395410"
      ]
     },
     "execution_count": 40,
     "metadata": {},
     "output_type": "execute_result"
    }
   ],
   "source": [
    "coef_df[(coef_df['coef'] > 0.005) | \n",
    "        (coef_df['coef'] < -.005)].sort_values('coef')\n"
   ]
  },
  {
   "cell_type": "markdown",
   "metadata": {},
   "source": [
    "**Summary**\n",
    "\n",
    "Using Scaled and Transformed features gives us coefficients which are uninterpretable to the target audience, so we will use a model that does not scale. Please see: LR - Renovations Not Scaled. "
   ]
  }
 ],
 "metadata": {
  "kernelspec": {
   "display_name": "Python 3",
   "language": "python",
   "name": "python3"
  },
  "language_info": {
   "codemirror_mode": {
    "name": "ipython",
    "version": 3
   },
   "file_extension": ".py",
   "mimetype": "text/x-python",
   "name": "python",
   "nbconvert_exporter": "python",
   "pygments_lexer": "ipython3",
   "version": "3.8.5"
  }
 },
 "nbformat": 4,
 "nbformat_minor": 4
}
