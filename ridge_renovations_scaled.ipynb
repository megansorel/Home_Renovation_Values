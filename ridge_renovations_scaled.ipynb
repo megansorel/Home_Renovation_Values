{
 "cells": [
  {
   "cell_type": "markdown",
   "metadata": {},
   "source": [
    "# Modeling with Ridge\n",
    "\n",
    "This workbook was to see how Ridge affected the coefficients of target features compared to Linear Regression."
   ]
  },
  {
   "cell_type": "code",
   "execution_count": 1,
   "metadata": {},
   "outputs": [],
   "source": [
    "import pandas as pd\n",
    "import numpy as np\n",
    "import seaborn as sns\n",
    "import matplotlib.pyplot as plt\n",
    "from sklearn.linear_model import RidgeCV\n",
    "from sklearn.preprocessing import PolynomialFeatures, StandardScaler\n",
    "from sklearn.model_selection import train_test_split, cross_val_score, cross_val_predict\n",
    "from sklearn.metrics import r2_score, mean_absolute_error\n",
    "from sklearn.metrics import mean_squared_error, median_absolute_error\n",
    "import os\n",
    "from sklearn.linear_model import Lasso\n",
    "from sklearn.preprocessing import PolynomialFeatures, PowerTransformer"
   ]
  },
  {
   "cell_type": "code",
   "execution_count": 2,
   "metadata": {},
   "outputs": [],
   "source": [
    "# use absolute path to retrieve datasets\n",
    "\n",
    "train = pd.read_csv(os.path.abspath('./datasets/cleaned_train.csv'))\n",
    "# sample = pd.read_csv(os.path.abspath('./datasets/sample_sub_reg.csv'))"
   ]
  },
  {
   "cell_type": "markdown",
   "metadata": {},
   "source": [
    "[source for absolute path](https://stackoverflow.com/questions/51520/how-to-get-an-absolute-file-path-in-python)"
   ]
  },
  {
   "cell_type": "code",
   "execution_count": 3,
   "metadata": {},
   "outputs": [
    {
     "data": {
      "text/html": [
       "<div>\n",
       "<style scoped>\n",
       "    .dataframe tbody tr th:only-of-type {\n",
       "        vertical-align: middle;\n",
       "    }\n",
       "\n",
       "    .dataframe tbody tr th {\n",
       "        vertical-align: top;\n",
       "    }\n",
       "\n",
       "    .dataframe thead th {\n",
       "        text-align: right;\n",
       "    }\n",
       "</style>\n",
       "<table border=\"1\" class=\"dataframe\">\n",
       "  <thead>\n",
       "    <tr style=\"text-align: right;\">\n",
       "      <th></th>\n",
       "      <th>id</th>\n",
       "      <th>ms_subclass</th>\n",
       "      <th>ms_zoning</th>\n",
       "      <th>lot_frontage</th>\n",
       "      <th>lot_area</th>\n",
       "      <th>street</th>\n",
       "      <th>lot_shape</th>\n",
       "      <th>land_contour</th>\n",
       "      <th>utilities</th>\n",
       "      <th>lot_config</th>\n",
       "      <th>...</th>\n",
       "      <th>total_baths</th>\n",
       "      <th>bsmt_finished</th>\n",
       "      <th>size_n_qual</th>\n",
       "      <th>bed_n_bath</th>\n",
       "      <th>fin_bsmt_fin_qual</th>\n",
       "      <th>bsmt_fin_n_ceiling</th>\n",
       "      <th>bsmt_finished_with_bath</th>\n",
       "      <th>bsmt_finished_with_halfbath</th>\n",
       "      <th>bsmt_size_fin_sf</th>\n",
       "      <th>overall_qual_cond</th>\n",
       "    </tr>\n",
       "  </thead>\n",
       "  <tbody>\n",
       "    <tr>\n",
       "      <th>0</th>\n",
       "      <td>109</td>\n",
       "      <td>60</td>\n",
       "      <td>RL</td>\n",
       "      <td>77.504886</td>\n",
       "      <td>13517</td>\n",
       "      <td>2</td>\n",
       "      <td>3</td>\n",
       "      <td>4</td>\n",
       "      <td>4</td>\n",
       "      <td>CulDSac</td>\n",
       "      <td>...</td>\n",
       "      <td>3.0</td>\n",
       "      <td>533.0</td>\n",
       "      <td>8874</td>\n",
       "      <td>9.0</td>\n",
       "      <td>2665.0</td>\n",
       "      <td>533.0</td>\n",
       "      <td>0.0</td>\n",
       "      <td>0.0</td>\n",
       "      <td>386425.0</td>\n",
       "      <td>48</td>\n",
       "    </tr>\n",
       "    <tr>\n",
       "      <th>1</th>\n",
       "      <td>544</td>\n",
       "      <td>60</td>\n",
       "      <td>RL</td>\n",
       "      <td>43.000000</td>\n",
       "      <td>11492</td>\n",
       "      <td>2</td>\n",
       "      <td>3</td>\n",
       "      <td>4</td>\n",
       "      <td>4</td>\n",
       "      <td>CulDSac</td>\n",
       "      <td>...</td>\n",
       "      <td>4.0</td>\n",
       "      <td>637.0</td>\n",
       "      <td>14854</td>\n",
       "      <td>16.0</td>\n",
       "      <td>3185.0</td>\n",
       "      <td>1274.0</td>\n",
       "      <td>637.0</td>\n",
       "      <td>0.0</td>\n",
       "      <td>581581.0</td>\n",
       "      <td>35</td>\n",
       "    </tr>\n",
       "    <tr>\n",
       "      <th>2</th>\n",
       "      <td>153</td>\n",
       "      <td>20</td>\n",
       "      <td>RL</td>\n",
       "      <td>68.000000</td>\n",
       "      <td>7922</td>\n",
       "      <td>2</td>\n",
       "      <td>4</td>\n",
       "      <td>4</td>\n",
       "      <td>4</td>\n",
       "      <td>Inside</td>\n",
       "      <td>...</td>\n",
       "      <td>2.0</td>\n",
       "      <td>731.0</td>\n",
       "      <td>5285</td>\n",
       "      <td>6.0</td>\n",
       "      <td>3655.0</td>\n",
       "      <td>731.0</td>\n",
       "      <td>731.0</td>\n",
       "      <td>0.0</td>\n",
       "      <td>772667.0</td>\n",
       "      <td>35</td>\n",
       "    </tr>\n",
       "    <tr>\n",
       "      <th>3</th>\n",
       "      <td>318</td>\n",
       "      <td>60</td>\n",
       "      <td>RL</td>\n",
       "      <td>73.000000</td>\n",
       "      <td>9802</td>\n",
       "      <td>2</td>\n",
       "      <td>4</td>\n",
       "      <td>4</td>\n",
       "      <td>4</td>\n",
       "      <td>Inside</td>\n",
       "      <td>...</td>\n",
       "      <td>3.0</td>\n",
       "      <td>0.0</td>\n",
       "      <td>7220</td>\n",
       "      <td>9.0</td>\n",
       "      <td>0.0</td>\n",
       "      <td>0.0</td>\n",
       "      <td>0.0</td>\n",
       "      <td>0.0</td>\n",
       "      <td>0.0</td>\n",
       "      <td>25</td>\n",
       "    </tr>\n",
       "    <tr>\n",
       "      <th>4</th>\n",
       "      <td>255</td>\n",
       "      <td>50</td>\n",
       "      <td>RL</td>\n",
       "      <td>82.000000</td>\n",
       "      <td>14235</td>\n",
       "      <td>2</td>\n",
       "      <td>3</td>\n",
       "      <td>4</td>\n",
       "      <td>4</td>\n",
       "      <td>Inside</td>\n",
       "      <td>...</td>\n",
       "      <td>2.0</td>\n",
       "      <td>0.0</td>\n",
       "      <td>8670</td>\n",
       "      <td>6.0</td>\n",
       "      <td>0.0</td>\n",
       "      <td>0.0</td>\n",
       "      <td>0.0</td>\n",
       "      <td>0.0</td>\n",
       "      <td>0.0</td>\n",
       "      <td>48</td>\n",
       "    </tr>\n",
       "  </tbody>\n",
       "</table>\n",
       "<p>5 rows × 81 columns</p>\n",
       "</div>"
      ],
      "text/plain": [
       "    id  ms_subclass ms_zoning  lot_frontage  lot_area  street  lot_shape  \\\n",
       "0  109           60        RL     77.504886     13517       2          3   \n",
       "1  544           60        RL     43.000000     11492       2          3   \n",
       "2  153           20        RL     68.000000      7922       2          4   \n",
       "3  318           60        RL     73.000000      9802       2          4   \n",
       "4  255           50        RL     82.000000     14235       2          3   \n",
       "\n",
       "   land_contour  utilities lot_config  ...  total_baths bsmt_finished  \\\n",
       "0             4          4    CulDSac  ...          3.0         533.0   \n",
       "1             4          4    CulDSac  ...          4.0         637.0   \n",
       "2             4          4     Inside  ...          2.0         731.0   \n",
       "3             4          4     Inside  ...          3.0           0.0   \n",
       "4             4          4     Inside  ...          2.0           0.0   \n",
       "\n",
       "  size_n_qual bed_n_bath fin_bsmt_fin_qual bsmt_fin_n_ceiling  \\\n",
       "0        8874        9.0            2665.0              533.0   \n",
       "1       14854       16.0            3185.0             1274.0   \n",
       "2        5285        6.0            3655.0              731.0   \n",
       "3        7220        9.0               0.0                0.0   \n",
       "4        8670        6.0               0.0                0.0   \n",
       "\n",
       "   bsmt_finished_with_bath  bsmt_finished_with_halfbath  bsmt_size_fin_sf  \\\n",
       "0                      0.0                          0.0          386425.0   \n",
       "1                    637.0                          0.0          581581.0   \n",
       "2                    731.0                          0.0          772667.0   \n",
       "3                      0.0                          0.0               0.0   \n",
       "4                      0.0                          0.0               0.0   \n",
       "\n",
       "   overall_qual_cond  \n",
       "0                 48  \n",
       "1                 35  \n",
       "2                 35  \n",
       "3                 25  \n",
       "4                 48  \n",
       "\n",
       "[5 rows x 81 columns]"
      ]
     },
     "execution_count": 3,
     "metadata": {},
     "output_type": "execute_result"
    }
   ],
   "source": [
    "train.head()"
   ]
  },
  {
   "cell_type": "code",
   "execution_count": 4,
   "metadata": {},
   "outputs": [
    {
     "data": {
      "text/plain": [
       "Index(['id', 'ms_subclass', 'ms_zoning', 'lot_frontage', 'lot_area', 'street',\n",
       "       'lot_shape', 'land_contour', 'utilities', 'lot_config', 'land_slope',\n",
       "       'neighborhood', 'condition_1', 'condition_2', 'bldg_type',\n",
       "       'house_style', 'overall_qual', 'overall_cond', 'year_built',\n",
       "       'year_remod/add', 'roof_style', 'roof_matl', 'exterior_1st',\n",
       "       'exterior_2nd', 'mas_vnr_type', 'mas_vnr_area', 'exter_qual',\n",
       "       'foundation', 'bsmt_qual', 'bsmt_cond', 'bsmt_exposure',\n",
       "       'bsmtfin_type_1', 'bsmtfin_sf_1', 'bsmtfin_type_2', 'bsmtfin_sf_2',\n",
       "       'bsmt_unf_sf', 'total_bsmt_sf', 'heating', 'heating_qc', 'central_air',\n",
       "       'electrical', '1st_flr_sf', '2nd_flr_sf', 'low_qual_fin_sf',\n",
       "       'gr_liv_area', 'bsmt_full_bath', 'bsmt_half_bath', 'full_bath',\n",
       "       'half_bath', 'bedroom_abvgr', 'kitchen_abvgr', 'kitchen_qual',\n",
       "       'totrms_abvgrd', 'functional', 'fireplaces', 'fireplace_qu',\n",
       "       'garage_type', 'garage_yr_blt', 'garage_finish', 'garage_cars',\n",
       "       'garage_qual', 'paved_drive', 'wood_deck_sf', 'open_porch_sf',\n",
       "       'enclosed_porch', '3ssn_porch', 'screen_porch', 'mo_sold', 'yr_sold',\n",
       "       'sale_type', 'saleprice', 'total_baths', 'bsmt_finished', 'size_n_qual',\n",
       "       'bed_n_bath', 'fin_bsmt_fin_qual', 'bsmt_fin_n_ceiling',\n",
       "       'bsmt_finished_with_bath', 'bsmt_finished_with_halfbath',\n",
       "       'bsmt_size_fin_sf', 'overall_qual_cond'],\n",
       "      dtype='object')"
      ]
     },
     "execution_count": 4,
     "metadata": {},
     "output_type": "execute_result"
    }
   ],
   "source": [
    "train.columns"
   ]
  },
  {
   "cell_type": "code",
   "execution_count": 5,
   "metadata": {},
   "outputs": [],
   "source": [
    "drop_lst = []\n",
    "drop_lst.extend(['pool_area',  #not applicable to most homes\n",
    "                'enclosed_porch',\n",
    "                '3ssn_porch',\n",
    "                'screen_porch',\n",
    "                'garage_yr_blt',\n",
    "                'bsmt_half_bath',\n",
    "                'functional',\n",
    "               'low_qual_fin_sf',\n",
    "                'garage_qual',\n",
    "                'paved_drive', \n",
    "                'central_air',\n",
    "                'bsmtfin_sf_2',\n",
    "                'kitchen_abvgr',\n",
    "               'utilities',\n",
    "               'land_slope', \n",
    "               'lot_area',\n",
    "               'street',\n",
    "               'land_slope', \n",
    "                'yr_sold',\n",
    "                'bsmtfin_type_2',\n",
    "                 'bsmtfin_sf_2',\n",
    "                'exterior_2nd',\n",
    "                'heating',\n",
    "                'electrical','condition_1', \n",
    "                 'condition_2']) "
   ]
  },
  {
   "cell_type": "code",
   "execution_count": 6,
   "metadata": {},
   "outputs": [],
   "source": [
    "best_lasso_features = ['lot_area',\n",
    " 'bsmt_fin_n_ceiling',\n",
    " 'functional',\n",
    " 'total_bsmt_sf',\n",
    " 'overall_cond',\n",
    " 'year_built',\n",
    " 'overall_qual',\n",
    " 'gr_liv_area']"
   ]
  },
  {
   "cell_type": "code",
   "execution_count": 7,
   "metadata": {},
   "outputs": [
    {
     "data": {
      "text/plain": [
       "Index(['id', 'ms_subclass', 'ms_zoning', 'lot_frontage', 'lot_area', 'street',\n",
       "       'lot_shape', 'land_contour', 'utilities', 'lot_config', 'land_slope',\n",
       "       'neighborhood', 'condition_1', 'condition_2', 'bldg_type',\n",
       "       'house_style', 'overall_qual', 'overall_cond', 'year_built',\n",
       "       'year_remod/add', 'roof_style', 'roof_matl', 'exterior_1st',\n",
       "       'exterior_2nd', 'mas_vnr_type', 'mas_vnr_area', 'exter_qual',\n",
       "       'foundation', 'bsmt_qual', 'bsmt_cond', 'bsmt_exposure',\n",
       "       'bsmtfin_type_1', 'bsmtfin_sf_1', 'bsmtfin_type_2', 'bsmtfin_sf_2',\n",
       "       'bsmt_unf_sf', 'total_bsmt_sf', 'heating', 'heating_qc', 'central_air',\n",
       "       'electrical', '1st_flr_sf', '2nd_flr_sf', 'low_qual_fin_sf',\n",
       "       'gr_liv_area', 'bsmt_full_bath', 'bsmt_half_bath', 'full_bath',\n",
       "       'half_bath', 'bedroom_abvgr', 'kitchen_abvgr', 'kitchen_qual',\n",
       "       'totrms_abvgrd', 'functional', 'fireplaces', 'fireplace_qu',\n",
       "       'garage_type', 'garage_yr_blt', 'garage_finish', 'garage_cars',\n",
       "       'garage_qual', 'paved_drive', 'wood_deck_sf', 'open_porch_sf',\n",
       "       'enclosed_porch', '3ssn_porch', 'screen_porch', 'mo_sold', 'yr_sold',\n",
       "       'sale_type', 'saleprice', 'total_baths', 'bsmt_finished', 'size_n_qual',\n",
       "       'bed_n_bath', 'fin_bsmt_fin_qual', 'bsmt_fin_n_ceiling',\n",
       "       'bsmt_finished_with_bath', 'bsmt_finished_with_halfbath',\n",
       "       'bsmt_size_fin_sf', 'overall_qual_cond'],\n",
       "      dtype='object')"
      ]
     },
     "execution_count": 7,
     "metadata": {},
     "output_type": "execute_result"
    }
   ],
   "source": [
    "train.columns"
   ]
  },
  {
   "cell_type": "code",
   "execution_count": 8,
   "metadata": {},
   "outputs": [],
   "source": [
    "focus_features = ['kitchen_qual',\n",
    "                 'garage_type', 'bsmt_full_bath',\n",
    "                  'bsmt_half_bath',\n",
    "                 'bsmt_finished',\n",
    "                 'bsmt_qual',\n",
    "                 'bsmt_half_bath']"
   ]
  },
  {
   "cell_type": "code",
   "execution_count": 9,
   "metadata": {},
   "outputs": [
    {
     "data": {
      "text/plain": [
       "{'bsmt_finished',\n",
       " 'bsmt_full_bath',\n",
       " 'bsmt_half_bath',\n",
       " 'bsmt_qual',\n",
       " 'garage_type',\n",
       " 'kitchen_qual'}"
      ]
     },
     "execution_count": 9,
     "metadata": {},
     "output_type": "execute_result"
    }
   ],
   "source": [
    "set(focus_features)"
   ]
  },
  {
   "cell_type": "markdown",
   "metadata": {},
   "source": [
    "# Baseline"
   ]
  },
  {
   "cell_type": "code",
   "execution_count": 10,
   "metadata": {},
   "outputs": [
    {
     "data": {
      "text/plain": [
       "0.0"
      ]
     },
     "execution_count": 10,
     "metadata": {},
     "output_type": "execute_result"
    }
   ],
   "source": [
    "# perserving baseline from first model attempt\n",
    "baseline = train['saleprice'].mean()\n",
    "baseline_list = [baseline for i in range(2049)]\n",
    "baseline_score = r2_score(train['saleprice'], baseline_list)\n",
    "baseline_score"
   ]
  },
  {
   "cell_type": "markdown",
   "metadata": {},
   "source": [
    "# Prepping for the model"
   ]
  },
  {
   "cell_type": "code",
   "execution_count": 11,
   "metadata": {},
   "outputs": [
    {
     "data": {
      "text/plain": [
       "Index(['id', 'ms_subclass', 'ms_zoning', 'lot_frontage', 'lot_area', 'street',\n",
       "       'lot_shape', 'land_contour', 'utilities', 'lot_config', 'land_slope',\n",
       "       'neighborhood', 'condition_1', 'condition_2', 'bldg_type',\n",
       "       'house_style', 'overall_qual', 'overall_cond', 'year_built',\n",
       "       'year_remod/add', 'roof_style', 'roof_matl', 'exterior_1st',\n",
       "       'exterior_2nd', 'mas_vnr_type', 'mas_vnr_area', 'exter_qual',\n",
       "       'foundation', 'bsmt_qual', 'bsmt_cond', 'bsmt_exposure',\n",
       "       'bsmtfin_type_1', 'bsmtfin_sf_1', 'bsmtfin_type_2', 'bsmtfin_sf_2',\n",
       "       'bsmt_unf_sf', 'total_bsmt_sf', 'heating', 'heating_qc', 'central_air',\n",
       "       'electrical', '1st_flr_sf', '2nd_flr_sf', 'low_qual_fin_sf',\n",
       "       'gr_liv_area', 'bsmt_full_bath', 'bsmt_half_bath', 'full_bath',\n",
       "       'half_bath', 'bedroom_abvgr', 'kitchen_abvgr', 'kitchen_qual',\n",
       "       'totrms_abvgrd', 'functional', 'fireplaces', 'fireplace_qu',\n",
       "       'garage_type', 'garage_yr_blt', 'garage_finish', 'garage_cars',\n",
       "       'garage_qual', 'paved_drive', 'wood_deck_sf', 'open_porch_sf',\n",
       "       'enclosed_porch', '3ssn_porch', 'screen_porch', 'mo_sold', 'yr_sold',\n",
       "       'sale_type', 'saleprice', 'total_baths', 'bsmt_finished', 'size_n_qual',\n",
       "       'bed_n_bath', 'fin_bsmt_fin_qual', 'bsmt_fin_n_ceiling',\n",
       "       'bsmt_finished_with_bath', 'bsmt_finished_with_halfbath',\n",
       "       'bsmt_size_fin_sf', 'overall_qual_cond'],\n",
       "      dtype='object')"
      ]
     },
     "execution_count": 11,
     "metadata": {},
     "output_type": "execute_result"
    }
   ],
   "source": [
    "train.columns"
   ]
  },
  {
   "cell_type": "code",
   "execution_count": 12,
   "metadata": {},
   "outputs": [],
   "source": [
    "# making list of training feature names\n",
    "\n",
    "features = set([c for c in focus_features if \n",
    "            (c != 'saleprice') & (c != 'id') & (c not in drop_lst)])\n",
    "\n",
    "y = train['saleprice']"
   ]
  },
  {
   "cell_type": "code",
   "execution_count": 13,
   "metadata": {},
   "outputs": [],
   "source": [
    "X = train[features]\n",
    "X = pd.get_dummies(X, columns = ['garage_type'], drop_first=True)\n",
    "y = train['saleprice']"
   ]
  },
  {
   "cell_type": "code",
   "execution_count": 14,
   "metadata": {},
   "outputs": [
    {
     "data": {
      "text/html": [
       "<div>\n",
       "<style scoped>\n",
       "    .dataframe tbody tr th:only-of-type {\n",
       "        vertical-align: middle;\n",
       "    }\n",
       "\n",
       "    .dataframe tbody tr th {\n",
       "        vertical-align: top;\n",
       "    }\n",
       "\n",
       "    .dataframe thead th {\n",
       "        text-align: right;\n",
       "    }\n",
       "</style>\n",
       "<table border=\"1\" class=\"dataframe\">\n",
       "  <thead>\n",
       "    <tr style=\"text-align: right;\">\n",
       "      <th></th>\n",
       "      <th>bsmt_finished</th>\n",
       "      <th>bsmt_qual</th>\n",
       "      <th>kitchen_qual</th>\n",
       "      <th>bsmt_full_bath</th>\n",
       "      <th>garage_type_2Types</th>\n",
       "      <th>garage_type_Attchd</th>\n",
       "      <th>garage_type_Basment</th>\n",
       "      <th>garage_type_BuiltIn</th>\n",
       "      <th>garage_type_CarPort</th>\n",
       "      <th>garage_type_Detchd</th>\n",
       "    </tr>\n",
       "  </thead>\n",
       "  <tbody>\n",
       "    <tr>\n",
       "      <th>0</th>\n",
       "      <td>533.0</td>\n",
       "      <td>1</td>\n",
       "      <td>2</td>\n",
       "      <td>0.0</td>\n",
       "      <td>0</td>\n",
       "      <td>1</td>\n",
       "      <td>0</td>\n",
       "      <td>0</td>\n",
       "      <td>0</td>\n",
       "      <td>0</td>\n",
       "    </tr>\n",
       "    <tr>\n",
       "      <th>1</th>\n",
       "      <td>637.0</td>\n",
       "      <td>2</td>\n",
       "      <td>2</td>\n",
       "      <td>1.0</td>\n",
       "      <td>0</td>\n",
       "      <td>1</td>\n",
       "      <td>0</td>\n",
       "      <td>0</td>\n",
       "      <td>0</td>\n",
       "      <td>0</td>\n",
       "    </tr>\n",
       "    <tr>\n",
       "      <th>2</th>\n",
       "      <td>731.0</td>\n",
       "      <td>1</td>\n",
       "      <td>2</td>\n",
       "      <td>1.0</td>\n",
       "      <td>0</td>\n",
       "      <td>0</td>\n",
       "      <td>0</td>\n",
       "      <td>0</td>\n",
       "      <td>0</td>\n",
       "      <td>1</td>\n",
       "    </tr>\n",
       "    <tr>\n",
       "      <th>3</th>\n",
       "      <td>0.0</td>\n",
       "      <td>2</td>\n",
       "      <td>1</td>\n",
       "      <td>0.0</td>\n",
       "      <td>0</td>\n",
       "      <td>0</td>\n",
       "      <td>0</td>\n",
       "      <td>1</td>\n",
       "      <td>0</td>\n",
       "      <td>0</td>\n",
       "    </tr>\n",
       "    <tr>\n",
       "      <th>4</th>\n",
       "      <td>0.0</td>\n",
       "      <td>0</td>\n",
       "      <td>1</td>\n",
       "      <td>0.0</td>\n",
       "      <td>0</td>\n",
       "      <td>0</td>\n",
       "      <td>0</td>\n",
       "      <td>0</td>\n",
       "      <td>0</td>\n",
       "      <td>1</td>\n",
       "    </tr>\n",
       "  </tbody>\n",
       "</table>\n",
       "</div>"
      ],
      "text/plain": [
       "   bsmt_finished  bsmt_qual  kitchen_qual  bsmt_full_bath  garage_type_2Types  \\\n",
       "0          533.0          1             2             0.0                   0   \n",
       "1          637.0          2             2             1.0                   0   \n",
       "2          731.0          1             2             1.0                   0   \n",
       "3            0.0          2             1             0.0                   0   \n",
       "4            0.0          0             1             0.0                   0   \n",
       "\n",
       "   garage_type_Attchd  garage_type_Basment  garage_type_BuiltIn  \\\n",
       "0                   1                    0                    0   \n",
       "1                   1                    0                    0   \n",
       "2                   0                    0                    0   \n",
       "3                   0                    0                    1   \n",
       "4                   0                    0                    0   \n",
       "\n",
       "   garage_type_CarPort  garage_type_Detchd  \n",
       "0                    0                   0  \n",
       "1                    0                   0  \n",
       "2                    0                   1  \n",
       "3                    0                   0  \n",
       "4                    0                   1  "
      ]
     },
     "execution_count": 14,
     "metadata": {},
     "output_type": "execute_result"
    }
   ],
   "source": [
    "X.head()"
   ]
  },
  {
   "cell_type": "markdown",
   "metadata": {},
   "source": [
    "## Train Test Split"
   ]
  },
  {
   "cell_type": "code",
   "execution_count": 15,
   "metadata": {},
   "outputs": [],
   "source": [
    "# finding missing columns in test vs train data\n",
    "def find_missing_test_columns(train, test):\n",
    "    return [col for col in train.columns if col not in test.columns]"
   ]
  },
  {
   "cell_type": "code",
   "execution_count": 16,
   "metadata": {},
   "outputs": [],
   "source": [
    "# train test split\n",
    "\n",
    "X_train, X_test, y_train, y_test = train_test_split(X, y, random_state=42)"
   ]
  },
  {
   "cell_type": "code",
   "execution_count": 17,
   "metadata": {},
   "outputs": [
    {
     "data": {
      "text/plain": [
       "[]"
      ]
     },
     "execution_count": 17,
     "metadata": {},
     "output_type": "execute_result"
    }
   ],
   "source": [
    "find_missing_test_columns(X_train, X_test)"
   ]
  },
  {
   "cell_type": "markdown",
   "metadata": {},
   "source": [
    "## Scaling"
   ]
  },
  {
   "cell_type": "code",
   "execution_count": 18,
   "metadata": {},
   "outputs": [],
   "source": [
    "# scaling data before fitting\n",
    "\n",
    "ss = StandardScaler()\n",
    "ss.fit(X_train)\n",
    "X_train_sc = ss.transform(X_train)  #or in same line - fit_transform\n",
    "X_test_sc = ss.transform(X_test)"
   ]
  },
  {
   "cell_type": "code",
   "execution_count": 19,
   "metadata": {},
   "outputs": [],
   "source": [
    "# power trainsformer for test and train\n",
    "# pt = PowerTransformer()\n",
    "# pt.fit(X_train)\n",
    "# X_train = pt.transform(X_train)\n",
    "# X_test = pt.transform(X_test)"
   ]
  },
  {
   "cell_type": "code",
   "execution_count": 20,
   "metadata": {},
   "outputs": [],
   "source": [
    "pt_y = PowerTransformer()\n",
    "# PowerTransformer requires a matrix/DataFrame, which is why we're using the .to_frame() method on y_train\n",
    "pt_y.fit(y_train.to_frame()) \n",
    "y_train_pt = pt_y.transform(y_train.to_frame())\n",
    "y_test_pt = pt_y.transform(y_test.to_frame())"
   ]
  },
  {
   "cell_type": "markdown",
   "metadata": {},
   "source": [
    "# Instantiate Models"
   ]
  },
  {
   "cell_type": "code",
   "execution_count": 21,
   "metadata": {},
   "outputs": [],
   "source": [
    "ridge = RidgeCV(alphas=np.linspace(.1, 10, 100))"
   ]
  },
  {
   "cell_type": "markdown",
   "metadata": {},
   "source": [
    "## Cross Validation"
   ]
  },
  {
   "cell_type": "code",
   "execution_count": 22,
   "metadata": {},
   "outputs": [
    {
     "data": {
      "text/plain": [
       "array([0.69971199, 0.67599889, 0.6624075 , 0.7091736 , 0.66701925])"
      ]
     },
     "execution_count": 22,
     "metadata": {},
     "output_type": "execute_result"
    }
   ],
   "source": [
    "# over/underfitting?\n",
    "\n",
    "cross_val_score(ridge, X_train_sc, y_train_pt, cv = 5)"
   ]
  },
  {
   "cell_type": "code",
   "execution_count": 23,
   "metadata": {},
   "outputs": [],
   "source": [
    "baseline_previous = (0.89426015, 0.89282737, 0.85105365, 0.89859521, 0.86169427)"
   ]
  },
  {
   "cell_type": "code",
   "execution_count": 24,
   "metadata": {},
   "outputs": [
    {
     "data": {
      "text/plain": [
       "0.6836354394375638"
      ]
     },
     "execution_count": 24,
     "metadata": {},
     "output_type": "execute_result"
    }
   ],
   "source": [
    "ridge_scores = cross_val_score(ridge, X_train_sc, y_train_pt, cv=3)\n",
    "ridge_scores.mean()"
   ]
  },
  {
   "cell_type": "markdown",
   "metadata": {},
   "source": [
    "# Model Fitting and Evaluation"
   ]
  },
  {
   "cell_type": "code",
   "execution_count": 25,
   "metadata": {},
   "outputs": [],
   "source": [
    "ridge_model = ridge.fit(X_train_sc, y_train_pt)"
   ]
  },
  {
   "cell_type": "code",
   "execution_count": 26,
   "metadata": {},
   "outputs": [
    {
     "name": "stdout",
     "output_type": "stream",
     "text": [
      "ridge Train: 0.6893451254799894\n"
     ]
    }
   ],
   "source": [
    "ridge_score = ridge_model.score(X_train_sc, y_train_pt)\n",
    "print(f'ridge Train: {ridge_score}')"
   ]
  },
  {
   "cell_type": "code",
   "execution_count": 27,
   "metadata": {},
   "outputs": [
    {
     "name": "stdout",
     "output_type": "stream",
     "text": [
      "ridge Test: 0.6575635092978017\n"
     ]
    }
   ],
   "source": [
    "ridge_test_score = ridge_model.score(X_test_sc, y_test_pt)\n",
    "print(f'ridge Test: {ridge_test_score}')"
   ]
  },
  {
   "cell_type": "code",
   "execution_count": 28,
   "metadata": {},
   "outputs": [],
   "source": [
    "ridge_pred = ridge_model.predict(X_test_sc)"
   ]
  },
  {
   "cell_type": "code",
   "execution_count": 29,
   "metadata": {},
   "outputs": [],
   "source": [
    "# reversing power transformer on y\n",
    "pred_unpower = pt_y.inverse_transform(ridge_pred.reshape(-1,1))"
   ]
  },
  {
   "cell_type": "code",
   "execution_count": 30,
   "metadata": {},
   "outputs": [
    {
     "data": {
      "text/plain": [
       "(513, 1)"
      ]
     },
     "execution_count": 30,
     "metadata": {},
     "output_type": "execute_result"
    }
   ],
   "source": [
    "pred_unpower.shape"
   ]
  },
  {
   "cell_type": "code",
   "execution_count": 31,
   "metadata": {},
   "outputs": [
    {
     "data": {
      "text/plain": [
       "array([[150326.59047117],\n",
       "       [240221.13146876],\n",
       "       [121041.74472785],\n",
       "       [114243.39988523],\n",
       "       [114243.39988523],\n",
       "       [232079.21470124],\n",
       "       [142176.91691686],\n",
       "       [130878.08960174],\n",
       "       [208819.28394774],\n",
       "       [185651.02045754],\n",
       "       [218656.39749601],\n",
       "       [294016.22669436],\n",
       "       [111129.33820297],\n",
       "       [120200.3996277 ],\n",
       "       [245645.33013534],\n",
       "       [ 86211.95521941],\n",
       "       [178577.02657174],\n",
       "       [197539.9304617 ],\n",
       "       [109176.77391271],\n",
       "       [229628.70601383],\n",
       "       [187303.66055403],\n",
       "       [ 95149.51139059],\n",
       "       [114243.39988523],\n",
       "       [211455.19601184],\n",
       "       [166675.89766027],\n",
       "       [182474.7790298 ],\n",
       "       [ 75670.16268503],\n",
       "       [169545.0479077 ],\n",
       "       [197279.67928862],\n",
       "       [128665.60634716],\n",
       "       [147251.51271247],\n",
       "       [226126.67862118],\n",
       "       [130878.08960174],\n",
       "       [241622.0422192 ],\n",
       "       [112360.30219128],\n",
       "       [216269.16908297],\n",
       "       [234237.43346926],\n",
       "       [ 93732.76856214],\n",
       "       [ 93732.76856214],\n",
       "       [145866.35243757],\n",
       "       [143418.7593995 ],\n",
       "       [172851.70011557],\n",
       "       [120998.49731168],\n",
       "       [167799.73677166],\n",
       "       [221890.8441289 ],\n",
       "       [114243.39988523],\n",
       "       [156569.02580697],\n",
       "       [160259.25152201],\n",
       "       [ 93732.76856214],\n",
       "       [149865.52771979],\n",
       "       [122025.51058849],\n",
       "       [114243.39988523],\n",
       "       [144941.89834879],\n",
       "       [ 95149.51139059],\n",
       "       [114243.39988523],\n",
       "       [130878.08960174],\n",
       "       [114243.39988523],\n",
       "       [130878.08960174],\n",
       "       [368661.15952665],\n",
       "       [141608.97983648],\n",
       "       [197258.5907182 ],\n",
       "       [362834.57753508],\n",
       "       [151530.05424164],\n",
       "       [422026.18649882],\n",
       "       [191767.96824027],\n",
       "       [134191.38205374],\n",
       "       [196697.03646328],\n",
       "       [116920.26850458],\n",
       "       [212773.86449073],\n",
       "       [165817.27328636],\n",
       "       [150355.35714667],\n",
       "       [196697.03646328],\n",
       "       [182474.32550062],\n",
       "       [146264.23472615],\n",
       "       [210446.84699085],\n",
       "       [ 93732.76856214],\n",
       "       [216614.18143403],\n",
       "       [167858.47699441],\n",
       "       [147947.95642335],\n",
       "       [164849.23298021],\n",
       "       [356482.16863362],\n",
       "       [177314.64505391],\n",
       "       [147184.99560443],\n",
       "       [201652.84802962],\n",
       "       [124307.91216787],\n",
       "       [213000.33381168],\n",
       "       [143057.38871763],\n",
       "       [196697.03646328],\n",
       "       [264674.92269661],\n",
       "       [197539.9304617 ],\n",
       "       [ 86211.95521941],\n",
       "       [217993.59931372],\n",
       "       [228698.57017878],\n",
       "       [121576.7425661 ],\n",
       "       [152440.10061599],\n",
       "       [145470.95260104],\n",
       "       [103630.86768637],\n",
       "       [279635.6023472 ],\n",
       "       [173505.01833898],\n",
       "       [197399.21365667],\n",
       "       [197258.5907182 ],\n",
       "       [196697.03646328],\n",
       "       [186349.52844516],\n",
       "       [151245.38781163],\n",
       "       [222600.3641243 ],\n",
       "       [148295.838294  ],\n",
       "       [125846.10193631],\n",
       "       [222440.80939074],\n",
       "       [217993.59931372],\n",
       "       [196697.03646328],\n",
       "       [216003.30871707],\n",
       "       [196697.03646328],\n",
       "       [206120.3187232 ],\n",
       "       [114243.39988523],\n",
       "       [147169.86681873],\n",
       "       [119169.26949074],\n",
       "       [154662.2336897 ],\n",
       "       [156569.02580697],\n",
       "       [114243.39988523],\n",
       "       [156569.02580697],\n",
       "       [186366.08445412],\n",
       "       [196697.03646328],\n",
       "       [159431.17114845],\n",
       "       [120410.59842054],\n",
       "       [292983.78022773],\n",
       "       [349632.89359735],\n",
       "       [223386.57761854],\n",
       "       [ 90204.4087485 ],\n",
       "       [115172.98552249],\n",
       "       [113154.20500091],\n",
       "       [348332.30590286],\n",
       "       [122609.60119417],\n",
       "       [154938.1109196 ],\n",
       "       [196697.03646328],\n",
       "       [101589.30850192],\n",
       "       [250380.85827936],\n",
       "       [259304.75120876],\n",
       "       [196697.03646328],\n",
       "       [156569.02580697],\n",
       "       [ 95149.51139059],\n",
       "       [173781.03472072],\n",
       "       [114243.39988523],\n",
       "       [119011.27345357],\n",
       "       [181917.88943839],\n",
       "       [120134.70556992],\n",
       "       [151502.60289251],\n",
       "       [142151.05539233],\n",
       "       [271750.4661765 ],\n",
       "       [122947.76634237],\n",
       "       [362772.39732371],\n",
       "       [188572.57736937],\n",
       "       [144183.35809296],\n",
       "       [151887.34588404],\n",
       "       [205453.01570802],\n",
       "       [225966.97671482],\n",
       "       [179329.03994157],\n",
       "       [138725.17449879],\n",
       "       [156569.02580697],\n",
       "       [196697.03646328],\n",
       "       [144573.65516486],\n",
       "       [172417.43513979],\n",
       "       [ 77885.15744862],\n",
       "       [109176.77391271],\n",
       "       [117747.63280731],\n",
       "       [156569.02580697],\n",
       "       [152274.53663477],\n",
       "       [147812.29495062],\n",
       "       [176906.44013228],\n",
       "       [207894.47868636],\n",
       "       [118485.34062408],\n",
       "       [185520.09398345],\n",
       "       [196697.03646328],\n",
       "       [185769.4710604 ],\n",
       "       [147278.24214617],\n",
       "       [185601.11627793],\n",
       "       [220287.54695067],\n",
       "       [150956.07342996],\n",
       "       [114243.39988523],\n",
       "       [195541.61758215],\n",
       "       [196697.03646328],\n",
       "       [146079.90455624],\n",
       "       [216003.30871707],\n",
       "       [ 97295.50898933],\n",
       "       [196697.03646328],\n",
       "       [102201.74356864],\n",
       "       [176396.28238737],\n",
       "       [188056.16406082],\n",
       "       [158401.38952401],\n",
       "       [152389.08368673],\n",
       "       [124286.37445297],\n",
       "       [217993.59931372],\n",
       "       [217993.59931372],\n",
       "       [127562.96940883],\n",
       "       [323440.61650373],\n",
       "       [196697.03646328],\n",
       "       [130878.08960174],\n",
       "       [184195.42228692],\n",
       "       [130778.07084404],\n",
       "       [217993.59931372],\n",
       "       [156569.02580697],\n",
       "       [ 93732.76856214],\n",
       "       [120333.07268278],\n",
       "       [130658.53725009],\n",
       "       [323440.61650373],\n",
       "       [114243.39988523],\n",
       "       [188503.33074047],\n",
       "       [232069.57370922],\n",
       "       [114243.39988523],\n",
       "       [176332.99019817],\n",
       "       [217993.59931372],\n",
       "       [196697.03646328],\n",
       "       [100201.16388561],\n",
       "       [ 94521.04019398],\n",
       "       [233094.70625483],\n",
       "       [222550.42944283],\n",
       "       [192455.56629023],\n",
       "       [113444.06578748],\n",
       "       [ 77885.15744862],\n",
       "       [207295.29314117],\n",
       "       [196697.03646328],\n",
       "       [146345.41007802],\n",
       "       [234237.43346926],\n",
       "       [220716.63173126],\n",
       "       [302753.45916393],\n",
       "       [287259.66544351],\n",
       "       [137642.31403143],\n",
       "       [310051.98736817],\n",
       "       [232079.21470124],\n",
       "       [222244.24686693],\n",
       "       [215790.7182745 ],\n",
       "       [170077.7681679 ],\n",
       "       [230967.17315822],\n",
       "       [138447.40691735],\n",
       "       [176141.48424811],\n",
       "       [217993.59931372],\n",
       "       [217993.59931372],\n",
       "       [146929.63104567],\n",
       "       [201776.57054231],\n",
       "       [147143.15580325],\n",
       "       [102669.75032491],\n",
       "       [217993.59931372],\n",
       "       [164834.28635294],\n",
       "       [ 92477.32668315],\n",
       "       [176697.31087209],\n",
       "       [309837.36486611],\n",
       "       [259304.75120876],\n",
       "       [130878.08960174],\n",
       "       [146762.04463222],\n",
       "       [221930.08509784],\n",
       "       [148836.346277  ],\n",
       "       [127492.88961104],\n",
       "       [196697.03646328],\n",
       "       [182276.58069097],\n",
       "       [124057.27007918],\n",
       "       [146706.32553519],\n",
       "       [193406.57000956],\n",
       "       [114243.39988523],\n",
       "       [161633.47475099],\n",
       "       [171184.43845301],\n",
       "       [354651.62925471],\n",
       "       [ 77885.15744862],\n",
       "       [130878.08960174],\n",
       "       [ 73786.72799531],\n",
       "       [130135.76412665],\n",
       "       [ 93732.76856214],\n",
       "       [ 67779.07045323],\n",
       "       [144183.35809296],\n",
       "       [127329.5102552 ],\n",
       "       [221930.08509784],\n",
       "       [185760.3304148 ],\n",
       "       [ 93732.76856214],\n",
       "       [222637.53469452],\n",
       "       [114243.39988523],\n",
       "       [124135.4580211 ],\n",
       "       [172682.79646956],\n",
       "       [259304.75120876],\n",
       "       [143162.92581076],\n",
       "       [125752.56673143],\n",
       "       [197258.5907182 ],\n",
       "       [142330.73952728],\n",
       "       [163392.22277045],\n",
       "       [112360.30219128],\n",
       "       [123944.76260921],\n",
       "       [144575.11546841],\n",
       "       [314591.3460398 ],\n",
       "       [114243.39988523],\n",
       "       [200945.44609151],\n",
       "       [185916.82914296],\n",
       "       [130878.08960174],\n",
       "       [237396.34328552],\n",
       "       [122160.06900625],\n",
       "       [227709.29328522],\n",
       "       [196697.03646328],\n",
       "       [217993.59931372],\n",
       "       [217993.59931372],\n",
       "       [359799.45418155],\n",
       "       [142092.15949299],\n",
       "       [156569.02580697],\n",
       "       [150054.32703334],\n",
       "       [182556.12452428],\n",
       "       [114243.39988523],\n",
       "       [155560.17602838],\n",
       "       [155110.59641828],\n",
       "       [182407.17798681],\n",
       "       [142408.42915957],\n",
       "       [209738.51310202],\n",
       "       [116648.08644754],\n",
       "       [114897.25273927],\n",
       "       [160521.44769538],\n",
       "       [217993.59931372],\n",
       "       [311757.32310535],\n",
       "       [172297.41898827],\n",
       "       [ 93732.76856214],\n",
       "       [ 93732.76856214],\n",
       "       [149106.53994414],\n",
       "       [126123.24337846],\n",
       "       [ 95149.51139059],\n",
       "       [172297.41898827],\n",
       "       [158158.22335516],\n",
       "       [118750.0078937 ],\n",
       "       [ 97293.69382453],\n",
       "       [253212.22746095],\n",
       "       [272574.84548699],\n",
       "       [127260.84645525],\n",
       "       [ 90204.4087485 ],\n",
       "       [234165.34117835],\n",
       "       [174944.18465559],\n",
       "       [217190.3475501 ],\n",
       "       [311127.18962652],\n",
       "       [241364.83279736],\n",
       "       [197202.54612709],\n",
       "       [153284.62468255],\n",
       "       [235406.41053513],\n",
       "       [196697.03646328],\n",
       "       [244313.21963955],\n",
       "       [221029.18481582],\n",
       "       [137041.37358514],\n",
       "       [344621.45873956],\n",
       "       [ 95149.51139059],\n",
       "       [243667.54841755],\n",
       "       [151749.83276777],\n",
       "       [196697.03646328],\n",
       "       [114243.39988523],\n",
       "       [371575.40148317],\n",
       "       [172297.41898827],\n",
       "       [132704.58951885],\n",
       "       [286264.66877521],\n",
       "       [113664.0209472 ],\n",
       "       [159011.19516027],\n",
       "       [119935.46433194],\n",
       "       [124322.79565434],\n",
       "       [222362.16485465],\n",
       "       [143110.87138129],\n",
       "       [ 93732.76856214],\n",
       "       [196697.03646328],\n",
       "       [147624.64934252],\n",
       "       [220482.4885652 ],\n",
       "       [172297.41898827],\n",
       "       [143533.75023578],\n",
       "       [129921.03063945],\n",
       "       [149485.58277313],\n",
       "       [130878.08960174],\n",
       "       [173211.01141027],\n",
       "       [219664.81780433],\n",
       "       [ 93732.76856214],\n",
       "       [196697.03646328],\n",
       "       [196697.03646328],\n",
       "       [222755.64806343],\n",
       "       [245216.49818124],\n",
       "       [133190.35432627],\n",
       "       [240686.4699073 ],\n",
       "       [143944.41854532],\n",
       "       [136880.69735489],\n",
       "       [137880.9465104 ],\n",
       "       [209775.73810615],\n",
       "       [222482.32785786],\n",
       "       [196697.03646328],\n",
       "       [122609.60119417],\n",
       "       [196697.03646328],\n",
       "       [114243.39988523],\n",
       "       [190069.87153656],\n",
       "       [196697.03646328],\n",
       "       [151337.99256463],\n",
       "       [114243.39988523],\n",
       "       [229342.99735566],\n",
       "       [141762.2270268 ],\n",
       "       [149663.14244063],\n",
       "       [145352.37146213],\n",
       "       [196697.03646328],\n",
       "       [218115.1990919 ],\n",
       "       [173781.03472072],\n",
       "       [114243.39988523],\n",
       "       [123195.05186538],\n",
       "       [145090.01857144],\n",
       "       [196697.03646328],\n",
       "       [114243.39988523],\n",
       "       [196697.03646328],\n",
       "       [365079.72328651],\n",
       "       [148215.14501102],\n",
       "       [217993.59931372],\n",
       "       [108729.65309968],\n",
       "       [126525.01765272],\n",
       "       [172297.41898827],\n",
       "       [217806.50628376],\n",
       "       [398244.90877113],\n",
       "       [142953.36943796],\n",
       "       [ 93732.76856214],\n",
       "       [157999.62821691],\n",
       "       [156893.76505038],\n",
       "       [137041.37358514],\n",
       "       [155043.87868637],\n",
       "       [255931.85411949],\n",
       "       [127564.26819351],\n",
       "       [226626.55475488],\n",
       "       [259304.75120876],\n",
       "       [140863.5808953 ],\n",
       "       [173781.03472072],\n",
       "       [114368.7338778 ],\n",
       "       [ 95229.39245411],\n",
       "       [171615.366823  ],\n",
       "       [343320.09965913],\n",
       "       [164849.23298021],\n",
       "       [323440.61650373],\n",
       "       [173781.03472072],\n",
       "       [217190.3475501 ],\n",
       "       [196697.03646328],\n",
       "       [165820.35550438],\n",
       "       [156125.4357475 ],\n",
       "       [196697.03646328],\n",
       "       [114243.39988523],\n",
       "       [196767.1487905 ],\n",
       "       [153102.50281516],\n",
       "       [109176.77391271],\n",
       "       [144183.35809296],\n",
       "       [141195.84141672],\n",
       "       [230928.70189904],\n",
       "       [123038.09110106],\n",
       "       [123923.89235053],\n",
       "       [144183.35809296],\n",
       "       [125408.46060921],\n",
       "       [156569.02580697],\n",
       "       [239335.09652456],\n",
       "       [131234.56676517],\n",
       "       [218733.81412093],\n",
       "       [ 95149.51139059],\n",
       "       [218617.69880567],\n",
       "       [260722.62801597],\n",
       "       [196697.03646328],\n",
       "       [120731.91506056],\n",
       "       [158772.23544155],\n",
       "       [196697.03646328],\n",
       "       [216690.92080316],\n",
       "       [146664.61316197],\n",
       "       [383501.48859663],\n",
       "       [145548.77656998],\n",
       "       [114243.39988523],\n",
       "       [161431.46971763],\n",
       "       [278201.77333011],\n",
       "       [126525.01765272],\n",
       "       [286386.28607593],\n",
       "       [156569.02580697],\n",
       "       [196697.03646328],\n",
       "       [119056.29041894],\n",
       "       [ 93732.76856214],\n",
       "       [235489.36709795],\n",
       "       [196697.03646328],\n",
       "       [330215.39315503],\n",
       "       [351559.89808223],\n",
       "       [114243.39988523],\n",
       "       [382141.8043444 ],\n",
       "       [114243.39988523],\n",
       "       [234237.43346926],\n",
       "       [292589.53750846],\n",
       "       [312476.10239911],\n",
       "       [114243.39988523],\n",
       "       [148403.49333048],\n",
       "       [214639.61430373],\n",
       "       [124104.07190846],\n",
       "       [139841.47163073],\n",
       "       [164849.23298021],\n",
       "       [154258.80468468],\n",
       "       [195084.61953387],\n",
       "       [196697.03646328],\n",
       "       [185671.67087678],\n",
       "       [144575.11546841],\n",
       "       [178624.95813526],\n",
       "       [120410.59842054],\n",
       "       [161927.39237066],\n",
       "       [117534.02256027],\n",
       "       [ 95149.51139059],\n",
       "       [147627.99953874],\n",
       "       [217993.59931372],\n",
       "       [196697.03646328],\n",
       "       [218811.25641142],\n",
       "       [114243.39988523],\n",
       "       [246304.31372971],\n",
       "       [208956.15365291],\n",
       "       [155616.45919483],\n",
       "       [109176.77391271],\n",
       "       [208215.5477588 ],\n",
       "       [128126.21188114],\n",
       "       [222992.05084793],\n",
       "       [213451.84651137],\n",
       "       [193700.8521783 ],\n",
       "       [111828.44271173],\n",
       "       [186330.91172379],\n",
       "       [223505.06304328],\n",
       "       [400616.09398132],\n",
       "       [110037.7507747 ],\n",
       "       [371448.24805232],\n",
       "       [220248.57800021],\n",
       "       [136564.26306112],\n",
       "       [196697.03646328]])"
      ]
     },
     "execution_count": 31,
     "metadata": {},
     "output_type": "execute_result"
    }
   ],
   "source": [
    "pred_unpower"
   ]
  },
  {
   "cell_type": "code",
   "execution_count": 32,
   "metadata": {},
   "outputs": [
    {
     "data": {
      "text/plain": [
       "0.6844347814873402"
      ]
     },
     "execution_count": 32,
     "metadata": {},
     "output_type": "execute_result"
    }
   ],
   "source": [
    "r2_score(y_test, pred_unpower)"
   ]
  },
  {
   "cell_type": "markdown",
   "metadata": {},
   "source": [
    "# Metrics"
   ]
  },
  {
   "cell_type": "code",
   "execution_count": 33,
   "metadata": {},
   "outputs": [],
   "source": [
    "def many_metrics(y_true, y_pred): # where p is # features used\n",
    "    mse = mean_squared_error(y_true, y_pred)\n",
    "    rmse = np.sqrt(mse)\n",
    "    mae = mean_absolute_error(y_true, y_pred)\n",
    "    medae = median_absolute_error(y_true, y_pred)\n",
    "    r2 = r2_score(y_true, y_pred)\n",
    "    \n",
    "    print('Mean squared error:          =', mse)\n",
    "    print('Root mean squared error:     =', rmse)\n",
    "    print('Mean absolute error:         =', mae)\n",
    "    print('Median absolute error:       =', medae)\n",
    "    print('R^2:                         =', r2)"
   ]
  },
  {
   "cell_type": "markdown",
   "metadata": {},
   "source": [
    "[source](https://git.generalassemb.ly/DSIR-412/breakfast-hour/blob/master/lab-reviews/03-linear-regression-labs/Lab_Review_Week_3_FILLED.ipynb)"
   ]
  },
  {
   "cell_type": "code",
   "execution_count": 34,
   "metadata": {},
   "outputs": [
    {
     "name": "stdout",
     "output_type": "stream",
     "text": [
      "Mean squared error:          = 1995039463.149603\n",
      "Root mean squared error:     = 44665.8646300461\n",
      "Mean absolute error:         = 31817.820710134663\n",
      "Median absolute error:       = 24107.777229550935\n",
      "R^2:                         = 0.6844347814873402\n"
     ]
    }
   ],
   "source": [
    "many_metrics(y_test, pred_unpower)"
   ]
  },
  {
   "cell_type": "markdown",
   "metadata": {},
   "source": [
    "## Interpretating the Metrics"
   ]
  },
  {
   "cell_type": "code",
   "execution_count": null,
   "metadata": {},
   "outputs": [],
   "source": []
  },
  {
   "cell_type": "markdown",
   "metadata": {},
   "source": [
    "# Plotting Model and Residuals"
   ]
  },
  {
   "cell_type": "code",
   "execution_count": 35,
   "metadata": {},
   "outputs": [],
   "source": [
    "ridge_residuals = y_test - pred_unpower[0]"
   ]
  },
  {
   "cell_type": "code",
   "execution_count": 36,
   "metadata": {},
   "outputs": [
    {
     "data": {
      "image/png": "[encoded data removed]",
      "text/plain": [
       "<Figure size 432x288 with 1 Axes>"
      ]
     },
     "metadata": {
      "needs_background": "light"
     },
     "output_type": "display_data"
    }
   ],
   "source": [
    "plt.scatter(ridge_pred, ridge_residuals, \n",
    "           c = 'darkblue', alpha = .3);"
   ]
  },
  {
   "cell_type": "code",
   "execution_count": 37,
   "metadata": {},
   "outputs": [
    {
     "data": {
      "image/png": "[encoded data removed]",
      "text/plain": [
       "<Figure size 432x288 with 1 Axes>"
      ]
     },
     "metadata": {
      "needs_background": "light"
     },
     "output_type": "display_data"
    }
   ],
   "source": [
    "plt.hist(ridge_residuals);"
   ]
  },
  {
   "cell_type": "markdown",
   "metadata": {},
   "source": [
    "# Coefficients and Intercept"
   ]
  },
  {
   "cell_type": "code",
   "execution_count": 38,
   "metadata": {},
   "outputs": [
    {
     "data": {
      "text/plain": [
       "array([[ 0.20383406,  0.31973136,  0.36890797, -0.0205876 ,  0.06752764,\n",
       "         0.38824818,  0.0403172 ,  0.24927442,  0.01345825,  0.20585155]])"
      ]
     },
     "execution_count": 38,
     "metadata": {},
     "output_type": "execute_result"
    }
   ],
   "source": [
    "ridge_coef = ridge_model.coef_\n",
    "ridge_coef"
   ]
  },
  {
   "cell_type": "code",
   "execution_count": 39,
   "metadata": {},
   "outputs": [
    {
     "data": {
      "text/html": [
       "<div>\n",
       "<style scoped>\n",
       "    .dataframe tbody tr th:only-of-type {\n",
       "        vertical-align: middle;\n",
       "    }\n",
       "\n",
       "    .dataframe tbody tr th {\n",
       "        vertical-align: top;\n",
       "    }\n",
       "\n",
       "    .dataframe thead th {\n",
       "        text-align: right;\n",
       "    }\n",
       "</style>\n",
       "<table border=\"1\" class=\"dataframe\">\n",
       "  <thead>\n",
       "    <tr style=\"text-align: right;\">\n",
       "      <th></th>\n",
       "      <th>feature</th>\n",
       "      <th>coef</th>\n",
       "    </tr>\n",
       "  </thead>\n",
       "  <tbody>\n",
       "  </tbody>\n",
       "</table>\n",
       "</div>"
      ],
      "text/plain": [
       "Empty DataFrame\n",
       "Columns: [feature, coef]\n",
       "Index: []"
      ]
     },
     "execution_count": 39,
     "metadata": {},
     "output_type": "execute_result"
    }
   ],
   "source": [
    "coef_df = pd.DataFrame({'feature': X.columns,\n",
    "              'coef': ridge_coef[0]})\n",
    "\n",
    "coef_df[(coef_df['coef'] == 0)].sort_values('coef')\n",
    "# coef_df['unitized'] = coef_df['coef'] * "
   ]
  },
  {
   "cell_type": "code",
   "execution_count": 40,
   "metadata": {},
   "outputs": [
    {
     "data": {
      "text/html": [
       "<div>\n",
       "<style scoped>\n",
       "    .dataframe tbody tr th:only-of-type {\n",
       "        vertical-align: middle;\n",
       "    }\n",
       "\n",
       "    .dataframe tbody tr th {\n",
       "        vertical-align: top;\n",
       "    }\n",
       "\n",
       "    .dataframe thead th {\n",
       "        text-align: right;\n",
       "    }\n",
       "</style>\n",
       "<table border=\"1\" class=\"dataframe\">\n",
       "  <thead>\n",
       "    <tr style=\"text-align: right;\">\n",
       "      <th></th>\n",
       "      <th>feature</th>\n",
       "      <th>coef</th>\n",
       "    </tr>\n",
       "  </thead>\n",
       "  <tbody>\n",
       "    <tr>\n",
       "      <th>3</th>\n",
       "      <td>bsmt_full_bath</td>\n",
       "      <td>-0.020588</td>\n",
       "    </tr>\n",
       "    <tr>\n",
       "      <th>8</th>\n",
       "      <td>garage_type_CarPort</td>\n",
       "      <td>0.013458</td>\n",
       "    </tr>\n",
       "    <tr>\n",
       "      <th>6</th>\n",
       "      <td>garage_type_Basment</td>\n",
       "      <td>0.040317</td>\n",
       "    </tr>\n",
       "    <tr>\n",
       "      <th>4</th>\n",
       "      <td>garage_type_2Types</td>\n",
       "      <td>0.067528</td>\n",
       "    </tr>\n",
       "    <tr>\n",
       "      <th>0</th>\n",
       "      <td>bsmt_finished</td>\n",
       "      <td>0.203834</td>\n",
       "    </tr>\n",
       "    <tr>\n",
       "      <th>9</th>\n",
       "      <td>garage_type_Detchd</td>\n",
       "      <td>0.205852</td>\n",
       "    </tr>\n",
       "    <tr>\n",
       "      <th>7</th>\n",
       "      <td>garage_type_BuiltIn</td>\n",
       "      <td>0.249274</td>\n",
       "    </tr>\n",
       "    <tr>\n",
       "      <th>1</th>\n",
       "      <td>bsmt_qual</td>\n",
       "      <td>0.319731</td>\n",
       "    </tr>\n",
       "    <tr>\n",
       "      <th>2</th>\n",
       "      <td>kitchen_qual</td>\n",
       "      <td>0.368908</td>\n",
       "    </tr>\n",
       "    <tr>\n",
       "      <th>5</th>\n",
       "      <td>garage_type_Attchd</td>\n",
       "      <td>0.388248</td>\n",
       "    </tr>\n",
       "  </tbody>\n",
       "</table>\n",
       "</div>"
      ],
      "text/plain": [
       "               feature      coef\n",
       "3       bsmt_full_bath -0.020588\n",
       "8  garage_type_CarPort  0.013458\n",
       "6  garage_type_Basment  0.040317\n",
       "4   garage_type_2Types  0.067528\n",
       "0        bsmt_finished  0.203834\n",
       "9   garage_type_Detchd  0.205852\n",
       "7  garage_type_BuiltIn  0.249274\n",
       "1            bsmt_qual  0.319731\n",
       "2         kitchen_qual  0.368908\n",
       "5   garage_type_Attchd  0.388248"
      ]
     },
     "execution_count": 40,
     "metadata": {},
     "output_type": "execute_result"
    }
   ],
   "source": [
    "coef_df[(coef_df['coef'] > 0.005) | \n",
    "        (coef_df['coef'] < -.005)].sort_values('coef')\n"
   ]
  },
  {
   "cell_type": "markdown",
   "metadata": {},
   "source": [
    "The model accounts for less of the housing price than the Linear Regression model, and due to the scaling of the features and coefficients done by Rdige, we will use Linear Regression in our final analysis."
   ]
  },
  {
   "cell_type": "code",
   "execution_count": null,
   "metadata": {},
   "outputs": [],
   "source": []
  }
 ],
 "metadata": {
  "kernelspec": {
   "display_name": "Python 3",
   "language": "python",
   "name": "python3"
  },
  "language_info": {
   "codemirror_mode": {
    "name": "ipython",
    "version": 3
   },
   "file_extension": ".py",
   "mimetype": "text/x-python",
   "name": "python",
   "nbconvert_exporter": "python",
   "pygments_lexer": "ipython3",
   "version": "3.8.5"
  }
 },
 "nbformat": 4,
 "nbformat_minor": 4
}
