{
 "cells": [
  {
   "cell_type": "markdown",
   "metadata": {},
   "source": [
    "# Intro\n",
    "\n",
    "House Flippers LLC makes money travelling the country flipping homes. They are going to Ames, Iowa, due to the large housing market in the area with multiple houses to work on. \n",
    "They want to know which features will add the most value to the houses they flip so they know what to invest time and money in as they work on the houses. They need a breakdown of possible improvements to a house without adding square-footage, and what is the value each improvement adds so they can decide which features will give the best return on investment.  \n",
    "\n",
    "\n",
    "Data will be cleaned with all features as possible targets for recommendations as investments, as well as because we would like to see which features affect the house value the most overall."
   ]
  },
  {
   "cell_type": "code",
   "execution_count": 2,
   "metadata": {},
   "outputs": [],
   "source": [
    "import pandas as pd\n",
    "import numpy as np\n",
    "import seaborn as sns\n",
    "import matplotlib.pyplot as plt\n",
    "from sklearn.linear_model import LinearRegression, LassoCV, RidgeCV\n",
    "from sklearn.preprocessing import PolynomialFeatures, StandardScaler\n",
    "from sklearn.model_selection import train_test_split, cross_val_score, cross_val_predict\n",
    "from sklearn.metrics import r2_score, mean_absolute_error\n",
    "from sklearn.metrics import mean_squared_error, median_absolute_error\n",
    "import os\n",
    "from sklearn.linear_model import Lasso\n",
    "from sklearn.preprocessing import PolynomialFeatures, PowerTransformer"
   ]
  },
  {
   "cell_type": "code",
   "execution_count": 3,
   "metadata": {},
   "outputs": [],
   "source": [
    "# use absolute path to retrieve datasets\n",
    "\n",
    "train = pd.read_csv(os.path.abspath('./datasets/train.csv'))\n",
    "# sample = pd.read_csv(os.path.abspath('./datasets/sample_sub_reg.csv'))"
   ]
  },
  {
   "cell_type": "markdown",
   "metadata": {},
   "source": [
    "[source for absolute path](https://stackoverflow.com/questions/51520/how-to-get-an-absolute-file-path-in-python)"
   ]
  },
  {
   "cell_type": "code",
   "execution_count": 4,
   "metadata": {},
   "outputs": [
    {
     "data": {
      "text/html": [
       "<div>\n",
       "<style scoped>\n",
       "    .dataframe tbody tr th:only-of-type {\n",
       "        vertical-align: middle;\n",
       "    }\n",
       "\n",
       "    .dataframe tbody tr th {\n",
       "        vertical-align: top;\n",
       "    }\n",
       "\n",
       "    .dataframe thead th {\n",
       "        text-align: right;\n",
       "    }\n",
       "</style>\n",
       "<table border=\"1\" class=\"dataframe\">\n",
       "  <thead>\n",
       "    <tr style=\"text-align: right;\">\n",
       "      <th></th>\n",
       "      <th>Id</th>\n",
       "      <th>PID</th>\n",
       "      <th>MS SubClass</th>\n",
       "      <th>MS Zoning</th>\n",
       "      <th>Lot Frontage</th>\n",
       "      <th>Lot Area</th>\n",
       "      <th>Street</th>\n",
       "      <th>Alley</th>\n",
       "      <th>Lot Shape</th>\n",
       "      <th>Land Contour</th>\n",
       "      <th>...</th>\n",
       "      <th>Screen Porch</th>\n",
       "      <th>Pool Area</th>\n",
       "      <th>Pool QC</th>\n",
       "      <th>Fence</th>\n",
       "      <th>Misc Feature</th>\n",
       "      <th>Misc Val</th>\n",
       "      <th>Mo Sold</th>\n",
       "      <th>Yr Sold</th>\n",
       "      <th>Sale Type</th>\n",
       "      <th>SalePrice</th>\n",
       "    </tr>\n",
       "  </thead>\n",
       "  <tbody>\n",
       "    <tr>\n",
       "      <th>0</th>\n",
       "      <td>109</td>\n",
       "      <td>533352170</td>\n",
       "      <td>60</td>\n",
       "      <td>RL</td>\n",
       "      <td>NaN</td>\n",
       "      <td>13517</td>\n",
       "      <td>Pave</td>\n",
       "      <td>NaN</td>\n",
       "      <td>IR1</td>\n",
       "      <td>Lvl</td>\n",
       "      <td>...</td>\n",
       "      <td>0</td>\n",
       "      <td>0</td>\n",
       "      <td>NaN</td>\n",
       "      <td>NaN</td>\n",
       "      <td>NaN</td>\n",
       "      <td>0</td>\n",
       "      <td>3</td>\n",
       "      <td>2010</td>\n",
       "      <td>WD</td>\n",
       "      <td>130500</td>\n",
       "    </tr>\n",
       "    <tr>\n",
       "      <th>1</th>\n",
       "      <td>544</td>\n",
       "      <td>531379050</td>\n",
       "      <td>60</td>\n",
       "      <td>RL</td>\n",
       "      <td>43.0</td>\n",
       "      <td>11492</td>\n",
       "      <td>Pave</td>\n",
       "      <td>NaN</td>\n",
       "      <td>IR1</td>\n",
       "      <td>Lvl</td>\n",
       "      <td>...</td>\n",
       "      <td>0</td>\n",
       "      <td>0</td>\n",
       "      <td>NaN</td>\n",
       "      <td>NaN</td>\n",
       "      <td>NaN</td>\n",
       "      <td>0</td>\n",
       "      <td>4</td>\n",
       "      <td>2009</td>\n",
       "      <td>WD</td>\n",
       "      <td>220000</td>\n",
       "    </tr>\n",
       "    <tr>\n",
       "      <th>2</th>\n",
       "      <td>153</td>\n",
       "      <td>535304180</td>\n",
       "      <td>20</td>\n",
       "      <td>RL</td>\n",
       "      <td>68.0</td>\n",
       "      <td>7922</td>\n",
       "      <td>Pave</td>\n",
       "      <td>NaN</td>\n",
       "      <td>Reg</td>\n",
       "      <td>Lvl</td>\n",
       "      <td>...</td>\n",
       "      <td>0</td>\n",
       "      <td>0</td>\n",
       "      <td>NaN</td>\n",
       "      <td>NaN</td>\n",
       "      <td>NaN</td>\n",
       "      <td>0</td>\n",
       "      <td>1</td>\n",
       "      <td>2010</td>\n",
       "      <td>WD</td>\n",
       "      <td>109000</td>\n",
       "    </tr>\n",
       "    <tr>\n",
       "      <th>3</th>\n",
       "      <td>318</td>\n",
       "      <td>916386060</td>\n",
       "      <td>60</td>\n",
       "      <td>RL</td>\n",
       "      <td>73.0</td>\n",
       "      <td>9802</td>\n",
       "      <td>Pave</td>\n",
       "      <td>NaN</td>\n",
       "      <td>Reg</td>\n",
       "      <td>Lvl</td>\n",
       "      <td>...</td>\n",
       "      <td>0</td>\n",
       "      <td>0</td>\n",
       "      <td>NaN</td>\n",
       "      <td>NaN</td>\n",
       "      <td>NaN</td>\n",
       "      <td>0</td>\n",
       "      <td>4</td>\n",
       "      <td>2010</td>\n",
       "      <td>WD</td>\n",
       "      <td>174000</td>\n",
       "    </tr>\n",
       "    <tr>\n",
       "      <th>4</th>\n",
       "      <td>255</td>\n",
       "      <td>906425045</td>\n",
       "      <td>50</td>\n",
       "      <td>RL</td>\n",
       "      <td>82.0</td>\n",
       "      <td>14235</td>\n",
       "      <td>Pave</td>\n",
       "      <td>NaN</td>\n",
       "      <td>IR1</td>\n",
       "      <td>Lvl</td>\n",
       "      <td>...</td>\n",
       "      <td>0</td>\n",
       "      <td>0</td>\n",
       "      <td>NaN</td>\n",
       "      <td>NaN</td>\n",
       "      <td>NaN</td>\n",
       "      <td>0</td>\n",
       "      <td>3</td>\n",
       "      <td>2010</td>\n",
       "      <td>WD</td>\n",
       "      <td>138500</td>\n",
       "    </tr>\n",
       "  </tbody>\n",
       "</table>\n",
       "<p>5 rows × 81 columns</p>\n",
       "</div>"
      ],
      "text/plain": [
       "    Id        PID  MS SubClass MS Zoning  Lot Frontage  Lot Area Street Alley  \\\n",
       "0  109  533352170           60        RL           NaN     13517   Pave   NaN   \n",
       "1  544  531379050           60        RL          43.0     11492   Pave   NaN   \n",
       "2  153  535304180           20        RL          68.0      7922   Pave   NaN   \n",
       "3  318  916386060           60        RL          73.0      9802   Pave   NaN   \n",
       "4  255  906425045           50        RL          82.0     14235   Pave   NaN   \n",
       "\n",
       "  Lot Shape Land Contour  ... Screen Porch Pool Area Pool QC Fence  \\\n",
       "0       IR1          Lvl  ...            0         0     NaN   NaN   \n",
       "1       IR1          Lvl  ...            0         0     NaN   NaN   \n",
       "2       Reg          Lvl  ...            0         0     NaN   NaN   \n",
       "3       Reg          Lvl  ...            0         0     NaN   NaN   \n",
       "4       IR1          Lvl  ...            0         0     NaN   NaN   \n",
       "\n",
       "  Misc Feature Misc Val Mo Sold Yr Sold  Sale Type  SalePrice  \n",
       "0          NaN        0       3    2010        WD      130500  \n",
       "1          NaN        0       4    2009        WD      220000  \n",
       "2          NaN        0       1    2010        WD      109000  \n",
       "3          NaN        0       4    2010        WD      174000  \n",
       "4          NaN        0       3    2010        WD      138500  \n",
       "\n",
       "[5 rows x 81 columns]"
      ]
     },
     "execution_count": 4,
     "metadata": {},
     "output_type": "execute_result"
    }
   ],
   "source": [
    "train.head()"
   ]
  },
  {
   "cell_type": "code",
   "execution_count": 5,
   "metadata": {},
   "outputs": [],
   "source": [
    "# normalize head columns\n",
    "train.columns= train.columns.str.lower()\n",
    "train.columns = train.columns.str.replace(' ', '_')"
   ]
  },
  {
   "cell_type": "code",
   "execution_count": 6,
   "metadata": {
    "scrolled": true
   },
   "outputs": [
    {
     "data": {
      "text/plain": [
       "Index(['id', 'pid', 'ms_subclass', 'ms_zoning', 'lot_frontage', 'lot_area',\n",
       "       'street', 'alley', 'lot_shape', 'land_contour', 'utilities',\n",
       "       'lot_config', 'land_slope', 'neighborhood', 'condition_1',\n",
       "       'condition_2', 'bldg_type', 'house_style', 'overall_qual',\n",
       "       'overall_cond', 'year_built', 'year_remod/add', 'roof_style',\n",
       "       'roof_matl', 'exterior_1st', 'exterior_2nd', 'mas_vnr_type',\n",
       "       'mas_vnr_area', 'exter_qual', 'exter_cond', 'foundation', 'bsmt_qual',\n",
       "       'bsmt_cond', 'bsmt_exposure', 'bsmtfin_type_1', 'bsmtfin_sf_1',\n",
       "       'bsmtfin_type_2', 'bsmtfin_sf_2', 'bsmt_unf_sf', 'total_bsmt_sf',\n",
       "       'heating', 'heating_qc', 'central_air', 'electrical', '1st_flr_sf',\n",
       "       '2nd_flr_sf', 'low_qual_fin_sf', 'gr_liv_area', 'bsmt_full_bath',\n",
       "       'bsmt_half_bath', 'full_bath', 'half_bath', 'bedroom_abvgr',\n",
       "       'kitchen_abvgr', 'kitchen_qual', 'totrms_abvgrd', 'functional',\n",
       "       'fireplaces', 'fireplace_qu', 'garage_type', 'garage_yr_blt',\n",
       "       'garage_finish', 'garage_cars', 'garage_area', 'garage_qual',\n",
       "       'garage_cond', 'paved_drive', 'wood_deck_sf', 'open_porch_sf',\n",
       "       'enclosed_porch', '3ssn_porch', 'screen_porch', 'pool_area', 'pool_qc',\n",
       "       'fence', 'misc_feature', 'misc_val', 'mo_sold', 'yr_sold', 'sale_type',\n",
       "       'saleprice'],\n",
       "      dtype='object')"
      ]
     },
     "execution_count": 6,
     "metadata": {},
     "output_type": "execute_result"
    }
   ],
   "source": [
    "train.columns"
   ]
  },
  {
   "cell_type": "code",
   "execution_count": 7,
   "metadata": {
    "scrolled": true
   },
   "outputs": [
    {
     "name": "stdout",
     "output_type": "stream",
     "text": [
      "<class 'pandas.core.frame.DataFrame'>\n",
      "RangeIndex: 2051 entries, 0 to 2050\n",
      "Data columns (total 81 columns):\n",
      " #   Column           Non-Null Count  Dtype  \n",
      "---  ------           --------------  -----  \n",
      " 0   id               2051 non-null   int64  \n",
      " 1   pid              2051 non-null   int64  \n",
      " 2   ms_subclass      2051 non-null   int64  \n",
      " 3   ms_zoning        2051 non-null   object \n",
      " 4   lot_frontage     1721 non-null   float64\n",
      " 5   lot_area         2051 non-null   int64  \n",
      " 6   street           2051 non-null   object \n",
      " 7   alley            140 non-null    object \n",
      " 8   lot_shape        2051 non-null   object \n",
      " 9   land_contour     2051 non-null   object \n",
      " 10  utilities        2051 non-null   object \n",
      " 11  lot_config       2051 non-null   object \n",
      " 12  land_slope       2051 non-null   object \n",
      " 13  neighborhood     2051 non-null   object \n",
      " 14  condition_1      2051 non-null   object \n",
      " 15  condition_2      2051 non-null   object \n",
      " 16  bldg_type        2051 non-null   object \n",
      " 17  house_style      2051 non-null   object \n",
      " 18  overall_qual     2051 non-null   int64  \n",
      " 19  overall_cond     2051 non-null   int64  \n",
      " 20  year_built       2051 non-null   int64  \n",
      " 21  year_remod/add   2051 non-null   int64  \n",
      " 22  roof_style       2051 non-null   object \n",
      " 23  roof_matl        2051 non-null   object \n",
      " 24  exterior_1st     2051 non-null   object \n",
      " 25  exterior_2nd     2051 non-null   object \n",
      " 26  mas_vnr_type     2029 non-null   object \n",
      " 27  mas_vnr_area     2029 non-null   float64\n",
      " 28  exter_qual       2051 non-null   object \n",
      " 29  exter_cond       2051 non-null   object \n",
      " 30  foundation       2051 non-null   object \n",
      " 31  bsmt_qual        1996 non-null   object \n",
      " 32  bsmt_cond        1996 non-null   object \n",
      " 33  bsmt_exposure    1993 non-null   object \n",
      " 34  bsmtfin_type_1   1996 non-null   object \n",
      " 35  bsmtfin_sf_1     2050 non-null   float64\n",
      " 36  bsmtfin_type_2   1995 non-null   object \n",
      " 37  bsmtfin_sf_2     2050 non-null   float64\n",
      " 38  bsmt_unf_sf      2050 non-null   float64\n",
      " 39  total_bsmt_sf    2050 non-null   float64\n",
      " 40  heating          2051 non-null   object \n",
      " 41  heating_qc       2051 non-null   object \n",
      " 42  central_air      2051 non-null   object \n",
      " 43  electrical       2051 non-null   object \n",
      " 44  1st_flr_sf       2051 non-null   int64  \n",
      " 45  2nd_flr_sf       2051 non-null   int64  \n",
      " 46  low_qual_fin_sf  2051 non-null   int64  \n",
      " 47  gr_liv_area      2051 non-null   int64  \n",
      " 48  bsmt_full_bath   2049 non-null   float64\n",
      " 49  bsmt_half_bath   2049 non-null   float64\n",
      " 50  full_bath        2051 non-null   int64  \n",
      " 51  half_bath        2051 non-null   int64  \n",
      " 52  bedroom_abvgr    2051 non-null   int64  \n",
      " 53  kitchen_abvgr    2051 non-null   int64  \n",
      " 54  kitchen_qual     2051 non-null   object \n",
      " 55  totrms_abvgrd    2051 non-null   int64  \n",
      " 56  functional       2051 non-null   object \n",
      " 57  fireplaces       2051 non-null   int64  \n",
      " 58  fireplace_qu     1051 non-null   object \n",
      " 59  garage_type      1938 non-null   object \n",
      " 60  garage_yr_blt    1937 non-null   float64\n",
      " 61  garage_finish    1937 non-null   object \n",
      " 62  garage_cars      2050 non-null   float64\n",
      " 63  garage_area      2050 non-null   float64\n",
      " 64  garage_qual      1937 non-null   object \n",
      " 65  garage_cond      1937 non-null   object \n",
      " 66  paved_drive      2051 non-null   object \n",
      " 67  wood_deck_sf     2051 non-null   int64  \n",
      " 68  open_porch_sf    2051 non-null   int64  \n",
      " 69  enclosed_porch   2051 non-null   int64  \n",
      " 70  3ssn_porch       2051 non-null   int64  \n",
      " 71  screen_porch     2051 non-null   int64  \n",
      " 72  pool_area        2051 non-null   int64  \n",
      " 73  pool_qc          9 non-null      object \n",
      " 74  fence            400 non-null    object \n",
      " 75  misc_feature     65 non-null     object \n",
      " 76  misc_val         2051 non-null   int64  \n",
      " 77  mo_sold          2051 non-null   int64  \n",
      " 78  yr_sold          2051 non-null   int64  \n",
      " 79  sale_type        2051 non-null   object \n",
      " 80  saleprice        2051 non-null   int64  \n",
      "dtypes: float64(11), int64(28), object(42)\n",
      "memory usage: 1.3+ MB\n"
     ]
    }
   ],
   "source": [
    "train.info()"
   ]
  },
  {
   "cell_type": "code",
   "execution_count": 8,
   "metadata": {},
   "outputs": [],
   "source": [
    "# drop pid column because it isn't necessary\n",
    "\n",
    "train.drop(columns = 'pid', inplace = True)"
   ]
  },
  {
   "cell_type": "code",
   "execution_count": 9,
   "metadata": {},
   "outputs": [
    {
     "data": {
      "text/plain": [
       "[3390,\n",
       " 3228,\n",
       " 3078,\n",
       " 3820,\n",
       " 3279,\n",
       " 3395,\n",
       " 5642,\n",
       " 3222,\n",
       " 3608,\n",
       " 3238,\n",
       " 3082,\n",
       " 3086,\n",
       " 3500,\n",
       " 3140,\n",
       " 5095,\n",
       " 3672,\n",
       " 3493]"
      ]
     },
     "execution_count": 9,
     "metadata": {},
     "output_type": "execute_result"
    }
   ],
   "source": [
    "def find_outliers(num_list):\n",
    "    mean = num_list.mean()\n",
    "    std = num_list.std()\n",
    "    pos_outlier = mean + (std * 3)\n",
    "    neg_outlier = mean - (std *3)\n",
    "    return [row for row in num_list if row > pos_outlier or row < neg_outlier]\n",
    "\n",
    "find_outliers(train['gr_liv_area'])"
   ]
  },
  {
   "cell_type": "code",
   "execution_count": 10,
   "metadata": {},
   "outputs": [
    {
     "data": {
      "text/plain": [
       "960     5642\n",
       "1885    5095\n",
       "Name: gr_liv_area, dtype: int64"
      ]
     },
     "execution_count": 10,
     "metadata": {},
     "output_type": "execute_result"
    }
   ],
   "source": [
    "# dropping houses bigger than 4,000 sqft according to readme\n",
    "\n",
    "train[train['gr_liv_area'] > 3999]['gr_liv_area']"
   ]
  },
  {
   "cell_type": "code",
   "execution_count": 11,
   "metadata": {},
   "outputs": [],
   "source": [
    "train = train.drop([960, 1885])"
   ]
  },
  {
   "cell_type": "code",
   "execution_count": 12,
   "metadata": {},
   "outputs": [
    {
     "data": {
      "text/plain": [
       "<AxesSubplot:>"
      ]
     },
     "execution_count": 12,
     "metadata": {},
     "output_type": "execute_result"
    },
    {
     "data": {
      "image/png": "[encoded data removed]",
      "text/plain": [
       "<Figure size 432x288 with 1 Axes>"
      ]
     },
     "metadata": {
      "needs_background": "light"
     },
     "output_type": "display_data"
    }
   ],
   "source": [
    "train['garage_cars'].hist()"
   ]
  },
  {
   "cell_type": "code",
   "execution_count": 13,
   "metadata": {},
   "outputs": [
    {
     "data": {
      "text/plain": [
       "<AxesSubplot:>"
      ]
     },
     "execution_count": 13,
     "metadata": {},
     "output_type": "execute_result"
    },
    {
     "data": {
      "image/png": "[encoded data removed]",
      "text/plain": [
       "<Figure size 432x288 with 1 Axes>"
      ]
     },
     "metadata": {
      "needs_background": "light"
     },
     "output_type": "display_data"
    }
   ],
   "source": [
    "train['garage_area'].hist()"
   ]
  },
  {
   "cell_type": "code",
   "execution_count": 14,
   "metadata": {},
   "outputs": [],
   "source": [
    "#dropping pool and alley columns because they don't apply to most of the dataset\n",
    "\n",
    "train.drop(columns = ['pool_qc',\n",
    "                      'pool_area',#not applicable to most houses\n",
    "                      'alley', #not applicable to most houses\n",
    "                      'fence', #not applicable to most houses\n",
    "                      'misc_feature', #not applicable to most houses\n",
    "                      'misc_val', #not applicable to most houses\n",
    "                     'garage_cond', #the same as another column: exter qual\n",
    "                     'exter_cond', #the same as another column: garage area\n",
    "                     'garage_area'], #the same as another column: garage cars\n",
    "           inplace = True)"
   ]
  },
  {
   "cell_type": "code",
   "execution_count": 15,
   "metadata": {},
   "outputs": [
    {
     "name": "stderr",
     "output_type": "stream",
     "text": [
      "/opt/anaconda3/lib/python3.8/site-packages/seaborn/_decorators.py:36: FutureWarning: Pass the following variables as keyword args: x, y. From version 0.12, the only valid positional argument will be `data`, and passing other arguments without an explicit keyword will result in an error or misinterpretation.\n",
      "  warnings.warn(\n"
     ]
    },
    {
     "data": {
      "image/png": "[encoded data removed]",
      "text/plain": [
       "<Figure size 432x432 with 3 Axes>"
      ]
     },
     "metadata": {
      "needs_background": "light"
     },
     "output_type": "display_data"
    }
   ],
   "source": [
    "#checking for huge outliers in sale and swft\n",
    "\n",
    "sns.jointplot(train['gr_liv_area'], train['saleprice']);"
   ]
  },
  {
   "cell_type": "markdown",
   "metadata": {},
   "source": [
    "**Interpretation**\n",
    "It would be good to scale these logarithmically because of the skewed distribution of these features"
   ]
  },
  {
   "cell_type": "code",
   "execution_count": 16,
   "metadata": {
    "scrolled": true
   },
   "outputs": [
    {
     "name": "stdout",
     "output_type": "stream",
     "text": [
      "<class 'pandas.core.frame.DataFrame'>\n",
      "Int64Index: 2049 entries, 0 to 2050\n",
      "Data columns (total 71 columns):\n",
      " #   Column           Non-Null Count  Dtype  \n",
      "---  ------           --------------  -----  \n",
      " 0   id               2049 non-null   int64  \n",
      " 1   ms_subclass      2049 non-null   int64  \n",
      " 2   ms_zoning        2049 non-null   object \n",
      " 3   lot_frontage     1719 non-null   float64\n",
      " 4   lot_area         2049 non-null   int64  \n",
      " 5   street           2049 non-null   object \n",
      " 6   lot_shape        2049 non-null   object \n",
      " 7   land_contour     2049 non-null   object \n",
      " 8   utilities        2049 non-null   object \n",
      " 9   lot_config       2049 non-null   object \n",
      " 10  land_slope       2049 non-null   object \n",
      " 11  neighborhood     2049 non-null   object \n",
      " 12  condition_1      2049 non-null   object \n",
      " 13  condition_2      2049 non-null   object \n",
      " 14  bldg_type        2049 non-null   object \n",
      " 15  house_style      2049 non-null   object \n",
      " 16  overall_qual     2049 non-null   int64  \n",
      " 17  overall_cond     2049 non-null   int64  \n",
      " 18  year_built       2049 non-null   int64  \n",
      " 19  year_remod/add   2049 non-null   int64  \n",
      " 20  roof_style       2049 non-null   object \n",
      " 21  roof_matl        2049 non-null   object \n",
      " 22  exterior_1st     2049 non-null   object \n",
      " 23  exterior_2nd     2049 non-null   object \n",
      " 24  mas_vnr_type     2027 non-null   object \n",
      " 25  mas_vnr_area     2027 non-null   float64\n",
      " 26  exter_qual       2049 non-null   object \n",
      " 27  foundation       2049 non-null   object \n",
      " 28  bsmt_qual        1994 non-null   object \n",
      " 29  bsmt_cond        1994 non-null   object \n",
      " 30  bsmt_exposure    1991 non-null   object \n",
      " 31  bsmtfin_type_1   1994 non-null   object \n",
      " 32  bsmtfin_sf_1     2048 non-null   float64\n",
      " 33  bsmtfin_type_2   1993 non-null   object \n",
      " 34  bsmtfin_sf_2     2048 non-null   float64\n",
      " 35  bsmt_unf_sf      2048 non-null   float64\n",
      " 36  total_bsmt_sf    2048 non-null   float64\n",
      " 37  heating          2049 non-null   object \n",
      " 38  heating_qc       2049 non-null   object \n",
      " 39  central_air      2049 non-null   object \n",
      " 40  electrical       2049 non-null   object \n",
      " 41  1st_flr_sf       2049 non-null   int64  \n",
      " 42  2nd_flr_sf       2049 non-null   int64  \n",
      " 43  low_qual_fin_sf  2049 non-null   int64  \n",
      " 44  gr_liv_area      2049 non-null   int64  \n",
      " 45  bsmt_full_bath   2047 non-null   float64\n",
      " 46  bsmt_half_bath   2047 non-null   float64\n",
      " 47  full_bath        2049 non-null   int64  \n",
      " 48  half_bath        2049 non-null   int64  \n",
      " 49  bedroom_abvgr    2049 non-null   int64  \n",
      " 50  kitchen_abvgr    2049 non-null   int64  \n",
      " 51  kitchen_qual     2049 non-null   object \n",
      " 52  totrms_abvgrd    2049 non-null   int64  \n",
      " 53  functional       2049 non-null   object \n",
      " 54  fireplaces       2049 non-null   int64  \n",
      " 55  fireplace_qu     1049 non-null   object \n",
      " 56  garage_type      1936 non-null   object \n",
      " 57  garage_yr_blt    1935 non-null   float64\n",
      " 58  garage_finish    1935 non-null   object \n",
      " 59  garage_cars      2048 non-null   float64\n",
      " 60  garage_qual      1935 non-null   object \n",
      " 61  paved_drive      2049 non-null   object \n",
      " 62  wood_deck_sf     2049 non-null   int64  \n",
      " 63  open_porch_sf    2049 non-null   int64  \n",
      " 64  enclosed_porch   2049 non-null   int64  \n",
      " 65  3ssn_porch       2049 non-null   int64  \n",
      " 66  screen_porch     2049 non-null   int64  \n",
      " 67  mo_sold          2049 non-null   int64  \n",
      " 68  yr_sold          2049 non-null   int64  \n",
      " 69  sale_type        2049 non-null   object \n",
      " 70  saleprice        2049 non-null   int64  \n",
      "dtypes: float64(10), int64(25), object(36)\n",
      "memory usage: 1.1+ MB\n"
     ]
    }
   ],
   "source": [
    "train.info()"
   ]
  },
  {
   "cell_type": "code",
   "execution_count": 17,
   "metadata": {
    "scrolled": true
   },
   "outputs": [
    {
     "data": {
      "text/html": [
       "<div>\n",
       "<style scoped>\n",
       "    .dataframe tbody tr th:only-of-type {\n",
       "        vertical-align: middle;\n",
       "    }\n",
       "\n",
       "    .dataframe tbody tr th {\n",
       "        vertical-align: top;\n",
       "    }\n",
       "\n",
       "    .dataframe thead th {\n",
       "        text-align: right;\n",
       "    }\n",
       "</style>\n",
       "<table border=\"1\" class=\"dataframe\">\n",
       "  <thead>\n",
       "    <tr style=\"text-align: right;\">\n",
       "      <th></th>\n",
       "      <th>count</th>\n",
       "      <th>mean</th>\n",
       "      <th>std</th>\n",
       "      <th>min</th>\n",
       "      <th>25%</th>\n",
       "      <th>50%</th>\n",
       "      <th>75%</th>\n",
       "      <th>max</th>\n",
       "    </tr>\n",
       "  </thead>\n",
       "  <tbody>\n",
       "    <tr>\n",
       "      <th>id</th>\n",
       "      <td>2049.0</td>\n",
       "      <td>1473.676428</td>\n",
       "      <td>844.248064</td>\n",
       "      <td>1.0</td>\n",
       "      <td>753.0</td>\n",
       "      <td>1481.0</td>\n",
       "      <td>2199.00</td>\n",
       "      <td>2930.0</td>\n",
       "    </tr>\n",
       "    <tr>\n",
       "      <th>ms_subclass</th>\n",
       "      <td>2049.0</td>\n",
       "      <td>57.025378</td>\n",
       "      <td>42.837269</td>\n",
       "      <td>20.0</td>\n",
       "      <td>20.0</td>\n",
       "      <td>50.0</td>\n",
       "      <td>70.00</td>\n",
       "      <td>190.0</td>\n",
       "    </tr>\n",
       "    <tr>\n",
       "      <th>lot_frontage</th>\n",
       "      <td>1719.0</td>\n",
       "      <td>68.878999</td>\n",
       "      <td>22.472112</td>\n",
       "      <td>21.0</td>\n",
       "      <td>58.0</td>\n",
       "      <td>68.0</td>\n",
       "      <td>80.00</td>\n",
       "      <td>313.0</td>\n",
       "    </tr>\n",
       "    <tr>\n",
       "      <th>lot_area</th>\n",
       "      <td>2049.0</td>\n",
       "      <td>10024.677892</td>\n",
       "      <td>6608.511749</td>\n",
       "      <td>1300.0</td>\n",
       "      <td>7500.0</td>\n",
       "      <td>9405.0</td>\n",
       "      <td>11500.00</td>\n",
       "      <td>159000.0</td>\n",
       "    </tr>\n",
       "    <tr>\n",
       "      <th>overall_qual</th>\n",
       "      <td>2049.0</td>\n",
       "      <td>6.108346</td>\n",
       "      <td>1.421780</td>\n",
       "      <td>1.0</td>\n",
       "      <td>5.0</td>\n",
       "      <td>6.0</td>\n",
       "      <td>7.00</td>\n",
       "      <td>10.0</td>\n",
       "    </tr>\n",
       "    <tr>\n",
       "      <th>overall_cond</th>\n",
       "      <td>2049.0</td>\n",
       "      <td>5.562714</td>\n",
       "      <td>1.104897</td>\n",
       "      <td>1.0</td>\n",
       "      <td>5.0</td>\n",
       "      <td>5.0</td>\n",
       "      <td>6.00</td>\n",
       "      <td>9.0</td>\n",
       "    </tr>\n",
       "    <tr>\n",
       "      <th>year_built</th>\n",
       "      <td>2049.0</td>\n",
       "      <td>1971.673499</td>\n",
       "      <td>30.171293</td>\n",
       "      <td>1872.0</td>\n",
       "      <td>1953.0</td>\n",
       "      <td>1974.0</td>\n",
       "      <td>2001.00</td>\n",
       "      <td>2010.0</td>\n",
       "    </tr>\n",
       "    <tr>\n",
       "      <th>year_remod/add</th>\n",
       "      <td>2049.0</td>\n",
       "      <td>1984.166423</td>\n",
       "      <td>21.032785</td>\n",
       "      <td>1950.0</td>\n",
       "      <td>1964.0</td>\n",
       "      <td>1993.0</td>\n",
       "      <td>2004.00</td>\n",
       "      <td>2010.0</td>\n",
       "    </tr>\n",
       "    <tr>\n",
       "      <th>mas_vnr_area</th>\n",
       "      <td>2027.0</td>\n",
       "      <td>98.797731</td>\n",
       "      <td>172.563846</td>\n",
       "      <td>0.0</td>\n",
       "      <td>0.0</td>\n",
       "      <td>0.0</td>\n",
       "      <td>160.00</td>\n",
       "      <td>1600.0</td>\n",
       "    </tr>\n",
       "    <tr>\n",
       "      <th>bsmtfin_sf_1</th>\n",
       "      <td>2048.0</td>\n",
       "      <td>438.018555</td>\n",
       "      <td>439.843609</td>\n",
       "      <td>0.0</td>\n",
       "      <td>0.0</td>\n",
       "      <td>368.0</td>\n",
       "      <td>733.00</td>\n",
       "      <td>2188.0</td>\n",
       "    </tr>\n",
       "    <tr>\n",
       "      <th>bsmtfin_sf_2</th>\n",
       "      <td>2048.0</td>\n",
       "      <td>48.005859</td>\n",
       "      <td>165.074675</td>\n",
       "      <td>0.0</td>\n",
       "      <td>0.0</td>\n",
       "      <td>0.0</td>\n",
       "      <td>0.00</td>\n",
       "      <td>1474.0</td>\n",
       "    </tr>\n",
       "    <tr>\n",
       "      <th>bsmt_unf_sf</th>\n",
       "      <td>2048.0</td>\n",
       "      <td>567.525391</td>\n",
       "      <td>445.019539</td>\n",
       "      <td>0.0</td>\n",
       "      <td>220.0</td>\n",
       "      <td>474.5</td>\n",
       "      <td>811.00</td>\n",
       "      <td>2336.0</td>\n",
       "    </tr>\n",
       "    <tr>\n",
       "      <th>total_bsmt_sf</th>\n",
       "      <td>2048.0</td>\n",
       "      <td>1053.549805</td>\n",
       "      <td>426.283435</td>\n",
       "      <td>0.0</td>\n",
       "      <td>793.0</td>\n",
       "      <td>994.0</td>\n",
       "      <td>1317.25</td>\n",
       "      <td>3206.0</td>\n",
       "    </tr>\n",
       "    <tr>\n",
       "      <th>1st_flr_sf</th>\n",
       "      <td>2049.0</td>\n",
       "      <td>1160.848219</td>\n",
       "      <td>379.066122</td>\n",
       "      <td>334.0</td>\n",
       "      <td>879.0</td>\n",
       "      <td>1092.0</td>\n",
       "      <td>1404.00</td>\n",
       "      <td>3820.0</td>\n",
       "    </tr>\n",
       "    <tr>\n",
       "      <th>2nd_flr_sf</th>\n",
       "      <td>2049.0</td>\n",
       "      <td>329.186920</td>\n",
       "      <td>425.595710</td>\n",
       "      <td>0.0</td>\n",
       "      <td>0.0</td>\n",
       "      <td>0.0</td>\n",
       "      <td>691.00</td>\n",
       "      <td>1862.0</td>\n",
       "    </tr>\n",
       "    <tr>\n",
       "      <th>low_qual_fin_sf</th>\n",
       "      <td>2049.0</td>\n",
       "      <td>5.518302</td>\n",
       "      <td>51.093509</td>\n",
       "      <td>0.0</td>\n",
       "      <td>0.0</td>\n",
       "      <td>0.0</td>\n",
       "      <td>0.00</td>\n",
       "      <td>1064.0</td>\n",
       "    </tr>\n",
       "    <tr>\n",
       "      <th>gr_liv_area</th>\n",
       "      <td>2049.0</td>\n",
       "      <td>1495.553441</td>\n",
       "      <td>485.783577</td>\n",
       "      <td>334.0</td>\n",
       "      <td>1128.0</td>\n",
       "      <td>1444.0</td>\n",
       "      <td>1728.00</td>\n",
       "      <td>3820.0</td>\n",
       "    </tr>\n",
       "    <tr>\n",
       "      <th>bsmt_full_bath</th>\n",
       "      <td>2047.0</td>\n",
       "      <td>0.426478</td>\n",
       "      <td>0.521617</td>\n",
       "      <td>0.0</td>\n",
       "      <td>0.0</td>\n",
       "      <td>0.0</td>\n",
       "      <td>1.00</td>\n",
       "      <td>3.0</td>\n",
       "    </tr>\n",
       "    <tr>\n",
       "      <th>bsmt_half_bath</th>\n",
       "      <td>2047.0</td>\n",
       "      <td>0.063019</td>\n",
       "      <td>0.250971</td>\n",
       "      <td>0.0</td>\n",
       "      <td>0.0</td>\n",
       "      <td>0.0</td>\n",
       "      <td>0.00</td>\n",
       "      <td>2.0</td>\n",
       "    </tr>\n",
       "    <tr>\n",
       "      <th>full_bath</th>\n",
       "      <td>2049.0</td>\n",
       "      <td>1.576867</td>\n",
       "      <td>0.549389</td>\n",
       "      <td>0.0</td>\n",
       "      <td>1.0</td>\n",
       "      <td>2.0</td>\n",
       "      <td>2.00</td>\n",
       "      <td>4.0</td>\n",
       "    </tr>\n",
       "    <tr>\n",
       "      <th>half_bath</th>\n",
       "      <td>2049.0</td>\n",
       "      <td>0.370425</td>\n",
       "      <td>0.500901</td>\n",
       "      <td>0.0</td>\n",
       "      <td>0.0</td>\n",
       "      <td>0.0</td>\n",
       "      <td>1.00</td>\n",
       "      <td>2.0</td>\n",
       "    </tr>\n",
       "    <tr>\n",
       "      <th>bedroom_abvgr</th>\n",
       "      <td>2049.0</td>\n",
       "      <td>2.843826</td>\n",
       "      <td>0.826804</td>\n",
       "      <td>0.0</td>\n",
       "      <td>2.0</td>\n",
       "      <td>3.0</td>\n",
       "      <td>3.00</td>\n",
       "      <td>8.0</td>\n",
       "    </tr>\n",
       "    <tr>\n",
       "      <th>kitchen_abvgr</th>\n",
       "      <td>2049.0</td>\n",
       "      <td>1.042948</td>\n",
       "      <td>0.209888</td>\n",
       "      <td>0.0</td>\n",
       "      <td>1.0</td>\n",
       "      <td>1.0</td>\n",
       "      <td>1.00</td>\n",
       "      <td>3.0</td>\n",
       "    </tr>\n",
       "    <tr>\n",
       "      <th>totrms_abvgrd</th>\n",
       "      <td>2049.0</td>\n",
       "      <td>6.428990</td>\n",
       "      <td>1.544572</td>\n",
       "      <td>2.0</td>\n",
       "      <td>5.0</td>\n",
       "      <td>6.0</td>\n",
       "      <td>7.00</td>\n",
       "      <td>14.0</td>\n",
       "    </tr>\n",
       "    <tr>\n",
       "      <th>fireplaces</th>\n",
       "      <td>2049.0</td>\n",
       "      <td>0.589068</td>\n",
       "      <td>0.635842</td>\n",
       "      <td>0.0</td>\n",
       "      <td>0.0</td>\n",
       "      <td>1.0</td>\n",
       "      <td>1.00</td>\n",
       "      <td>4.0</td>\n",
       "    </tr>\n",
       "    <tr>\n",
       "      <th>garage_yr_blt</th>\n",
       "      <td>1935.0</td>\n",
       "      <td>1978.677519</td>\n",
       "      <td>25.436792</td>\n",
       "      <td>1895.0</td>\n",
       "      <td>1961.0</td>\n",
       "      <td>1980.0</td>\n",
       "      <td>2002.00</td>\n",
       "      <td>2207.0</td>\n",
       "    </tr>\n",
       "    <tr>\n",
       "      <th>garage_cars</th>\n",
       "      <td>2048.0</td>\n",
       "      <td>1.775879</td>\n",
       "      <td>0.764416</td>\n",
       "      <td>0.0</td>\n",
       "      <td>1.0</td>\n",
       "      <td>2.0</td>\n",
       "      <td>2.00</td>\n",
       "      <td>5.0</td>\n",
       "    </tr>\n",
       "    <tr>\n",
       "      <th>wood_deck_sf</th>\n",
       "      <td>2049.0</td>\n",
       "      <td>93.554417</td>\n",
       "      <td>128.195671</td>\n",
       "      <td>0.0</td>\n",
       "      <td>0.0</td>\n",
       "      <td>0.0</td>\n",
       "      <td>168.00</td>\n",
       "      <td>1424.0</td>\n",
       "    </tr>\n",
       "    <tr>\n",
       "      <th>open_porch_sf</th>\n",
       "      <td>2049.0</td>\n",
       "      <td>47.224500</td>\n",
       "      <td>65.857797</td>\n",
       "      <td>0.0</td>\n",
       "      <td>0.0</td>\n",
       "      <td>26.0</td>\n",
       "      <td>70.00</td>\n",
       "      <td>547.0</td>\n",
       "    </tr>\n",
       "    <tr>\n",
       "      <th>enclosed_porch</th>\n",
       "      <td>2049.0</td>\n",
       "      <td>22.593948</td>\n",
       "      <td>59.870165</td>\n",
       "      <td>0.0</td>\n",
       "      <td>0.0</td>\n",
       "      <td>0.0</td>\n",
       "      <td>0.00</td>\n",
       "      <td>432.0</td>\n",
       "    </tr>\n",
       "    <tr>\n",
       "      <th>3ssn_porch</th>\n",
       "      <td>2049.0</td>\n",
       "      <td>2.593948</td>\n",
       "      <td>25.241801</td>\n",
       "      <td>0.0</td>\n",
       "      <td>0.0</td>\n",
       "      <td>0.0</td>\n",
       "      <td>0.00</td>\n",
       "      <td>508.0</td>\n",
       "    </tr>\n",
       "    <tr>\n",
       "      <th>screen_porch</th>\n",
       "      <td>2049.0</td>\n",
       "      <td>16.527574</td>\n",
       "      <td>57.399890</td>\n",
       "      <td>0.0</td>\n",
       "      <td>0.0</td>\n",
       "      <td>0.0</td>\n",
       "      <td>0.00</td>\n",
       "      <td>490.0</td>\n",
       "    </tr>\n",
       "    <tr>\n",
       "      <th>mo_sold</th>\n",
       "      <td>2049.0</td>\n",
       "      <td>6.220595</td>\n",
       "      <td>2.742380</td>\n",
       "      <td>1.0</td>\n",
       "      <td>4.0</td>\n",
       "      <td>6.0</td>\n",
       "      <td>8.00</td>\n",
       "      <td>12.0</td>\n",
       "    </tr>\n",
       "    <tr>\n",
       "      <th>yr_sold</th>\n",
       "      <td>2049.0</td>\n",
       "      <td>2007.775988</td>\n",
       "      <td>1.312533</td>\n",
       "      <td>2006.0</td>\n",
       "      <td>2007.0</td>\n",
       "      <td>2008.0</td>\n",
       "      <td>2009.00</td>\n",
       "      <td>2010.0</td>\n",
       "    </tr>\n",
       "    <tr>\n",
       "      <th>saleprice</th>\n",
       "      <td>2049.0</td>\n",
       "      <td>181479.018058</td>\n",
       "      <td>79295.913255</td>\n",
       "      <td>12789.0</td>\n",
       "      <td>129800.0</td>\n",
       "      <td>162500.0</td>\n",
       "      <td>214000.00</td>\n",
       "      <td>611657.0</td>\n",
       "    </tr>\n",
       "  </tbody>\n",
       "</table>\n",
       "</div>"
      ],
      "text/plain": [
       "                  count           mean           std      min       25%  \\\n",
       "id               2049.0    1473.676428    844.248064      1.0     753.0   \n",
       "ms_subclass      2049.0      57.025378     42.837269     20.0      20.0   \n",
       "lot_frontage     1719.0      68.878999     22.472112     21.0      58.0   \n",
       "lot_area         2049.0   10024.677892   6608.511749   1300.0    7500.0   \n",
       "overall_qual     2049.0       6.108346      1.421780      1.0       5.0   \n",
       "overall_cond     2049.0       5.562714      1.104897      1.0       5.0   \n",
       "year_built       2049.0    1971.673499     30.171293   1872.0    1953.0   \n",
       "year_remod/add   2049.0    1984.166423     21.032785   1950.0    1964.0   \n",
       "mas_vnr_area     2027.0      98.797731    172.563846      0.0       0.0   \n",
       "bsmtfin_sf_1     2048.0     438.018555    439.843609      0.0       0.0   \n",
       "bsmtfin_sf_2     2048.0      48.005859    165.074675      0.0       0.0   \n",
       "bsmt_unf_sf      2048.0     567.525391    445.019539      0.0     220.0   \n",
       "total_bsmt_sf    2048.0    1053.549805    426.283435      0.0     793.0   \n",
       "1st_flr_sf       2049.0    1160.848219    379.066122    334.0     879.0   \n",
       "2nd_flr_sf       2049.0     329.186920    425.595710      0.0       0.0   \n",
       "low_qual_fin_sf  2049.0       5.518302     51.093509      0.0       0.0   \n",
       "gr_liv_area      2049.0    1495.553441    485.783577    334.0    1128.0   \n",
       "bsmt_full_bath   2047.0       0.426478      0.521617      0.0       0.0   \n",
       "bsmt_half_bath   2047.0       0.063019      0.250971      0.0       0.0   \n",
       "full_bath        2049.0       1.576867      0.549389      0.0       1.0   \n",
       "half_bath        2049.0       0.370425      0.500901      0.0       0.0   \n",
       "bedroom_abvgr    2049.0       2.843826      0.826804      0.0       2.0   \n",
       "kitchen_abvgr    2049.0       1.042948      0.209888      0.0       1.0   \n",
       "totrms_abvgrd    2049.0       6.428990      1.544572      2.0       5.0   \n",
       "fireplaces       2049.0       0.589068      0.635842      0.0       0.0   \n",
       "garage_yr_blt    1935.0    1978.677519     25.436792   1895.0    1961.0   \n",
       "garage_cars      2048.0       1.775879      0.764416      0.0       1.0   \n",
       "wood_deck_sf     2049.0      93.554417    128.195671      0.0       0.0   \n",
       "open_porch_sf    2049.0      47.224500     65.857797      0.0       0.0   \n",
       "enclosed_porch   2049.0      22.593948     59.870165      0.0       0.0   \n",
       "3ssn_porch       2049.0       2.593948     25.241801      0.0       0.0   \n",
       "screen_porch     2049.0      16.527574     57.399890      0.0       0.0   \n",
       "mo_sold          2049.0       6.220595      2.742380      1.0       4.0   \n",
       "yr_sold          2049.0    2007.775988      1.312533   2006.0    2007.0   \n",
       "saleprice        2049.0  181479.018058  79295.913255  12789.0  129800.0   \n",
       "\n",
       "                      50%        75%       max  \n",
       "id                 1481.0    2199.00    2930.0  \n",
       "ms_subclass          50.0      70.00     190.0  \n",
       "lot_frontage         68.0      80.00     313.0  \n",
       "lot_area           9405.0   11500.00  159000.0  \n",
       "overall_qual          6.0       7.00      10.0  \n",
       "overall_cond          5.0       6.00       9.0  \n",
       "year_built         1974.0    2001.00    2010.0  \n",
       "year_remod/add     1993.0    2004.00    2010.0  \n",
       "mas_vnr_area          0.0     160.00    1600.0  \n",
       "bsmtfin_sf_1        368.0     733.00    2188.0  \n",
       "bsmtfin_sf_2          0.0       0.00    1474.0  \n",
       "bsmt_unf_sf         474.5     811.00    2336.0  \n",
       "total_bsmt_sf       994.0    1317.25    3206.0  \n",
       "1st_flr_sf         1092.0    1404.00    3820.0  \n",
       "2nd_flr_sf            0.0     691.00    1862.0  \n",
       "low_qual_fin_sf       0.0       0.00    1064.0  \n",
       "gr_liv_area        1444.0    1728.00    3820.0  \n",
       "bsmt_full_bath        0.0       1.00       3.0  \n",
       "bsmt_half_bath        0.0       0.00       2.0  \n",
       "full_bath             2.0       2.00       4.0  \n",
       "half_bath             0.0       1.00       2.0  \n",
       "bedroom_abvgr         3.0       3.00       8.0  \n",
       "kitchen_abvgr         1.0       1.00       3.0  \n",
       "totrms_abvgrd         6.0       7.00      14.0  \n",
       "fireplaces            1.0       1.00       4.0  \n",
       "garage_yr_blt      1980.0    2002.00    2207.0  \n",
       "garage_cars           2.0       2.00       5.0  \n",
       "wood_deck_sf          0.0     168.00    1424.0  \n",
       "open_porch_sf        26.0      70.00     547.0  \n",
       "enclosed_porch        0.0       0.00     432.0  \n",
       "3ssn_porch            0.0       0.00     508.0  \n",
       "screen_porch          0.0       0.00     490.0  \n",
       "mo_sold               6.0       8.00      12.0  \n",
       "yr_sold            2008.0    2009.00    2010.0  \n",
       "saleprice        162500.0  214000.00  611657.0  "
      ]
     },
     "execution_count": 17,
     "metadata": {},
     "output_type": "execute_result"
    }
   ],
   "source": [
    "train.describe().T"
   ]
  },
  {
   "cell_type": "code",
   "execution_count": 18,
   "metadata": {
    "scrolled": true
   },
   "outputs": [
    {
     "data": {
      "text/plain": [
       "1699    2207.0\n",
       "Name: garage_yr_blt, dtype: float64"
      ]
     },
     "execution_count": 18,
     "metadata": {},
     "output_type": "execute_result"
    }
   ],
   "source": [
    "# checking the number of cells beyond the year the data stops at \n",
    "train[train['garage_yr_blt'] > 2010]['garage_yr_blt']"
   ]
  },
  {
   "cell_type": "code",
   "execution_count": 19,
   "metadata": {},
   "outputs": [],
   "source": [
    "#replacing the year \n",
    "train['garage_yr_blt'].replace(to_replace = 2207, value = 2007, inplace = True)"
   ]
  },
  {
   "cell_type": "code",
   "execution_count": 20,
   "metadata": {},
   "outputs": [
    {
     "data": {
      "text/plain": [
       "count    1935.000000\n",
       "mean     1978.574160\n",
       "std        24.909423\n",
       "min      1895.000000\n",
       "25%      1961.000000\n",
       "50%      1980.000000\n",
       "75%      2002.000000\n",
       "max      2010.000000\n",
       "Name: garage_yr_blt, dtype: float64"
      ]
     },
     "execution_count": 20,
     "metadata": {},
     "output_type": "execute_result"
    }
   ],
   "source": [
    "# checking values\n",
    "train['garage_yr_blt'].describe()"
   ]
  },
  {
   "cell_type": "code",
   "execution_count": 21,
   "metadata": {},
   "outputs": [
    {
     "data": {
      "text/html": [
       "<div>\n",
       "<style scoped>\n",
       "    .dataframe tbody tr th:only-of-type {\n",
       "        vertical-align: middle;\n",
       "    }\n",
       "\n",
       "    .dataframe tbody tr th {\n",
       "        vertical-align: top;\n",
       "    }\n",
       "\n",
       "    .dataframe thead th {\n",
       "        text-align: right;\n",
       "    }\n",
       "</style>\n",
       "<table border=\"1\" class=\"dataframe\">\n",
       "  <thead>\n",
       "    <tr style=\"text-align: right;\">\n",
       "      <th></th>\n",
       "      <th>wood_deck_sf</th>\n",
       "      <th>gr_liv_area</th>\n",
       "    </tr>\n",
       "  </thead>\n",
       "  <tbody>\n",
       "    <tr>\n",
       "      <th>966</th>\n",
       "      <td>1424</td>\n",
       "      <td>1356</td>\n",
       "    </tr>\n",
       "  </tbody>\n",
       "</table>\n",
       "</div>"
      ],
      "text/plain": [
       "     wood_deck_sf  gr_liv_area\n",
       "966          1424         1356"
      ]
     },
     "execution_count": 21,
     "metadata": {},
     "output_type": "execute_result"
    }
   ],
   "source": [
    "# looking at deck size outlier \n",
    "\n",
    "train[train['wood_deck_sf'] > 1000.0][['wood_deck_sf', 'gr_liv_area']]"
   ]
  },
  {
   "cell_type": "code",
   "execution_count": 22,
   "metadata": {},
   "outputs": [
    {
     "data": {
      "text/plain": [
       "[483,\n",
       " 736,\n",
       " 496,\n",
       " 646,\n",
       " 521,\n",
       " 530,\n",
       " 641,\n",
       " 503,\n",
       " 519,\n",
       " 495,\n",
       " 1424,\n",
       " 500,\n",
       " 728,\n",
       " 536,\n",
       " 586,\n",
       " 576,\n",
       " 550,\n",
       " 517,\n",
       " 857,\n",
       " 520,\n",
       " 635,\n",
       " 870,\n",
       " 657,\n",
       " 483,\n",
       " 684,\n",
       " 668,\n",
       " 631,\n",
       " 509]"
      ]
     },
     "execution_count": 22,
     "metadata": {},
     "output_type": "execute_result"
    }
   ],
   "source": [
    "# what are the next biggest decks and house size \n",
    "\n",
    "find_outliers(train['wood_deck_sf'])\n",
    "# train[train['wood_deck_sf'] > train['wood_deck_sf'].quantile(.99)][['wood_deck_sf', 'gr_liv_area', 'saleprice', 'lot_area']].sort_values('wood_deck_sf')"
   ]
  },
  {
   "cell_type": "markdown",
   "metadata": {},
   "source": [
    "As you can see, the largest outlier is almost 2 times the size as the next biggest outlier. Therefore, I think it is am error and will treat it as a null to fill with the mean. "
   ]
  },
  {
   "cell_type": "code",
   "execution_count": 23,
   "metadata": {},
   "outputs": [
    {
     "data": {
      "text/plain": [
       "967    20\n",
       "Name: ms_subclass, dtype: int64"
      ]
     },
     "execution_count": 23,
     "metadata": {},
     "output_type": "execute_result"
    }
   ],
   "source": [
    "# looking at type to make sure it isn't one condo in a residential area\n",
    "\n",
    "train.iloc[[966]]['ms_subclass']"
   ]
  },
  {
   "cell_type": "markdown",
   "metadata": {},
   "source": [
    "Subclass 20 is a ``1-STORY 1946 & NEWER ALL STYLEs`` which means this house is a 1356 sf single unit home with a deck that is larger than it is. I will replace it with the mean of the top quantile homes becasue there are other homes with a higher ratio of square feet to deck size. "
   ]
  },
  {
   "cell_type": "code",
   "execution_count": 24,
   "metadata": {},
   "outputs": [
    {
     "name": "stdout",
     "output_type": "stream",
     "text": [
      "wood_deck_sf     668.190476\n",
      "gr_liv_area     2178.857143\n",
      "dtype: float64\n",
      "wood_deck_sf     196.810062\n",
      "gr_liv_area     1601.771047\n",
      "dtype: float64\n"
     ]
    }
   ],
   "source": [
    "#finding the best mean to replace it with\n",
    "print(train[train['wood_deck_sf'] >\n",
    "            train['wood_deck_sf'].quantile(.99)][['wood_deck_sf',\n",
    "                                                  'gr_liv_area']].mean())\n",
    "print(train[train['wood_deck_sf'] > \n",
    "            train['wood_deck_sf'].quantile(.50)][['wood_deck_sf',\n",
    "                                                  'gr_liv_area']].mean())"
   ]
  },
  {
   "cell_type": "code",
   "execution_count": 25,
   "metadata": {},
   "outputs": [],
   "source": [
    "# replacing the value\n",
    "train['wood_deck_sf'].replace(to_replace = 1424, value = 668, inplace = True)"
   ]
  },
  {
   "cell_type": "code",
   "execution_count": 26,
   "metadata": {},
   "outputs": [
    {
     "data": {
      "text/plain": [
       "count    2049.000000\n",
       "mean       93.185456\n",
       "std       125.422570\n",
       "min         0.000000\n",
       "25%         0.000000\n",
       "50%         0.000000\n",
       "75%       168.000000\n",
       "max       870.000000\n",
       "Name: wood_deck_sf, dtype: float64"
      ]
     },
     "execution_count": 26,
     "metadata": {},
     "output_type": "execute_result"
    }
   ],
   "source": [
    "# confirming outliers\n",
    "train['wood_deck_sf'].describe()"
   ]
  },
  {
   "cell_type": "code",
   "execution_count": 27,
   "metadata": {},
   "outputs": [
    {
     "data": {
      "text/html": [
       "<div>\n",
       "<style scoped>\n",
       "    .dataframe tbody tr th:only-of-type {\n",
       "        vertical-align: middle;\n",
       "    }\n",
       "\n",
       "    .dataframe tbody tr th {\n",
       "        vertical-align: top;\n",
       "    }\n",
       "\n",
       "    .dataframe thead th {\n",
       "        text-align: right;\n",
       "    }\n",
       "</style>\n",
       "<table border=\"1\" class=\"dataframe\">\n",
       "  <thead>\n",
       "    <tr style=\"text-align: right;\">\n",
       "      <th></th>\n",
       "      <th>count</th>\n",
       "      <th>mean</th>\n",
       "      <th>std</th>\n",
       "      <th>min</th>\n",
       "      <th>25%</th>\n",
       "      <th>50%</th>\n",
       "      <th>75%</th>\n",
       "      <th>max</th>\n",
       "    </tr>\n",
       "  </thead>\n",
       "  <tbody>\n",
       "    <tr>\n",
       "      <th>id</th>\n",
       "      <td>2049.0</td>\n",
       "      <td>1473.676428</td>\n",
       "      <td>844.248064</td>\n",
       "      <td>1.0</td>\n",
       "      <td>753.0</td>\n",
       "      <td>1481.0</td>\n",
       "      <td>2199.00</td>\n",
       "      <td>2930.0</td>\n",
       "    </tr>\n",
       "    <tr>\n",
       "      <th>ms_subclass</th>\n",
       "      <td>2049.0</td>\n",
       "      <td>57.025378</td>\n",
       "      <td>42.837269</td>\n",
       "      <td>20.0</td>\n",
       "      <td>20.0</td>\n",
       "      <td>50.0</td>\n",
       "      <td>70.00</td>\n",
       "      <td>190.0</td>\n",
       "    </tr>\n",
       "    <tr>\n",
       "      <th>lot_frontage</th>\n",
       "      <td>1719.0</td>\n",
       "      <td>68.878999</td>\n",
       "      <td>22.472112</td>\n",
       "      <td>21.0</td>\n",
       "      <td>58.0</td>\n",
       "      <td>68.0</td>\n",
       "      <td>80.00</td>\n",
       "      <td>313.0</td>\n",
       "    </tr>\n",
       "    <tr>\n",
       "      <th>lot_area</th>\n",
       "      <td>2049.0</td>\n",
       "      <td>10024.677892</td>\n",
       "      <td>6608.511749</td>\n",
       "      <td>1300.0</td>\n",
       "      <td>7500.0</td>\n",
       "      <td>9405.0</td>\n",
       "      <td>11500.00</td>\n",
       "      <td>159000.0</td>\n",
       "    </tr>\n",
       "    <tr>\n",
       "      <th>overall_qual</th>\n",
       "      <td>2049.0</td>\n",
       "      <td>6.108346</td>\n",
       "      <td>1.421780</td>\n",
       "      <td>1.0</td>\n",
       "      <td>5.0</td>\n",
       "      <td>6.0</td>\n",
       "      <td>7.00</td>\n",
       "      <td>10.0</td>\n",
       "    </tr>\n",
       "    <tr>\n",
       "      <th>overall_cond</th>\n",
       "      <td>2049.0</td>\n",
       "      <td>5.562714</td>\n",
       "      <td>1.104897</td>\n",
       "      <td>1.0</td>\n",
       "      <td>5.0</td>\n",
       "      <td>5.0</td>\n",
       "      <td>6.00</td>\n",
       "      <td>9.0</td>\n",
       "    </tr>\n",
       "    <tr>\n",
       "      <th>year_built</th>\n",
       "      <td>2049.0</td>\n",
       "      <td>1971.673499</td>\n",
       "      <td>30.171293</td>\n",
       "      <td>1872.0</td>\n",
       "      <td>1953.0</td>\n",
       "      <td>1974.0</td>\n",
       "      <td>2001.00</td>\n",
       "      <td>2010.0</td>\n",
       "    </tr>\n",
       "    <tr>\n",
       "      <th>year_remod/add</th>\n",
       "      <td>2049.0</td>\n",
       "      <td>1984.166423</td>\n",
       "      <td>21.032785</td>\n",
       "      <td>1950.0</td>\n",
       "      <td>1964.0</td>\n",
       "      <td>1993.0</td>\n",
       "      <td>2004.00</td>\n",
       "      <td>2010.0</td>\n",
       "    </tr>\n",
       "    <tr>\n",
       "      <th>mas_vnr_area</th>\n",
       "      <td>2027.0</td>\n",
       "      <td>98.797731</td>\n",
       "      <td>172.563846</td>\n",
       "      <td>0.0</td>\n",
       "      <td>0.0</td>\n",
       "      <td>0.0</td>\n",
       "      <td>160.00</td>\n",
       "      <td>1600.0</td>\n",
       "    </tr>\n",
       "    <tr>\n",
       "      <th>bsmtfin_sf_1</th>\n",
       "      <td>2048.0</td>\n",
       "      <td>438.018555</td>\n",
       "      <td>439.843609</td>\n",
       "      <td>0.0</td>\n",
       "      <td>0.0</td>\n",
       "      <td>368.0</td>\n",
       "      <td>733.00</td>\n",
       "      <td>2188.0</td>\n",
       "    </tr>\n",
       "    <tr>\n",
       "      <th>bsmtfin_sf_2</th>\n",
       "      <td>2048.0</td>\n",
       "      <td>48.005859</td>\n",
       "      <td>165.074675</td>\n",
       "      <td>0.0</td>\n",
       "      <td>0.0</td>\n",
       "      <td>0.0</td>\n",
       "      <td>0.00</td>\n",
       "      <td>1474.0</td>\n",
       "    </tr>\n",
       "    <tr>\n",
       "      <th>bsmt_unf_sf</th>\n",
       "      <td>2048.0</td>\n",
       "      <td>567.525391</td>\n",
       "      <td>445.019539</td>\n",
       "      <td>0.0</td>\n",
       "      <td>220.0</td>\n",
       "      <td>474.5</td>\n",
       "      <td>811.00</td>\n",
       "      <td>2336.0</td>\n",
       "    </tr>\n",
       "    <tr>\n",
       "      <th>total_bsmt_sf</th>\n",
       "      <td>2048.0</td>\n",
       "      <td>1053.549805</td>\n",
       "      <td>426.283435</td>\n",
       "      <td>0.0</td>\n",
       "      <td>793.0</td>\n",
       "      <td>994.0</td>\n",
       "      <td>1317.25</td>\n",
       "      <td>3206.0</td>\n",
       "    </tr>\n",
       "    <tr>\n",
       "      <th>1st_flr_sf</th>\n",
       "      <td>2049.0</td>\n",
       "      <td>1160.848219</td>\n",
       "      <td>379.066122</td>\n",
       "      <td>334.0</td>\n",
       "      <td>879.0</td>\n",
       "      <td>1092.0</td>\n",
       "      <td>1404.00</td>\n",
       "      <td>3820.0</td>\n",
       "    </tr>\n",
       "    <tr>\n",
       "      <th>2nd_flr_sf</th>\n",
       "      <td>2049.0</td>\n",
       "      <td>329.186920</td>\n",
       "      <td>425.595710</td>\n",
       "      <td>0.0</td>\n",
       "      <td>0.0</td>\n",
       "      <td>0.0</td>\n",
       "      <td>691.00</td>\n",
       "      <td>1862.0</td>\n",
       "    </tr>\n",
       "    <tr>\n",
       "      <th>low_qual_fin_sf</th>\n",
       "      <td>2049.0</td>\n",
       "      <td>5.518302</td>\n",
       "      <td>51.093509</td>\n",
       "      <td>0.0</td>\n",
       "      <td>0.0</td>\n",
       "      <td>0.0</td>\n",
       "      <td>0.00</td>\n",
       "      <td>1064.0</td>\n",
       "    </tr>\n",
       "    <tr>\n",
       "      <th>gr_liv_area</th>\n",
       "      <td>2049.0</td>\n",
       "      <td>1495.553441</td>\n",
       "      <td>485.783577</td>\n",
       "      <td>334.0</td>\n",
       "      <td>1128.0</td>\n",
       "      <td>1444.0</td>\n",
       "      <td>1728.00</td>\n",
       "      <td>3820.0</td>\n",
       "    </tr>\n",
       "    <tr>\n",
       "      <th>bsmt_full_bath</th>\n",
       "      <td>2047.0</td>\n",
       "      <td>0.426478</td>\n",
       "      <td>0.521617</td>\n",
       "      <td>0.0</td>\n",
       "      <td>0.0</td>\n",
       "      <td>0.0</td>\n",
       "      <td>1.00</td>\n",
       "      <td>3.0</td>\n",
       "    </tr>\n",
       "    <tr>\n",
       "      <th>bsmt_half_bath</th>\n",
       "      <td>2047.0</td>\n",
       "      <td>0.063019</td>\n",
       "      <td>0.250971</td>\n",
       "      <td>0.0</td>\n",
       "      <td>0.0</td>\n",
       "      <td>0.0</td>\n",
       "      <td>0.00</td>\n",
       "      <td>2.0</td>\n",
       "    </tr>\n",
       "    <tr>\n",
       "      <th>full_bath</th>\n",
       "      <td>2049.0</td>\n",
       "      <td>1.576867</td>\n",
       "      <td>0.549389</td>\n",
       "      <td>0.0</td>\n",
       "      <td>1.0</td>\n",
       "      <td>2.0</td>\n",
       "      <td>2.00</td>\n",
       "      <td>4.0</td>\n",
       "    </tr>\n",
       "    <tr>\n",
       "      <th>half_bath</th>\n",
       "      <td>2049.0</td>\n",
       "      <td>0.370425</td>\n",
       "      <td>0.500901</td>\n",
       "      <td>0.0</td>\n",
       "      <td>0.0</td>\n",
       "      <td>0.0</td>\n",
       "      <td>1.00</td>\n",
       "      <td>2.0</td>\n",
       "    </tr>\n",
       "    <tr>\n",
       "      <th>bedroom_abvgr</th>\n",
       "      <td>2049.0</td>\n",
       "      <td>2.843826</td>\n",
       "      <td>0.826804</td>\n",
       "      <td>0.0</td>\n",
       "      <td>2.0</td>\n",
       "      <td>3.0</td>\n",
       "      <td>3.00</td>\n",
       "      <td>8.0</td>\n",
       "    </tr>\n",
       "    <tr>\n",
       "      <th>kitchen_abvgr</th>\n",
       "      <td>2049.0</td>\n",
       "      <td>1.042948</td>\n",
       "      <td>0.209888</td>\n",
       "      <td>0.0</td>\n",
       "      <td>1.0</td>\n",
       "      <td>1.0</td>\n",
       "      <td>1.00</td>\n",
       "      <td>3.0</td>\n",
       "    </tr>\n",
       "    <tr>\n",
       "      <th>totrms_abvgrd</th>\n",
       "      <td>2049.0</td>\n",
       "      <td>6.428990</td>\n",
       "      <td>1.544572</td>\n",
       "      <td>2.0</td>\n",
       "      <td>5.0</td>\n",
       "      <td>6.0</td>\n",
       "      <td>7.00</td>\n",
       "      <td>14.0</td>\n",
       "    </tr>\n",
       "    <tr>\n",
       "      <th>fireplaces</th>\n",
       "      <td>2049.0</td>\n",
       "      <td>0.589068</td>\n",
       "      <td>0.635842</td>\n",
       "      <td>0.0</td>\n",
       "      <td>0.0</td>\n",
       "      <td>1.0</td>\n",
       "      <td>1.00</td>\n",
       "      <td>4.0</td>\n",
       "    </tr>\n",
       "    <tr>\n",
       "      <th>garage_yr_blt</th>\n",
       "      <td>1935.0</td>\n",
       "      <td>1978.574160</td>\n",
       "      <td>24.909423</td>\n",
       "      <td>1895.0</td>\n",
       "      <td>1961.0</td>\n",
       "      <td>1980.0</td>\n",
       "      <td>2002.00</td>\n",
       "      <td>2010.0</td>\n",
       "    </tr>\n",
       "    <tr>\n",
       "      <th>garage_cars</th>\n",
       "      <td>2048.0</td>\n",
       "      <td>1.775879</td>\n",
       "      <td>0.764416</td>\n",
       "      <td>0.0</td>\n",
       "      <td>1.0</td>\n",
       "      <td>2.0</td>\n",
       "      <td>2.00</td>\n",
       "      <td>5.0</td>\n",
       "    </tr>\n",
       "    <tr>\n",
       "      <th>wood_deck_sf</th>\n",
       "      <td>2049.0</td>\n",
       "      <td>93.185456</td>\n",
       "      <td>125.422570</td>\n",
       "      <td>0.0</td>\n",
       "      <td>0.0</td>\n",
       "      <td>0.0</td>\n",
       "      <td>168.00</td>\n",
       "      <td>870.0</td>\n",
       "    </tr>\n",
       "    <tr>\n",
       "      <th>open_porch_sf</th>\n",
       "      <td>2049.0</td>\n",
       "      <td>47.224500</td>\n",
       "      <td>65.857797</td>\n",
       "      <td>0.0</td>\n",
       "      <td>0.0</td>\n",
       "      <td>26.0</td>\n",
       "      <td>70.00</td>\n",
       "      <td>547.0</td>\n",
       "    </tr>\n",
       "    <tr>\n",
       "      <th>enclosed_porch</th>\n",
       "      <td>2049.0</td>\n",
       "      <td>22.593948</td>\n",
       "      <td>59.870165</td>\n",
       "      <td>0.0</td>\n",
       "      <td>0.0</td>\n",
       "      <td>0.0</td>\n",
       "      <td>0.00</td>\n",
       "      <td>432.0</td>\n",
       "    </tr>\n",
       "    <tr>\n",
       "      <th>3ssn_porch</th>\n",
       "      <td>2049.0</td>\n",
       "      <td>2.593948</td>\n",
       "      <td>25.241801</td>\n",
       "      <td>0.0</td>\n",
       "      <td>0.0</td>\n",
       "      <td>0.0</td>\n",
       "      <td>0.00</td>\n",
       "      <td>508.0</td>\n",
       "    </tr>\n",
       "    <tr>\n",
       "      <th>screen_porch</th>\n",
       "      <td>2049.0</td>\n",
       "      <td>16.527574</td>\n",
       "      <td>57.399890</td>\n",
       "      <td>0.0</td>\n",
       "      <td>0.0</td>\n",
       "      <td>0.0</td>\n",
       "      <td>0.00</td>\n",
       "      <td>490.0</td>\n",
       "    </tr>\n",
       "    <tr>\n",
       "      <th>mo_sold</th>\n",
       "      <td>2049.0</td>\n",
       "      <td>6.220595</td>\n",
       "      <td>2.742380</td>\n",
       "      <td>1.0</td>\n",
       "      <td>4.0</td>\n",
       "      <td>6.0</td>\n",
       "      <td>8.00</td>\n",
       "      <td>12.0</td>\n",
       "    </tr>\n",
       "    <tr>\n",
       "      <th>yr_sold</th>\n",
       "      <td>2049.0</td>\n",
       "      <td>2007.775988</td>\n",
       "      <td>1.312533</td>\n",
       "      <td>2006.0</td>\n",
       "      <td>2007.0</td>\n",
       "      <td>2008.0</td>\n",
       "      <td>2009.00</td>\n",
       "      <td>2010.0</td>\n",
       "    </tr>\n",
       "    <tr>\n",
       "      <th>saleprice</th>\n",
       "      <td>2049.0</td>\n",
       "      <td>181479.018058</td>\n",
       "      <td>79295.913255</td>\n",
       "      <td>12789.0</td>\n",
       "      <td>129800.0</td>\n",
       "      <td>162500.0</td>\n",
       "      <td>214000.00</td>\n",
       "      <td>611657.0</td>\n",
       "    </tr>\n",
       "  </tbody>\n",
       "</table>\n",
       "</div>"
      ],
      "text/plain": [
       "                  count           mean           std      min       25%  \\\n",
       "id               2049.0    1473.676428    844.248064      1.0     753.0   \n",
       "ms_subclass      2049.0      57.025378     42.837269     20.0      20.0   \n",
       "lot_frontage     1719.0      68.878999     22.472112     21.0      58.0   \n",
       "lot_area         2049.0   10024.677892   6608.511749   1300.0    7500.0   \n",
       "overall_qual     2049.0       6.108346      1.421780      1.0       5.0   \n",
       "overall_cond     2049.0       5.562714      1.104897      1.0       5.0   \n",
       "year_built       2049.0    1971.673499     30.171293   1872.0    1953.0   \n",
       "year_remod/add   2049.0    1984.166423     21.032785   1950.0    1964.0   \n",
       "mas_vnr_area     2027.0      98.797731    172.563846      0.0       0.0   \n",
       "bsmtfin_sf_1     2048.0     438.018555    439.843609      0.0       0.0   \n",
       "bsmtfin_sf_2     2048.0      48.005859    165.074675      0.0       0.0   \n",
       "bsmt_unf_sf      2048.0     567.525391    445.019539      0.0     220.0   \n",
       "total_bsmt_sf    2048.0    1053.549805    426.283435      0.0     793.0   \n",
       "1st_flr_sf       2049.0    1160.848219    379.066122    334.0     879.0   \n",
       "2nd_flr_sf       2049.0     329.186920    425.595710      0.0       0.0   \n",
       "low_qual_fin_sf  2049.0       5.518302     51.093509      0.0       0.0   \n",
       "gr_liv_area      2049.0    1495.553441    485.783577    334.0    1128.0   \n",
       "bsmt_full_bath   2047.0       0.426478      0.521617      0.0       0.0   \n",
       "bsmt_half_bath   2047.0       0.063019      0.250971      0.0       0.0   \n",
       "full_bath        2049.0       1.576867      0.549389      0.0       1.0   \n",
       "half_bath        2049.0       0.370425      0.500901      0.0       0.0   \n",
       "bedroom_abvgr    2049.0       2.843826      0.826804      0.0       2.0   \n",
       "kitchen_abvgr    2049.0       1.042948      0.209888      0.0       1.0   \n",
       "totrms_abvgrd    2049.0       6.428990      1.544572      2.0       5.0   \n",
       "fireplaces       2049.0       0.589068      0.635842      0.0       0.0   \n",
       "garage_yr_blt    1935.0    1978.574160     24.909423   1895.0    1961.0   \n",
       "garage_cars      2048.0       1.775879      0.764416      0.0       1.0   \n",
       "wood_deck_sf     2049.0      93.185456    125.422570      0.0       0.0   \n",
       "open_porch_sf    2049.0      47.224500     65.857797      0.0       0.0   \n",
       "enclosed_porch   2049.0      22.593948     59.870165      0.0       0.0   \n",
       "3ssn_porch       2049.0       2.593948     25.241801      0.0       0.0   \n",
       "screen_porch     2049.0      16.527574     57.399890      0.0       0.0   \n",
       "mo_sold          2049.0       6.220595      2.742380      1.0       4.0   \n",
       "yr_sold          2049.0    2007.775988      1.312533   2006.0    2007.0   \n",
       "saleprice        2049.0  181479.018058  79295.913255  12789.0  129800.0   \n",
       "\n",
       "                      50%        75%       max  \n",
       "id                 1481.0    2199.00    2930.0  \n",
       "ms_subclass          50.0      70.00     190.0  \n",
       "lot_frontage         68.0      80.00     313.0  \n",
       "lot_area           9405.0   11500.00  159000.0  \n",
       "overall_qual          6.0       7.00      10.0  \n",
       "overall_cond          5.0       6.00       9.0  \n",
       "year_built         1974.0    2001.00    2010.0  \n",
       "year_remod/add     1993.0    2004.00    2010.0  \n",
       "mas_vnr_area          0.0     160.00    1600.0  \n",
       "bsmtfin_sf_1        368.0     733.00    2188.0  \n",
       "bsmtfin_sf_2          0.0       0.00    1474.0  \n",
       "bsmt_unf_sf         474.5     811.00    2336.0  \n",
       "total_bsmt_sf       994.0    1317.25    3206.0  \n",
       "1st_flr_sf         1092.0    1404.00    3820.0  \n",
       "2nd_flr_sf            0.0     691.00    1862.0  \n",
       "low_qual_fin_sf       0.0       0.00    1064.0  \n",
       "gr_liv_area        1444.0    1728.00    3820.0  \n",
       "bsmt_full_bath        0.0       1.00       3.0  \n",
       "bsmt_half_bath        0.0       0.00       2.0  \n",
       "full_bath             2.0       2.00       4.0  \n",
       "half_bath             0.0       1.00       2.0  \n",
       "bedroom_abvgr         3.0       3.00       8.0  \n",
       "kitchen_abvgr         1.0       1.00       3.0  \n",
       "totrms_abvgrd         6.0       7.00      14.0  \n",
       "fireplaces            1.0       1.00       4.0  \n",
       "garage_yr_blt      1980.0    2002.00    2010.0  \n",
       "garage_cars           2.0       2.00       5.0  \n",
       "wood_deck_sf          0.0     168.00     870.0  \n",
       "open_porch_sf        26.0      70.00     547.0  \n",
       "enclosed_porch        0.0       0.00     432.0  \n",
       "3ssn_porch            0.0       0.00     508.0  \n",
       "screen_porch          0.0       0.00     490.0  \n",
       "mo_sold               6.0       8.00      12.0  \n",
       "yr_sold            2008.0    2009.00    2010.0  \n",
       "saleprice        162500.0  214000.00  611657.0  "
      ]
     },
     "execution_count": 27,
     "metadata": {},
     "output_type": "execute_result"
    }
   ],
   "source": [
    "train.describe().T"
   ]
  },
  {
   "cell_type": "code",
   "execution_count": 28,
   "metadata": {},
   "outputs": [
    {
     "name": "stdout",
     "output_type": "stream",
     "text": [
      "<class 'pandas.core.frame.DataFrame'>\n",
      "Int64Index: 2049 entries, 0 to 2050\n",
      "Data columns (total 71 columns):\n",
      " #   Column           Non-Null Count  Dtype  \n",
      "---  ------           --------------  -----  \n",
      " 0   id               2049 non-null   int64  \n",
      " 1   ms_subclass      2049 non-null   int64  \n",
      " 2   ms_zoning        2049 non-null   object \n",
      " 3   lot_frontage     1719 non-null   float64\n",
      " 4   lot_area         2049 non-null   int64  \n",
      " 5   street           2049 non-null   object \n",
      " 6   lot_shape        2049 non-null   object \n",
      " 7   land_contour     2049 non-null   object \n",
      " 8   utilities        2049 non-null   object \n",
      " 9   lot_config       2049 non-null   object \n",
      " 10  land_slope       2049 non-null   object \n",
      " 11  neighborhood     2049 non-null   object \n",
      " 12  condition_1      2049 non-null   object \n",
      " 13  condition_2      2049 non-null   object \n",
      " 14  bldg_type        2049 non-null   object \n",
      " 15  house_style      2049 non-null   object \n",
      " 16  overall_qual     2049 non-null   int64  \n",
      " 17  overall_cond     2049 non-null   int64  \n",
      " 18  year_built       2049 non-null   int64  \n",
      " 19  year_remod/add   2049 non-null   int64  \n",
      " 20  roof_style       2049 non-null   object \n",
      " 21  roof_matl        2049 non-null   object \n",
      " 22  exterior_1st     2049 non-null   object \n",
      " 23  exterior_2nd     2049 non-null   object \n",
      " 24  mas_vnr_type     2027 non-null   object \n",
      " 25  mas_vnr_area     2027 non-null   float64\n",
      " 26  exter_qual       2049 non-null   object \n",
      " 27  foundation       2049 non-null   object \n",
      " 28  bsmt_qual        1994 non-null   object \n",
      " 29  bsmt_cond        1994 non-null   object \n",
      " 30  bsmt_exposure    1991 non-null   object \n",
      " 31  bsmtfin_type_1   1994 non-null   object \n",
      " 32  bsmtfin_sf_1     2048 non-null   float64\n",
      " 33  bsmtfin_type_2   1993 non-null   object \n",
      " 34  bsmtfin_sf_2     2048 non-null   float64\n",
      " 35  bsmt_unf_sf      2048 non-null   float64\n",
      " 36  total_bsmt_sf    2048 non-null   float64\n",
      " 37  heating          2049 non-null   object \n",
      " 38  heating_qc       2049 non-null   object \n",
      " 39  central_air      2049 non-null   object \n",
      " 40  electrical       2049 non-null   object \n",
      " 41  1st_flr_sf       2049 non-null   int64  \n",
      " 42  2nd_flr_sf       2049 non-null   int64  \n",
      " 43  low_qual_fin_sf  2049 non-null   int64  \n",
      " 44  gr_liv_area      2049 non-null   int64  \n",
      " 45  bsmt_full_bath   2047 non-null   float64\n",
      " 46  bsmt_half_bath   2047 non-null   float64\n",
      " 47  full_bath        2049 non-null   int64  \n",
      " 48  half_bath        2049 non-null   int64  \n",
      " 49  bedroom_abvgr    2049 non-null   int64  \n",
      " 50  kitchen_abvgr    2049 non-null   int64  \n",
      " 51  kitchen_qual     2049 non-null   object \n",
      " 52  totrms_abvgrd    2049 non-null   int64  \n",
      " 53  functional       2049 non-null   object \n",
      " 54  fireplaces       2049 non-null   int64  \n",
      " 55  fireplace_qu     1049 non-null   object \n",
      " 56  garage_type      1936 non-null   object \n",
      " 57  garage_yr_blt    1935 non-null   float64\n",
      " 58  garage_finish    1935 non-null   object \n",
      " 59  garage_cars      2048 non-null   float64\n",
      " 60  garage_qual      1935 non-null   object \n",
      " 61  paved_drive      2049 non-null   object \n",
      " 62  wood_deck_sf     2049 non-null   int64  \n",
      " 63  open_porch_sf    2049 non-null   int64  \n",
      " 64  enclosed_porch   2049 non-null   int64  \n",
      " 65  3ssn_porch       2049 non-null   int64  \n",
      " 66  screen_porch     2049 non-null   int64  \n",
      " 67  mo_sold          2049 non-null   int64  \n",
      " 68  yr_sold          2049 non-null   int64  \n",
      " 69  sale_type        2049 non-null   object \n",
      " 70  saleprice        2049 non-null   int64  \n",
      "dtypes: float64(10), int64(25), object(36)\n",
      "memory usage: 1.1+ MB\n"
     ]
    }
   ],
   "source": [
    "train.info()"
   ]
  },
  {
   "cell_type": "markdown",
   "metadata": {},
   "source": [
    "# Checking Houses with 0 bed/bath/Sf"
   ]
  },
  {
   "cell_type": "code",
   "execution_count": 29,
   "metadata": {},
   "outputs": [
    {
     "data": {
      "text/html": [
       "<div>\n",
       "<style scoped>\n",
       "    .dataframe tbody tr th:only-of-type {\n",
       "        vertical-align: middle;\n",
       "    }\n",
       "\n",
       "    .dataframe tbody tr th {\n",
       "        vertical-align: top;\n",
       "    }\n",
       "\n",
       "    .dataframe thead th {\n",
       "        text-align: right;\n",
       "    }\n",
       "</style>\n",
       "<table border=\"1\" class=\"dataframe\">\n",
       "  <thead>\n",
       "    <tr style=\"text-align: right;\">\n",
       "      <th></th>\n",
       "      <th>bedroom_abvgr</th>\n",
       "      <th>gr_liv_area</th>\n",
       "      <th>full_bath</th>\n",
       "    </tr>\n",
       "  </thead>\n",
       "  <tbody>\n",
       "    <tr>\n",
       "      <th>count</th>\n",
       "      <td>2049.000000</td>\n",
       "      <td>2049.000000</td>\n",
       "      <td>2049.000000</td>\n",
       "    </tr>\n",
       "    <tr>\n",
       "      <th>mean</th>\n",
       "      <td>2.843826</td>\n",
       "      <td>1495.553441</td>\n",
       "      <td>1.576867</td>\n",
       "    </tr>\n",
       "    <tr>\n",
       "      <th>std</th>\n",
       "      <td>0.826804</td>\n",
       "      <td>485.783577</td>\n",
       "      <td>0.549389</td>\n",
       "    </tr>\n",
       "    <tr>\n",
       "      <th>min</th>\n",
       "      <td>0.000000</td>\n",
       "      <td>334.000000</td>\n",
       "      <td>0.000000</td>\n",
       "    </tr>\n",
       "    <tr>\n",
       "      <th>25%</th>\n",
       "      <td>2.000000</td>\n",
       "      <td>1128.000000</td>\n",
       "      <td>1.000000</td>\n",
       "    </tr>\n",
       "    <tr>\n",
       "      <th>50%</th>\n",
       "      <td>3.000000</td>\n",
       "      <td>1444.000000</td>\n",
       "      <td>2.000000</td>\n",
       "    </tr>\n",
       "    <tr>\n",
       "      <th>75%</th>\n",
       "      <td>3.000000</td>\n",
       "      <td>1728.000000</td>\n",
       "      <td>2.000000</td>\n",
       "    </tr>\n",
       "    <tr>\n",
       "      <th>max</th>\n",
       "      <td>8.000000</td>\n",
       "      <td>3820.000000</td>\n",
       "      <td>4.000000</td>\n",
       "    </tr>\n",
       "  </tbody>\n",
       "</table>\n",
       "</div>"
      ],
      "text/plain": [
       "       bedroom_abvgr  gr_liv_area    full_bath\n",
       "count    2049.000000  2049.000000  2049.000000\n",
       "mean        2.843826  1495.553441     1.576867\n",
       "std         0.826804   485.783577     0.549389\n",
       "min         0.000000   334.000000     0.000000\n",
       "25%         2.000000  1128.000000     1.000000\n",
       "50%         3.000000  1444.000000     2.000000\n",
       "75%         3.000000  1728.000000     2.000000\n",
       "max         8.000000  3820.000000     4.000000"
      ]
     },
     "execution_count": 29,
     "metadata": {},
     "output_type": "execute_result"
    }
   ],
   "source": [
    "train[['bedroom_abvgr', 'gr_liv_area', 'full_bath']].describe()"
   ]
  },
  {
   "cell_type": "code",
   "execution_count": 30,
   "metadata": {},
   "outputs": [
    {
     "data": {
      "text/plain": [
       "191     1743\n",
       "346      960\n",
       "744     1258\n",
       "1571    1842\n",
       "Name: gr_liv_area, dtype: int64"
      ]
     },
     "execution_count": 30,
     "metadata": {},
     "output_type": "execute_result"
    }
   ],
   "source": [
    "# Are there houses without any bedrooms, bathrooms?\n",
    "\n",
    "train[(train['bedroom_abvgr'] == 0) & (train['full_bath'] == 0)]['gr_liv_area']"
   ]
  },
  {
   "cell_type": "code",
   "execution_count": 31,
   "metadata": {},
   "outputs": [
    {
     "data": {
      "text/plain": [
       "346    3\n",
       "Name: totrms_abvgrd, dtype: int64"
      ]
     },
     "execution_count": 31,
     "metadata": {},
     "output_type": "execute_result"
    }
   ],
   "source": [
    "# are there any houses that are just land?\n",
    "\n",
    "train[(train['bedroom_abvgr'] == 0) & (train['full_bath'] == 0) & (train['half_bath'] == 0)]['totrms_abvgrd']"
   ]
  },
  {
   "cell_type": "code",
   "execution_count": 32,
   "metadata": {},
   "outputs": [
    {
     "data": {
      "text/html": [
       "<div>\n",
       "<style scoped>\n",
       "    .dataframe tbody tr th:only-of-type {\n",
       "        vertical-align: middle;\n",
       "    }\n",
       "\n",
       "    .dataframe tbody tr th {\n",
       "        vertical-align: top;\n",
       "    }\n",
       "\n",
       "    .dataframe thead th {\n",
       "        text-align: right;\n",
       "    }\n",
       "</style>\n",
       "<table border=\"1\" class=\"dataframe\">\n",
       "  <thead>\n",
       "    <tr style=\"text-align: right;\">\n",
       "      <th></th>\n",
       "      <th>ms_subclass</th>\n",
       "      <th>full_bath</th>\n",
       "      <th>bsmt_full_bath</th>\n",
       "      <th>gr_liv_area</th>\n",
       "      <th>totrms_abvgrd</th>\n",
       "    </tr>\n",
       "  </thead>\n",
       "  <tbody>\n",
       "    <tr>\n",
       "      <th>191</th>\n",
       "      <td>20</td>\n",
       "      <td>0</td>\n",
       "      <td>2.0</td>\n",
       "      <td>1743</td>\n",
       "      <td>5</td>\n",
       "    </tr>\n",
       "    <tr>\n",
       "      <th>346</th>\n",
       "      <td>80</td>\n",
       "      <td>0</td>\n",
       "      <td>1.0</td>\n",
       "      <td>960</td>\n",
       "      <td>3</td>\n",
       "    </tr>\n",
       "    <tr>\n",
       "      <th>744</th>\n",
       "      <td>90</td>\n",
       "      <td>0</td>\n",
       "      <td>2.0</td>\n",
       "      <td>1258</td>\n",
       "      <td>6</td>\n",
       "    </tr>\n",
       "    <tr>\n",
       "      <th>1308</th>\n",
       "      <td>120</td>\n",
       "      <td>1</td>\n",
       "      <td>1.0</td>\n",
       "      <td>1593</td>\n",
       "      <td>5</td>\n",
       "    </tr>\n",
       "    <tr>\n",
       "      <th>1571</th>\n",
       "      <td>20</td>\n",
       "      <td>0</td>\n",
       "      <td>2.0</td>\n",
       "      <td>1842</td>\n",
       "      <td>5</td>\n",
       "    </tr>\n",
       "  </tbody>\n",
       "</table>\n",
       "</div>"
      ],
      "text/plain": [
       "      ms_subclass  full_bath  bsmt_full_bath  gr_liv_area  totrms_abvgrd\n",
       "191            20          0             2.0         1743              5\n",
       "346            80          0             1.0          960              3\n",
       "744            90          0             2.0         1258              6\n",
       "1308          120          1             1.0         1593              5\n",
       "1571           20          0             2.0         1842              5"
      ]
     },
     "execution_count": 32,
     "metadata": {},
     "output_type": "execute_result"
    }
   ],
   "source": [
    "# looking at potential patterns in houses without bedrooms\n",
    "train[train['bedroom_abvgr'] == 0][['ms_subclass', \n",
    "                                    'full_bath', \n",
    "                                    'bsmt_full_bath',\n",
    "                                    'gr_liv_area',\n",
    "                                    'totrms_abvgrd']]"
   ]
  },
  {
   "cell_type": "code",
   "execution_count": 33,
   "metadata": {},
   "outputs": [
    {
     "data": {
      "image/png": "[encoded data removed]",
      "text/plain": [
       "<Figure size 432x288 with 1 Axes>"
      ]
     },
     "metadata": {
      "needs_background": "light"
     },
     "output_type": "display_data"
    }
   ],
   "source": [
    "hist_1 = plt.hist(train['bedroom_abvgr']);"
   ]
  },
  {
   "cell_type": "code",
   "execution_count": 34,
   "metadata": {},
   "outputs": [
    {
     "data": {
      "text/html": [
       "<div>\n",
       "<style scoped>\n",
       "    .dataframe tbody tr th:only-of-type {\n",
       "        vertical-align: middle;\n",
       "    }\n",
       "\n",
       "    .dataframe tbody tr th {\n",
       "        vertical-align: top;\n",
       "    }\n",
       "\n",
       "    .dataframe thead th {\n",
       "        text-align: right;\n",
       "    }\n",
       "</style>\n",
       "<table border=\"1\" class=\"dataframe\">\n",
       "  <thead>\n",
       "    <tr style=\"text-align: right;\">\n",
       "      <th></th>\n",
       "      <th></th>\n",
       "      <th>bedroom_abvgr</th>\n",
       "    </tr>\n",
       "    <tr>\n",
       "      <th>ms_subclass</th>\n",
       "      <th>bsmt_full_bath</th>\n",
       "      <th></th>\n",
       "    </tr>\n",
       "  </thead>\n",
       "  <tbody>\n",
       "    <tr>\n",
       "      <th rowspan=\"3\" valign=\"top\">20</th>\n",
       "      <th>0.0</th>\n",
       "      <td>2.752000</td>\n",
       "    </tr>\n",
       "    <tr>\n",
       "      <th>1.0</th>\n",
       "      <td>2.645995</td>\n",
       "    </tr>\n",
       "    <tr>\n",
       "      <th>2.0</th>\n",
       "      <td>2.500000</td>\n",
       "    </tr>\n",
       "    <tr>\n",
       "      <th rowspan=\"2\" valign=\"top\">30</th>\n",
       "      <th>0.0</th>\n",
       "      <td>2.060976</td>\n",
       "    </tr>\n",
       "    <tr>\n",
       "      <th>1.0</th>\n",
       "      <td>2.000000</td>\n",
       "    </tr>\n",
       "    <tr>\n",
       "      <th rowspan=\"2\" valign=\"top\">40</th>\n",
       "      <th>0.0</th>\n",
       "      <td>2.500000</td>\n",
       "    </tr>\n",
       "    <tr>\n",
       "      <th>1.0</th>\n",
       "      <td>1.500000</td>\n",
       "    </tr>\n",
       "    <tr>\n",
       "      <th rowspan=\"2\" valign=\"top\">45</th>\n",
       "      <th>0.0</th>\n",
       "      <td>2.222222</td>\n",
       "    </tr>\n",
       "    <tr>\n",
       "      <th>1.0</th>\n",
       "      <td>2.000000</td>\n",
       "    </tr>\n",
       "    <tr>\n",
       "      <th rowspan=\"2\" valign=\"top\">50</th>\n",
       "      <th>0.0</th>\n",
       "      <td>3.079268</td>\n",
       "    </tr>\n",
       "    <tr>\n",
       "      <th>1.0</th>\n",
       "      <td>3.117647</td>\n",
       "    </tr>\n",
       "    <tr>\n",
       "      <th rowspan=\"2\" valign=\"top\">60</th>\n",
       "      <th>0.0</th>\n",
       "      <td>3.373984</td>\n",
       "    </tr>\n",
       "    <tr>\n",
       "      <th>1.0</th>\n",
       "      <td>3.346939</td>\n",
       "    </tr>\n",
       "    <tr>\n",
       "      <th rowspan=\"3\" valign=\"top\">70</th>\n",
       "      <th>0.0</th>\n",
       "      <td>3.219178</td>\n",
       "    </tr>\n",
       "    <tr>\n",
       "      <th>1.0</th>\n",
       "      <td>3.375000</td>\n",
       "    </tr>\n",
       "    <tr>\n",
       "      <th>2.0</th>\n",
       "      <td>3.000000</td>\n",
       "    </tr>\n",
       "    <tr>\n",
       "      <th rowspan=\"2\" valign=\"top\">75</th>\n",
       "      <th>0.0</th>\n",
       "      <td>3.400000</td>\n",
       "    </tr>\n",
       "    <tr>\n",
       "      <th>1.0</th>\n",
       "      <td>5.000000</td>\n",
       "    </tr>\n",
       "    <tr>\n",
       "      <th rowspan=\"3\" valign=\"top\">80</th>\n",
       "      <th>0.0</th>\n",
       "      <td>3.113636</td>\n",
       "    </tr>\n",
       "    <tr>\n",
       "      <th>1.0</th>\n",
       "      <td>2.923077</td>\n",
       "    </tr>\n",
       "    <tr>\n",
       "      <th>2.0</th>\n",
       "      <td>3.000000</td>\n",
       "    </tr>\n",
       "    <tr>\n",
       "      <th rowspan=\"2\" valign=\"top\">85</th>\n",
       "      <th>0.0</th>\n",
       "      <td>2.857143</td>\n",
       "    </tr>\n",
       "    <tr>\n",
       "      <th>1.0</th>\n",
       "      <td>2.285714</td>\n",
       "    </tr>\n",
       "    <tr>\n",
       "      <th rowspan=\"4\" valign=\"top\">90</th>\n",
       "      <th>0.0</th>\n",
       "      <td>3.925926</td>\n",
       "    </tr>\n",
       "    <tr>\n",
       "      <th>1.0</th>\n",
       "      <td>3.571429</td>\n",
       "    </tr>\n",
       "    <tr>\n",
       "      <th>2.0</th>\n",
       "      <td>3.400000</td>\n",
       "    </tr>\n",
       "    <tr>\n",
       "      <th>3.0</th>\n",
       "      <td>3.000000</td>\n",
       "    </tr>\n",
       "    <tr>\n",
       "      <th rowspan=\"3\" valign=\"top\">120</th>\n",
       "      <th>0.0</th>\n",
       "      <td>1.906977</td>\n",
       "    </tr>\n",
       "    <tr>\n",
       "      <th>1.0</th>\n",
       "      <td>1.729412</td>\n",
       "    </tr>\n",
       "    <tr>\n",
       "      <th>2.0</th>\n",
       "      <td>1.500000</td>\n",
       "    </tr>\n",
       "    <tr>\n",
       "      <th>150</th>\n",
       "      <th>1.0</th>\n",
       "      <td>2.000000</td>\n",
       "    </tr>\n",
       "    <tr>\n",
       "      <th rowspan=\"2\" valign=\"top\">160</th>\n",
       "      <th>0.0</th>\n",
       "      <td>2.661765</td>\n",
       "    </tr>\n",
       "    <tr>\n",
       "      <th>1.0</th>\n",
       "      <td>2.500000</td>\n",
       "    </tr>\n",
       "    <tr>\n",
       "      <th>180</th>\n",
       "      <th>1.0</th>\n",
       "      <td>1.636364</td>\n",
       "    </tr>\n",
       "    <tr>\n",
       "      <th rowspan=\"3\" valign=\"top\">190</th>\n",
       "      <th>0.0</th>\n",
       "      <td>3.941176</td>\n",
       "    </tr>\n",
       "    <tr>\n",
       "      <th>1.0</th>\n",
       "      <td>2.785714</td>\n",
       "    </tr>\n",
       "    <tr>\n",
       "      <th>2.0</th>\n",
       "      <td>5.000000</td>\n",
       "    </tr>\n",
       "  </tbody>\n",
       "</table>\n",
       "</div>"
      ],
      "text/plain": [
       "                            bedroom_abvgr\n",
       "ms_subclass bsmt_full_bath               \n",
       "20          0.0                  2.752000\n",
       "            1.0                  2.645995\n",
       "            2.0                  2.500000\n",
       "30          0.0                  2.060976\n",
       "            1.0                  2.000000\n",
       "40          0.0                  2.500000\n",
       "            1.0                  1.500000\n",
       "45          0.0                  2.222222\n",
       "            1.0                  2.000000\n",
       "50          0.0                  3.079268\n",
       "            1.0                  3.117647\n",
       "60          0.0                  3.373984\n",
       "            1.0                  3.346939\n",
       "70          0.0                  3.219178\n",
       "            1.0                  3.375000\n",
       "            2.0                  3.000000\n",
       "75          0.0                  3.400000\n",
       "            1.0                  5.000000\n",
       "80          0.0                  3.113636\n",
       "            1.0                  2.923077\n",
       "            2.0                  3.000000\n",
       "85          0.0                  2.857143\n",
       "            1.0                  2.285714\n",
       "90          0.0                  3.925926\n",
       "            1.0                  3.571429\n",
       "            2.0                  3.400000\n",
       "            3.0                  3.000000\n",
       "120         0.0                  1.906977\n",
       "            1.0                  1.729412\n",
       "            2.0                  1.500000\n",
       "150         1.0                  2.000000\n",
       "160         0.0                  2.661765\n",
       "            1.0                  2.500000\n",
       "180         1.0                  1.636364\n",
       "190         0.0                  3.941176\n",
       "            1.0                  2.785714\n",
       "            2.0                  5.000000"
      ]
     },
     "execution_count": 34,
     "metadata": {},
     "output_type": "execute_result"
    }
   ],
   "source": [
    "#  looking at good values to use as fillers\n",
    "\n",
    "train[(train['bedroom_abvgr'] != 0) & (train['full_bath'] != 0)].groupby([\n",
    "    'ms_subclass', 'bsmt_full_bath'])[[\n",
    "    'bedroom_abvgr']].mean()\n",
    "\n",
    "#https://towardsdatascience.com/using-pandas-transform-and-apply-to-deal-with-missing-data-on-a-group-level-cb6ccf060531"
   ]
  },
  {
   "cell_type": "code",
   "execution_count": 35,
   "metadata": {},
   "outputs": [
    {
     "data": {
      "text/plain": [
       "bsmt_full_bath    -0.159001\n",
       "bsmtfin_sf_1      -0.123762\n",
       "bsmtfin_sf_2      -0.043425\n",
       "year_built        -0.041701\n",
       "3ssn_porch        -0.033853\n",
       "garage_yr_blt     -0.033713\n",
       "year_remod/add    -0.019283\n",
       "yr_sold           -0.012006\n",
       "overall_cond      -0.010119\n",
       "ms_subclass       -0.003955\n",
       "id                 0.011025\n",
       "bsmt_half_bath     0.014693\n",
       "screen_porch       0.019495\n",
       "enclosed_porch     0.032887\n",
       "wood_deck_sf       0.036804\n",
       "overall_qual       0.054692\n",
       "total_bsmt_sf      0.055448\n",
       "open_porch_sf      0.057156\n",
       "mas_vnr_area       0.058298\n",
       "mo_sold            0.069254\n",
       "low_qual_fin_sf    0.073441\n",
       "fireplaces         0.080342\n",
       "garage_cars        0.086767\n",
       "1st_flr_sf         0.099310\n",
       "saleprice          0.137145\n",
       "lot_area           0.143438\n",
       "bsmt_unf_sf        0.191544\n",
       "kitchen_abvgr      0.227188\n",
       "lot_frontage       0.228577\n",
       "half_bath          0.231716\n",
       "full_bath          0.344626\n",
       "2nd_flr_sf         0.503342\n",
       "gr_liv_area        0.526196\n",
       "totrms_abvgrd      0.665009\n",
       "bedroom_abvgr      1.000000\n",
       "Name: bedroom_abvgr, dtype: float64"
      ]
     },
     "execution_count": 35,
     "metadata": {},
     "output_type": "execute_result"
    }
   ],
   "source": [
    "train.corr()['bedroom_abvgr'].sort_values()"
   ]
  },
  {
   "cell_type": "markdown",
   "metadata": {},
   "source": [
    "You can see that the total rooms correlates highly to the total rooms above ground, so I will use that mean to fill the `0` and `NaN` values"
   ]
  },
  {
   "cell_type": "code",
   "execution_count": 36,
   "metadata": {},
   "outputs": [
    {
     "data": {
      "text/plain": [
       "3    1107\n",
       "2     543\n",
       "4     265\n",
       "1      75\n",
       "5      41\n",
       "6      12\n",
       "0       5\n",
       "8       1\n",
       "Name: bedroom_abvgr, dtype: int64"
      ]
     },
     "execution_count": 36,
     "metadata": {},
     "output_type": "execute_result"
    }
   ],
   "source": [
    "train['bedroom_abvgr'].value_counts()"
   ]
  },
  {
   "cell_type": "code",
   "execution_count": 37,
   "metadata": {},
   "outputs": [],
   "source": [
    "# filling 0 bedroom houses with bedrooms\n",
    "\n",
    "#first change 0 to null to be able to fillna()\n",
    "\n",
    "train['bedroom_abvgr'].replace({0: None}, inplace = True)\n"
   ]
  },
  {
   "cell_type": "code",
   "execution_count": 38,
   "metadata": {},
   "outputs": [
    {
     "data": {
      "text/plain": [
       "bedroom_abvgr    5\n",
       "dtype: int64"
      ]
     },
     "execution_count": 38,
     "metadata": {},
     "output_type": "execute_result"
    }
   ],
   "source": [
    "train[['bedroom_abvgr']].isna().sum()"
   ]
  },
  {
   "cell_type": "code",
   "execution_count": 39,
   "metadata": {},
   "outputs": [],
   "source": [
    "# # transforming with just rooms above ground \n",
    "train['bedroom_abvgr'] = train.groupby(['totrms_abvgrd'])['bedroom_abvgr'].transform(\n",
    "    lambda grp: grp.fillna(np.mean(grp)))\n",
    "\n",
    "# https://stackoverflow.com/questions/51189962/how-to-replace-0-values-with-mean-based-on-groupby"
   ]
  },
  {
   "cell_type": "code",
   "execution_count": 40,
   "metadata": {},
   "outputs": [
    {
     "data": {
      "text/plain": [
       "0"
      ]
     },
     "execution_count": 40,
     "metadata": {},
     "output_type": "execute_result"
    }
   ],
   "source": [
    "train['bedroom_abvgr'].isna().sum()"
   ]
  },
  {
   "cell_type": "code",
   "execution_count": 41,
   "metadata": {},
   "outputs": [
    {
     "data": {
      "image/png": "[encoded data removed]",
      "text/plain": [
       "<Figure size 432x288 with 1 Axes>"
      ]
     },
     "metadata": {
      "needs_background": "light"
     },
     "output_type": "display_data"
    }
   ],
   "source": [
    "# making sure the distribution didn't change\n",
    "\n",
    "plt.hist(train['bedroom_abvgr']);"
   ]
  },
  {
   "cell_type": "code",
   "execution_count": 42,
   "metadata": {},
   "outputs": [
    {
     "data": {
      "text/plain": [
       "count    2049.000000\n",
       "mean        2.849198\n",
       "std         0.815870\n",
       "min         1.000000\n",
       "25%         2.000000\n",
       "50%         3.000000\n",
       "75%         3.000000\n",
       "max         8.000000\n",
       "Name: bedroom_abvgr, dtype: float64"
      ]
     },
     "execution_count": 42,
     "metadata": {},
     "output_type": "execute_result"
    }
   ],
   "source": [
    "#checking work\n",
    "\n",
    "train['bedroom_abvgr'].describe()"
   ]
  },
  {
   "cell_type": "markdown",
   "metadata": {},
   "source": [
    "# Checking houses with no full bathrooms at all"
   ]
  },
  {
   "cell_type": "code",
   "execution_count": 43,
   "metadata": {},
   "outputs": [
    {
     "data": {
      "text/html": [
       "<div>\n",
       "<style scoped>\n",
       "    .dataframe tbody tr th:only-of-type {\n",
       "        vertical-align: middle;\n",
       "    }\n",
       "\n",
       "    .dataframe tbody tr th {\n",
       "        vertical-align: top;\n",
       "    }\n",
       "\n",
       "    .dataframe thead th {\n",
       "        text-align: right;\n",
       "    }\n",
       "</style>\n",
       "<table border=\"1\" class=\"dataframe\">\n",
       "  <thead>\n",
       "    <tr style=\"text-align: right;\">\n",
       "      <th></th>\n",
       "      <th>ms_subclass</th>\n",
       "      <th>gr_liv_area</th>\n",
       "      <th>bedroom_abvgr</th>\n",
       "      <th>half_bath</th>\n",
       "      <th>bsmt_full_bath</th>\n",
       "    </tr>\n",
       "  </thead>\n",
       "  <tbody>\n",
       "    <tr>\n",
       "      <th>1280</th>\n",
       "      <td>120</td>\n",
       "      <td>1402</td>\n",
       "      <td>2.0</td>\n",
       "      <td>2</td>\n",
       "      <td>0.0</td>\n",
       "    </tr>\n",
       "  </tbody>\n",
       "</table>\n",
       "</div>"
      ],
      "text/plain": [
       "      ms_subclass  gr_liv_area  bedroom_abvgr  half_bath  bsmt_full_bath\n",
       "1280          120         1402            2.0          2             0.0"
      ]
     },
     "execution_count": 43,
     "metadata": {},
     "output_type": "execute_result"
    }
   ],
   "source": [
    "# checking houses with no full bathrooms at all\n",
    "\n",
    "train[\n",
    "    (train['bsmt_full_bath'] == 0) &\n",
    "    (train['full_bath'] == 0)][['ms_subclass',\n",
    "    'gr_liv_area', 'bedroom_abvgr', 'half_bath', 'bsmt_full_bath']]"
   ]
  },
  {
   "cell_type": "code",
   "execution_count": 44,
   "metadata": {},
   "outputs": [
    {
     "data": {
      "text/html": [
       "<div>\n",
       "<style scoped>\n",
       "    .dataframe tbody tr th:only-of-type {\n",
       "        vertical-align: middle;\n",
       "    }\n",
       "\n",
       "    .dataframe tbody tr th {\n",
       "        vertical-align: top;\n",
       "    }\n",
       "\n",
       "    .dataframe thead th {\n",
       "        text-align: right;\n",
       "    }\n",
       "</style>\n",
       "<table border=\"1\" class=\"dataframe\">\n",
       "  <thead>\n",
       "    <tr style=\"text-align: right;\">\n",
       "      <th></th>\n",
       "      <th></th>\n",
       "      <th></th>\n",
       "      <th>full_bath</th>\n",
       "    </tr>\n",
       "    <tr>\n",
       "      <th>bedroom_abvgr</th>\n",
       "      <th>full_bath</th>\n",
       "      <th>half_bath</th>\n",
       "      <th></th>\n",
       "    </tr>\n",
       "  </thead>\n",
       "  <tbody>\n",
       "    <tr>\n",
       "      <th rowspan=\"3\" valign=\"top\">1.000000</th>\n",
       "      <th rowspan=\"2\" valign=\"top\">1</th>\n",
       "      <th>0</th>\n",
       "      <td>1</td>\n",
       "    </tr>\n",
       "    <tr>\n",
       "      <th>1</th>\n",
       "      <td>1</td>\n",
       "    </tr>\n",
       "    <tr>\n",
       "      <th>2</th>\n",
       "      <th>0</th>\n",
       "      <td>2</td>\n",
       "    </tr>\n",
       "    <tr>\n",
       "      <th rowspan=\"5\" valign=\"top\">2.000000</th>\n",
       "      <th>0</th>\n",
       "      <th>2</th>\n",
       "      <td>0</td>\n",
       "    </tr>\n",
       "    <tr>\n",
       "      <th rowspan=\"2\" valign=\"top\">1</th>\n",
       "      <th>0</th>\n",
       "      <td>1</td>\n",
       "    </tr>\n",
       "    <tr>\n",
       "      <th>1</th>\n",
       "      <td>1</td>\n",
       "    </tr>\n",
       "    <tr>\n",
       "      <th rowspan=\"2\" valign=\"top\">2</th>\n",
       "      <th>0</th>\n",
       "      <td>2</td>\n",
       "    </tr>\n",
       "    <tr>\n",
       "      <th>1</th>\n",
       "      <td>2</td>\n",
       "    </tr>\n",
       "    <tr>\n",
       "      <th>2.386139</th>\n",
       "      <th>1</th>\n",
       "      <th>1</th>\n",
       "      <td>1</td>\n",
       "    </tr>\n",
       "    <tr>\n",
       "      <th rowspan=\"2\" valign=\"top\">3.000000</th>\n",
       "      <th rowspan=\"2\" valign=\"top\">1</th>\n",
       "      <th>0</th>\n",
       "      <td>1</td>\n",
       "    </tr>\n",
       "    <tr>\n",
       "      <th>1</th>\n",
       "      <td>1</td>\n",
       "    </tr>\n",
       "  </tbody>\n",
       "</table>\n",
       "</div>"
      ],
      "text/plain": [
       "                                   full_bath\n",
       "bedroom_abvgr full_bath half_bath           \n",
       "1.000000      1         0                  1\n",
       "                        1                  1\n",
       "              2         0                  2\n",
       "2.000000      0         2                  0\n",
       "              1         0                  1\n",
       "                        1                  1\n",
       "              2         0                  2\n",
       "                        1                  2\n",
       "2.386139      1         1                  1\n",
       "3.000000      1         0                  1\n",
       "                        1                  1"
      ]
     },
     "execution_count": 44,
     "metadata": {},
     "output_type": "execute_result"
    }
   ],
   "source": [
    "# what is the distribution among groups\n",
    "\n",
    "train[train['ms_subclass'] == 120].groupby(['bedroom_abvgr', 'full_bath', \n",
    "                                            'half_bath'])[['full_bath']].mean()"
   ]
  },
  {
   "cell_type": "markdown",
   "metadata": {},
   "source": [
    "Because the null 0 bathroom house are in class 120 and the majority of houses in that group with the same number of bedrooms and half baths, I am filling it with 1."
   ]
  },
  {
   "cell_type": "code",
   "execution_count": 45,
   "metadata": {},
   "outputs": [],
   "source": [
    "train.iloc[1280, train.columns.get_loc('full_bath')] = 1"
   ]
  },
  {
   "cell_type": "markdown",
   "metadata": {},
   "source": [
    "# Dealing with Nulls"
   ]
  },
  {
   "cell_type": "code",
   "execution_count": 46,
   "metadata": {},
   "outputs": [],
   "source": [
    "# making a list of columns to use as reference when grouped columns\n",
    "\n",
    "def get_column_names(df, word):\n",
    "    return [col for col in df.columns if word.lower() in col.lower()]\n",
    "\n",
    "bsmt_cols = get_column_names(train, 'bsmt')\n",
    "gar_cols = get_column_names(train, 'garage')"
   ]
  },
  {
   "cell_type": "code",
   "execution_count": 47,
   "metadata": {},
   "outputs": [],
   "source": [
    "# columns related to deck or porches\n",
    "deck_porch_cols = [col for col in train.columns # garage and porch columns\n",
    "                  if ('porch' in col) | ('deck' in col)]"
   ]
  },
  {
   "cell_type": "code",
   "execution_count": 48,
   "metadata": {},
   "outputs": [
    {
     "data": {
      "text/html": [
       "<div>\n",
       "<style scoped>\n",
       "    .dataframe tbody tr th:only-of-type {\n",
       "        vertical-align: middle;\n",
       "    }\n",
       "\n",
       "    .dataframe tbody tr th {\n",
       "        vertical-align: top;\n",
       "    }\n",
       "\n",
       "    .dataframe thead th {\n",
       "        text-align: right;\n",
       "    }\n",
       "</style>\n",
       "<table border=\"1\" class=\"dataframe\">\n",
       "  <thead>\n",
       "    <tr style=\"text-align: right;\">\n",
       "      <th></th>\n",
       "      <th>id</th>\n",
       "      <th>ms_subclass</th>\n",
       "      <th>ms_zoning</th>\n",
       "      <th>lot_frontage</th>\n",
       "      <th>lot_area</th>\n",
       "      <th>street</th>\n",
       "      <th>lot_shape</th>\n",
       "      <th>land_contour</th>\n",
       "      <th>utilities</th>\n",
       "      <th>lot_config</th>\n",
       "      <th>...</th>\n",
       "      <th>paved_drive</th>\n",
       "      <th>wood_deck_sf</th>\n",
       "      <th>open_porch_sf</th>\n",
       "      <th>enclosed_porch</th>\n",
       "      <th>3ssn_porch</th>\n",
       "      <th>screen_porch</th>\n",
       "      <th>mo_sold</th>\n",
       "      <th>yr_sold</th>\n",
       "      <th>sale_type</th>\n",
       "      <th>saleprice</th>\n",
       "    </tr>\n",
       "  </thead>\n",
       "  <tbody>\n",
       "  </tbody>\n",
       "</table>\n",
       "<p>0 rows × 71 columns</p>\n",
       "</div>"
      ],
      "text/plain": [
       "Empty DataFrame\n",
       "Columns: [id, ms_subclass, ms_zoning, lot_frontage, lot_area, street, lot_shape, land_contour, utilities, lot_config, land_slope, neighborhood, condition_1, condition_2, bldg_type, house_style, overall_qual, overall_cond, year_built, year_remod/add, roof_style, roof_matl, exterior_1st, exterior_2nd, mas_vnr_type, mas_vnr_area, exter_qual, foundation, bsmt_qual, bsmt_cond, bsmt_exposure, bsmtfin_type_1, bsmtfin_sf_1, bsmtfin_type_2, bsmtfin_sf_2, bsmt_unf_sf, total_bsmt_sf, heating, heating_qc, central_air, electrical, 1st_flr_sf, 2nd_flr_sf, low_qual_fin_sf, gr_liv_area, bsmt_full_bath, bsmt_half_bath, full_bath, half_bath, bedroom_abvgr, kitchen_abvgr, kitchen_qual, totrms_abvgrd, functional, fireplaces, fireplace_qu, garage_type, garage_yr_blt, garage_finish, garage_cars, garage_qual, paved_drive, wood_deck_sf, open_porch_sf, enclosed_porch, 3ssn_porch, screen_porch, mo_sold, yr_sold, sale_type, saleprice]\n",
       "Index: []\n",
       "\n",
       "[0 rows x 71 columns]"
      ]
     },
     "execution_count": 48,
     "metadata": {},
     "output_type": "execute_result"
    }
   ],
   "source": [
    "# checking if any values have no info about the house\n",
    "\n",
    "null_df = train[train.isnull().sum(axis=1) == len(train.columns)] \n",
    "null_df.head()"
   ]
  },
  {
   "cell_type": "code",
   "execution_count": 49,
   "metadata": {},
   "outputs": [
    {
     "data": {
      "text/html": [
       "<div>\n",
       "<style scoped>\n",
       "    .dataframe tbody tr th:only-of-type {\n",
       "        vertical-align: middle;\n",
       "    }\n",
       "\n",
       "    .dataframe tbody tr th {\n",
       "        vertical-align: top;\n",
       "    }\n",
       "\n",
       "    .dataframe thead th {\n",
       "        text-align: right;\n",
       "    }\n",
       "</style>\n",
       "<table border=\"1\" class=\"dataframe\">\n",
       "  <thead>\n",
       "    <tr style=\"text-align: right;\">\n",
       "      <th></th>\n",
       "      <th>id</th>\n",
       "      <th>ms_subclass</th>\n",
       "      <th>ms_zoning</th>\n",
       "      <th>lot_frontage</th>\n",
       "      <th>lot_area</th>\n",
       "      <th>street</th>\n",
       "      <th>lot_shape</th>\n",
       "      <th>land_contour</th>\n",
       "      <th>utilities</th>\n",
       "      <th>lot_config</th>\n",
       "      <th>...</th>\n",
       "      <th>paved_drive</th>\n",
       "      <th>wood_deck_sf</th>\n",
       "      <th>open_porch_sf</th>\n",
       "      <th>enclosed_porch</th>\n",
       "      <th>3ssn_porch</th>\n",
       "      <th>screen_porch</th>\n",
       "      <th>mo_sold</th>\n",
       "      <th>yr_sold</th>\n",
       "      <th>sale_type</th>\n",
       "      <th>saleprice</th>\n",
       "    </tr>\n",
       "  </thead>\n",
       "  <tbody>\n",
       "  </tbody>\n",
       "</table>\n",
       "<p>0 rows × 71 columns</p>\n",
       "</div>"
      ],
      "text/plain": [
       "Empty DataFrame\n",
       "Columns: [id, ms_subclass, ms_zoning, lot_frontage, lot_area, street, lot_shape, land_contour, utilities, lot_config, land_slope, neighborhood, condition_1, condition_2, bldg_type, house_style, overall_qual, overall_cond, year_built, year_remod/add, roof_style, roof_matl, exterior_1st, exterior_2nd, mas_vnr_type, mas_vnr_area, exter_qual, foundation, bsmt_qual, bsmt_cond, bsmt_exposure, bsmtfin_type_1, bsmtfin_sf_1, bsmtfin_type_2, bsmtfin_sf_2, bsmt_unf_sf, total_bsmt_sf, heating, heating_qc, central_air, electrical, 1st_flr_sf, 2nd_flr_sf, low_qual_fin_sf, gr_liv_area, bsmt_full_bath, bsmt_half_bath, full_bath, half_bath, bedroom_abvgr, kitchen_abvgr, kitchen_qual, totrms_abvgrd, functional, fireplaces, fireplace_qu, garage_type, garage_yr_blt, garage_finish, garage_cars, garage_qual, paved_drive, wood_deck_sf, open_porch_sf, enclosed_porch, 3ssn_porch, screen_porch, mo_sold, yr_sold, sale_type, saleprice]\n",
       "Index: []\n",
       "\n",
       "[0 rows x 71 columns]"
      ]
     },
     "execution_count": 49,
     "metadata": {},
     "output_type": "execute_result"
    }
   ],
   "source": [
    "# checking if any houses have total nulls for important factors\n",
    "\n",
    "train[train[['gr_liv_area',\n",
    "             'bedroom_abvgr',\n",
    "             'full_bath',\n",
    "             'half_bath']].isnull().sum(axis = 1) > 1]"
   ]
  },
  {
   "cell_type": "code",
   "execution_count": 50,
   "metadata": {},
   "outputs": [
    {
     "name": "stdout",
     "output_type": "stream",
     "text": [
      "<class 'pandas.core.frame.DataFrame'>\n",
      "Int64Index: 2049 entries, 0 to 2050\n",
      "Data columns (total 71 columns):\n",
      " #   Column           Non-Null Count  Dtype  \n",
      "---  ------           --------------  -----  \n",
      " 0   id               2049 non-null   int64  \n",
      " 1   ms_subclass      2049 non-null   int64  \n",
      " 2   ms_zoning        2049 non-null   object \n",
      " 3   lot_frontage     1719 non-null   float64\n",
      " 4   lot_area         2049 non-null   int64  \n",
      " 5   street           2049 non-null   object \n",
      " 6   lot_shape        2049 non-null   object \n",
      " 7   land_contour     2049 non-null   object \n",
      " 8   utilities        2049 non-null   object \n",
      " 9   lot_config       2049 non-null   object \n",
      " 10  land_slope       2049 non-null   object \n",
      " 11  neighborhood     2049 non-null   object \n",
      " 12  condition_1      2049 non-null   object \n",
      " 13  condition_2      2049 non-null   object \n",
      " 14  bldg_type        2049 non-null   object \n",
      " 15  house_style      2049 non-null   object \n",
      " 16  overall_qual     2049 non-null   int64  \n",
      " 17  overall_cond     2049 non-null   int64  \n",
      " 18  year_built       2049 non-null   int64  \n",
      " 19  year_remod/add   2049 non-null   int64  \n",
      " 20  roof_style       2049 non-null   object \n",
      " 21  roof_matl        2049 non-null   object \n",
      " 22  exterior_1st     2049 non-null   object \n",
      " 23  exterior_2nd     2049 non-null   object \n",
      " 24  mas_vnr_type     2027 non-null   object \n",
      " 25  mas_vnr_area     2027 non-null   float64\n",
      " 26  exter_qual       2049 non-null   object \n",
      " 27  foundation       2049 non-null   object \n",
      " 28  bsmt_qual        1994 non-null   object \n",
      " 29  bsmt_cond        1994 non-null   object \n",
      " 30  bsmt_exposure    1991 non-null   object \n",
      " 31  bsmtfin_type_1   1994 non-null   object \n",
      " 32  bsmtfin_sf_1     2048 non-null   float64\n",
      " 33  bsmtfin_type_2   1993 non-null   object \n",
      " 34  bsmtfin_sf_2     2048 non-null   float64\n",
      " 35  bsmt_unf_sf      2048 non-null   float64\n",
      " 36  total_bsmt_sf    2048 non-null   float64\n",
      " 37  heating          2049 non-null   object \n",
      " 38  heating_qc       2049 non-null   object \n",
      " 39  central_air      2049 non-null   object \n",
      " 40  electrical       2049 non-null   object \n",
      " 41  1st_flr_sf       2049 non-null   int64  \n",
      " 42  2nd_flr_sf       2049 non-null   int64  \n",
      " 43  low_qual_fin_sf  2049 non-null   int64  \n",
      " 44  gr_liv_area      2049 non-null   int64  \n",
      " 45  bsmt_full_bath   2047 non-null   float64\n",
      " 46  bsmt_half_bath   2047 non-null   float64\n",
      " 47  full_bath        2049 non-null   int64  \n",
      " 48  half_bath        2049 non-null   int64  \n",
      " 49  bedroom_abvgr    2049 non-null   float64\n",
      " 50  kitchen_abvgr    2049 non-null   int64  \n",
      " 51  kitchen_qual     2049 non-null   object \n",
      " 52  totrms_abvgrd    2049 non-null   int64  \n",
      " 53  functional       2049 non-null   object \n",
      " 54  fireplaces       2049 non-null   int64  \n",
      " 55  fireplace_qu     1049 non-null   object \n",
      " 56  garage_type      1936 non-null   object \n",
      " 57  garage_yr_blt    1935 non-null   float64\n",
      " 58  garage_finish    1935 non-null   object \n",
      " 59  garage_cars      2048 non-null   float64\n",
      " 60  garage_qual      1935 non-null   object \n",
      " 61  paved_drive      2049 non-null   object \n",
      " 62  wood_deck_sf     2049 non-null   int64  \n",
      " 63  open_porch_sf    2049 non-null   int64  \n",
      " 64  enclosed_porch   2049 non-null   int64  \n",
      " 65  3ssn_porch       2049 non-null   int64  \n",
      " 66  screen_porch     2049 non-null   int64  \n",
      " 67  mo_sold          2049 non-null   int64  \n",
      " 68  yr_sold          2049 non-null   int64  \n",
      " 69  sale_type        2049 non-null   object \n",
      " 70  saleprice        2049 non-null   int64  \n",
      "dtypes: float64(11), int64(24), object(36)\n",
      "memory usage: 1.1+ MB\n"
     ]
    }
   ],
   "source": [
    "train.info()"
   ]
  },
  {
   "cell_type": "code",
   "execution_count": 51,
   "metadata": {
    "scrolled": true
   },
   "outputs": [
    {
     "data": {
      "text/html": [
       "<div>\n",
       "<style scoped>\n",
       "    .dataframe tbody tr th:only-of-type {\n",
       "        vertical-align: middle;\n",
       "    }\n",
       "\n",
       "    .dataframe tbody tr th {\n",
       "        vertical-align: top;\n",
       "    }\n",
       "\n",
       "    .dataframe thead th {\n",
       "        text-align: right;\n",
       "    }\n",
       "</style>\n",
       "<table border=\"1\" class=\"dataframe\">\n",
       "  <thead>\n",
       "    <tr style=\"text-align: right;\">\n",
       "      <th></th>\n",
       "      <th>bsmt_qual</th>\n",
       "      <th>bsmt_cond</th>\n",
       "      <th>bsmt_exposure</th>\n",
       "      <th>bsmtfin_type_1</th>\n",
       "      <th>bsmtfin_sf_1</th>\n",
       "      <th>bsmtfin_type_2</th>\n",
       "      <th>bsmtfin_sf_2</th>\n",
       "      <th>bsmt_unf_sf</th>\n",
       "      <th>total_bsmt_sf</th>\n",
       "      <th>bsmt_full_bath</th>\n",
       "      <th>bsmt_half_bath</th>\n",
       "    </tr>\n",
       "  </thead>\n",
       "  <tbody>\n",
       "    <tr>\n",
       "      <th>12</th>\n",
       "      <td>NaN</td>\n",
       "      <td>NaN</td>\n",
       "      <td>NaN</td>\n",
       "      <td>NaN</td>\n",
       "      <td>0.0</td>\n",
       "      <td>NaN</td>\n",
       "      <td>0.0</td>\n",
       "      <td>0.0</td>\n",
       "      <td>0.0</td>\n",
       "      <td>0.0</td>\n",
       "      <td>0.0</td>\n",
       "    </tr>\n",
       "    <tr>\n",
       "      <th>93</th>\n",
       "      <td>NaN</td>\n",
       "      <td>NaN</td>\n",
       "      <td>NaN</td>\n",
       "      <td>NaN</td>\n",
       "      <td>0.0</td>\n",
       "      <td>NaN</td>\n",
       "      <td>0.0</td>\n",
       "      <td>0.0</td>\n",
       "      <td>0.0</td>\n",
       "      <td>0.0</td>\n",
       "      <td>0.0</td>\n",
       "    </tr>\n",
       "    <tr>\n",
       "      <th>114</th>\n",
       "      <td>NaN</td>\n",
       "      <td>NaN</td>\n",
       "      <td>NaN</td>\n",
       "      <td>NaN</td>\n",
       "      <td>0.0</td>\n",
       "      <td>NaN</td>\n",
       "      <td>0.0</td>\n",
       "      <td>0.0</td>\n",
       "      <td>0.0</td>\n",
       "      <td>0.0</td>\n",
       "      <td>0.0</td>\n",
       "    </tr>\n",
       "    <tr>\n",
       "      <th>146</th>\n",
       "      <td>NaN</td>\n",
       "      <td>NaN</td>\n",
       "      <td>NaN</td>\n",
       "      <td>NaN</td>\n",
       "      <td>0.0</td>\n",
       "      <td>NaN</td>\n",
       "      <td>0.0</td>\n",
       "      <td>0.0</td>\n",
       "      <td>0.0</td>\n",
       "      <td>0.0</td>\n",
       "      <td>0.0</td>\n",
       "    </tr>\n",
       "    <tr>\n",
       "      <th>183</th>\n",
       "      <td>NaN</td>\n",
       "      <td>NaN</td>\n",
       "      <td>NaN</td>\n",
       "      <td>NaN</td>\n",
       "      <td>0.0</td>\n",
       "      <td>NaN</td>\n",
       "      <td>0.0</td>\n",
       "      <td>0.0</td>\n",
       "      <td>0.0</td>\n",
       "      <td>0.0</td>\n",
       "      <td>0.0</td>\n",
       "    </tr>\n",
       "    <tr>\n",
       "      <th>240</th>\n",
       "      <td>NaN</td>\n",
       "      <td>NaN</td>\n",
       "      <td>NaN</td>\n",
       "      <td>NaN</td>\n",
       "      <td>0.0</td>\n",
       "      <td>NaN</td>\n",
       "      <td>0.0</td>\n",
       "      <td>0.0</td>\n",
       "      <td>0.0</td>\n",
       "      <td>0.0</td>\n",
       "      <td>0.0</td>\n",
       "    </tr>\n",
       "    <tr>\n",
       "      <th>249</th>\n",
       "      <td>NaN</td>\n",
       "      <td>NaN</td>\n",
       "      <td>NaN</td>\n",
       "      <td>NaN</td>\n",
       "      <td>0.0</td>\n",
       "      <td>NaN</td>\n",
       "      <td>0.0</td>\n",
       "      <td>0.0</td>\n",
       "      <td>0.0</td>\n",
       "      <td>0.0</td>\n",
       "      <td>0.0</td>\n",
       "    </tr>\n",
       "    <tr>\n",
       "      <th>256</th>\n",
       "      <td>NaN</td>\n",
       "      <td>NaN</td>\n",
       "      <td>NaN</td>\n",
       "      <td>NaN</td>\n",
       "      <td>0.0</td>\n",
       "      <td>NaN</td>\n",
       "      <td>0.0</td>\n",
       "      <td>0.0</td>\n",
       "      <td>0.0</td>\n",
       "      <td>0.0</td>\n",
       "      <td>0.0</td>\n",
       "    </tr>\n",
       "    <tr>\n",
       "      <th>390</th>\n",
       "      <td>NaN</td>\n",
       "      <td>NaN</td>\n",
       "      <td>NaN</td>\n",
       "      <td>NaN</td>\n",
       "      <td>0.0</td>\n",
       "      <td>NaN</td>\n",
       "      <td>0.0</td>\n",
       "      <td>0.0</td>\n",
       "      <td>0.0</td>\n",
       "      <td>0.0</td>\n",
       "      <td>0.0</td>\n",
       "    </tr>\n",
       "    <tr>\n",
       "      <th>437</th>\n",
       "      <td>NaN</td>\n",
       "      <td>NaN</td>\n",
       "      <td>NaN</td>\n",
       "      <td>NaN</td>\n",
       "      <td>0.0</td>\n",
       "      <td>NaN</td>\n",
       "      <td>0.0</td>\n",
       "      <td>0.0</td>\n",
       "      <td>0.0</td>\n",
       "      <td>0.0</td>\n",
       "      <td>0.0</td>\n",
       "    </tr>\n",
       "    <tr>\n",
       "      <th>485</th>\n",
       "      <td>NaN</td>\n",
       "      <td>NaN</td>\n",
       "      <td>NaN</td>\n",
       "      <td>NaN</td>\n",
       "      <td>0.0</td>\n",
       "      <td>NaN</td>\n",
       "      <td>0.0</td>\n",
       "      <td>0.0</td>\n",
       "      <td>0.0</td>\n",
       "      <td>0.0</td>\n",
       "      <td>0.0</td>\n",
       "    </tr>\n",
       "    <tr>\n",
       "      <th>499</th>\n",
       "      <td>NaN</td>\n",
       "      <td>NaN</td>\n",
       "      <td>NaN</td>\n",
       "      <td>NaN</td>\n",
       "      <td>0.0</td>\n",
       "      <td>NaN</td>\n",
       "      <td>0.0</td>\n",
       "      <td>0.0</td>\n",
       "      <td>0.0</td>\n",
       "      <td>0.0</td>\n",
       "      <td>0.0</td>\n",
       "    </tr>\n",
       "    <tr>\n",
       "      <th>514</th>\n",
       "      <td>NaN</td>\n",
       "      <td>NaN</td>\n",
       "      <td>NaN</td>\n",
       "      <td>NaN</td>\n",
       "      <td>0.0</td>\n",
       "      <td>NaN</td>\n",
       "      <td>0.0</td>\n",
       "      <td>0.0</td>\n",
       "      <td>0.0</td>\n",
       "      <td>0.0</td>\n",
       "      <td>0.0</td>\n",
       "    </tr>\n",
       "    <tr>\n",
       "      <th>580</th>\n",
       "      <td>NaN</td>\n",
       "      <td>NaN</td>\n",
       "      <td>NaN</td>\n",
       "      <td>NaN</td>\n",
       "      <td>0.0</td>\n",
       "      <td>NaN</td>\n",
       "      <td>0.0</td>\n",
       "      <td>0.0</td>\n",
       "      <td>0.0</td>\n",
       "      <td>0.0</td>\n",
       "      <td>0.0</td>\n",
       "    </tr>\n",
       "    <tr>\n",
       "      <th>581</th>\n",
       "      <td>NaN</td>\n",
       "      <td>NaN</td>\n",
       "      <td>NaN</td>\n",
       "      <td>NaN</td>\n",
       "      <td>0.0</td>\n",
       "      <td>NaN</td>\n",
       "      <td>0.0</td>\n",
       "      <td>0.0</td>\n",
       "      <td>0.0</td>\n",
       "      <td>0.0</td>\n",
       "      <td>0.0</td>\n",
       "    </tr>\n",
       "    <tr>\n",
       "      <th>616</th>\n",
       "      <td>NaN</td>\n",
       "      <td>NaN</td>\n",
       "      <td>NaN</td>\n",
       "      <td>NaN</td>\n",
       "      <td>0.0</td>\n",
       "      <td>NaN</td>\n",
       "      <td>0.0</td>\n",
       "      <td>0.0</td>\n",
       "      <td>0.0</td>\n",
       "      <td>NaN</td>\n",
       "      <td>NaN</td>\n",
       "    </tr>\n",
       "    <tr>\n",
       "      <th>635</th>\n",
       "      <td>NaN</td>\n",
       "      <td>NaN</td>\n",
       "      <td>NaN</td>\n",
       "      <td>NaN</td>\n",
       "      <td>0.0</td>\n",
       "      <td>NaN</td>\n",
       "      <td>0.0</td>\n",
       "      <td>0.0</td>\n",
       "      <td>0.0</td>\n",
       "      <td>0.0</td>\n",
       "      <td>0.0</td>\n",
       "    </tr>\n",
       "    <tr>\n",
       "      <th>642</th>\n",
       "      <td>NaN</td>\n",
       "      <td>NaN</td>\n",
       "      <td>NaN</td>\n",
       "      <td>NaN</td>\n",
       "      <td>0.0</td>\n",
       "      <td>NaN</td>\n",
       "      <td>0.0</td>\n",
       "      <td>0.0</td>\n",
       "      <td>0.0</td>\n",
       "      <td>0.0</td>\n",
       "      <td>0.0</td>\n",
       "    </tr>\n",
       "    <tr>\n",
       "      <th>696</th>\n",
       "      <td>NaN</td>\n",
       "      <td>NaN</td>\n",
       "      <td>NaN</td>\n",
       "      <td>NaN</td>\n",
       "      <td>0.0</td>\n",
       "      <td>NaN</td>\n",
       "      <td>0.0</td>\n",
       "      <td>0.0</td>\n",
       "      <td>0.0</td>\n",
       "      <td>0.0</td>\n",
       "      <td>0.0</td>\n",
       "    </tr>\n",
       "    <tr>\n",
       "      <th>700</th>\n",
       "      <td>NaN</td>\n",
       "      <td>NaN</td>\n",
       "      <td>NaN</td>\n",
       "      <td>NaN</td>\n",
       "      <td>0.0</td>\n",
       "      <td>NaN</td>\n",
       "      <td>0.0</td>\n",
       "      <td>0.0</td>\n",
       "      <td>0.0</td>\n",
       "      <td>0.0</td>\n",
       "      <td>0.0</td>\n",
       "    </tr>\n",
       "    <tr>\n",
       "      <th>737</th>\n",
       "      <td>NaN</td>\n",
       "      <td>NaN</td>\n",
       "      <td>NaN</td>\n",
       "      <td>NaN</td>\n",
       "      <td>0.0</td>\n",
       "      <td>NaN</td>\n",
       "      <td>0.0</td>\n",
       "      <td>0.0</td>\n",
       "      <td>0.0</td>\n",
       "      <td>0.0</td>\n",
       "      <td>0.0</td>\n",
       "    </tr>\n",
       "    <tr>\n",
       "      <th>772</th>\n",
       "      <td>NaN</td>\n",
       "      <td>NaN</td>\n",
       "      <td>NaN</td>\n",
       "      <td>NaN</td>\n",
       "      <td>0.0</td>\n",
       "      <td>NaN</td>\n",
       "      <td>0.0</td>\n",
       "      <td>0.0</td>\n",
       "      <td>0.0</td>\n",
       "      <td>0.0</td>\n",
       "      <td>0.0</td>\n",
       "    </tr>\n",
       "    <tr>\n",
       "      <th>790</th>\n",
       "      <td>NaN</td>\n",
       "      <td>NaN</td>\n",
       "      <td>NaN</td>\n",
       "      <td>NaN</td>\n",
       "      <td>0.0</td>\n",
       "      <td>NaN</td>\n",
       "      <td>0.0</td>\n",
       "      <td>0.0</td>\n",
       "      <td>0.0</td>\n",
       "      <td>0.0</td>\n",
       "      <td>0.0</td>\n",
       "    </tr>\n",
       "    <tr>\n",
       "      <th>794</th>\n",
       "      <td>NaN</td>\n",
       "      <td>NaN</td>\n",
       "      <td>NaN</td>\n",
       "      <td>NaN</td>\n",
       "      <td>0.0</td>\n",
       "      <td>NaN</td>\n",
       "      <td>0.0</td>\n",
       "      <td>0.0</td>\n",
       "      <td>0.0</td>\n",
       "      <td>0.0</td>\n",
       "      <td>0.0</td>\n",
       "    </tr>\n",
       "    <tr>\n",
       "      <th>924</th>\n",
       "      <td>NaN</td>\n",
       "      <td>NaN</td>\n",
       "      <td>NaN</td>\n",
       "      <td>NaN</td>\n",
       "      <td>0.0</td>\n",
       "      <td>NaN</td>\n",
       "      <td>0.0</td>\n",
       "      <td>0.0</td>\n",
       "      <td>0.0</td>\n",
       "      <td>0.0</td>\n",
       "      <td>0.0</td>\n",
       "    </tr>\n",
       "    <tr>\n",
       "      <th>933</th>\n",
       "      <td>NaN</td>\n",
       "      <td>NaN</td>\n",
       "      <td>NaN</td>\n",
       "      <td>NaN</td>\n",
       "      <td>0.0</td>\n",
       "      <td>NaN</td>\n",
       "      <td>0.0</td>\n",
       "      <td>0.0</td>\n",
       "      <td>0.0</td>\n",
       "      <td>0.0</td>\n",
       "      <td>0.0</td>\n",
       "    </tr>\n",
       "    <tr>\n",
       "      <th>954</th>\n",
       "      <td>NaN</td>\n",
       "      <td>NaN</td>\n",
       "      <td>NaN</td>\n",
       "      <td>NaN</td>\n",
       "      <td>0.0</td>\n",
       "      <td>NaN</td>\n",
       "      <td>0.0</td>\n",
       "      <td>0.0</td>\n",
       "      <td>0.0</td>\n",
       "      <td>0.0</td>\n",
       "      <td>0.0</td>\n",
       "    </tr>\n",
       "    <tr>\n",
       "      <th>1007</th>\n",
       "      <td>NaN</td>\n",
       "      <td>NaN</td>\n",
       "      <td>NaN</td>\n",
       "      <td>NaN</td>\n",
       "      <td>0.0</td>\n",
       "      <td>NaN</td>\n",
       "      <td>0.0</td>\n",
       "      <td>0.0</td>\n",
       "      <td>0.0</td>\n",
       "      <td>0.0</td>\n",
       "      <td>0.0</td>\n",
       "    </tr>\n",
       "    <tr>\n",
       "      <th>1022</th>\n",
       "      <td>NaN</td>\n",
       "      <td>NaN</td>\n",
       "      <td>NaN</td>\n",
       "      <td>NaN</td>\n",
       "      <td>0.0</td>\n",
       "      <td>NaN</td>\n",
       "      <td>0.0</td>\n",
       "      <td>0.0</td>\n",
       "      <td>0.0</td>\n",
       "      <td>0.0</td>\n",
       "      <td>0.0</td>\n",
       "    </tr>\n",
       "    <tr>\n",
       "      <th>1049</th>\n",
       "      <td>NaN</td>\n",
       "      <td>NaN</td>\n",
       "      <td>NaN</td>\n",
       "      <td>NaN</td>\n",
       "      <td>0.0</td>\n",
       "      <td>NaN</td>\n",
       "      <td>0.0</td>\n",
       "      <td>0.0</td>\n",
       "      <td>0.0</td>\n",
       "      <td>0.0</td>\n",
       "      <td>0.0</td>\n",
       "    </tr>\n",
       "    <tr>\n",
       "      <th>1089</th>\n",
       "      <td>NaN</td>\n",
       "      <td>NaN</td>\n",
       "      <td>NaN</td>\n",
       "      <td>NaN</td>\n",
       "      <td>0.0</td>\n",
       "      <td>NaN</td>\n",
       "      <td>0.0</td>\n",
       "      <td>0.0</td>\n",
       "      <td>0.0</td>\n",
       "      <td>0.0</td>\n",
       "      <td>0.0</td>\n",
       "    </tr>\n",
       "    <tr>\n",
       "      <th>1098</th>\n",
       "      <td>NaN</td>\n",
       "      <td>NaN</td>\n",
       "      <td>NaN</td>\n",
       "      <td>NaN</td>\n",
       "      <td>0.0</td>\n",
       "      <td>NaN</td>\n",
       "      <td>0.0</td>\n",
       "      <td>0.0</td>\n",
       "      <td>0.0</td>\n",
       "      <td>0.0</td>\n",
       "      <td>0.0</td>\n",
       "    </tr>\n",
       "    <tr>\n",
       "      <th>1125</th>\n",
       "      <td>NaN</td>\n",
       "      <td>NaN</td>\n",
       "      <td>NaN</td>\n",
       "      <td>NaN</td>\n",
       "      <td>0.0</td>\n",
       "      <td>NaN</td>\n",
       "      <td>0.0</td>\n",
       "      <td>0.0</td>\n",
       "      <td>0.0</td>\n",
       "      <td>0.0</td>\n",
       "      <td>0.0</td>\n",
       "    </tr>\n",
       "    <tr>\n",
       "      <th>1147</th>\n",
       "      <td>Gd</td>\n",
       "      <td>TA</td>\n",
       "      <td>No</td>\n",
       "      <td>GLQ</td>\n",
       "      <td>1124.0</td>\n",
       "      <td>NaN</td>\n",
       "      <td>479.0</td>\n",
       "      <td>1603.0</td>\n",
       "      <td>3206.0</td>\n",
       "      <td>1.0</td>\n",
       "      <td>0.0</td>\n",
       "    </tr>\n",
       "    <tr>\n",
       "      <th>1157</th>\n",
       "      <td>NaN</td>\n",
       "      <td>NaN</td>\n",
       "      <td>NaN</td>\n",
       "      <td>NaN</td>\n",
       "      <td>0.0</td>\n",
       "      <td>NaN</td>\n",
       "      <td>0.0</td>\n",
       "      <td>0.0</td>\n",
       "      <td>0.0</td>\n",
       "      <td>0.0</td>\n",
       "      <td>0.0</td>\n",
       "    </tr>\n",
       "    <tr>\n",
       "      <th>1211</th>\n",
       "      <td>NaN</td>\n",
       "      <td>NaN</td>\n",
       "      <td>NaN</td>\n",
       "      <td>NaN</td>\n",
       "      <td>0.0</td>\n",
       "      <td>NaN</td>\n",
       "      <td>0.0</td>\n",
       "      <td>0.0</td>\n",
       "      <td>0.0</td>\n",
       "      <td>0.0</td>\n",
       "      <td>0.0</td>\n",
       "    </tr>\n",
       "    <tr>\n",
       "      <th>1222</th>\n",
       "      <td>NaN</td>\n",
       "      <td>NaN</td>\n",
       "      <td>NaN</td>\n",
       "      <td>NaN</td>\n",
       "      <td>0.0</td>\n",
       "      <td>NaN</td>\n",
       "      <td>0.0</td>\n",
       "      <td>0.0</td>\n",
       "      <td>0.0</td>\n",
       "      <td>0.0</td>\n",
       "      <td>0.0</td>\n",
       "    </tr>\n",
       "    <tr>\n",
       "      <th>1252</th>\n",
       "      <td>NaN</td>\n",
       "      <td>NaN</td>\n",
       "      <td>NaN</td>\n",
       "      <td>NaN</td>\n",
       "      <td>0.0</td>\n",
       "      <td>NaN</td>\n",
       "      <td>0.0</td>\n",
       "      <td>0.0</td>\n",
       "      <td>0.0</td>\n",
       "      <td>0.0</td>\n",
       "      <td>0.0</td>\n",
       "    </tr>\n",
       "    <tr>\n",
       "      <th>1256</th>\n",
       "      <td>NaN</td>\n",
       "      <td>NaN</td>\n",
       "      <td>NaN</td>\n",
       "      <td>NaN</td>\n",
       "      <td>0.0</td>\n",
       "      <td>NaN</td>\n",
       "      <td>0.0</td>\n",
       "      <td>0.0</td>\n",
       "      <td>0.0</td>\n",
       "      <td>0.0</td>\n",
       "      <td>0.0</td>\n",
       "    </tr>\n",
       "    <tr>\n",
       "      <th>1270</th>\n",
       "      <td>NaN</td>\n",
       "      <td>NaN</td>\n",
       "      <td>NaN</td>\n",
       "      <td>NaN</td>\n",
       "      <td>0.0</td>\n",
       "      <td>NaN</td>\n",
       "      <td>0.0</td>\n",
       "      <td>0.0</td>\n",
       "      <td>0.0</td>\n",
       "      <td>0.0</td>\n",
       "      <td>0.0</td>\n",
       "    </tr>\n",
       "    <tr>\n",
       "      <th>1327</th>\n",
       "      <td>NaN</td>\n",
       "      <td>NaN</td>\n",
       "      <td>NaN</td>\n",
       "      <td>NaN</td>\n",
       "      <td>NaN</td>\n",
       "      <td>NaN</td>\n",
       "      <td>NaN</td>\n",
       "      <td>NaN</td>\n",
       "      <td>NaN</td>\n",
       "      <td>NaN</td>\n",
       "      <td>NaN</td>\n",
       "    </tr>\n",
       "    <tr>\n",
       "      <th>1331</th>\n",
       "      <td>NaN</td>\n",
       "      <td>NaN</td>\n",
       "      <td>NaN</td>\n",
       "      <td>NaN</td>\n",
       "      <td>0.0</td>\n",
       "      <td>NaN</td>\n",
       "      <td>0.0</td>\n",
       "      <td>0.0</td>\n",
       "      <td>0.0</td>\n",
       "      <td>0.0</td>\n",
       "      <td>0.0</td>\n",
       "    </tr>\n",
       "    <tr>\n",
       "      <th>1377</th>\n",
       "      <td>NaN</td>\n",
       "      <td>NaN</td>\n",
       "      <td>NaN</td>\n",
       "      <td>NaN</td>\n",
       "      <td>0.0</td>\n",
       "      <td>NaN</td>\n",
       "      <td>0.0</td>\n",
       "      <td>0.0</td>\n",
       "      <td>0.0</td>\n",
       "      <td>0.0</td>\n",
       "      <td>0.0</td>\n",
       "    </tr>\n",
       "    <tr>\n",
       "      <th>1387</th>\n",
       "      <td>NaN</td>\n",
       "      <td>NaN</td>\n",
       "      <td>NaN</td>\n",
       "      <td>NaN</td>\n",
       "      <td>0.0</td>\n",
       "      <td>NaN</td>\n",
       "      <td>0.0</td>\n",
       "      <td>0.0</td>\n",
       "      <td>0.0</td>\n",
       "      <td>0.0</td>\n",
       "      <td>0.0</td>\n",
       "    </tr>\n",
       "    <tr>\n",
       "      <th>1428</th>\n",
       "      <td>NaN</td>\n",
       "      <td>NaN</td>\n",
       "      <td>NaN</td>\n",
       "      <td>NaN</td>\n",
       "      <td>0.0</td>\n",
       "      <td>NaN</td>\n",
       "      <td>0.0</td>\n",
       "      <td>0.0</td>\n",
       "      <td>0.0</td>\n",
       "      <td>0.0</td>\n",
       "      <td>0.0</td>\n",
       "    </tr>\n",
       "    <tr>\n",
       "      <th>1456</th>\n",
       "      <td>Gd</td>\n",
       "      <td>TA</td>\n",
       "      <td>NaN</td>\n",
       "      <td>Unf</td>\n",
       "      <td>0.0</td>\n",
       "      <td>Unf</td>\n",
       "      <td>0.0</td>\n",
       "      <td>725.0</td>\n",
       "      <td>725.0</td>\n",
       "      <td>0.0</td>\n",
       "      <td>0.0</td>\n",
       "    </tr>\n",
       "    <tr>\n",
       "      <th>1481</th>\n",
       "      <td>NaN</td>\n",
       "      <td>NaN</td>\n",
       "      <td>NaN</td>\n",
       "      <td>NaN</td>\n",
       "      <td>0.0</td>\n",
       "      <td>NaN</td>\n",
       "      <td>0.0</td>\n",
       "      <td>0.0</td>\n",
       "      <td>0.0</td>\n",
       "      <td>0.0</td>\n",
       "      <td>0.0</td>\n",
       "    </tr>\n",
       "    <tr>\n",
       "      <th>1547</th>\n",
       "      <td>Gd</td>\n",
       "      <td>TA</td>\n",
       "      <td>NaN</td>\n",
       "      <td>Unf</td>\n",
       "      <td>0.0</td>\n",
       "      <td>Unf</td>\n",
       "      <td>0.0</td>\n",
       "      <td>1595.0</td>\n",
       "      <td>1595.0</td>\n",
       "      <td>0.0</td>\n",
       "      <td>0.0</td>\n",
       "    </tr>\n",
       "    <tr>\n",
       "      <th>1594</th>\n",
       "      <td>NaN</td>\n",
       "      <td>NaN</td>\n",
       "      <td>NaN</td>\n",
       "      <td>NaN</td>\n",
       "      <td>0.0</td>\n",
       "      <td>NaN</td>\n",
       "      <td>0.0</td>\n",
       "      <td>0.0</td>\n",
       "      <td>0.0</td>\n",
       "      <td>0.0</td>\n",
       "      <td>0.0</td>\n",
       "    </tr>\n",
       "    <tr>\n",
       "      <th>1620</th>\n",
       "      <td>NaN</td>\n",
       "      <td>NaN</td>\n",
       "      <td>NaN</td>\n",
       "      <td>NaN</td>\n",
       "      <td>0.0</td>\n",
       "      <td>NaN</td>\n",
       "      <td>0.0</td>\n",
       "      <td>0.0</td>\n",
       "      <td>0.0</td>\n",
       "      <td>0.0</td>\n",
       "      <td>0.0</td>\n",
       "    </tr>\n",
       "    <tr>\n",
       "      <th>1681</th>\n",
       "      <td>NaN</td>\n",
       "      <td>NaN</td>\n",
       "      <td>NaN</td>\n",
       "      <td>NaN</td>\n",
       "      <td>0.0</td>\n",
       "      <td>NaN</td>\n",
       "      <td>0.0</td>\n",
       "      <td>0.0</td>\n",
       "      <td>0.0</td>\n",
       "      <td>0.0</td>\n",
       "      <td>0.0</td>\n",
       "    </tr>\n",
       "    <tr>\n",
       "      <th>1684</th>\n",
       "      <td>NaN</td>\n",
       "      <td>NaN</td>\n",
       "      <td>NaN</td>\n",
       "      <td>NaN</td>\n",
       "      <td>0.0</td>\n",
       "      <td>NaN</td>\n",
       "      <td>0.0</td>\n",
       "      <td>0.0</td>\n",
       "      <td>0.0</td>\n",
       "      <td>0.0</td>\n",
       "      <td>0.0</td>\n",
       "    </tr>\n",
       "    <tr>\n",
       "      <th>1686</th>\n",
       "      <td>NaN</td>\n",
       "      <td>NaN</td>\n",
       "      <td>NaN</td>\n",
       "      <td>NaN</td>\n",
       "      <td>0.0</td>\n",
       "      <td>NaN</td>\n",
       "      <td>0.0</td>\n",
       "      <td>0.0</td>\n",
       "      <td>0.0</td>\n",
       "      <td>0.0</td>\n",
       "      <td>0.0</td>\n",
       "    </tr>\n",
       "    <tr>\n",
       "      <th>1859</th>\n",
       "      <td>NaN</td>\n",
       "      <td>NaN</td>\n",
       "      <td>NaN</td>\n",
       "      <td>NaN</td>\n",
       "      <td>0.0</td>\n",
       "      <td>NaN</td>\n",
       "      <td>0.0</td>\n",
       "      <td>0.0</td>\n",
       "      <td>0.0</td>\n",
       "      <td>0.0</td>\n",
       "      <td>0.0</td>\n",
       "    </tr>\n",
       "    <tr>\n",
       "      <th>1875</th>\n",
       "      <td>NaN</td>\n",
       "      <td>NaN</td>\n",
       "      <td>NaN</td>\n",
       "      <td>NaN</td>\n",
       "      <td>0.0</td>\n",
       "      <td>NaN</td>\n",
       "      <td>0.0</td>\n",
       "      <td>0.0</td>\n",
       "      <td>0.0</td>\n",
       "      <td>0.0</td>\n",
       "      <td>0.0</td>\n",
       "    </tr>\n",
       "    <tr>\n",
       "      <th>1889</th>\n",
       "      <td>NaN</td>\n",
       "      <td>NaN</td>\n",
       "      <td>NaN</td>\n",
       "      <td>NaN</td>\n",
       "      <td>0.0</td>\n",
       "      <td>NaN</td>\n",
       "      <td>0.0</td>\n",
       "      <td>0.0</td>\n",
       "      <td>0.0</td>\n",
       "      <td>0.0</td>\n",
       "      <td>0.0</td>\n",
       "    </tr>\n",
       "    <tr>\n",
       "      <th>1933</th>\n",
       "      <td>NaN</td>\n",
       "      <td>NaN</td>\n",
       "      <td>NaN</td>\n",
       "      <td>NaN</td>\n",
       "      <td>0.0</td>\n",
       "      <td>NaN</td>\n",
       "      <td>0.0</td>\n",
       "      <td>0.0</td>\n",
       "      <td>0.0</td>\n",
       "      <td>0.0</td>\n",
       "      <td>0.0</td>\n",
       "    </tr>\n",
       "    <tr>\n",
       "      <th>1997</th>\n",
       "      <td>Gd</td>\n",
       "      <td>TA</td>\n",
       "      <td>NaN</td>\n",
       "      <td>Unf</td>\n",
       "      <td>0.0</td>\n",
       "      <td>Unf</td>\n",
       "      <td>0.0</td>\n",
       "      <td>936.0</td>\n",
       "      <td>936.0</td>\n",
       "      <td>0.0</td>\n",
       "      <td>0.0</td>\n",
       "    </tr>\n",
       "    <tr>\n",
       "      <th>2010</th>\n",
       "      <td>NaN</td>\n",
       "      <td>NaN</td>\n",
       "      <td>NaN</td>\n",
       "      <td>NaN</td>\n",
       "      <td>0.0</td>\n",
       "      <td>NaN</td>\n",
       "      <td>0.0</td>\n",
       "      <td>0.0</td>\n",
       "      <td>0.0</td>\n",
       "      <td>0.0</td>\n",
       "      <td>0.0</td>\n",
       "    </tr>\n",
       "  </tbody>\n",
       "</table>\n",
       "</div>"
      ],
      "text/plain": [
       "     bsmt_qual bsmt_cond bsmt_exposure bsmtfin_type_1  bsmtfin_sf_1  \\\n",
       "12         NaN       NaN           NaN            NaN           0.0   \n",
       "93         NaN       NaN           NaN            NaN           0.0   \n",
       "114        NaN       NaN           NaN            NaN           0.0   \n",
       "146        NaN       NaN           NaN            NaN           0.0   \n",
       "183        NaN       NaN           NaN            NaN           0.0   \n",
       "240        NaN       NaN           NaN            NaN           0.0   \n",
       "249        NaN       NaN           NaN            NaN           0.0   \n",
       "256        NaN       NaN           NaN            NaN           0.0   \n",
       "390        NaN       NaN           NaN            NaN           0.0   \n",
       "437        NaN       NaN           NaN            NaN           0.0   \n",
       "485        NaN       NaN           NaN            NaN           0.0   \n",
       "499        NaN       NaN           NaN            NaN           0.0   \n",
       "514        NaN       NaN           NaN            NaN           0.0   \n",
       "580        NaN       NaN           NaN            NaN           0.0   \n",
       "581        NaN       NaN           NaN            NaN           0.0   \n",
       "616        NaN       NaN           NaN            NaN           0.0   \n",
       "635        NaN       NaN           NaN            NaN           0.0   \n",
       "642        NaN       NaN           NaN            NaN           0.0   \n",
       "696        NaN       NaN           NaN            NaN           0.0   \n",
       "700        NaN       NaN           NaN            NaN           0.0   \n",
       "737        NaN       NaN           NaN            NaN           0.0   \n",
       "772        NaN       NaN           NaN            NaN           0.0   \n",
       "790        NaN       NaN           NaN            NaN           0.0   \n",
       "794        NaN       NaN           NaN            NaN           0.0   \n",
       "924        NaN       NaN           NaN            NaN           0.0   \n",
       "933        NaN       NaN           NaN            NaN           0.0   \n",
       "954        NaN       NaN           NaN            NaN           0.0   \n",
       "1007       NaN       NaN           NaN            NaN           0.0   \n",
       "1022       NaN       NaN           NaN            NaN           0.0   \n",
       "1049       NaN       NaN           NaN            NaN           0.0   \n",
       "1089       NaN       NaN           NaN            NaN           0.0   \n",
       "1098       NaN       NaN           NaN            NaN           0.0   \n",
       "1125       NaN       NaN           NaN            NaN           0.0   \n",
       "1147        Gd        TA            No            GLQ        1124.0   \n",
       "1157       NaN       NaN           NaN            NaN           0.0   \n",
       "1211       NaN       NaN           NaN            NaN           0.0   \n",
       "1222       NaN       NaN           NaN            NaN           0.0   \n",
       "1252       NaN       NaN           NaN            NaN           0.0   \n",
       "1256       NaN       NaN           NaN            NaN           0.0   \n",
       "1270       NaN       NaN           NaN            NaN           0.0   \n",
       "1327       NaN       NaN           NaN            NaN           NaN   \n",
       "1331       NaN       NaN           NaN            NaN           0.0   \n",
       "1377       NaN       NaN           NaN            NaN           0.0   \n",
       "1387       NaN       NaN           NaN            NaN           0.0   \n",
       "1428       NaN       NaN           NaN            NaN           0.0   \n",
       "1456        Gd        TA           NaN            Unf           0.0   \n",
       "1481       NaN       NaN           NaN            NaN           0.0   \n",
       "1547        Gd        TA           NaN            Unf           0.0   \n",
       "1594       NaN       NaN           NaN            NaN           0.0   \n",
       "1620       NaN       NaN           NaN            NaN           0.0   \n",
       "1681       NaN       NaN           NaN            NaN           0.0   \n",
       "1684       NaN       NaN           NaN            NaN           0.0   \n",
       "1686       NaN       NaN           NaN            NaN           0.0   \n",
       "1859       NaN       NaN           NaN            NaN           0.0   \n",
       "1875       NaN       NaN           NaN            NaN           0.0   \n",
       "1889       NaN       NaN           NaN            NaN           0.0   \n",
       "1933       NaN       NaN           NaN            NaN           0.0   \n",
       "1997        Gd        TA           NaN            Unf           0.0   \n",
       "2010       NaN       NaN           NaN            NaN           0.0   \n",
       "\n",
       "     bsmtfin_type_2  bsmtfin_sf_2  bsmt_unf_sf  total_bsmt_sf  bsmt_full_bath  \\\n",
       "12              NaN           0.0          0.0            0.0             0.0   \n",
       "93              NaN           0.0          0.0            0.0             0.0   \n",
       "114             NaN           0.0          0.0            0.0             0.0   \n",
       "146             NaN           0.0          0.0            0.0             0.0   \n",
       "183             NaN           0.0          0.0            0.0             0.0   \n",
       "240             NaN           0.0          0.0            0.0             0.0   \n",
       "249             NaN           0.0          0.0            0.0             0.0   \n",
       "256             NaN           0.0          0.0            0.0             0.0   \n",
       "390             NaN           0.0          0.0            0.0             0.0   \n",
       "437             NaN           0.0          0.0            0.0             0.0   \n",
       "485             NaN           0.0          0.0            0.0             0.0   \n",
       "499             NaN           0.0          0.0            0.0             0.0   \n",
       "514             NaN           0.0          0.0            0.0             0.0   \n",
       "580             NaN           0.0          0.0            0.0             0.0   \n",
       "581             NaN           0.0          0.0            0.0             0.0   \n",
       "616             NaN           0.0          0.0            0.0             NaN   \n",
       "635             NaN           0.0          0.0            0.0             0.0   \n",
       "642             NaN           0.0          0.0            0.0             0.0   \n",
       "696             NaN           0.0          0.0            0.0             0.0   \n",
       "700             NaN           0.0          0.0            0.0             0.0   \n",
       "737             NaN           0.0          0.0            0.0             0.0   \n",
       "772             NaN           0.0          0.0            0.0             0.0   \n",
       "790             NaN           0.0          0.0            0.0             0.0   \n",
       "794             NaN           0.0          0.0            0.0             0.0   \n",
       "924             NaN           0.0          0.0            0.0             0.0   \n",
       "933             NaN           0.0          0.0            0.0             0.0   \n",
       "954             NaN           0.0          0.0            0.0             0.0   \n",
       "1007            NaN           0.0          0.0            0.0             0.0   \n",
       "1022            NaN           0.0          0.0            0.0             0.0   \n",
       "1049            NaN           0.0          0.0            0.0             0.0   \n",
       "1089            NaN           0.0          0.0            0.0             0.0   \n",
       "1098            NaN           0.0          0.0            0.0             0.0   \n",
       "1125            NaN           0.0          0.0            0.0             0.0   \n",
       "1147            NaN         479.0       1603.0         3206.0             1.0   \n",
       "1157            NaN           0.0          0.0            0.0             0.0   \n",
       "1211            NaN           0.0          0.0            0.0             0.0   \n",
       "1222            NaN           0.0          0.0            0.0             0.0   \n",
       "1252            NaN           0.0          0.0            0.0             0.0   \n",
       "1256            NaN           0.0          0.0            0.0             0.0   \n",
       "1270            NaN           0.0          0.0            0.0             0.0   \n",
       "1327            NaN           NaN          NaN            NaN             NaN   \n",
       "1331            NaN           0.0          0.0            0.0             0.0   \n",
       "1377            NaN           0.0          0.0            0.0             0.0   \n",
       "1387            NaN           0.0          0.0            0.0             0.0   \n",
       "1428            NaN           0.0          0.0            0.0             0.0   \n",
       "1456            Unf           0.0        725.0          725.0             0.0   \n",
       "1481            NaN           0.0          0.0            0.0             0.0   \n",
       "1547            Unf           0.0       1595.0         1595.0             0.0   \n",
       "1594            NaN           0.0          0.0            0.0             0.0   \n",
       "1620            NaN           0.0          0.0            0.0             0.0   \n",
       "1681            NaN           0.0          0.0            0.0             0.0   \n",
       "1684            NaN           0.0          0.0            0.0             0.0   \n",
       "1686            NaN           0.0          0.0            0.0             0.0   \n",
       "1859            NaN           0.0          0.0            0.0             0.0   \n",
       "1875            NaN           0.0          0.0            0.0             0.0   \n",
       "1889            NaN           0.0          0.0            0.0             0.0   \n",
       "1933            NaN           0.0          0.0            0.0             0.0   \n",
       "1997            Unf           0.0        936.0          936.0             0.0   \n",
       "2010            NaN           0.0          0.0            0.0             0.0   \n",
       "\n",
       "      bsmt_half_bath  \n",
       "12               0.0  \n",
       "93               0.0  \n",
       "114              0.0  \n",
       "146              0.0  \n",
       "183              0.0  \n",
       "240              0.0  \n",
       "249              0.0  \n",
       "256              0.0  \n",
       "390              0.0  \n",
       "437              0.0  \n",
       "485              0.0  \n",
       "499              0.0  \n",
       "514              0.0  \n",
       "580              0.0  \n",
       "581              0.0  \n",
       "616              NaN  \n",
       "635              0.0  \n",
       "642              0.0  \n",
       "696              0.0  \n",
       "700              0.0  \n",
       "737              0.0  \n",
       "772              0.0  \n",
       "790              0.0  \n",
       "794              0.0  \n",
       "924              0.0  \n",
       "933              0.0  \n",
       "954              0.0  \n",
       "1007             0.0  \n",
       "1022             0.0  \n",
       "1049             0.0  \n",
       "1089             0.0  \n",
       "1098             0.0  \n",
       "1125             0.0  \n",
       "1147             0.0  \n",
       "1157             0.0  \n",
       "1211             0.0  \n",
       "1222             0.0  \n",
       "1252             0.0  \n",
       "1256             0.0  \n",
       "1270             0.0  \n",
       "1327             NaN  \n",
       "1331             0.0  \n",
       "1377             0.0  \n",
       "1387             0.0  \n",
       "1428             0.0  \n",
       "1456             0.0  \n",
       "1481             0.0  \n",
       "1547             0.0  \n",
       "1594             0.0  \n",
       "1620             0.0  \n",
       "1681             0.0  \n",
       "1684             0.0  \n",
       "1686             0.0  \n",
       "1859             0.0  \n",
       "1875             0.0  \n",
       "1889             0.0  \n",
       "1933             0.0  \n",
       "1997             0.0  \n",
       "2010             0.0  "
      ]
     },
     "execution_count": 51,
     "metadata": {},
     "output_type": "execute_result"
    }
   ],
   "source": [
    "# checking if basements will null values have anything that needs to be populated \n",
    "\n",
    "train[train[bsmt_cols].isnull().sum(axis=1) > 0][bsmt_cols]"
   ]
  },
  {
   "cell_type": "markdown",
   "metadata": {},
   "source": [
    "It looks like all the nulls are due to those features not being relevent to that house."
   ]
  },
  {
   "cell_type": "code",
   "execution_count": 52,
   "metadata": {},
   "outputs": [],
   "source": [
    "# fill nulls in basement columns where it doesn't apply\n",
    "\n",
    "train[bsmt_cols] = train[bsmt_cols].fillna(0)"
   ]
  },
  {
   "cell_type": "code",
   "execution_count": 53,
   "metadata": {},
   "outputs": [
    {
     "data": {
      "text/plain": [
       "(1994, 71)"
      ]
     },
     "execution_count": 53,
     "metadata": {},
     "output_type": "execute_result"
    }
   ],
   "source": [
    "train[train['bsmt_qual']!= 0].shape"
   ]
  },
  {
   "cell_type": "code",
   "execution_count": null,
   "metadata": {},
   "outputs": [],
   "source": []
  },
  {
   "cell_type": "code",
   "execution_count": 54,
   "metadata": {
    "scrolled": true
   },
   "outputs": [
    {
     "name": "stdout",
     "output_type": "stream",
     "text": [
      "<class 'pandas.core.frame.DataFrame'>\n",
      "Int64Index: 2049 entries, 0 to 2050\n",
      "Data columns (total 11 columns):\n",
      " #   Column          Non-Null Count  Dtype  \n",
      "---  ------          --------------  -----  \n",
      " 0   bsmt_qual       2049 non-null   object \n",
      " 1   bsmt_cond       2049 non-null   object \n",
      " 2   bsmt_exposure   2049 non-null   object \n",
      " 3   bsmtfin_type_1  2049 non-null   object \n",
      " 4   bsmtfin_sf_1    2049 non-null   float64\n",
      " 5   bsmtfin_type_2  2049 non-null   object \n",
      " 6   bsmtfin_sf_2    2049 non-null   float64\n",
      " 7   bsmt_unf_sf     2049 non-null   float64\n",
      " 8   total_bsmt_sf   2049 non-null   float64\n",
      " 9   bsmt_full_bath  2049 non-null   float64\n",
      " 10  bsmt_half_bath  2049 non-null   float64\n",
      "dtypes: float64(6), object(5)\n",
      "memory usage: 192.1+ KB\n"
     ]
    }
   ],
   "source": [
    "train[bsmt_cols].info()"
   ]
  },
  {
   "cell_type": "markdown",
   "metadata": {},
   "source": [
    "# Garage Nulls"
   ]
  },
  {
   "cell_type": "code",
   "execution_count": 55,
   "metadata": {
    "scrolled": false
   },
   "outputs": [
    {
     "data": {
      "text/html": [
       "<div>\n",
       "<style scoped>\n",
       "    .dataframe tbody tr th:only-of-type {\n",
       "        vertical-align: middle;\n",
       "    }\n",
       "\n",
       "    .dataframe tbody tr th {\n",
       "        vertical-align: top;\n",
       "    }\n",
       "\n",
       "    .dataframe thead th {\n",
       "        text-align: right;\n",
       "    }\n",
       "</style>\n",
       "<table border=\"1\" class=\"dataframe\">\n",
       "  <thead>\n",
       "    <tr style=\"text-align: right;\">\n",
       "      <th></th>\n",
       "      <th>garage_type</th>\n",
       "      <th>garage_yr_blt</th>\n",
       "      <th>garage_finish</th>\n",
       "      <th>garage_cars</th>\n",
       "      <th>garage_qual</th>\n",
       "    </tr>\n",
       "  </thead>\n",
       "  <tbody>\n",
       "    <tr>\n",
       "      <th>28</th>\n",
       "      <td>NaN</td>\n",
       "      <td>NaN</td>\n",
       "      <td>NaN</td>\n",
       "      <td>0.0</td>\n",
       "      <td>NaN</td>\n",
       "    </tr>\n",
       "    <tr>\n",
       "      <th>53</th>\n",
       "      <td>NaN</td>\n",
       "      <td>NaN</td>\n",
       "      <td>NaN</td>\n",
       "      <td>0.0</td>\n",
       "      <td>NaN</td>\n",
       "    </tr>\n",
       "    <tr>\n",
       "      <th>65</th>\n",
       "      <td>NaN</td>\n",
       "      <td>NaN</td>\n",
       "      <td>NaN</td>\n",
       "      <td>0.0</td>\n",
       "      <td>NaN</td>\n",
       "    </tr>\n",
       "    <tr>\n",
       "      <th>79</th>\n",
       "      <td>NaN</td>\n",
       "      <td>NaN</td>\n",
       "      <td>NaN</td>\n",
       "      <td>0.0</td>\n",
       "      <td>NaN</td>\n",
       "    </tr>\n",
       "    <tr>\n",
       "      <th>101</th>\n",
       "      <td>NaN</td>\n",
       "      <td>NaN</td>\n",
       "      <td>NaN</td>\n",
       "      <td>0.0</td>\n",
       "      <td>NaN</td>\n",
       "    </tr>\n",
       "    <tr>\n",
       "      <th>...</th>\n",
       "      <td>...</td>\n",
       "      <td>...</td>\n",
       "      <td>...</td>\n",
       "      <td>...</td>\n",
       "      <td>...</td>\n",
       "    </tr>\n",
       "    <tr>\n",
       "      <th>1991</th>\n",
       "      <td>NaN</td>\n",
       "      <td>NaN</td>\n",
       "      <td>NaN</td>\n",
       "      <td>0.0</td>\n",
       "      <td>NaN</td>\n",
       "    </tr>\n",
       "    <tr>\n",
       "      <th>2010</th>\n",
       "      <td>NaN</td>\n",
       "      <td>NaN</td>\n",
       "      <td>NaN</td>\n",
       "      <td>0.0</td>\n",
       "      <td>NaN</td>\n",
       "    </tr>\n",
       "    <tr>\n",
       "      <th>2027</th>\n",
       "      <td>NaN</td>\n",
       "      <td>NaN</td>\n",
       "      <td>NaN</td>\n",
       "      <td>0.0</td>\n",
       "      <td>NaN</td>\n",
       "    </tr>\n",
       "    <tr>\n",
       "      <th>2039</th>\n",
       "      <td>NaN</td>\n",
       "      <td>NaN</td>\n",
       "      <td>NaN</td>\n",
       "      <td>0.0</td>\n",
       "      <td>NaN</td>\n",
       "    </tr>\n",
       "    <tr>\n",
       "      <th>2042</th>\n",
       "      <td>NaN</td>\n",
       "      <td>NaN</td>\n",
       "      <td>NaN</td>\n",
       "      <td>0.0</td>\n",
       "      <td>NaN</td>\n",
       "    </tr>\n",
       "  </tbody>\n",
       "</table>\n",
       "<p>114 rows × 5 columns</p>\n",
       "</div>"
      ],
      "text/plain": [
       "     garage_type  garage_yr_blt garage_finish  garage_cars garage_qual\n",
       "28           NaN            NaN           NaN          0.0         NaN\n",
       "53           NaN            NaN           NaN          0.0         NaN\n",
       "65           NaN            NaN           NaN          0.0         NaN\n",
       "79           NaN            NaN           NaN          0.0         NaN\n",
       "101          NaN            NaN           NaN          0.0         NaN\n",
       "...          ...            ...           ...          ...         ...\n",
       "1991         NaN            NaN           NaN          0.0         NaN\n",
       "2010         NaN            NaN           NaN          0.0         NaN\n",
       "2027         NaN            NaN           NaN          0.0         NaN\n",
       "2039         NaN            NaN           NaN          0.0         NaN\n",
       "2042         NaN            NaN           NaN          0.0         NaN\n",
       "\n",
       "[114 rows x 5 columns]"
      ]
     },
     "execution_count": 55,
     "metadata": {},
     "output_type": "execute_result"
    }
   ],
   "source": [
    "# check for garage columns where values are missing, but there is a garage\n",
    "\n",
    "train[train[gar_cols].notnull().sum(axis=1) < 2][gar_cols]"
   ]
  },
  {
   "cell_type": "code",
   "execution_count": 56,
   "metadata": {},
   "outputs": [
    {
     "name": "stdout",
     "output_type": "stream",
     "text": [
      "       garage_yr_blt  garage_cars\n",
      "count     535.000000   535.000000\n",
      "mean     1962.261682     1.558879\n",
      "std        26.906948     0.567364\n",
      "min      1895.000000     1.000000\n",
      "25%      1940.000000     1.000000\n",
      "50%      1964.000000     2.000000\n",
      "75%      1983.000000     2.000000\n",
      "max      2009.000000     5.000000\n",
      "garage_type  garage_yr_blt  garage_finish  garage_cars  garage_qual\n",
      "Detchd       1940.0         Unf            1.0          TA             11\n",
      "             1999.0         Unf            2.0          TA             10\n",
      "             2000.0         Unf            2.0          TA             10\n",
      "             1939.0         Unf            1.0          TA              9\n",
      "             1977.0         Unf            2.0          TA              9\n",
      "                                                                       ..\n",
      "             1968.0         Fin            2.0          TA              1\n",
      "                            Unf            2.0          TA              1\n",
      "                                           3.0          TA              1\n",
      "             1969.0         Unf            1.0          Fa              1\n",
      "             1895.0         Unf            1.0          Fa              1\n",
      "Length: 228, dtype: int64\n"
     ]
    }
   ],
   "source": [
    "#finding best values to populate row 1712 with\n",
    "\n",
    "print(train[train['garage_type'] == 'Detchd'][gar_cols].describe())\n",
    "print(train[train['garage_type'] == 'Detchd'][gar_cols].value_counts())"
   ]
  },
  {
   "cell_type": "code",
   "execution_count": 57,
   "metadata": {},
   "outputs": [
    {
     "data": {
      "text/plain": [
       "garage_type      Detchd\n",
       "garage_yr_blt       NaN\n",
       "garage_finish       NaN\n",
       "garage_cars         NaN\n",
       "garage_qual         NaN\n",
       "Name: 1712, dtype: object"
      ]
     },
     "execution_count": 57,
     "metadata": {},
     "output_type": "execute_result"
    }
   ],
   "source": [
    "# checking this again\n",
    "train.loc[1712][gar_cols]"
   ]
  },
  {
   "cell_type": "code",
   "execution_count": 58,
   "metadata": {},
   "outputs": [
    {
     "data": {
      "text/plain": [
       "garage_type      Detchd\n",
       "garage_yr_blt      1964\n",
       "garage_finish       Unf\n",
       "garage_cars           2\n",
       "garage_qual          TA\n",
       "Name: 1712, dtype: object"
      ]
     },
     "execution_count": 58,
     "metadata": {},
     "output_type": "execute_result"
    }
   ],
   "source": [
    "#fixing nulls in the garage with missing values \n",
    "\n",
    "train.loc[1712,['garage_yr_blt', \n",
    "                'garage_finish', \n",
    "                'garage_cars', \n",
    "                'garage_qual']] = [1964,\n",
    "                                   'Unf',\n",
    "                                   2,\n",
    "                                   'TA']\n",
    "train.loc[1712][gar_cols]"
   ]
  },
  {
   "cell_type": "code",
   "execution_count": 59,
   "metadata": {},
   "outputs": [],
   "source": [
    "# filling the other nulls in the garage columns  \n",
    "train[list(train[gar_cols].columns.values)] = train[\n",
    "    list(train[gar_cols].columns.values)].fillna(0)"
   ]
  },
  {
   "cell_type": "code",
   "execution_count": 60,
   "metadata": {},
   "outputs": [
    {
     "data": {
      "text/plain": [
       "garage_type      0\n",
       "garage_yr_blt    0\n",
       "garage_finish    0\n",
       "garage_cars      0\n",
       "garage_qual      0\n",
       "dtype: int64"
      ]
     },
     "execution_count": 60,
     "metadata": {},
     "output_type": "execute_result"
    }
   ],
   "source": [
    "train[gar_cols].isna().sum()"
   ]
  },
  {
   "cell_type": "code",
   "execution_count": 61,
   "metadata": {},
   "outputs": [
    {
     "data": {
      "text/plain": [
       "(Attchd     1211\n",
       " Detchd      536\n",
       " BuiltIn     132\n",
       " 0           113\n",
       " Basment      27\n",
       " 2Types       19\n",
       " CarPort      11\n",
       " Name: garage_type, dtype: int64,\n",
       " 0.0       113\n",
       " 2005.0    105\n",
       " 2007.0     85\n",
       " 2006.0     80\n",
       " 2004.0     72\n",
       "          ... \n",
       " 1895.0      1\n",
       " 1896.0      1\n",
       " 1933.0      1\n",
       " 1919.0      1\n",
       " 1917.0      1\n",
       " Name: garage_yr_blt, Length: 100, dtype: int64,\n",
       " TA    1831\n",
       " 0      113\n",
       " Fa      82\n",
       " Gd      18\n",
       " Ex       3\n",
       " Po       2\n",
       " Name: garage_qual, dtype: int64)"
      ]
     },
     "execution_count": 61,
     "metadata": {},
     "output_type": "execute_result"
    }
   ],
   "source": [
    "#checking value counts for the garage columns\n",
    "\n",
    "train['garage_type'].value_counts(), train[\n",
    "    'garage_yr_blt'].value_counts(), train[\n",
    "    'garage_qual'].value_counts()"
   ]
  },
  {
   "cell_type": "code",
   "execution_count": 62,
   "metadata": {},
   "outputs": [
    {
     "name": "stdout",
     "output_type": "stream",
     "text": [
      "<class 'pandas.core.frame.DataFrame'>\n",
      "Int64Index: 2049 entries, 0 to 2050\n",
      "Data columns (total 5 columns):\n",
      " #   Column         Non-Null Count  Dtype  \n",
      "---  ------         --------------  -----  \n",
      " 0   garage_type    2049 non-null   object \n",
      " 1   garage_yr_blt  2049 non-null   float64\n",
      " 2   garage_finish  2049 non-null   object \n",
      " 3   garage_cars    2049 non-null   float64\n",
      " 4   garage_qual    2049 non-null   object \n",
      "dtypes: float64(2), object(3)\n",
      "memory usage: 176.0+ KB\n"
     ]
    }
   ],
   "source": [
    "train[gar_cols].info()"
   ]
  },
  {
   "cell_type": "code",
   "execution_count": 63,
   "metadata": {},
   "outputs": [
    {
     "data": {
      "text/plain": [
       "ms_zoning         object\n",
       "street            object\n",
       "lot_shape         object\n",
       "land_contour      object\n",
       "utilities         object\n",
       "lot_config        object\n",
       "land_slope        object\n",
       "neighborhood      object\n",
       "condition_1       object\n",
       "condition_2       object\n",
       "bldg_type         object\n",
       "house_style       object\n",
       "roof_style        object\n",
       "roof_matl         object\n",
       "exterior_1st      object\n",
       "exterior_2nd      object\n",
       "mas_vnr_type      object\n",
       "exter_qual        object\n",
       "foundation        object\n",
       "bsmt_qual         object\n",
       "bsmt_cond         object\n",
       "bsmt_exposure     object\n",
       "bsmtfin_type_1    object\n",
       "bsmtfin_type_2    object\n",
       "heating           object\n",
       "heating_qc        object\n",
       "central_air       object\n",
       "electrical        object\n",
       "kitchen_qual      object\n",
       "functional        object\n",
       "fireplace_qu      object\n",
       "garage_type       object\n",
       "garage_finish     object\n",
       "garage_qual       object\n",
       "paved_drive       object\n",
       "sale_type         object\n",
       "dtype: object"
      ]
     },
     "execution_count": 63,
     "metadata": {},
     "output_type": "execute_result"
    }
   ],
   "source": [
    "# checking the that types are correct\n",
    "\n",
    "train.dtypes[train.dtypes == 'object']"
   ]
  },
  {
   "cell_type": "markdown",
   "metadata": {},
   "source": [
    "# Fireplace nulls"
   ]
  },
  {
   "cell_type": "code",
   "execution_count": 64,
   "metadata": {},
   "outputs": [
    {
     "data": {
      "text/html": [
       "<div>\n",
       "<style scoped>\n",
       "    .dataframe tbody tr th:only-of-type {\n",
       "        vertical-align: middle;\n",
       "    }\n",
       "\n",
       "    .dataframe tbody tr th {\n",
       "        vertical-align: top;\n",
       "    }\n",
       "\n",
       "    .dataframe thead th {\n",
       "        text-align: right;\n",
       "    }\n",
       "</style>\n",
       "<table border=\"1\" class=\"dataframe\">\n",
       "  <thead>\n",
       "    <tr style=\"text-align: right;\">\n",
       "      <th></th>\n",
       "      <th>fireplaces</th>\n",
       "      <th>fireplace_qu</th>\n",
       "    </tr>\n",
       "  </thead>\n",
       "  <tbody>\n",
       "  </tbody>\n",
       "</table>\n",
       "</div>"
      ],
      "text/plain": [
       "Empty DataFrame\n",
       "Columns: [fireplaces, fireplace_qu]\n",
       "Index: []"
      ]
     },
     "execution_count": 64,
     "metadata": {},
     "output_type": "execute_result"
    }
   ],
   "source": [
    "# checking if all nulls in fireplace quality don't have fireplaces \n",
    "\n",
    "train[(train['fireplaces'] > 0) & \n",
    "      (train['fireplace_qu'].isnull())][[\n",
    "    'fireplaces',\n",
    "    'fireplace_qu']]"
   ]
  },
  {
   "cell_type": "code",
   "execution_count": 65,
   "metadata": {},
   "outputs": [],
   "source": [
    "# updating nulls in fireplaces\n",
    "\n",
    "train['fireplaces'].fillna(0, inplace = True)\n",
    "train['fireplace_qu'].fillna(0, inplace = True)"
   ]
  },
  {
   "cell_type": "code",
   "execution_count": 66,
   "metadata": {},
   "outputs": [
    {
     "data": {
      "text/plain": [
       "fireplaces      0\n",
       "fireplace_qu    0\n",
       "dtype: int64"
      ]
     },
     "execution_count": 66,
     "metadata": {},
     "output_type": "execute_result"
    }
   ],
   "source": [
    "train[['fireplaces', 'fireplace_qu']].isna().sum()"
   ]
  },
  {
   "cell_type": "code",
   "execution_count": 67,
   "metadata": {},
   "outputs": [
    {
     "data": {
      "text/plain": [
       "(0    1000\n",
       " 1     898\n",
       " 2     145\n",
       " 3       5\n",
       " 4       1\n",
       " Name: fireplaces, dtype: int64,\n",
       " 0     1000\n",
       " Gd     521\n",
       " TA     407\n",
       " Fa      59\n",
       " Po      31\n",
       " Ex      31\n",
       " Name: fireplace_qu, dtype: int64)"
      ]
     },
     "execution_count": 67,
     "metadata": {},
     "output_type": "execute_result"
    }
   ],
   "source": [
    "train['fireplaces'].value_counts(), train['fireplace_qu'].value_counts()"
   ]
  },
  {
   "cell_type": "markdown",
   "metadata": {},
   "source": [
    "# Lot frontage nulls"
   ]
  },
  {
   "cell_type": "code",
   "execution_count": 68,
   "metadata": {
    "scrolled": true
   },
   "outputs": [
    {
     "data": {
      "text/plain": [
       "330"
      ]
     },
     "execution_count": 68,
     "metadata": {},
     "output_type": "execute_result"
    }
   ],
   "source": [
    "train['lot_frontage'].isna().sum()"
   ]
  },
  {
   "cell_type": "code",
   "execution_count": 69,
   "metadata": {},
   "outputs": [
    {
     "data": {
      "text/plain": [
       "count    1719.000000\n",
       "mean       68.878999\n",
       "std        22.472112\n",
       "min        21.000000\n",
       "25%        58.000000\n",
       "50%        68.000000\n",
       "75%        80.000000\n",
       "max       313.000000\n",
       "Name: lot_frontage, dtype: float64"
      ]
     },
     "execution_count": 69,
     "metadata": {},
     "output_type": "execute_result"
    }
   ],
   "source": [
    "train['lot_frontage'].describe()"
   ]
  },
  {
   "cell_type": "code",
   "execution_count": 70,
   "metadata": {},
   "outputs": [
    {
     "data": {
      "text/plain": [
       "ms_subclass       -0.402847\n",
       "overall_cond      -0.052405\n",
       "bsmt_half_bath    -0.036668\n",
       "id                -0.027318\n",
       "mo_sold           -0.008146\n",
       "enclosed_porch    -0.000414\n",
       "low_qual_fin_sf    0.000560\n",
       "2nd_flr_sf         0.005879\n",
       "yr_sold            0.009275\n",
       "kitchen_abvgr      0.018032\n",
       "half_bath          0.026929\n",
       "3ssn_porch         0.033768\n",
       "bsmtfin_sf_2       0.040064\n",
       "year_remod/add     0.079428\n",
       "screen_porch       0.079737\n",
       "garage_yr_blt      0.092270\n",
       "bsmt_full_bath     0.092744\n",
       "year_built         0.104249\n",
       "wood_deck_sf       0.107749\n",
       "bsmt_unf_sf        0.131057\n",
       "bsmtfin_sf_1       0.146586\n",
       "full_bath          0.153287\n",
       "open_porch_sf      0.161155\n",
       "overall_qual       0.181575\n",
       "mas_vnr_area       0.194072\n",
       "bedroom_abvgr      0.235336\n",
       "fireplaces         0.235470\n",
       "total_bsmt_sf      0.301681\n",
       "garage_cars        0.303315\n",
       "gr_liv_area        0.346306\n",
       "totrms_abvgrd      0.349018\n",
       "saleprice          0.355530\n",
       "1st_flr_sf         0.432153\n",
       "lot_area           0.541488\n",
       "lot_frontage       1.000000\n",
       "Name: lot_frontage, dtype: float64"
      ]
     },
     "execution_count": 70,
     "metadata": {},
     "output_type": "execute_result"
    }
   ],
   "source": [
    "train.corr()['lot_frontage'].sort_values()"
   ]
  },
  {
   "cell_type": "code",
   "execution_count": 71,
   "metadata": {},
   "outputs": [],
   "source": [
    "# train['lot_frontage'] = train.groupby(['ms_zoning',\n",
    "#                                  'lot_area'])[\n",
    "#     'lot_frontage'].transform(lambda x: x.fillna(x.mean()))"
   ]
  },
  {
   "cell_type": "code",
   "execution_count": 72,
   "metadata": {},
   "outputs": [
    {
     "data": {
      "text/plain": [
       "330"
      ]
     },
     "execution_count": 72,
     "metadata": {},
     "output_type": "execute_result"
    }
   ],
   "source": [
    "train['lot_frontage'].isna().sum()"
   ]
  },
  {
   "cell_type": "code",
   "execution_count": 73,
   "metadata": {},
   "outputs": [
    {
     "name": "stdout",
     "output_type": "stream",
     "text": [
      "float64\n"
     ]
    }
   ],
   "source": [
    "print(train['lot_frontage'].dtype)"
   ]
  },
  {
   "cell_type": "code",
   "execution_count": 74,
   "metadata": {},
   "outputs": [],
   "source": [
    "train['lot_frontage'] = train.groupby(['ms_subclass'])[\n",
    "    'lot_frontage'].transform(lambda grp: grp.fillna(np.mean(grp)))"
   ]
  },
  {
   "cell_type": "code",
   "execution_count": 75,
   "metadata": {},
   "outputs": [],
   "source": [
    "train['lot_frontage'].fillna(0, inplace = True)"
   ]
  },
  {
   "cell_type": "code",
   "execution_count": 76,
   "metadata": {},
   "outputs": [
    {
     "data": {
      "text/html": [
       "<div>\n",
       "<style scoped>\n",
       "    .dataframe tbody tr th:only-of-type {\n",
       "        vertical-align: middle;\n",
       "    }\n",
       "\n",
       "    .dataframe tbody tr th {\n",
       "        vertical-align: top;\n",
       "    }\n",
       "\n",
       "    .dataframe thead th {\n",
       "        text-align: right;\n",
       "    }\n",
       "</style>\n",
       "<table border=\"1\" class=\"dataframe\">\n",
       "  <thead>\n",
       "    <tr style=\"text-align: right;\">\n",
       "      <th></th>\n",
       "      <th>id</th>\n",
       "      <th>ms_subclass</th>\n",
       "      <th>ms_zoning</th>\n",
       "      <th>lot_frontage</th>\n",
       "      <th>lot_area</th>\n",
       "      <th>street</th>\n",
       "      <th>lot_shape</th>\n",
       "      <th>land_contour</th>\n",
       "      <th>utilities</th>\n",
       "      <th>lot_config</th>\n",
       "      <th>...</th>\n",
       "      <th>paved_drive</th>\n",
       "      <th>wood_deck_sf</th>\n",
       "      <th>open_porch_sf</th>\n",
       "      <th>enclosed_porch</th>\n",
       "      <th>3ssn_porch</th>\n",
       "      <th>screen_porch</th>\n",
       "      <th>mo_sold</th>\n",
       "      <th>yr_sold</th>\n",
       "      <th>sale_type</th>\n",
       "      <th>saleprice</th>\n",
       "    </tr>\n",
       "  </thead>\n",
       "  <tbody>\n",
       "  </tbody>\n",
       "</table>\n",
       "<p>0 rows × 71 columns</p>\n",
       "</div>"
      ],
      "text/plain": [
       "Empty DataFrame\n",
       "Columns: [id, ms_subclass, ms_zoning, lot_frontage, lot_area, street, lot_shape, land_contour, utilities, lot_config, land_slope, neighborhood, condition_1, condition_2, bldg_type, house_style, overall_qual, overall_cond, year_built, year_remod/add, roof_style, roof_matl, exterior_1st, exterior_2nd, mas_vnr_type, mas_vnr_area, exter_qual, foundation, bsmt_qual, bsmt_cond, bsmt_exposure, bsmtfin_type_1, bsmtfin_sf_1, bsmtfin_type_2, bsmtfin_sf_2, bsmt_unf_sf, total_bsmt_sf, heating, heating_qc, central_air, electrical, 1st_flr_sf, 2nd_flr_sf, low_qual_fin_sf, gr_liv_area, bsmt_full_bath, bsmt_half_bath, full_bath, half_bath, bedroom_abvgr, kitchen_abvgr, kitchen_qual, totrms_abvgrd, functional, fireplaces, fireplace_qu, garage_type, garage_yr_blt, garage_finish, garage_cars, garage_qual, paved_drive, wood_deck_sf, open_porch_sf, enclosed_porch, 3ssn_porch, screen_porch, mo_sold, yr_sold, sale_type, saleprice]\n",
       "Index: []\n",
       "\n",
       "[0 rows x 71 columns]"
      ]
     },
     "execution_count": 76,
     "metadata": {},
     "output_type": "execute_result"
    }
   ],
   "source": [
    "train[train['lot_frontage'].isna()]"
   ]
  },
  {
   "cell_type": "code",
   "execution_count": 77,
   "metadata": {},
   "outputs": [
    {
     "data": {
      "text/plain": [
       "[137.0,\n",
       " 134.0,\n",
       " 140.0,\n",
       " 155.0,\n",
       " 195.0,\n",
       " 141.0,\n",
       " 160.0,\n",
       " 174.0,\n",
       " 313.0,\n",
       " 140.0,\n",
       " 144.0,\n",
       " 0.0,\n",
       " 138.0,\n",
       " 134.0,\n",
       " 134.0,\n",
       " 200.0,\n",
       " 150.0,\n",
       " 153.0,\n",
       " 135.0]"
      ]
     },
     "execution_count": 77,
     "metadata": {},
     "output_type": "execute_result"
    }
   ],
   "source": [
    "# are there any wild outliers? \n",
    "find_outliers(train['lot_frontage'])"
   ]
  },
  {
   "cell_type": "markdown",
   "metadata": {},
   "source": [
    "# Filling Empty Veneer Types"
   ]
  },
  {
   "cell_type": "code",
   "execution_count": 78,
   "metadata": {},
   "outputs": [
    {
     "data": {
      "text/plain": [
       "22"
      ]
     },
     "execution_count": 78,
     "metadata": {},
     "output_type": "execute_result"
    }
   ],
   "source": [
    "train['mas_vnr_type'].isna().sum()"
   ]
  },
  {
   "cell_type": "code",
   "execution_count": 79,
   "metadata": {},
   "outputs": [],
   "source": [
    "# giving up and filling with 0\n",
    "\n",
    "train['mas_vnr_type'].fillna(0, inplace = True)\n",
    "train['mas_vnr_area'].fillna(0, inplace = True)"
   ]
  },
  {
   "cell_type": "code",
   "execution_count": 80,
   "metadata": {},
   "outputs": [
    {
     "name": "stdout",
     "output_type": "stream",
     "text": [
      "<class 'pandas.core.frame.DataFrame'>\n",
      "Int64Index: 2049 entries, 0 to 2050\n",
      "Data columns (total 2 columns):\n",
      " #   Column        Non-Null Count  Dtype  \n",
      "---  ------        --------------  -----  \n",
      " 0   mas_vnr_type  2049 non-null   object \n",
      " 1   mas_vnr_area  2049 non-null   float64\n",
      "dtypes: float64(1), object(1)\n",
      "memory usage: 128.0+ KB\n"
     ]
    }
   ],
   "source": [
    "train[['mas_vnr_type', 'mas_vnr_area']].info()\n"
   ]
  },
  {
   "cell_type": "code",
   "execution_count": 81,
   "metadata": {
    "scrolled": true
   },
   "outputs": [
    {
     "name": "stdout",
     "output_type": "stream",
     "text": [
      "<class 'pandas.core.frame.DataFrame'>\n",
      "Int64Index: 2049 entries, 0 to 2050\n",
      "Data columns (total 71 columns):\n",
      " #   Column           Non-Null Count  Dtype  \n",
      "---  ------           --------------  -----  \n",
      " 0   id               2049 non-null   int64  \n",
      " 1   ms_subclass      2049 non-null   int64  \n",
      " 2   ms_zoning        2049 non-null   object \n",
      " 3   lot_frontage     2049 non-null   float64\n",
      " 4   lot_area         2049 non-null   int64  \n",
      " 5   street           2049 non-null   object \n",
      " 6   lot_shape        2049 non-null   object \n",
      " 7   land_contour     2049 non-null   object \n",
      " 8   utilities        2049 non-null   object \n",
      " 9   lot_config       2049 non-null   object \n",
      " 10  land_slope       2049 non-null   object \n",
      " 11  neighborhood     2049 non-null   object \n",
      " 12  condition_1      2049 non-null   object \n",
      " 13  condition_2      2049 non-null   object \n",
      " 14  bldg_type        2049 non-null   object \n",
      " 15  house_style      2049 non-null   object \n",
      " 16  overall_qual     2049 non-null   int64  \n",
      " 17  overall_cond     2049 non-null   int64  \n",
      " 18  year_built       2049 non-null   int64  \n",
      " 19  year_remod/add   2049 non-null   int64  \n",
      " 20  roof_style       2049 non-null   object \n",
      " 21  roof_matl        2049 non-null   object \n",
      " 22  exterior_1st     2049 non-null   object \n",
      " 23  exterior_2nd     2049 non-null   object \n",
      " 24  mas_vnr_type     2049 non-null   object \n",
      " 25  mas_vnr_area     2049 non-null   float64\n",
      " 26  exter_qual       2049 non-null   object \n",
      " 27  foundation       2049 non-null   object \n",
      " 28  bsmt_qual        2049 non-null   object \n",
      " 29  bsmt_cond        2049 non-null   object \n",
      " 30  bsmt_exposure    2049 non-null   object \n",
      " 31  bsmtfin_type_1   2049 non-null   object \n",
      " 32  bsmtfin_sf_1     2049 non-null   float64\n",
      " 33  bsmtfin_type_2   2049 non-null   object \n",
      " 34  bsmtfin_sf_2     2049 non-null   float64\n",
      " 35  bsmt_unf_sf      2049 non-null   float64\n",
      " 36  total_bsmt_sf    2049 non-null   float64\n",
      " 37  heating          2049 non-null   object \n",
      " 38  heating_qc       2049 non-null   object \n",
      " 39  central_air      2049 non-null   object \n",
      " 40  electrical       2049 non-null   object \n",
      " 41  1st_flr_sf       2049 non-null   int64  \n",
      " 42  2nd_flr_sf       2049 non-null   int64  \n",
      " 43  low_qual_fin_sf  2049 non-null   int64  \n",
      " 44  gr_liv_area      2049 non-null   int64  \n",
      " 45  bsmt_full_bath   2049 non-null   float64\n",
      " 46  bsmt_half_bath   2049 non-null   float64\n",
      " 47  full_bath        2049 non-null   int64  \n",
      " 48  half_bath        2049 non-null   int64  \n",
      " 49  bedroom_abvgr    2049 non-null   float64\n",
      " 50  kitchen_abvgr    2049 non-null   int64  \n",
      " 51  kitchen_qual     2049 non-null   object \n",
      " 52  totrms_abvgrd    2049 non-null   int64  \n",
      " 53  functional       2049 non-null   object \n",
      " 54  fireplaces       2049 non-null   int64  \n",
      " 55  fireplace_qu     2049 non-null   object \n",
      " 56  garage_type      2049 non-null   object \n",
      " 57  garage_yr_blt    2049 non-null   float64\n",
      " 58  garage_finish    2049 non-null   object \n",
      " 59  garage_cars      2049 non-null   float64\n",
      " 60  garage_qual      2049 non-null   object \n",
      " 61  paved_drive      2049 non-null   object \n",
      " 62  wood_deck_sf     2049 non-null   int64  \n",
      " 63  open_porch_sf    2049 non-null   int64  \n",
      " 64  enclosed_porch   2049 non-null   int64  \n",
      " 65  3ssn_porch       2049 non-null   int64  \n",
      " 66  screen_porch     2049 non-null   int64  \n",
      " 67  mo_sold          2049 non-null   int64  \n",
      " 68  yr_sold          2049 non-null   int64  \n",
      " 69  sale_type        2049 non-null   object \n",
      " 70  saleprice        2049 non-null   int64  \n",
      "dtypes: float64(11), int64(24), object(36)\n",
      "memory usage: 1.2+ MB\n"
     ]
    }
   ],
   "source": [
    "train.info()"
   ]
  },
  {
   "cell_type": "markdown",
   "metadata": {},
   "source": [
    "# Ranking Values Numerically"
   ]
  },
  {
   "cell_type": "code",
   "execution_count": 82,
   "metadata": {},
   "outputs": [],
   "source": [
    "# changing ordinal to ranked scale \n",
    "\n",
    "# Scale mapper starts at -1 because of the effect poor quality has on homes compared to having no basement. \n",
    "\n",
    "scale_mapper = {\"Ex\": 3,\n",
    "       \"Gd\" : 2,\n",
    "       \"TA\":1,\n",
    "       \"Fa\":0 ,\n",
    "       'Po':-1} #fillna(0)\n",
    "\n",
    "\n",
    "# Kitchen\n",
    "train['kitchen_qual'].replace(scale_mapper, inplace = True)\n",
    "\n",
    "# Basment quality\n",
    "train['bsmt_qual'].replace(scale_mapper, inplace = True)\n",
    "\n",
    "#Basement height\n",
    "train['bsmt_cond'].replace(scale_mapper, inplace = True)\n",
    "\n",
    "# Heating quality\n",
    "train['heating_qc'].replace(scale_mapper, inplace = True)\n",
    "\n",
    "# Garage quality\n",
    "train['garage_qual'].replace(scale_mapper, inplace = True)\n",
    "\n",
    "# Exterior quality\n",
    "train['exter_qual'].replace(scale_mapper, inplace = True)\n",
    "\n",
    "#misc mappers\n",
    "\n",
    "# paved driveway\n",
    "train['paved_drive'].replace({\"Y\": 3,\n",
    "       \"P\" : 2,\n",
    "       \"N\":1}, inplace = True)\n",
    "\n",
    "# mapper for seasons sold\n",
    "train['mo_sold']= train['mo_sold'].map(\n",
    "    lambda x: \n",
    "    'Winter' if (x == 12) | (x <= 2) else (\n",
    "        'Spring' if (x >=3) & (x<=5) else (\n",
    "            'Summer' if (x >=6) & (x <=9) else 'Fall') ))\n",
    "\n",
    "# land slope\n",
    "train['land_slope'].replace({\n",
    "    'Gtl': 3, 'Mod': 2, \"Sev\": 1}, inplace = True)\n",
    "\n",
    "# lot shape\n",
    "train['lot_shape'].replace({\n",
    "    'Reg': 4, 'IR1': 3, \"IR2\": 2, 'IR3': 1}, inplace = True)\n",
    "\n",
    "# land contour\n",
    "train['land_contour'].replace({'Lvl': 4,\n",
    "                               'Bnk': 3,\n",
    "                               \"HLS\": 2,\n",
    "                               'Low': 1}, inplace = True)\n",
    "\n",
    "# house functionality\n",
    "train['functional'].replace({'Typ': 8, 'Min1':7, \n",
    "                             'Min2': 6, 'Mod': 5, \n",
    "                             'Maj1': 4,'Maj2': 3, \n",
    "                             'Sev': 2, 'Sal': 1}, \n",
    "                            inplace = True)\n",
    "# street pavement\n",
    "train['street'].replace({'Grvl': 1,\n",
    "                         'Pave': 2}, inplace = True)\n",
    "\n",
    "# fireplace quality\n",
    "train['fireplace_qu'].replace({'Ex': 3,\n",
    "                               'Gd': 2,\n",
    "                               \"TA\": 1,\n",
    "                               'Fa': 0,\n",
    "                               'Po':-1}, inplace = True)\n",
    "# basment exposure \n",
    "train['bsmt_exposure'].fillna(0, inplace = True)\n",
    "train['bsmt_exposure'].replace({'Gd': 4,\n",
    "       'Av': 3,\n",
    "       'Mn': 2,\n",
    "       'No': 1}, inplace = True)\n",
    "\n",
    "# central air - yes or no?\n",
    "train['central_air'].replace({'Y': 1, 'N': 0}, inplace = True)"
   ]
  },
  {
   "cell_type": "markdown",
   "metadata": {},
   "source": [
    "## Other Rankable Features"
   ]
  },
  {
   "cell_type": "code",
   "execution_count": 83,
   "metadata": {},
   "outputs": [],
   "source": [
    "train['garage_finish'].replace({'Fin': 3,\n",
    "                               'RFn': 2,\n",
    "                               'Unf': 1}, inplace = True)"
   ]
  },
  {
   "cell_type": "code",
   "execution_count": 84,
   "metadata": {},
   "outputs": [
    {
     "data": {
      "text/plain": [
       "1    850\n",
       "2    579\n",
       "3    507\n",
       "0    113\n",
       "Name: garage_finish, dtype: int64"
      ]
     },
     "execution_count": 84,
     "metadata": {},
     "output_type": "execute_result"
    }
   ],
   "source": [
    "train['garage_finish'].value_counts()"
   ]
  },
  {
   "cell_type": "code",
   "execution_count": 85,
   "metadata": {},
   "outputs": [
    {
     "data": {
      "text/plain": [
       "garage_finish\n",
       "0    105669.150442\n",
       "1    140730.137647\n",
       "2    204792.036269\n",
       "3    240068.418146\n",
       "Name: saleprice, dtype: float64"
      ]
     },
     "execution_count": 85,
     "metadata": {},
     "output_type": "execute_result"
    }
   ],
   "source": [
    "#checking if an unfinished garage is worth the same as no garage at all\n",
    "train.groupby('garage_finish')['saleprice'].mean().sort_values()"
   ]
  },
  {
   "cell_type": "code",
   "execution_count": 86,
   "metadata": {},
   "outputs": [],
   "source": [
    "# Ranking basement finishes\n",
    "\n",
    "bsmnt_finish_mapper = {'GLQ':5,\n",
    "       'ALQ':5,\n",
    "       'BLQ':4,\n",
    "       'Rec':3,\n",
    "       'LwQ':2,\n",
    "       'Unf':1,}\n",
    "\n",
    "train['bsmtfin_type_1'].replace(bsmnt_finish_mapper, inplace = True)\n",
    "train['bsmtfin_type_2'].replace(bsmnt_finish_mapper, inplace = True)"
   ]
  },
  {
   "cell_type": "code",
   "execution_count": 87,
   "metadata": {},
   "outputs": [
    {
     "data": {
      "text/plain": [
       "ms_zoning       object\n",
       "utilities       object\n",
       "lot_config      object\n",
       "neighborhood    object\n",
       "condition_1     object\n",
       "condition_2     object\n",
       "bldg_type       object\n",
       "house_style     object\n",
       "roof_style      object\n",
       "roof_matl       object\n",
       "exterior_1st    object\n",
       "exterior_2nd    object\n",
       "mas_vnr_type    object\n",
       "foundation      object\n",
       "heating         object\n",
       "electrical      object\n",
       "garage_type     object\n",
       "mo_sold         object\n",
       "sale_type       object\n",
       "dtype: object"
      ]
     },
     "execution_count": 87,
     "metadata": {},
     "output_type": "execute_result"
    }
   ],
   "source": [
    "# looking at what object dtypes are left\n",
    "\n",
    "train.dtypes[train.dtypes == 'object']"
   ]
  },
  {
   "cell_type": "code",
   "execution_count": 88,
   "metadata": {},
   "outputs": [
    {
     "data": {
      "text/plain": [
       "AllPub    2047\n",
       "NoSeWa       1\n",
       "NoSewr       1\n",
       "Name: utilities, dtype: int64"
      ]
     },
     "execution_count": 88,
     "metadata": {},
     "output_type": "execute_result"
    }
   ],
   "source": [
    "train['utilities'].value_counts()"
   ]
  },
  {
   "cell_type": "code",
   "execution_count": 89,
   "metadata": {},
   "outputs": [
    {
     "data": {
      "text/plain": [
       "Summer    931\n",
       "Spring    633\n",
       "Winter    260\n",
       "Fall      225\n",
       "Name: mo_sold, dtype: int64"
      ]
     },
     "execution_count": 89,
     "metadata": {},
     "output_type": "execute_result"
    }
   ],
   "source": [
    "train['mo_sold'].value_counts()"
   ]
  },
  {
   "cell_type": "code",
   "execution_count": 90,
   "metadata": {},
   "outputs": [],
   "source": [
    "util_mapper = {\"AllPub\": 4,\n",
    "       \"NoSewr\" : 3,\n",
    "       \"NoSeWa\":2,\n",
    "              'ELO': 1}\n",
    "\n",
    "train['utilities'].replace( {\"AllPub\": 4,\n",
    "       \"NoSewr\" : 3,\n",
    "       \"NoSeWa\":2,\n",
    "              'ELO': 1}, inplace = True)\n"
   ]
  },
  {
   "cell_type": "code",
   "execution_count": 91,
   "metadata": {},
   "outputs": [
    {
     "data": {
      "text/plain": [
       "4    2047\n",
       "3       1\n",
       "2       1\n",
       "Name: utilities, dtype: int64"
      ]
     },
     "execution_count": 91,
     "metadata": {},
     "output_type": "execute_result"
    }
   ],
   "source": [
    "train['utilities'].value_counts()"
   ]
  },
  {
   "cell_type": "markdown",
   "metadata": {},
   "source": [
    "# Final Check for Nulls or Weird Things"
   ]
  },
  {
   "cell_type": "code",
   "execution_count": 92,
   "metadata": {},
   "outputs": [
    {
     "name": "stdout",
     "output_type": "stream",
     "text": [
      "<class 'pandas.core.frame.DataFrame'>\n",
      "Int64Index: 2049 entries, 0 to 2050\n",
      "Data columns (total 71 columns):\n",
      " #   Column           Non-Null Count  Dtype  \n",
      "---  ------           --------------  -----  \n",
      " 0   id               2049 non-null   int64  \n",
      " 1   ms_subclass      2049 non-null   int64  \n",
      " 2   ms_zoning        2049 non-null   object \n",
      " 3   lot_frontage     2049 non-null   float64\n",
      " 4   lot_area         2049 non-null   int64  \n",
      " 5   street           2049 non-null   int64  \n",
      " 6   lot_shape        2049 non-null   int64  \n",
      " 7   land_contour     2049 non-null   int64  \n",
      " 8   utilities        2049 non-null   int64  \n",
      " 9   lot_config       2049 non-null   object \n",
      " 10  land_slope       2049 non-null   int64  \n",
      " 11  neighborhood     2049 non-null   object \n",
      " 12  condition_1      2049 non-null   object \n",
      " 13  condition_2      2049 non-null   object \n",
      " 14  bldg_type        2049 non-null   object \n",
      " 15  house_style      2049 non-null   object \n",
      " 16  overall_qual     2049 non-null   int64  \n",
      " 17  overall_cond     2049 non-null   int64  \n",
      " 18  year_built       2049 non-null   int64  \n",
      " 19  year_remod/add   2049 non-null   int64  \n",
      " 20  roof_style       2049 non-null   object \n",
      " 21  roof_matl        2049 non-null   object \n",
      " 22  exterior_1st     2049 non-null   object \n",
      " 23  exterior_2nd     2049 non-null   object \n",
      " 24  mas_vnr_type     2049 non-null   object \n",
      " 25  mas_vnr_area     2049 non-null   float64\n",
      " 26  exter_qual       2049 non-null   int64  \n",
      " 27  foundation       2049 non-null   object \n",
      " 28  bsmt_qual        2049 non-null   int64  \n",
      " 29  bsmt_cond        2049 non-null   int64  \n",
      " 30  bsmt_exposure    2049 non-null   int64  \n",
      " 31  bsmtfin_type_1   2049 non-null   int64  \n",
      " 32  bsmtfin_sf_1     2049 non-null   float64\n",
      " 33  bsmtfin_type_2   2049 non-null   int64  \n",
      " 34  bsmtfin_sf_2     2049 non-null   float64\n",
      " 35  bsmt_unf_sf      2049 non-null   float64\n",
      " 36  total_bsmt_sf    2049 non-null   float64\n",
      " 37  heating          2049 non-null   object \n",
      " 38  heating_qc       2049 non-null   int64  \n",
      " 39  central_air      2049 non-null   int64  \n",
      " 40  electrical       2049 non-null   object \n",
      " 41  1st_flr_sf       2049 non-null   int64  \n",
      " 42  2nd_flr_sf       2049 non-null   int64  \n",
      " 43  low_qual_fin_sf  2049 non-null   int64  \n",
      " 44  gr_liv_area      2049 non-null   int64  \n",
      " 45  bsmt_full_bath   2049 non-null   float64\n",
      " 46  bsmt_half_bath   2049 non-null   float64\n",
      " 47  full_bath        2049 non-null   int64  \n",
      " 48  half_bath        2049 non-null   int64  \n",
      " 49  bedroom_abvgr    2049 non-null   float64\n",
      " 50  kitchen_abvgr    2049 non-null   int64  \n",
      " 51  kitchen_qual     2049 non-null   int64  \n",
      " 52  totrms_abvgrd    2049 non-null   int64  \n",
      " 53  functional       2049 non-null   int64  \n",
      " 54  fireplaces       2049 non-null   int64  \n",
      " 55  fireplace_qu     2049 non-null   int64  \n",
      " 56  garage_type      2049 non-null   object \n",
      " 57  garage_yr_blt    2049 non-null   float64\n",
      " 58  garage_finish    2049 non-null   int64  \n",
      " 59  garage_cars      2049 non-null   float64\n",
      " 60  garage_qual      2049 non-null   int64  \n",
      " 61  paved_drive      2049 non-null   int64  \n",
      " 62  wood_deck_sf     2049 non-null   int64  \n",
      " 63  open_porch_sf    2049 non-null   int64  \n",
      " 64  enclosed_porch   2049 non-null   int64  \n",
      " 65  3ssn_porch       2049 non-null   int64  \n",
      " 66  screen_porch     2049 non-null   int64  \n",
      " 67  mo_sold          2049 non-null   object \n",
      " 68  yr_sold          2049 non-null   int64  \n",
      " 69  sale_type        2049 non-null   object \n",
      " 70  saleprice        2049 non-null   int64  \n",
      "dtypes: float64(11), int64(42), object(18)\n",
      "memory usage: 1.2+ MB\n"
     ]
    }
   ],
   "source": [
    "train.info()"
   ]
  },
  {
   "cell_type": "code",
   "execution_count": 93,
   "metadata": {},
   "outputs": [
    {
     "data": {
      "text/plain": [
       "0"
      ]
     },
     "execution_count": 93,
     "metadata": {},
     "output_type": "execute_result"
    }
   ],
   "source": [
    "sum(train.isna().sum())"
   ]
  },
  {
   "cell_type": "markdown",
   "metadata": {},
   "source": [
    "# Looking at histograms"
   ]
  },
  {
   "cell_type": "code",
   "execution_count": 94,
   "metadata": {
    "scrolled": false
   },
   "outputs": [
    {
     "data": {
      "image/png": "[encoded data removed]",
      "text/plain": [
       "<Figure size 1440x1800 with 56 Axes>"
      ]
     },
     "metadata": {
      "needs_background": "light"
     },
     "output_type": "display_data"
    }
   ],
   "source": [
    "train.hist(figsize = (20, 25));\n"
   ]
  },
  {
   "cell_type": "markdown",
   "metadata": {},
   "source": [
    "**Interpretationss**\n",
    "\n",
    "No or few houses have: \n",
    "- low quality sf\n",
    "- pools\n",
    "- misc items\n",
    "- basement half baths\n",
    "- fences\n",
    "\n",
    "Most houses have:\n",
    "- land slope (most are at a 3: gentle slope)\n",
    "- all utilities\n",
    "- basements\n",
    "- garages\n",
    "- a porch or deck\n",
    "- ac\n",
    "- most are functional houses \n",
    "- exter condition (3_\n",
    "- garage quality and condition: 3 and 3\n",
    "- have a street that is paved\n",
    "- either normal or near-normal lot shape\n",
    "- good garage quality\n",
    "\n",
    "These uneven distributions do not allow enough data to be good predictors of a home value and therefore will most likely not be included on the final modeling for renovation recommendations."
   ]
  },
  {
   "cell_type": "code",
   "execution_count": 95,
   "metadata": {},
   "outputs": [
    {
     "data": {
      "text/plain": [
       "yr_sold\n",
       "2006    179471.609589\n",
       "2007    185527.883300\n",
       "2008    181800.488479\n",
       "2009    182455.244395\n",
       "2010    174180.059829\n",
       "Name: saleprice, dtype: float64"
      ]
     },
     "execution_count": 95,
     "metadata": {},
     "output_type": "execute_result"
    }
   ],
   "source": [
    "# is year sold worth including in the rest of the dataset?\n",
    "\n",
    "train.groupby('yr_sold')['saleprice'].mean()"
   ]
  },
  {
   "cell_type": "code",
   "execution_count": 96,
   "metadata": {},
   "outputs": [],
   "source": [
    "# making a list of features whose distributions or saleprice differences \n",
    "# are not useful for unregularized model which I will drop\n",
    "\n",
    "drop_lst = []\n",
    "drop_lst.extend(['enclosed_porch',\n",
    "                '3ssn_porch',\n",
    "                'screen_porch',\n",
    "                'garage_yr_blt',\n",
    "                'bsmt_half_bath',\n",
    "                'functional',\n",
    "               'low_qual_fin_sf',\n",
    "                'garage_qual',\n",
    "                'paved_drive', \n",
    "                'central_air',\n",
    "                'bsmtfin_sf_2',\n",
    "                'kitchen_abvgr',\n",
    "               'utilities',\n",
    "               'land_slope', \n",
    "               'lot_area',\n",
    "               'street',\n",
    "               'land_slope', \n",
    "                'yr_sold',\n",
    "                'bsmtfin_type_2',\n",
    "                 'bsmtfin_sf_2',\n",
    "                'exterior_2nd']) "
   ]
  },
  {
   "cell_type": "code",
   "execution_count": 97,
   "metadata": {},
   "outputs": [
    {
     "data": {
      "text/plain": [
       "21"
      ]
     },
     "execution_count": 97,
     "metadata": {},
     "output_type": "execute_result"
    }
   ],
   "source": [
    "len(drop_lst)"
   ]
  },
  {
   "cell_type": "code",
   "execution_count": 98,
   "metadata": {},
   "outputs": [
    {
     "data": {
      "image/png": "[encoded data removed]",
      "text/plain": [
       "<Figure size 504x1440 with 2 Axes>"
      ]
     },
     "metadata": {
      "needs_background": "light"
     },
     "output_type": "display_data"
    }
   ],
   "source": [
    "# Correlation of data to saleprice\n",
    "\n",
    "plt.figure(figsize = (7, 20))\n",
    "sns.heatmap(train.corr()['saleprice'].to_frame().sort_values('saleprice'), annot = True, \n",
    "            cmap = 'coolwarm', \n",
    "            vmin = -1,\n",
    "            vmax = 1);"
   ]
  },
  {
   "cell_type": "markdown",
   "metadata": {},
   "source": [
    "**Interpretation**\n",
    "\n",
    "It seems as though the top scores are things within house size and quality:\n",
    "- Overall quality\n",
    "- Full above ground size\n",
    "- Exterior quality\n",
    "- Kitchen quality\n",
    "- Basement size"
   ]
  },
  {
   "cell_type": "code",
   "execution_count": 99,
   "metadata": {},
   "outputs": [
    {
     "data": {
      "text/plain": [
       "ms_zoning       object\n",
       "lot_config      object\n",
       "neighborhood    object\n",
       "condition_1     object\n",
       "condition_2     object\n",
       "bldg_type       object\n",
       "house_style     object\n",
       "roof_style      object\n",
       "roof_matl       object\n",
       "exterior_1st    object\n",
       "exterior_2nd    object\n",
       "mas_vnr_type    object\n",
       "foundation      object\n",
       "heating         object\n",
       "electrical      object\n",
       "garage_type     object\n",
       "mo_sold         object\n",
       "sale_type       object\n",
       "dtype: object"
      ]
     },
     "execution_count": 99,
     "metadata": {},
     "output_type": "execute_result"
    }
   ],
   "source": [
    "train.dtypes[train.dtypes == 'object']\n"
   ]
  },
  {
   "cell_type": "code",
   "execution_count": 100,
   "metadata": {
    "scrolled": false
   },
   "outputs": [
    {
     "data": {
      "image/png": "[encoded data removed]",
      "text/plain": [
       "<Figure size 1080x720 with 6 Axes>"
      ]
     },
     "metadata": {
      "needs_background": "light"
     },
     "output_type": "display_data"
    }
   ],
   "source": [
    "# Plotting categorical features' distributions\n",
    "\n",
    "fig, ax = plt.subplots(2, 3, figsize = (15, 10))\n",
    "\n",
    "ax[0,0].hist(train['ms_zoning'])\n",
    "ax[0,0].set_title('ms_zoning')\n",
    "\n",
    "ax[0,1].hist(train['house_style'])\n",
    "ax[0,1].set_title('house_style')\n",
    "\n",
    "ax[1,0].hist(train['foundation'])\n",
    "ax[1,0].set_title('foundation')\n",
    "\n",
    "ax[0,2].hist(train['heating'])\n",
    "ax[0,2].set_title('heating')\n",
    "\n",
    "ax[1,2].hist(train['mo_sold'])\n",
    "ax[1,2].set_title('mo_sold')\n",
    "\n",
    "ax[1,1].hist(train['bldg_type'])\n",
    "ax[1,1].set_title('bldg_type');"
   ]
  },
  {
   "cell_type": "code",
   "execution_count": 101,
   "metadata": {},
   "outputs": [
    {
     "data": {
      "text/plain": [
       "22"
      ]
     },
     "execution_count": 101,
     "metadata": {},
     "output_type": "execute_result"
    }
   ],
   "source": [
    "# add heating to the drop list due to its uneven distribution\n",
    "\n",
    "drop_lst.append('heating')\n",
    "len(drop_lst)\n"
   ]
  },
  {
   "cell_type": "code",
   "execution_count": 102,
   "metadata": {},
   "outputs": [
    {
     "data": {
      "text/plain": [
       "Text(0.5, 1.0, 'Price by Season Sold')"
      ]
     },
     "execution_count": 102,
     "metadata": {},
     "output_type": "execute_result"
    },
    {
     "data": {
      "image/png": "[encoded data removed]",
      "text/plain": [
       "<Figure size 720x576 with 1 Axes>"
      ]
     },
     "metadata": {
      "needs_background": "light"
     },
     "output_type": "display_data"
    }
   ],
   "source": [
    "# boxplot of saleprice by season sold \n",
    "\n",
    "plt.figure(figsize = (10, 8))\n",
    "sns.boxplot(x = train['mo_sold'], y = train['saleprice']).set_title('Price by Season Sold')"
   ]
  },
  {
   "cell_type": "markdown",
   "metadata": {},
   "source": [
    "**Interpretation**\n",
    "\n",
    "I thought there might be a busier season in which housing prices spike with demand, but it does not seem to be the case, therefore not useful for the model."
   ]
  },
  {
   "cell_type": "code",
   "execution_count": 103,
   "metadata": {},
   "outputs": [
    {
     "data": {
      "text/plain": [
       "Text(0.5, 1.0, 'Price by House Style')"
      ]
     },
     "execution_count": 103,
     "metadata": {},
     "output_type": "execute_result"
    },
    {
     "data": {
      "image/png": "[encoded data removed]",
      "text/plain": [
       "<Figure size 720x576 with 1 Axes>"
      ]
     },
     "metadata": {
      "needs_background": "light"
     },
     "output_type": "display_data"
    }
   ],
   "source": [
    "# boxplot of saleprice by house style\n",
    "\n",
    "plt.figure(figsize = (10, 8))\n",
    "sns.boxplot(x = train['house_style'], \n",
    "            y = train['saleprice']).set_title(\n",
    "    'Price by House Style')"
   ]
  },
  {
   "cell_type": "markdown",
   "metadata": {},
   "source": [
    "**Interpretation**\n",
    "\n",
    "Because house styles seem to have a somewhat even distribution and a difference in prices as show in the above boxplot, it may be worth examining how the model does with this feature. "
   ]
  },
  {
   "cell_type": "code",
   "execution_count": 104,
   "metadata": {},
   "outputs": [
    {
     "data": {
      "text/plain": [
       "Text(0.5, 1.0, 'Price by Subclass')"
      ]
     },
     "execution_count": 104,
     "metadata": {},
     "output_type": "execute_result"
    },
    {
     "data": {
      "image/png": "[encoded data removed]",
      "text/plain": [
       "<Figure size 1080x576 with 1 Axes>"
      ]
     },
     "metadata": {
      "needs_background": "light"
     },
     "output_type": "display_data"
    }
   ],
   "source": [
    "plt.figure(figsize = (15, 8))\n",
    "sns.boxplot(x = train['ms_subclass'], \n",
    "            y = train['saleprice']).set_title(\n",
    "    'Price by Subclass')"
   ]
  },
  {
   "cell_type": "code",
   "execution_count": 105,
   "metadata": {},
   "outputs": [
    {
     "data": {
      "image/png": "[encoded data removed]",
      "text/plain": [
       "<Figure size 432x288 with 1 Axes>"
      ]
     },
     "metadata": {
      "needs_background": "light"
     },
     "output_type": "display_data"
    }
   ],
   "source": [
    "plt.hist(train['ms_subclass']);"
   ]
  },
  {
   "cell_type": "markdown",
   "metadata": {},
   "source": [
    "**Interpretation**\n",
    "\n",
    "We can see from subclass distribution and price that it may be useful to look into this feature for the model. "
   ]
  },
  {
   "cell_type": "code",
   "execution_count": 106,
   "metadata": {},
   "outputs": [
    {
     "data": {
      "text/plain": [
       "20     769\n",
       "60     393\n",
       "50     198\n",
       "120    132\n",
       "30     101\n",
       "70      90\n",
       "160     88\n",
       "80      86\n",
       "90      75\n",
       "190     46\n",
       "85      28\n",
       "75      16\n",
       "45      11\n",
       "180     11\n",
       "40       4\n",
       "150      1\n",
       "Name: ms_subclass, dtype: int64"
      ]
     },
     "execution_count": 106,
     "metadata": {},
     "output_type": "execute_result"
    }
   ],
   "source": [
    "train['ms_subclass'].value_counts()"
   ]
  },
  {
   "cell_type": "code",
   "execution_count": 107,
   "metadata": {},
   "outputs": [
    {
     "data": {
      "text/plain": [
       "Text(0.5, 1.0, 'Price by Zone')"
      ]
     },
     "execution_count": 107,
     "metadata": {},
     "output_type": "execute_result"
    },
    {
     "data": {
      "image/png": "[encoded data removed]",
      "text/plain": [
       "<Figure size 504x360 with 1 Axes>"
      ]
     },
     "metadata": {
      "needs_background": "light"
     },
     "output_type": "display_data"
    }
   ],
   "source": [
    "plt.figure(figsize = (7 ,5))\n",
    "sns.boxplot(x = train['ms_zoning'], \n",
    "            y = train['saleprice']).set_title(\n",
    "    'Price by Zone')"
   ]
  },
  {
   "cell_type": "markdown",
   "metadata": {},
   "source": [
    "**Things to note**\n",
    "\n",
    "- Most houses have forced warm air furnaces (GasA).\n",
    "- Most houses are '1 family detached' homes.\n",
    "- A majority of houses are in the 'Residential Low Density' Zoning Area.  "
   ]
  },
  {
   "cell_type": "code",
   "execution_count": 108,
   "metadata": {},
   "outputs": [
    {
     "data": {
      "text/plain": [
       "lot_shape        -0.296743\n",
       "enclosed_porch   -0.135713\n",
       "land_contour     -0.133356\n",
       "kitchen_abvgr    -0.125472\n",
       "overall_cond     -0.097093\n",
       "Name: saleprice, dtype: float64"
      ]
     },
     "execution_count": 108,
     "metadata": {},
     "output_type": "execute_result"
    }
   ],
   "source": [
    "train.corr()['saleprice'].sort_values().head()"
   ]
  },
  {
   "cell_type": "code",
   "execution_count": 109,
   "metadata": {},
   "outputs": [
    {
     "data": {
      "image/png": "[encoded data removed]",
      "text/plain": [
       "<Figure size 1440x504 with 1 Axes>"
      ]
     },
     "metadata": {
      "needs_background": "light"
     },
     "output_type": "display_data"
    }
   ],
   "source": [
    "plt.figure(figsize = (20, 7))\n",
    "plt.hist(train['neighborhood']);"
   ]
  },
  {
   "cell_type": "code",
   "execution_count": 110,
   "metadata": {},
   "outputs": [
    {
     "data": {
      "text/plain": [
       "Text(0.5, 1.0, 'Price by Neighborhood')"
      ]
     },
     "execution_count": 110,
     "metadata": {},
     "output_type": "execute_result"
    },
    {
     "data": {
      "image/png": "[encoded data removed]",
      "text/plain": [
       "<Figure size 1440x576 with 1 Axes>"
      ]
     },
     "metadata": {
      "needs_background": "light"
     },
     "output_type": "display_data"
    }
   ],
   "source": [
    "plt.figure(figsize = (20, 8))\n",
    "sns.boxplot(x = train['neighborhood'],\n",
    "            y = train['saleprice']).set_title(\n",
    "    'Price by Neighborhood')"
   ]
  },
  {
   "cell_type": "markdown",
   "metadata": {},
   "source": [
    "**Interpretation**\n",
    "\n",
    "Neighborhood seems to be a good predictor due to its compressed boxplots and even distribution."
   ]
  },
  {
   "cell_type": "code",
   "execution_count": 111,
   "metadata": {},
   "outputs": [
    {
     "data": {
      "text/plain": [
       "Text(0.5, 1.0, 'Price by Lot Configuration')"
      ]
     },
     "execution_count": 111,
     "metadata": {},
     "output_type": "execute_result"
    },
    {
     "data": {
      "image/png": "[encoded data removed]",
      "text/plain": [
       "<Figure size 720x288 with 1 Axes>"
      ]
     },
     "metadata": {
      "needs_background": "light"
     },
     "output_type": "display_data"
    }
   ],
   "source": [
    "# Boxplot of lot configuration\n",
    "\n",
    "plt.figure(figsize = (10, 4))\n",
    "sns.boxplot(x = train['lot_config'], \n",
    "            y = train['saleprice']).set_title(\n",
    "    'Price by Lot Configuration')"
   ]
  },
  {
   "cell_type": "markdown",
   "metadata": {},
   "source": [
    "**Interpretation** \n",
    "\n",
    "Due to the overlap in prives for the middle quantiles, lot configuration is an adjacent predictor to the hosue prices, there may be related features that are more of predictors."
   ]
  },
  {
   "cell_type": "code",
   "execution_count": 112,
   "metadata": {},
   "outputs": [
    {
     "data": {
      "text/plain": [
       "Text(0.5, 1.0, 'Price by Heating')"
      ]
     },
     "execution_count": 112,
     "metadata": {},
     "output_type": "execute_result"
    },
    {
     "data": {
      "image/png": "[encoded data removed]",
      "text/plain": [
       "<Figure size 720x360 with 1 Axes>"
      ]
     },
     "metadata": {
      "needs_background": "light"
     },
     "output_type": "display_data"
    }
   ],
   "source": [
    "plt.figure(figsize = (10, 5))\n",
    "sns.boxplot(x = train['heating'], \n",
    "            y = train['saleprice']).set_title(\n",
    "    'Price by Heating')"
   ]
  },
  {
   "cell_type": "markdown",
   "metadata": {},
   "source": [
    "**Interpretation**\n",
    "\n",
    "If you looked at the histogram of heating, almost every house has GasA: gas forced warm air furnace.\n",
    "\n",
    "This explains the wide dispersion in prices in the boxplot above. "
   ]
  },
  {
   "cell_type": "code",
   "execution_count": 113,
   "metadata": {},
   "outputs": [
    {
     "data": {
      "text/plain": [
       "Text(0.5, 1.0, 'Price by Electrical')"
      ]
     },
     "execution_count": 113,
     "metadata": {},
     "output_type": "execute_result"
    },
    {
     "data": {
      "image/png": "[encoded data removed]",
      "text/plain": [
       "<Figure size 504x360 with 1 Axes>"
      ]
     },
     "metadata": {
      "needs_background": "light"
     },
     "output_type": "display_data"
    }
   ],
   "source": [
    "plt.figure(figsize = (7, 5))\n",
    "sns.boxplot(x = train['electrical'],\n",
    "            y = train['saleprice']).set_title(\n",
    "    'Price by Electrical')"
   ]
  },
  {
   "cell_type": "code",
   "execution_count": 114,
   "metadata": {},
   "outputs": [
    {
     "data": {
      "image/png": "[encoded data removed]",
      "text/plain": [
       "<Figure size 432x288 with 1 Axes>"
      ]
     },
     "metadata": {
      "needs_background": "light"
     },
     "output_type": "display_data"
    }
   ],
   "source": [
    "plt.hist(train['electrical']);"
   ]
  },
  {
   "cell_type": "markdown",
   "metadata": {},
   "source": [
    "**Interpretation**\n",
    "\n",
    "As with heating, most houses have 'Standard Circuit Breakers & Romex' so are not good predictors of the house value."
   ]
  },
  {
   "cell_type": "code",
   "execution_count": 115,
   "metadata": {},
   "outputs": [],
   "source": [
    "# adding electrical to the drop list\n",
    "\n",
    "drop_lst.append('electrical')"
   ]
  },
  {
   "cell_type": "code",
   "execution_count": 116,
   "metadata": {},
   "outputs": [
    {
     "data": {
      "text/plain": [
       "Text(0.5, 1.0, 'Price by Condition')"
      ]
     },
     "execution_count": 116,
     "metadata": {},
     "output_type": "execute_result"
    },
    {
     "data": {
      "image/png": "[encoded data removed]",
      "text/plain": [
       "<Figure size 504x360 with 1 Axes>"
      ]
     },
     "metadata": {
      "needs_background": "light"
     },
     "output_type": "display_data"
    }
   ],
   "source": [
    "# Plotting sale price by condition 1\n",
    "\n",
    "plt.figure(figsize = (7, 5))\n",
    "sns.boxplot(x = train['condition_1'], \n",
    "            y = train['saleprice']).set_title(\n",
    "    'Price by Condition')"
   ]
  },
  {
   "cell_type": "code",
   "execution_count": 117,
   "metadata": {},
   "outputs": [
    {
     "data": {
      "image/png": "[encoded data removed]",
      "text/plain": [
       "<Figure size 432x288 with 1 Axes>"
      ]
     },
     "metadata": {
      "needs_background": "light"
     },
     "output_type": "display_data"
    }
   ],
   "source": [
    "plt.hist(train['condition_1']);"
   ]
  },
  {
   "cell_type": "code",
   "execution_count": 118,
   "metadata": {},
   "outputs": [
    {
     "data": {
      "image/png": "[encoded data removed]",
      "text/plain": [
       "<Figure size 432x288 with 1 Axes>"
      ]
     },
     "metadata": {
      "needs_background": "light"
     },
     "output_type": "display_data"
    }
   ],
   "source": [
    "plt.hist(train['condition_2']);"
   ]
  },
  {
   "cell_type": "markdown",
   "metadata": {},
   "source": [
    "**Interpretation of Condition 1 and 2**\n",
    "\n",
    "There is so much overlap in the prices of the conditions, especially important because most houses have a Normal condition. It will not be a useful predictor."
   ]
  },
  {
   "cell_type": "code",
   "execution_count": 119,
   "metadata": {},
   "outputs": [],
   "source": [
    "# condition two is even more unevenly distributed.\n",
    "\n",
    "drop_lst.extend(['condition_1', 'condition_2'])"
   ]
  },
  {
   "cell_type": "code",
   "execution_count": 120,
   "metadata": {},
   "outputs": [
    {
     "data": {
      "text/plain": [
       "overall_cond\n",
       "1     59625.000000\n",
       "2     65364.833333\n",
       "3     99786.000000\n",
       "4    114034.571429\n",
       "5    207116.247856\n",
       "6    148952.665761\n",
       "7    155327.270370\n",
       "8    155913.366337\n",
       "9    198177.586207\n",
       "Name: saleprice, dtype: float64"
      ]
     },
     "execution_count": 120,
     "metadata": {},
     "output_type": "execute_result"
    }
   ],
   "source": [
    "train.groupby('overall_cond')['saleprice'].mean()"
   ]
  },
  {
   "cell_type": "code",
   "execution_count": 121,
   "metadata": {},
   "outputs": [
    {
     "data": {
      "text/html": [
       "<div>\n",
       "<style scoped>\n",
       "    .dataframe tbody tr th:only-of-type {\n",
       "        vertical-align: middle;\n",
       "    }\n",
       "\n",
       "    .dataframe tbody tr th {\n",
       "        vertical-align: top;\n",
       "    }\n",
       "\n",
       "    .dataframe thead th {\n",
       "        text-align: right;\n",
       "    }\n",
       "</style>\n",
       "<table border=\"1\" class=\"dataframe\">\n",
       "  <thead>\n",
       "    <tr style=\"text-align: right;\">\n",
       "      <th></th>\n",
       "      <th>overall_cond</th>\n",
       "      <th>saleprice</th>\n",
       "    </tr>\n",
       "  </thead>\n",
       "  <tbody>\n",
       "    <tr>\n",
       "      <th>overall_cond</th>\n",
       "      <td>1.000000</td>\n",
       "      <td>-0.097093</td>\n",
       "    </tr>\n",
       "    <tr>\n",
       "      <th>saleprice</th>\n",
       "      <td>-0.097093</td>\n",
       "      <td>1.000000</td>\n",
       "    </tr>\n",
       "  </tbody>\n",
       "</table>\n",
       "</div>"
      ],
      "text/plain": [
       "              overall_cond  saleprice\n",
       "overall_cond      1.000000  -0.097093\n",
       "saleprice        -0.097093   1.000000"
      ]
     },
     "execution_count": 121,
     "metadata": {},
     "output_type": "execute_result"
    }
   ],
   "source": [
    "train[['overall_cond', 'saleprice']].corr()[['overall_cond', 'saleprice']]"
   ]
  },
  {
   "cell_type": "code",
   "execution_count": 122,
   "metadata": {},
   "outputs": [
    {
     "data": {
      "text/plain": [
       "<matplotlib.collections.PathCollection at 0x7fd5a9104280>"
      ]
     },
     "execution_count": 122,
     "metadata": {},
     "output_type": "execute_result"
    },
    {
     "data": {
      "image/png": "[encoded data removed]",
      "text/plain": [
       "<Figure size 432x288 with 1 Axes>"
      ]
     },
     "metadata": {
      "needs_background": "light"
     },
     "output_type": "display_data"
    }
   ],
   "source": [
    "plt.scatter(x = train['overall_cond'], y = train['saleprice'])"
   ]
  },
  {
   "cell_type": "markdown",
   "metadata": {},
   "source": [
    "**Interpretation**\n",
    "\n",
    "You can see that the price of a house based on its overall condition is not a good feature to use to assess a houses price. It would be recommended to renovators to not waste money making the entire house high quality, but ensure that the quality is at 5, or Average, and focus money elsewhere. "
   ]
  },
  {
   "cell_type": "code",
   "execution_count": 123,
   "metadata": {},
   "outputs": [
    {
     "data": {
      "text/plain": [
       "id                   int64\n",
       "ms_subclass          int64\n",
       "lot_frontage       float64\n",
       "lot_area             int64\n",
       "street               int64\n",
       "lot_shape            int64\n",
       "land_contour         int64\n",
       "utilities            int64\n",
       "land_slope           int64\n",
       "overall_qual         int64\n",
       "overall_cond         int64\n",
       "year_built           int64\n",
       "year_remod/add       int64\n",
       "mas_vnr_area       float64\n",
       "exter_qual           int64\n",
       "bsmt_qual            int64\n",
       "bsmt_cond            int64\n",
       "bsmt_exposure        int64\n",
       "bsmtfin_type_1       int64\n",
       "bsmtfin_sf_1       float64\n",
       "bsmtfin_type_2       int64\n",
       "bsmtfin_sf_2       float64\n",
       "bsmt_unf_sf        float64\n",
       "total_bsmt_sf      float64\n",
       "heating_qc           int64\n",
       "central_air          int64\n",
       "1st_flr_sf           int64\n",
       "2nd_flr_sf           int64\n",
       "low_qual_fin_sf      int64\n",
       "gr_liv_area          int64\n",
       "bsmt_full_bath     float64\n",
       "bsmt_half_bath     float64\n",
       "full_bath            int64\n",
       "half_bath            int64\n",
       "bedroom_abvgr      float64\n",
       "kitchen_abvgr        int64\n",
       "kitchen_qual         int64\n",
       "totrms_abvgrd        int64\n",
       "functional           int64\n",
       "fireplaces           int64\n",
       "fireplace_qu         int64\n",
       "garage_yr_blt      float64\n",
       "garage_finish        int64\n",
       "garage_cars        float64\n",
       "garage_qual          int64\n",
       "paved_drive          int64\n",
       "wood_deck_sf         int64\n",
       "open_porch_sf        int64\n",
       "enclosed_porch       int64\n",
       "3ssn_porch           int64\n",
       "screen_porch         int64\n",
       "yr_sold              int64\n",
       "saleprice            int64\n",
       "dtype: object"
      ]
     },
     "execution_count": 123,
     "metadata": {},
     "output_type": "execute_result"
    }
   ],
   "source": [
    "train.dtypes[train.dtypes != 'object']"
   ]
  },
  {
   "cell_type": "code",
   "execution_count": 124,
   "metadata": {},
   "outputs": [
    {
     "data": {
      "text/plain": [
       "<seaborn.axisgrid.PairGrid at 0x7fd5a7fb2ac0>"
      ]
     },
     "execution_count": 124,
     "metadata": {},
     "output_type": "execute_result"
    },
    {
     "data": {
      "image/png": "[encoded data removed]",
      "text/plain": [
       "<Figure size 1620x180 with 9 Axes>"
      ]
     },
     "metadata": {
      "needs_background": "light"
     },
     "output_type": "display_data"
    }
   ],
   "source": [
    "# plotting scatter plots of important continuous variables\n",
    "\n",
    "sns.pairplot(train, y_vars=['saleprice'], x_vars=\n",
    "                                               ['wood_deck_sf',\n",
    "                                                  'wood_deck_sf',\n",
    "                                                  'bedroom_abvgr', \n",
    "                                               'totrms_abvgrd',\n",
    "                                               'gr_liv_area',\n",
    "                                               'total_bsmt_sf',\n",
    "                                               'year_built', \n",
    "                                                 'full_bath',\n",
    "                                                 'kitchen_qual'])"
   ]
  },
  {
   "cell_type": "markdown",
   "metadata": {},
   "source": [
    "**Interpretation**\n",
    "I can see that most of the features except for bedrooms above ground have some correlation to the price. "
   ]
  },
  {
   "cell_type": "markdown",
   "metadata": {},
   "source": [
    "# Feature Engineering and New Columns"
   ]
  },
  {
   "cell_type": "code",
   "execution_count": 125,
   "metadata": {},
   "outputs": [],
   "source": [
    "train['total_baths'] = train[\n",
    "    'full_bath'] + train[\n",
    "    'bsmt_full_bath'] + train[\n",
    "    'bsmt_half_bath'] + train[\n",
    "    'half_bath']\n",
    "\n",
    "train['bsmt_finished'] = ((train['total_bsmt_sf'] - train['bsmt_unf_sf']))"
   ]
  },
  {
   "cell_type": "code",
   "execution_count": 126,
   "metadata": {},
   "outputs": [
    {
     "data": {
      "text/plain": [
       "count    2049.000000\n",
       "mean      485.787213\n",
       "std       462.037967\n",
       "min         0.000000\n",
       "25%         0.000000\n",
       "50%       454.000000\n",
       "75%       792.000000\n",
       "max      2461.000000\n",
       "Name: bsmt_finished, dtype: float64"
      ]
     },
     "execution_count": 126,
     "metadata": {},
     "output_type": "execute_result"
    }
   ],
   "source": [
    "train['bsmt_finished'].describe()"
   ]
  },
  {
   "cell_type": "code",
   "execution_count": 127,
   "metadata": {},
   "outputs": [],
   "source": [
    "train['size_n_qual'] = train['gr_liv_area'] * train['overall_qual']"
   ]
  },
  {
   "cell_type": "code",
   "execution_count": 128,
   "metadata": {},
   "outputs": [],
   "source": [
    "train['bed_n_bath'] = train['total_baths'] * train['bedroom_abvgr']"
   ]
  },
  {
   "cell_type": "code",
   "execution_count": 129,
   "metadata": {},
   "outputs": [],
   "source": [
    "train['fin_bsmt_fin_qual'] = train['bsmt_finished'] * train['bsmtfin_type_1']"
   ]
  },
  {
   "cell_type": "code",
   "execution_count": 130,
   "metadata": {},
   "outputs": [],
   "source": [
    "train['bsmt_fin_n_ceiling'] = train['bsmt_finished'] * train['bsmt_qual']\n",
    "train['bsmt_finished_with_bath'] = train['bsmt_finished'] * train['bsmt_full_bath']\n",
    "train['bsmt_finished_with_halfbath'] = train['bsmt_finished'] * train['bsmt_half_bath']\n",
    "train['bsmt_size_fin_sf'] = train['bsmt_finished'] * train['total_bsmt_sf']"
   ]
  },
  {
   "cell_type": "code",
   "execution_count": 131,
   "metadata": {},
   "outputs": [],
   "source": [
    "train['overall_qual_cond'] = train['overall_qual'] * train['overall_cond']"
   ]
  },
  {
   "cell_type": "markdown",
   "metadata": {},
   "source": [
    "# Choosing Columns"
   ]
  },
  {
   "cell_type": "code",
   "execution_count": 132,
   "metadata": {},
   "outputs": [
    {
     "data": {
      "text/plain": [
       "lot_shape        -0.296743\n",
       "enclosed_porch   -0.135713\n",
       "land_contour     -0.133356\n",
       "kitchen_abvgr    -0.125472\n",
       "overall_cond     -0.097093\n",
       "                    ...   \n",
       "exter_qual        0.715048\n",
       "gr_liv_area       0.719463\n",
       "overall_qual      0.803462\n",
       "size_n_qual       0.872971\n",
       "saleprice         1.000000\n",
       "Name: saleprice, Length: 63, dtype: float64"
      ]
     },
     "execution_count": 132,
     "metadata": {},
     "output_type": "execute_result"
    }
   ],
   "source": [
    "train.corr()['saleprice'].sort_values()"
   ]
  },
  {
   "cell_type": "code",
   "execution_count": 133,
   "metadata": {},
   "outputs": [
    {
     "data": {
      "text/plain": [
       "ms_zoning       object\n",
       "lot_config      object\n",
       "neighborhood    object\n",
       "condition_1     object\n",
       "condition_2     object\n",
       "bldg_type       object\n",
       "house_style     object\n",
       "roof_style      object\n",
       "roof_matl       object\n",
       "exterior_1st    object\n",
       "exterior_2nd    object\n",
       "mas_vnr_type    object\n",
       "foundation      object\n",
       "heating         object\n",
       "electrical      object\n",
       "garage_type     object\n",
       "mo_sold         object\n",
       "sale_type       object\n",
       "dtype: object"
      ]
     },
     "execution_count": 133,
     "metadata": {},
     "output_type": "execute_result"
    }
   ],
   "source": [
    "train.dtypes[train.dtypes == 'object']"
   ]
  },
  {
   "cell_type": "markdown",
   "metadata": {},
   "source": [
    "# Saving Cleaned Train DF to CSV"
   ]
  },
  {
   "cell_type": "code",
   "execution_count": 134,
   "metadata": {},
   "outputs": [],
   "source": [
    "train.to_csv(r'./datasets/cleaned_train.csv', index = False)"
   ]
  },
  {
   "cell_type": "markdown",
   "metadata": {},
   "source": [
    "From this point on, we will do model fitting and feature selection in\n",
    "- Lasso Predictions - Best Model\n",
    "- LR - Renovations Not Scaled\n",
    "- LR Best Features Not Scaled"
   ]
  }
 ],
 "metadata": {
  "kernelspec": {
   "display_name": "Python 3",
   "language": "python",
   "name": "python3"
  },
  "language_info": {
   "codemirror_mode": {
    "name": "ipython",
    "version": 3
   },
   "file_extension": ".py",
   "mimetype": "text/x-python",
   "name": "python",
   "nbconvert_exporter": "python",
   "pygments_lexer": "ipython3",
   "version": "3.8.5"
  }
 },
 "nbformat": 4,
 "nbformat_minor": 4
}
